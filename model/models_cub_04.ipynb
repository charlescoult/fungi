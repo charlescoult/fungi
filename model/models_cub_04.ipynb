{
 "cells": [
  {
   "cell_type": "markdown",
   "id": "518a0c58",
   "metadata": {},
   "source": [
    "# Models Exploration using CUB dataset"
   ]
  },
  {
   "cell_type": "markdown",
   "id": "b411778a",
   "metadata": {},
   "source": [
    "## References\n",
    "* [Transfer Learning with Hub](https://www.tensorflow.org/tutorials/images/transfer_learning_with_hub)\n",
    "* [`tf.keras.utils.image_dataset_from_directory`](https://www.tensorflow.org/api_docs/python/tf/keras/utils/image_dataset_from_directory)\n",
    "* [Limiting GPU Memory Growth](https://www.tensorflow.org/guide/gpu#limiting_gpu_memory_growth)"
   ]
  },
  {
   "cell_type": "markdown",
   "id": "a285c8a1",
   "metadata": {},
   "source": [
    "## Setup"
   ]
  },
  {
   "cell_type": "code",
   "execution_count": 1,
   "id": "f2c0f4e3",
   "metadata": {},
   "outputs": [],
   "source": [
    "import matplotlib.pyplot as plt\n",
    "import numpy as np\n",
    "import PIL\n",
    "import datetime\n",
    "import os\n",
    "import pandas as pd\n",
    "\n",
    "import tensorflow as tf\n",
    "from tensorflow import keras\n",
    "from tensorflow.keras import layers\n",
    "from tensorflow.keras.models import Sequential\n",
    "\n",
    "from tensorflow.keras.preprocessing.image import ImageDataGenerator\n",
    "\n",
    "import tensorflow_hub as hub\n",
    "from keras.utils.layer_utils import count_params\n"
   ]
  },
  {
   "cell_type": "markdown",
   "id": "8a639289",
   "metadata": {},
   "source": [
    "### Limit GPU memory allocation"
   ]
  },
  {
   "cell_type": "code",
   "execution_count": 2,
   "id": "16845159",
   "metadata": {},
   "outputs": [],
   "source": [
    "def limit_memory_growth(limit=True):\n",
    "    gpus = tf.config.list_physical_devices('GPU')\n",
    "    if gpus:\n",
    "        try:\n",
    "            # Currently, memory growth needs to be the same across GPUs\n",
    "            for gpu in gpus:\n",
    "                tf.config.experimental.set_memory_growth(gpu, limit)\n",
    "            logical_gpus = tf.config.list_logical_devices('GPU')\n",
    "            print(len(gpus), \"Physical GPUs,\", len(logical_gpus), \"Logical GPUs\")\n",
    "        except RuntimeError as e:\n",
    "            # Memory growth must be set before GPUs have been initialized\n",
    "            print(e)"
   ]
  },
  {
   "cell_type": "markdown",
   "id": "106e1972",
   "metadata": {},
   "source": [
    "---"
   ]
  },
  {
   "cell_type": "markdown",
   "id": "2bf8d406",
   "metadata": {},
   "source": [
    "## Enumerate Datasets to test"
   ]
  },
  {
   "cell_type": "code",
   "execution_count": 3,
   "id": "b652b376",
   "metadata": {},
   "outputs": [],
   "source": [
    "import pathlib\n",
    "\n",
    "flowers_dataset_url = \"https://storage.googleapis.com/download.tensorflow.org/example_images/flower_photos.tgz\"\n",
    "flowers_data_dir = tf.keras.utils.get_file('flower_photos', origin=flowers_dataset_url, untar=True)\n",
    "flowers_data_dir = pathlib.Path(flowers_data_dir)\n",
    "\n",
    "datasets = [\n",
    "    ('CUB-200-2011', '/mnt/cub/CUB_200_2011/images'),\n",
    "    ('flowers', flowers_data_dir),\n",
    "]"
   ]
  },
  {
   "cell_type": "markdown",
   "id": "52c9c943",
   "metadata": {},
   "source": [
    "## Dataset"
   ]
  },
  {
   "cell_type": "code",
   "execution_count": 4,
   "id": "dd46f988",
   "metadata": {},
   "outputs": [],
   "source": [
    "# build a dataset object from a directory of images\n",
    "def build_dataset(\n",
    "    dataset,\n",
    "    image_size,\n",
    "    preprocess_input = None,\n",
    "    batch_size = 64,\n",
    "):\n",
    "   \n",
    "    train_ds, val_ds = tf.keras.utils.image_dataset_from_directory(\n",
    "        dataset[1],\n",
    "        batch_size = batch_size,\n",
    "        validation_split = 0.2,\n",
    "        image_size = image_size,\n",
    "        subset = \"both\",\n",
    "        shuffle = True, # default but here for clarity\n",
    "        seed=42,\n",
    "        label_mode=\"categorical\" # enables one-hot encoding (use 'int' for sparse_categorical_crossentropy loss)\n",
    "    )\n",
    "    \n",
    "    # Retrieve class names\n",
    "    # (can't do this after converting to PrefetchDataset?)\n",
    "    class_names = train_ds.class_names\n",
    "    \n",
    "    # Prefetch images\n",
    "    train_ds = train_ds.cache().prefetch(buffer_size=tf.data.AUTOTUNE)\n",
    "    val_ds = val_ds.cache().prefetch(buffer_size=tf.data.AUTOTUNE)\n",
    "    \n",
    "    # apply preprocessing function\n",
    "    train_ds = train_ds.map(\n",
    "        lambda x, y: (preprocess_input(x), y),\n",
    "        num_parallel_calls = 16,\n",
    "    )\n",
    "    val_ds = val_ds.map(\n",
    "        lambda x, y: (preprocess_input(x), y),\n",
    "        num_parallel_calls = 16,\n",
    "    )\n",
    "    \n",
    "    return (train_ds, val_ds, class_names)"
   ]
  },
  {
   "cell_type": "markdown",
   "id": "1de845ab",
   "metadata": {},
   "source": [
    "---"
   ]
  },
  {
   "cell_type": "markdown",
   "id": "23cf56f3",
   "metadata": {},
   "source": [
    "## Enumerate Models to test"
   ]
  },
  {
   "cell_type": "code",
   "execution_count": 5,
   "id": "ee979c63",
   "metadata": {},
   "outputs": [],
   "source": [
    "# Array of tuples describing the models to be tested\n",
    "# in the form: (model_handle, input_image_size, preprocessing_function)\n",
    "# where the model_handle is a model building function or a url to a tfhub feature model\n",
    "base_models_metadata = [\n",
    "    (\n",
    "        'https://tfhub.dev/google/tf2-preview/mobilenet_v2/feature_vector/4',\n",
    "        224,\n",
    "        # https://www.tensorflow.org/hub/common_signatures/images#input\n",
    "        # The inputs pixel values are scaled between -1 and 1, sample-wise.\n",
    "        tf.keras.applications.mobilenet_v2.preprocess_input,\n",
    "    ),\n",
    "    (\n",
    "        'https://tfhub.dev/google/tf2-preview/inception_v3/feature_vector/4',\n",
    "        299,\n",
    "        # The inputs pixel values are scaled between -1 and 1, sample-wise.\n",
    "        tf.keras.applications.inception_v3.preprocess_input,\n",
    "    ),\n",
    "    (\n",
    "        'https://tfhub.dev/google/inaturalist/inception_v3/feature_vector/5',\n",
    "        299,\n",
    "        # The inputs pixel values are scaled between -1 and 1, sample-wise.\n",
    "        tf.keras.applications.inception_v3.preprocess_input,\n",
    "    ),\n",
    "    (\n",
    "        tf.keras.applications.Xception,\n",
    "        299,\n",
    "        # The inputs pixel values are scaled between -1 and 1, sample-wise.\n",
    "        tf.keras.applications.xception.preprocess_input,\n",
    "    ),\n",
    "    (\n",
    "        tf.keras.applications.resnet.ResNet101,\n",
    "        224,\n",
    "        tf.keras.applications.resnet50.preprocess_input,\n",
    "    ),\n",
    "    (\n",
    "        tf.keras.applications.ResNet50,\n",
    "        224,\n",
    "        tf.keras.applications.resnet50.preprocess_input,\n",
    "    ),\n",
    "    (\n",
    "        tf.keras.applications.InceptionResNetV2,\n",
    "        299,\n",
    "        tf.keras.applications.inception_resnet_v2.preprocess_input,\n",
    "    ),\n",
    "    (\n",
    "        tf.keras.applications.efficientnet_v2.EfficientNetV2B0,\n",
    "        224,\n",
    "        # The preprocessing logic has been included in the EfficientNetV2\n",
    "        # model implementation. Users are no longer required to call this\n",
    "        # method to normalize the input data. This method does nothing and\n",
    "        # only kept as a placeholder to align the API surface between old\n",
    "        # and new version of model.\n",
    "        tf.keras.applications.efficientnet_v2.preprocess_input,\n",
    "    )\n",
    "]"
   ]
  },
  {
   "cell_type": "code",
   "execution_count": 6,
   "id": "9a0c6376",
   "metadata": {},
   "outputs": [],
   "source": [
    "# return a name that accurately describes the model building function or\n",
    "# the tfhub model (by url) that was passed\n",
    "def get_model_name( model_handle ):\n",
    "    \n",
    "    if callable(model_handle):\n",
    "        return f'keras.applications/{model_handle.__name__}'\n",
    "    else:\n",
    "        split = model_handle.split('/')\n",
    "        return f'tfhub/{split[-5]}.{split[-4]}.{split[-3]}'\n",
    "    "
   ]
  },
  {
   "cell_type": "markdown",
   "id": "c1aa7788",
   "metadata": {},
   "source": [
    "## Model Building"
   ]
  },
  {
   "cell_type": "code",
   "execution_count": 7,
   "id": "a06cf38a",
   "metadata": {},
   "outputs": [],
   "source": [
    "\n",
    "class FullModel(tf.keras.Sequential):\n",
    "    \n",
    "    def __init__(\n",
    "        self,\n",
    "        base_model_metadata,\n",
    "        num_classes,\n",
    "        dropout,\n",
    "        thawed_base_model_layers,\n",
    "        data_augmentation = False,\n",
    "    ):\n",
    "        super().__init__(name = \"full_model\")\n",
    "        \n",
    "        # Get base_model_information\n",
    "        model_handle, input_dimension, preprocess_input = base_model_metadata\n",
    "        \n",
    "        # TODO: only really needed on training data...?\n",
    "        #  - should be a function of the dataset, no?\n",
    "        if data_augmentation:\n",
    "            self.add(self.build_data_augmentation())\n",
    "        \n",
    "        self.base_model = self.build_base_model(\n",
    "            model_handle,\n",
    "            thawed_base_model_layers = thawed_base_model_layers,\n",
    "        )\n",
    "        self.add(self.base_model)\n",
    "\n",
    "        self.classifier_model = self.build_classifier_model(\n",
    "            num_classes,\n",
    "            dropout,\n",
    "        )\n",
    "        self.add(self.classifier_model)\n",
    "    \n",
    "    @staticmethod\n",
    "    def build_data_augmentation():\n",
    "        data_augmentation = keras.Sequential([\n",
    "            layers.RandomFlip(\n",
    "                \"horizontal\",\n",
    "            ),\n",
    "            layers.RandomRotation(0.1),\n",
    "            layers.RandomZoom(0.1),\n",
    "        ], name = \"data_augmentation\")\n",
    "\n",
    "        return data_augmentation\n",
    "\n",
    "    @staticmethod\n",
    "    def build_base_model(\n",
    "        base_model_handle,\n",
    "        thawed_base_model_layers = 0,\n",
    "        name=\"base_model\",\n",
    "    ):\n",
    "        # If model_handle is a model building function, use that function\n",
    "        if callable(base_model_handle):\n",
    "            base_model = model_handle(\n",
    "                include_top=False,\n",
    "                weights='imagenet',\n",
    "                pooling = 'avg',\n",
    "            )\n",
    "\n",
    "        # otherwise build a layer from the tfhub url that was passed as a string\n",
    "        else:\n",
    "            base_model = hub.KerasLayer(\n",
    "                base_model_handle,\n",
    "                name=name,\n",
    "            )\n",
    "\n",
    "        # Print Base model weights\n",
    "        print(\"\\nBase Model:\")\n",
    "        FullModel.print_weight_counts(base_model)\n",
    "\n",
    "        return base_model\n",
    "    \n",
    "    # Freeze base model?\n",
    "    def freeze_base_model(\n",
    "        self,\n",
    "        thawed_base_model_layers = 0,\n",
    "    ):\n",
    "        if thawed_base_model_layers == 0:\n",
    "            self.base_model.trainable = False\n",
    "        elif thawed_base_model_layers > 0:\n",
    "            for layer in self.base_model.layers[:(-1*thawed_base_model_layers)]:\n",
    "                layer.trainable = False\n",
    "        else:\n",
    "            self.base_model.trainable = True\n",
    "    \n",
    "    @staticmethod\n",
    "    def build_classifier_model(\n",
    "        num_classes,\n",
    "        dropout,\n",
    "    ):\n",
    "        model = Sequential()\n",
    "        model.add(\n",
    "            layers.Dense(\n",
    "                num_classes,\n",
    "                # activation = 'softmax',\n",
    "            )\n",
    "        )\n",
    "\n",
    "        model.add(\n",
    "            layers.Dropout(dropout)\n",
    "        )\n",
    "\n",
    "        model.add(\n",
    "            layers.Activation(\"softmax\", dtype=\"float32\")\n",
    "        )\n",
    "        \n",
    "        return model\n",
    "\n",
    "    # Print model weight counts\n",
    "    @staticmethod\n",
    "    def print_weight_counts(model):\n",
    "        print(f'Non-trainable weights: {count_params(model.non_trainable_weights)}')\n",
    "        print(f'Trainable weights: {count_params(model.trainable_weights)}')"
   ]
  },
  {
   "cell_type": "markdown",
   "id": "a65bf126",
   "metadata": {},
   "source": [
    "---"
   ]
  },
  {
   "cell_type": "markdown",
   "id": "34d60b33",
   "metadata": {},
   "source": [
    "## Run Results Logging"
   ]
  },
  {
   "cell_type": "code",
   "execution_count": 8,
   "id": "c3401105",
   "metadata": {},
   "outputs": [],
   "source": [
    "class RunLogging():\n",
    "\n",
    "    hdf_key = \"runs\"\n",
    "\n",
    "    def __init__(\n",
    "        self,\n",
    "        data_dir = \"./\",\n",
    "        hdf_filename = \"runs.h5\",\n",
    "    ):\n",
    "        self.data_dir = data_dir\n",
    "        self.filename =  os.path.join( data_dir, hdf_filename )\n",
    "        self.df = self.load_metadata()\n",
    "\n",
    "    def load_metadata(self):\n",
    "        if ( os.path.exists(self.filename) ):\n",
    "            return pd.read_hdf( self.filename, self.hdf_key )\n",
    "        else: return pd.DataFrame()\n",
    "\n",
    "    def save_df(self):\n",
    "        self.df.to_hdf(self.filename, self.hdf_key)\n",
    "\n",
    "    def add_run(self, params, log_dir, time, scores):\n",
    "\n",
    "        cols = {\n",
    "            **params,\n",
    "            'time': time,\n",
    "            'log_dir': log_dir,\n",
    "            'scores.loss': scores[0],\n",
    "            'scores.accuracy': scores[1],\n",
    "            'scores.top3': scores[2],\n",
    "            'scores.top10': scores[3],\n",
    "        }\n",
    "\n",
    "        new_run = pd.DataFrame([cols])\n",
    "\n",
    "        self.df = pd.concat([self.df, new_run])\n",
    "        self.save_df()"
   ]
  },
  {
   "cell_type": "markdown",
   "id": "6bb6dd65",
   "metadata": {},
   "source": [
    "---"
   ]
  },
  {
   "cell_type": "markdown",
   "id": "b4286d70",
   "metadata": {},
   "source": [
    "## Build and run all models"
   ]
  },
  {
   "cell_type": "markdown",
   "id": "4f5b6575",
   "metadata": {},
   "source": [
    "* Note regarding `thawed_base_model_layers` and full model architecture ([reference](https://stackoverflow.com/questions/64227483/what-is-the-right-way-to-gradually-unfreeze-layers-in-neural-network-while-learn))\n",
    "![image](https://i.stack.imgur.com/JLJqv.png)\n",
    "* [Another great reference](https://towardsdatascience.com/transfer-learning-from-pre-trained-models-f2393f124751)"
   ]
  },
  {
   "cell_type": "code",
   "execution_count": 9,
   "id": "ed107505",
   "metadata": {},
   "outputs": [],
   "source": [
    "# Hyperparameters\n",
    "\n",
    "## Dataset Hyperparameters\n",
    "dataset = datasets[0] # CUB dataset\n",
    "batch_size = 64\n",
    "\n",
    "## Full Model Hyperparameters\n",
    "\n",
    "### Input Model Hyperparameters\n",
    "data_augmentation = False\n",
    "\n",
    "### Base Model Hyperparameters\n",
    "thawed_base_model_layers = 0 # base_model completely frozen\n",
    "# thawed_base_model_layers = n # last 'n' layers of base_model unfrozen\n",
    "# thawed_base_model_layers = -1 # all base_model layers unfrozen\n",
    "\n",
    "### Classifier Model Hyperparameters\n",
    "classifier_dropout = 0.33\n",
    "\n",
    "## Training Hyperparameters\n",
    "max_epochs = 200\n",
    "\n",
    "### Optimizer Function Hyperparameters\n",
    "learning_rate = 0.0005\n",
    "\n",
    "### Loss function hyperparameters\n",
    "label_smoothing = 0.2\n",
    "\n",
    "# use logits?\n",
    "\n",
    "# vary classifier architecture?"
   ]
  },
  {
   "cell_type": "code",
   "execution_count": 10,
   "id": "23753f9a",
   "metadata": {},
   "outputs": [],
   "source": [
    "def run_model(\n",
    "    base_model_metadata,\n",
    "):\n",
    "    model_handle, input_dimension, preprocess_input = base_model_metadata\n",
    "\n",
    "    image_size = (input_dimension, input_dimension)\n",
    "    \n",
    "    # Build dataset/pipeline\n",
    "    train_ds, val_ds, class_names = build_dataset(\n",
    "        dataset,\n",
    "        batch_size = batch_size,\n",
    "        image_size = image_size,\n",
    "        preprocess_input = preprocess_input,\n",
    "    )\n",
    "    \n",
    "    # Build model\n",
    "    model = FullModel(\n",
    "        base_model_metadata,\n",
    "        len(class_names),\n",
    "        classifier_dropout,\n",
    "        thawed_base_model_layers = thawed_base_model_layers,\n",
    "        data_augmentation = data_augmentation,\n",
    "    )\n",
    "    \n",
    "    # Compile model\n",
    "    # Sparse vs non-sparse CCE https://www.kaggle.com/general/197993\n",
    "    model.compile(\n",
    "        optimizer = tf.keras.optimizers.Adam(learning_rate=learning_rate),\n",
    "        # loss=tf.keras.losses.SparseCategoricalCrossentropy(from_logits=True),\n",
    "        loss=tf.keras.losses.CategoricalCrossentropy(\n",
    "            # from_logits=True,\n",
    "            label_smoothing = label_smoothing,\n",
    "        ),\n",
    "        metrics=[\n",
    "            'accuracy',\n",
    "            tf.keras.metrics.CategoricalAccuracy(),\n",
    "            tf.keras.metrics.CategoricalCrossentropy(),\n",
    "            tf.keras.metrics.TopKCategoricalAccuracy(k=3, name=\"Top3\"),\n",
    "            tf.keras.metrics.TopKCategoricalAccuracy(k=10, name=\"Top10\"),\n",
    "        ],\n",
    "    )\n",
    "\n",
    "    # Logging\n",
    "    base_model_id = get_model_name(model_handle)\n",
    "    run_log_dir = os.path.join( run_logs.data_dir, dataset[0], base_model_id )\n",
    "    print(f'\\n{run_log_dir}')\n",
    "    \n",
    "    # Tensorboard logs\n",
    "    tensorboard_callback = tf.keras.callbacks.TensorBoard(\n",
    "        log_dir = run_log_dir,\n",
    "        histogram_freq = 1,\n",
    "    )\n",
    "    \n",
    "    # Early stopping\n",
    "    early_stopping_callback = tf.keras.callbacks.EarlyStopping(\n",
    "        # monitor='val_sparse_categorical_accuracy',\n",
    "        monitor = 'val_loss',\n",
    "        patience = 5,\n",
    "        min_delta = 0.01,\n",
    "    )\n",
    "    \n",
    "    # Model Checkpoints for saving best model weights\n",
    "    model_checkpoint_callback = tf.keras.callbacks.ModelCheckpoint(\n",
    "        os.path.join(run_log_dir, 'best_model' ),\n",
    "        save_best_only = True,\n",
    "        monitor = 'val_loss',\n",
    "        # mode = 'min', # should be chosen correctly based on monitor value\n",
    "    )\n",
    "    \n",
    "    best_batch = (0, float('inf'))\n",
    "    \n",
    "    # Train\n",
    "    history = model.fit(\n",
    "        train_ds,\n",
    "        validation_data=val_ds,\n",
    "        epochs=max_epochs,\n",
    "        callbacks=[\n",
    "            tensorboard_callback,\n",
    "            # early_stopping_callback,\n",
    "            model_checkpoint_callback,\n",
    "            tf.keras.callbacks.LambdaCallback(\n",
    "                on_epoch_end = lambda batch, logs: print((batch, logs['val_loss']) if logs['val_loss'] < best_batch[1] else best_batch),\n",
    "            )\n",
    "        ]\n",
    "    )\n",
    "    \n",
    "    print(history)\n",
    "    print(max(history.history['val_loss']))\n",
    "    \n",
    "    history_df = pd.DataFrame(history.history)"
   ]
  },
  {
   "cell_type": "code",
   "execution_count": 11,
   "id": "03b3f0ef",
   "metadata": {},
   "outputs": [
    {
     "name": "stdout",
     "output_type": "stream",
     "text": [
      "Found 11788 files belonging to 200 classes.\n",
      "Using 9431 files for training.\n",
      "Using 2357 files for validation.\n",
      "WARNING:tensorflow:From /home/charlescoult/.conda/envs/fungi/lib/python3.10/site-packages/tensorflow/python/autograph/pyct/static_analysis/liveness.py:83: Analyzer.lamba_check (from tensorflow.python.autograph.pyct.static_analysis.liveness) is deprecated and will be removed after 2023-09-23.\n",
      "Instructions for updating:\n",
      "Lambda fuctions will be no more assumed to be used in the statement where they are used, or at least in the same block. https://github.com/tensorflow/tensorflow/issues/56089\n",
      "WARNING:tensorflow:Please fix your imports. Module tensorflow.python.training.tracking.data_structures has been moved to tensorflow.python.trackable.data_structures. The old module will be deleted in version 2.11.\n",
      "\n",
      "Base Model:\n",
      "Non-trainable weights: 21802784\n",
      "Trainable weights: 0\n",
      "\n",
      "models_cub_02_logs/CUB-200-2011/tfhub/google.inaturalist.inception_v3\n",
      "Epoch 1/200\n",
      "148/148 [==============================] - ETA: 0s - loss: 4.2105 - accuracy: 0.3854 - categorical_accuracy: 0.3854 - categorical_crossentropy: 3.8402 - Top3: 0.5124 - Top10: 0.7177INFO:tensorflow:Unsupported signature for serialization: ((TensorSpec(shape=(2048, 200), dtype=tf.float32, name='gradient'), <tensorflow.python.framework.func_graph.UnknownArgument object at 0x7f149ff5a260>, 139727232963552), {}).\n"
     ]
    },
    {
     "name": "stderr",
     "output_type": "stream",
     "text": [
      "INFO:tensorflow:Unsupported signature for serialization: ((TensorSpec(shape=(2048, 200), dtype=tf.float32, name='gradient'), <tensorflow.python.framework.func_graph.UnknownArgument object at 0x7f149ff5a260>, 139727232963552), {}).\n"
     ]
    },
    {
     "name": "stdout",
     "output_type": "stream",
     "text": [
      "INFO:tensorflow:Unsupported signature for serialization: ((TensorSpec(shape=(200,), dtype=tf.float32, name='gradient'), <tensorflow.python.framework.func_graph.UnknownArgument object at 0x7f149ffa78b0>, 139727122164640), {}).\n"
     ]
    },
    {
     "name": "stderr",
     "output_type": "stream",
     "text": [
      "INFO:tensorflow:Unsupported signature for serialization: ((TensorSpec(shape=(200,), dtype=tf.float32, name='gradient'), <tensorflow.python.framework.func_graph.UnknownArgument object at 0x7f149ffa78b0>, 139727122164640), {}).\n"
     ]
    },
    {
     "name": "stdout",
     "output_type": "stream",
     "text": [
      "INFO:tensorflow:Unsupported signature for serialization: ((TensorSpec(shape=(2048, 200), dtype=tf.float32, name='gradient'), <tensorflow.python.framework.func_graph.UnknownArgument object at 0x7f149ff5a260>, 139727232963552), {}).\n"
     ]
    },
    {
     "name": "stderr",
     "output_type": "stream",
     "text": [
      "INFO:tensorflow:Unsupported signature for serialization: ((TensorSpec(shape=(2048, 200), dtype=tf.float32, name='gradient'), <tensorflow.python.framework.func_graph.UnknownArgument object at 0x7f149ff5a260>, 139727232963552), {}).\n"
     ]
    },
    {
     "name": "stdout",
     "output_type": "stream",
     "text": [
      "INFO:tensorflow:Unsupported signature for serialization: ((TensorSpec(shape=(200,), dtype=tf.float32, name='gradient'), <tensorflow.python.framework.func_graph.UnknownArgument object at 0x7f149ffa78b0>, 139727122164640), {}).\n"
     ]
    },
    {
     "name": "stderr",
     "output_type": "stream",
     "text": [
      "INFO:tensorflow:Unsupported signature for serialization: ((TensorSpec(shape=(200,), dtype=tf.float32, name='gradient'), <tensorflow.python.framework.func_graph.UnknownArgument object at 0x7f149ffa78b0>, 139727122164640), {}).\n",
      "WARNING:absl:Found untraced functions such as _update_step_xla while saving (showing 1 of 1). These functions will not be directly callable after loading.\n"
     ]
    },
    {
     "name": "stdout",
     "output_type": "stream",
     "text": [
      "INFO:tensorflow:Assets written to: models_cub_02_logs/CUB-200-2011/tfhub/google.inaturalist.inception_v3/best_model/assets\n"
     ]
    },
    {
     "name": "stderr",
     "output_type": "stream",
     "text": [
      "INFO:tensorflow:Assets written to: models_cub_02_logs/CUB-200-2011/tfhub/google.inaturalist.inception_v3/best_model/assets\n"
     ]
    },
    {
     "name": "stdout",
     "output_type": "stream",
     "text": [
      "(0, 2.9312496185302734)\n",
      "148/148 [==============================] - 31s 166ms/step - loss: 4.2105 - accuracy: 0.3854 - categorical_accuracy: 0.3854 - categorical_crossentropy: 3.8402 - Top3: 0.5124 - Top10: 0.7177 - val_loss: 2.9312 - val_accuracy: 0.8133 - val_categorical_accuracy: 0.8133 - val_categorical_crossentropy: 2.2428 - val_Top3: 0.9330 - val_Top10: 0.9771\n",
      "Epoch 2/200\n",
      "147/148 [============================>.] - ETA: 0s - loss: 3.1346 - accuracy: 0.5906 - categorical_accuracy: 0.5906 - categorical_crossentropy: 2.3130 - Top3: 0.6575 - Top10: 0.8549INFO:tensorflow:Unsupported signature for serialization: ((TensorSpec(shape=(2048, 200), dtype=tf.float32, name='gradient'), <tensorflow.python.framework.func_graph.UnknownArgument object at 0x7f149ff5a260>, 139727232963552), {}).\n"
     ]
    },
    {
     "name": "stderr",
     "output_type": "stream",
     "text": [
      "INFO:tensorflow:Unsupported signature for serialization: ((TensorSpec(shape=(2048, 200), dtype=tf.float32, name='gradient'), <tensorflow.python.framework.func_graph.UnknownArgument object at 0x7f149ff5a260>, 139727232963552), {}).\n"
     ]
    },
    {
     "name": "stdout",
     "output_type": "stream",
     "text": [
      "INFO:tensorflow:Unsupported signature for serialization: ((TensorSpec(shape=(200,), dtype=tf.float32, name='gradient'), <tensorflow.python.framework.func_graph.UnknownArgument object at 0x7f149ffa78b0>, 139727122164640), {}).\n"
     ]
    },
    {
     "name": "stderr",
     "output_type": "stream",
     "text": [
      "INFO:tensorflow:Unsupported signature for serialization: ((TensorSpec(shape=(200,), dtype=tf.float32, name='gradient'), <tensorflow.python.framework.func_graph.UnknownArgument object at 0x7f149ffa78b0>, 139727122164640), {}).\n"
     ]
    },
    {
     "name": "stdout",
     "output_type": "stream",
     "text": [
      "INFO:tensorflow:Unsupported signature for serialization: ((TensorSpec(shape=(2048, 200), dtype=tf.float32, name='gradient'), <tensorflow.python.framework.func_graph.UnknownArgument object at 0x7f149ff5a260>, 139727232963552), {}).\n"
     ]
    },
    {
     "name": "stderr",
     "output_type": "stream",
     "text": [
      "INFO:tensorflow:Unsupported signature for serialization: ((TensorSpec(shape=(2048, 200), dtype=tf.float32, name='gradient'), <tensorflow.python.framework.func_graph.UnknownArgument object at 0x7f149ff5a260>, 139727232963552), {}).\n"
     ]
    },
    {
     "name": "stdout",
     "output_type": "stream",
     "text": [
      "INFO:tensorflow:Unsupported signature for serialization: ((TensorSpec(shape=(200,), dtype=tf.float32, name='gradient'), <tensorflow.python.framework.func_graph.UnknownArgument object at 0x7f149ffa78b0>, 139727122164640), {}).\n"
     ]
    },
    {
     "name": "stderr",
     "output_type": "stream",
     "text": [
      "INFO:tensorflow:Unsupported signature for serialization: ((TensorSpec(shape=(200,), dtype=tf.float32, name='gradient'), <tensorflow.python.framework.func_graph.UnknownArgument object at 0x7f149ffa78b0>, 139727122164640), {}).\n",
      "WARNING:absl:Found untraced functions such as _update_step_xla while saving (showing 1 of 1). These functions will not be directly callable after loading.\n"
     ]
    },
    {
     "name": "stdout",
     "output_type": "stream",
     "text": [
      "INFO:tensorflow:Assets written to: models_cub_02_logs/CUB-200-2011/tfhub/google.inaturalist.inception_v3/best_model/assets\n"
     ]
    },
    {
     "name": "stderr",
     "output_type": "stream",
     "text": [
      "INFO:tensorflow:Assets written to: models_cub_02_logs/CUB-200-2011/tfhub/google.inaturalist.inception_v3/best_model/assets\n"
     ]
    },
    {
     "name": "stdout",
     "output_type": "stream",
     "text": [
      "(1, 2.4807839393615723)\n",
      "148/148 [==============================] - 19s 125ms/step - loss: 3.1328 - accuracy: 0.5911 - categorical_accuracy: 0.5911 - categorical_crossentropy: 2.3104 - Top3: 0.6580 - Top10: 0.8552 - val_loss: 2.4808 - val_accuracy: 0.8409 - val_categorical_accuracy: 0.8409 - val_categorical_crossentropy: 1.6168 - val_Top3: 0.9444 - val_Top10: 0.9813\n",
      "Epoch 3/200\n",
      "147/148 [============================>.] - ETA: 0s - loss: 3.0461 - accuracy: 0.6054 - categorical_accuracy: 0.6054 - categorical_crossentropy: 2.1400 - Top3: 0.6695 - Top10: 0.9327INFO:tensorflow:Unsupported signature for serialization: ((TensorSpec(shape=(2048, 200), dtype=tf.float32, name='gradient'), <tensorflow.python.framework.func_graph.UnknownArgument object at 0x7f149ff5a260>, 139727232963552), {}).\n"
     ]
    },
    {
     "name": "stderr",
     "output_type": "stream",
     "text": [
      "INFO:tensorflow:Unsupported signature for serialization: ((TensorSpec(shape=(2048, 200), dtype=tf.float32, name='gradient'), <tensorflow.python.framework.func_graph.UnknownArgument object at 0x7f149ff5a260>, 139727232963552), {}).\n"
     ]
    },
    {
     "name": "stdout",
     "output_type": "stream",
     "text": [
      "INFO:tensorflow:Unsupported signature for serialization: ((TensorSpec(shape=(200,), dtype=tf.float32, name='gradient'), <tensorflow.python.framework.func_graph.UnknownArgument object at 0x7f149ffa78b0>, 139727122164640), {}).\n"
     ]
    },
    {
     "name": "stderr",
     "output_type": "stream",
     "text": [
      "INFO:tensorflow:Unsupported signature for serialization: ((TensorSpec(shape=(200,), dtype=tf.float32, name='gradient'), <tensorflow.python.framework.func_graph.UnknownArgument object at 0x7f149ffa78b0>, 139727122164640), {}).\n"
     ]
    },
    {
     "name": "stdout",
     "output_type": "stream",
     "text": [
      "INFO:tensorflow:Unsupported signature for serialization: ((TensorSpec(shape=(2048, 200), dtype=tf.float32, name='gradient'), <tensorflow.python.framework.func_graph.UnknownArgument object at 0x7f149ff5a260>, 139727232963552), {}).\n"
     ]
    },
    {
     "name": "stderr",
     "output_type": "stream",
     "text": [
      "INFO:tensorflow:Unsupported signature for serialization: ((TensorSpec(shape=(2048, 200), dtype=tf.float32, name='gradient'), <tensorflow.python.framework.func_graph.UnknownArgument object at 0x7f149ff5a260>, 139727232963552), {}).\n"
     ]
    },
    {
     "name": "stdout",
     "output_type": "stream",
     "text": [
      "INFO:tensorflow:Unsupported signature for serialization: ((TensorSpec(shape=(200,), dtype=tf.float32, name='gradient'), <tensorflow.python.framework.func_graph.UnknownArgument object at 0x7f149ffa78b0>, 139727122164640), {}).\n"
     ]
    },
    {
     "name": "stderr",
     "output_type": "stream",
     "text": [
      "INFO:tensorflow:Unsupported signature for serialization: ((TensorSpec(shape=(200,), dtype=tf.float32, name='gradient'), <tensorflow.python.framework.func_graph.UnknownArgument object at 0x7f149ffa78b0>, 139727122164640), {}).\n",
      "WARNING:absl:Found untraced functions such as _update_step_xla while saving (showing 1 of 1). These functions will not be directly callable after loading.\n"
     ]
    },
    {
     "name": "stdout",
     "output_type": "stream",
     "text": [
      "INFO:tensorflow:Assets written to: models_cub_02_logs/CUB-200-2011/tfhub/google.inaturalist.inception_v3/best_model/assets\n"
     ]
    },
    {
     "name": "stderr",
     "output_type": "stream",
     "text": [
      "INFO:tensorflow:Assets written to: models_cub_02_logs/CUB-200-2011/tfhub/google.inaturalist.inception_v3/best_model/assets\n"
     ]
    },
    {
     "name": "stdout",
     "output_type": "stream",
     "text": [
      "(2, 2.3984553813934326)\n",
      "148/148 [==============================] - 19s 125ms/step - loss: 3.0449 - accuracy: 0.6059 - categorical_accuracy: 0.6059 - categorical_crossentropy: 2.1383 - Top3: 0.6698 - Top10: 0.9328 - val_loss: 2.3985 - val_accuracy: 0.8490 - val_categorical_accuracy: 0.8490 - val_categorical_crossentropy: 1.5044 - val_Top3: 0.9499 - val_Top10: 0.9796\n",
      "Epoch 4/200\n",
      "147/148 [============================>.] - ETA: 0s - loss: 2.9898 - accuracy: 0.6130 - categorical_accuracy: 0.6130 - categorical_crossentropy: 2.0588 - Top3: 0.6809 - Top10: 0.9599INFO:tensorflow:Unsupported signature for serialization: ((TensorSpec(shape=(2048, 200), dtype=tf.float32, name='gradient'), <tensorflow.python.framework.func_graph.UnknownArgument object at 0x7f149ff5a260>, 139727232963552), {}).\n"
     ]
    },
    {
     "name": "stderr",
     "output_type": "stream",
     "text": [
      "INFO:tensorflow:Unsupported signature for serialization: ((TensorSpec(shape=(2048, 200), dtype=tf.float32, name='gradient'), <tensorflow.python.framework.func_graph.UnknownArgument object at 0x7f149ff5a260>, 139727232963552), {}).\n"
     ]
    },
    {
     "name": "stdout",
     "output_type": "stream",
     "text": [
      "INFO:tensorflow:Unsupported signature for serialization: ((TensorSpec(shape=(200,), dtype=tf.float32, name='gradient'), <tensorflow.python.framework.func_graph.UnknownArgument object at 0x7f149ffa78b0>, 139727122164640), {}).\n"
     ]
    },
    {
     "name": "stderr",
     "output_type": "stream",
     "text": [
      "INFO:tensorflow:Unsupported signature for serialization: ((TensorSpec(shape=(200,), dtype=tf.float32, name='gradient'), <tensorflow.python.framework.func_graph.UnknownArgument object at 0x7f149ffa78b0>, 139727122164640), {}).\n"
     ]
    },
    {
     "name": "stdout",
     "output_type": "stream",
     "text": [
      "INFO:tensorflow:Unsupported signature for serialization: ((TensorSpec(shape=(2048, 200), dtype=tf.float32, name='gradient'), <tensorflow.python.framework.func_graph.UnknownArgument object at 0x7f149ff5a260>, 139727232963552), {}).\n"
     ]
    },
    {
     "name": "stderr",
     "output_type": "stream",
     "text": [
      "INFO:tensorflow:Unsupported signature for serialization: ((TensorSpec(shape=(2048, 200), dtype=tf.float32, name='gradient'), <tensorflow.python.framework.func_graph.UnknownArgument object at 0x7f149ff5a260>, 139727232963552), {}).\n"
     ]
    },
    {
     "name": "stdout",
     "output_type": "stream",
     "text": [
      "INFO:tensorflow:Unsupported signature for serialization: ((TensorSpec(shape=(200,), dtype=tf.float32, name='gradient'), <tensorflow.python.framework.func_graph.UnknownArgument object at 0x7f149ffa78b0>, 139727122164640), {}).\n"
     ]
    },
    {
     "name": "stderr",
     "output_type": "stream",
     "text": [
      "INFO:tensorflow:Unsupported signature for serialization: ((TensorSpec(shape=(200,), dtype=tf.float32, name='gradient'), <tensorflow.python.framework.func_graph.UnknownArgument object at 0x7f149ffa78b0>, 139727122164640), {}).\n",
      "WARNING:absl:Found untraced functions such as _update_step_xla while saving (showing 1 of 1). These functions will not be directly callable after loading.\n"
     ]
    },
    {
     "name": "stdout",
     "output_type": "stream",
     "text": [
      "INFO:tensorflow:Assets written to: models_cub_02_logs/CUB-200-2011/tfhub/google.inaturalist.inception_v3/best_model/assets\n"
     ]
    },
    {
     "name": "stderr",
     "output_type": "stream",
     "text": [
      "INFO:tensorflow:Assets written to: models_cub_02_logs/CUB-200-2011/tfhub/google.inaturalist.inception_v3/best_model/assets\n"
     ]
    },
    {
     "name": "stdout",
     "output_type": "stream",
     "text": [
      "(3, 2.37386417388916)\n",
      "148/148 [==============================] - 19s 125ms/step - loss: 2.9901 - accuracy: 0.6129 - categorical_accuracy: 0.6129 - categorical_crossentropy: 2.0591 - Top3: 0.6807 - Top10: 0.9599 - val_loss: 2.3739 - val_accuracy: 0.8502 - val_categorical_accuracy: 0.8502 - val_categorical_crossentropy: 1.4730 - val_Top3: 0.9491 - val_Top10: 0.9822\n",
      "Epoch 5/200\n",
      "147/148 [============================>.] - ETA: 0s - loss: 2.9694 - accuracy: 0.6235 - categorical_accuracy: 0.6235 - categorical_crossentropy: 2.0309 - Top3: 0.6909 - Top10: 0.9745INFO:tensorflow:Unsupported signature for serialization: ((TensorSpec(shape=(2048, 200), dtype=tf.float32, name='gradient'), <tensorflow.python.framework.func_graph.UnknownArgument object at 0x7f149ff5a260>, 139727232963552), {}).\n"
     ]
    },
    {
     "name": "stderr",
     "output_type": "stream",
     "text": [
      "INFO:tensorflow:Unsupported signature for serialization: ((TensorSpec(shape=(2048, 200), dtype=tf.float32, name='gradient'), <tensorflow.python.framework.func_graph.UnknownArgument object at 0x7f149ff5a260>, 139727232963552), {}).\n"
     ]
    },
    {
     "name": "stdout",
     "output_type": "stream",
     "text": [
      "INFO:tensorflow:Unsupported signature for serialization: ((TensorSpec(shape=(200,), dtype=tf.float32, name='gradient'), <tensorflow.python.framework.func_graph.UnknownArgument object at 0x7f149ffa78b0>, 139727122164640), {}).\n"
     ]
    },
    {
     "name": "stderr",
     "output_type": "stream",
     "text": [
      "INFO:tensorflow:Unsupported signature for serialization: ((TensorSpec(shape=(200,), dtype=tf.float32, name='gradient'), <tensorflow.python.framework.func_graph.UnknownArgument object at 0x7f149ffa78b0>, 139727122164640), {}).\n"
     ]
    },
    {
     "name": "stdout",
     "output_type": "stream",
     "text": [
      "INFO:tensorflow:Unsupported signature for serialization: ((TensorSpec(shape=(2048, 200), dtype=tf.float32, name='gradient'), <tensorflow.python.framework.func_graph.UnknownArgument object at 0x7f149ff5a260>, 139727232963552), {}).\n"
     ]
    },
    {
     "name": "stderr",
     "output_type": "stream",
     "text": [
      "INFO:tensorflow:Unsupported signature for serialization: ((TensorSpec(shape=(2048, 200), dtype=tf.float32, name='gradient'), <tensorflow.python.framework.func_graph.UnknownArgument object at 0x7f149ff5a260>, 139727232963552), {}).\n"
     ]
    },
    {
     "name": "stdout",
     "output_type": "stream",
     "text": [
      "INFO:tensorflow:Unsupported signature for serialization: ((TensorSpec(shape=(200,), dtype=tf.float32, name='gradient'), <tensorflow.python.framework.func_graph.UnknownArgument object at 0x7f149ffa78b0>, 139727122164640), {}).\n"
     ]
    },
    {
     "name": "stderr",
     "output_type": "stream",
     "text": [
      "INFO:tensorflow:Unsupported signature for serialization: ((TensorSpec(shape=(200,), dtype=tf.float32, name='gradient'), <tensorflow.python.framework.func_graph.UnknownArgument object at 0x7f149ffa78b0>, 139727122164640), {}).\n",
      "WARNING:absl:Found untraced functions such as _update_step_xla while saving (showing 1 of 1). These functions will not be directly callable after loading.\n"
     ]
    },
    {
     "name": "stdout",
     "output_type": "stream",
     "text": [
      "INFO:tensorflow:Assets written to: models_cub_02_logs/CUB-200-2011/tfhub/google.inaturalist.inception_v3/best_model/assets\n"
     ]
    },
    {
     "name": "stderr",
     "output_type": "stream",
     "text": [
      "INFO:tensorflow:Assets written to: models_cub_02_logs/CUB-200-2011/tfhub/google.inaturalist.inception_v3/best_model/assets\n"
     ]
    },
    {
     "name": "stdout",
     "output_type": "stream",
     "text": [
      "(4, 2.3622944355010986)\n",
      "148/148 [==============================] - 19s 126ms/step - loss: 2.9692 - accuracy: 0.6236 - categorical_accuracy: 0.6236 - categorical_crossentropy: 2.0306 - Top3: 0.6908 - Top10: 0.9744 - val_loss: 2.3623 - val_accuracy: 0.8549 - val_categorical_accuracy: 0.8549 - val_categorical_crossentropy: 1.4587 - val_Top3: 0.9487 - val_Top10: 0.9801\n",
      "Epoch 6/200\n",
      "147/148 [============================>.] - ETA: 0s - loss: 2.9339 - accuracy: 0.6296 - categorical_accuracy: 0.6296 - categorical_crossentropy: 1.9842 - Top3: 0.7066 - Top10: 0.9799INFO:tensorflow:Unsupported signature for serialization: ((TensorSpec(shape=(2048, 200), dtype=tf.float32, name='gradient'), <tensorflow.python.framework.func_graph.UnknownArgument object at 0x7f149ff5a260>, 139727232963552), {}).\n"
     ]
    },
    {
     "name": "stderr",
     "output_type": "stream",
     "text": [
      "INFO:tensorflow:Unsupported signature for serialization: ((TensorSpec(shape=(2048, 200), dtype=tf.float32, name='gradient'), <tensorflow.python.framework.func_graph.UnknownArgument object at 0x7f149ff5a260>, 139727232963552), {}).\n"
     ]
    },
    {
     "name": "stdout",
     "output_type": "stream",
     "text": [
      "INFO:tensorflow:Unsupported signature for serialization: ((TensorSpec(shape=(200,), dtype=tf.float32, name='gradient'), <tensorflow.python.framework.func_graph.UnknownArgument object at 0x7f149ffa78b0>, 139727122164640), {}).\n"
     ]
    },
    {
     "name": "stderr",
     "output_type": "stream",
     "text": [
      "INFO:tensorflow:Unsupported signature for serialization: ((TensorSpec(shape=(200,), dtype=tf.float32, name='gradient'), <tensorflow.python.framework.func_graph.UnknownArgument object at 0x7f149ffa78b0>, 139727122164640), {}).\n"
     ]
    },
    {
     "name": "stdout",
     "output_type": "stream",
     "text": [
      "INFO:tensorflow:Unsupported signature for serialization: ((TensorSpec(shape=(2048, 200), dtype=tf.float32, name='gradient'), <tensorflow.python.framework.func_graph.UnknownArgument object at 0x7f149ff5a260>, 139727232963552), {}).\n"
     ]
    },
    {
     "name": "stderr",
     "output_type": "stream",
     "text": [
      "INFO:tensorflow:Unsupported signature for serialization: ((TensorSpec(shape=(2048, 200), dtype=tf.float32, name='gradient'), <tensorflow.python.framework.func_graph.UnknownArgument object at 0x7f149ff5a260>, 139727232963552), {}).\n"
     ]
    },
    {
     "name": "stdout",
     "output_type": "stream",
     "text": [
      "INFO:tensorflow:Unsupported signature for serialization: ((TensorSpec(shape=(200,), dtype=tf.float32, name='gradient'), <tensorflow.python.framework.func_graph.UnknownArgument object at 0x7f149ffa78b0>, 139727122164640), {}).\n"
     ]
    },
    {
     "name": "stderr",
     "output_type": "stream",
     "text": [
      "INFO:tensorflow:Unsupported signature for serialization: ((TensorSpec(shape=(200,), dtype=tf.float32, name='gradient'), <tensorflow.python.framework.func_graph.UnknownArgument object at 0x7f149ffa78b0>, 139727122164640), {}).\n",
      "WARNING:absl:Found untraced functions such as _update_step_xla while saving (showing 1 of 1). These functions will not be directly callable after loading.\n"
     ]
    },
    {
     "name": "stdout",
     "output_type": "stream",
     "text": [
      "INFO:tensorflow:Assets written to: models_cub_02_logs/CUB-200-2011/tfhub/google.inaturalist.inception_v3/best_model/assets\n"
     ]
    },
    {
     "name": "stderr",
     "output_type": "stream",
     "text": [
      "INFO:tensorflow:Assets written to: models_cub_02_logs/CUB-200-2011/tfhub/google.inaturalist.inception_v3/best_model/assets\n"
     ]
    },
    {
     "name": "stdout",
     "output_type": "stream",
     "text": [
      "(5, 2.348576307296753)\n",
      "148/148 [==============================] - 19s 125ms/step - loss: 2.9341 - accuracy: 0.6295 - categorical_accuracy: 0.6295 - categorical_crossentropy: 1.9844 - Top3: 0.7067 - Top10: 0.9800 - val_loss: 2.3486 - val_accuracy: 0.8549 - val_categorical_accuracy: 0.8549 - val_categorical_crossentropy: 1.4427 - val_Top3: 0.9495 - val_Top10: 0.9826\n",
      "Epoch 7/200\n",
      "147/148 [============================>.] - ETA: 0s - loss: 2.9115 - accuracy: 0.6353 - categorical_accuracy: 0.6353 - categorical_crossentropy: 1.9544 - Top3: 0.7177 - Top10: 0.9861INFO:tensorflow:Unsupported signature for serialization: ((TensorSpec(shape=(2048, 200), dtype=tf.float32, name='gradient'), <tensorflow.python.framework.func_graph.UnknownArgument object at 0x7f149ff5a260>, 139727232963552), {}).\n"
     ]
    },
    {
     "name": "stderr",
     "output_type": "stream",
     "text": [
      "INFO:tensorflow:Unsupported signature for serialization: ((TensorSpec(shape=(2048, 200), dtype=tf.float32, name='gradient'), <tensorflow.python.framework.func_graph.UnknownArgument object at 0x7f149ff5a260>, 139727232963552), {}).\n"
     ]
    },
    {
     "name": "stdout",
     "output_type": "stream",
     "text": [
      "INFO:tensorflow:Unsupported signature for serialization: ((TensorSpec(shape=(200,), dtype=tf.float32, name='gradient'), <tensorflow.python.framework.func_graph.UnknownArgument object at 0x7f149ffa78b0>, 139727122164640), {}).\n"
     ]
    },
    {
     "name": "stderr",
     "output_type": "stream",
     "text": [
      "INFO:tensorflow:Unsupported signature for serialization: ((TensorSpec(shape=(200,), dtype=tf.float32, name='gradient'), <tensorflow.python.framework.func_graph.UnknownArgument object at 0x7f149ffa78b0>, 139727122164640), {}).\n"
     ]
    },
    {
     "name": "stdout",
     "output_type": "stream",
     "text": [
      "INFO:tensorflow:Unsupported signature for serialization: ((TensorSpec(shape=(2048, 200), dtype=tf.float32, name='gradient'), <tensorflow.python.framework.func_graph.UnknownArgument object at 0x7f149ff5a260>, 139727232963552), {}).\n"
     ]
    },
    {
     "name": "stderr",
     "output_type": "stream",
     "text": [
      "INFO:tensorflow:Unsupported signature for serialization: ((TensorSpec(shape=(2048, 200), dtype=tf.float32, name='gradient'), <tensorflow.python.framework.func_graph.UnknownArgument object at 0x7f149ff5a260>, 139727232963552), {}).\n"
     ]
    },
    {
     "name": "stdout",
     "output_type": "stream",
     "text": [
      "INFO:tensorflow:Unsupported signature for serialization: ((TensorSpec(shape=(200,), dtype=tf.float32, name='gradient'), <tensorflow.python.framework.func_graph.UnknownArgument object at 0x7f149ffa78b0>, 139727122164640), {}).\n"
     ]
    },
    {
     "name": "stderr",
     "output_type": "stream",
     "text": [
      "INFO:tensorflow:Unsupported signature for serialization: ((TensorSpec(shape=(200,), dtype=tf.float32, name='gradient'), <tensorflow.python.framework.func_graph.UnknownArgument object at 0x7f149ffa78b0>, 139727122164640), {}).\n",
      "WARNING:absl:Found untraced functions such as _update_step_xla while saving (showing 1 of 1). These functions will not be directly callable after loading.\n"
     ]
    },
    {
     "name": "stdout",
     "output_type": "stream",
     "text": [
      "INFO:tensorflow:Assets written to: models_cub_02_logs/CUB-200-2011/tfhub/google.inaturalist.inception_v3/best_model/assets\n"
     ]
    },
    {
     "name": "stderr",
     "output_type": "stream",
     "text": [
      "INFO:tensorflow:Assets written to: models_cub_02_logs/CUB-200-2011/tfhub/google.inaturalist.inception_v3/best_model/assets\n"
     ]
    },
    {
     "name": "stdout",
     "output_type": "stream",
     "text": [
      "(6, 2.345242738723755)\n",
      "148/148 [==============================] - 19s 127ms/step - loss: 2.9115 - accuracy: 0.6352 - categorical_accuracy: 0.6352 - categorical_crossentropy: 1.9545 - Top3: 0.7175 - Top10: 0.9861 - val_loss: 2.3452 - val_accuracy: 0.8570 - val_categorical_accuracy: 0.8570 - val_categorical_crossentropy: 1.4390 - val_Top3: 0.9529 - val_Top10: 0.9805\n",
      "Epoch 8/200\n",
      "147/148 [============================>.] - ETA: 0s - loss: 2.9080 - accuracy: 0.6349 - categorical_accuracy: 0.6349 - categorical_crossentropy: 1.9501 - Top3: 0.7261 - Top10: 0.9867(7, 2.3457162380218506)\n",
      "148/148 [==============================] - 16s 104ms/step - loss: 2.9083 - accuracy: 0.6347 - categorical_accuracy: 0.6347 - categorical_crossentropy: 1.9505 - Top3: 0.7259 - Top10: 0.9867 - val_loss: 2.3457 - val_accuracy: 0.8511 - val_categorical_accuracy: 0.8511 - val_categorical_crossentropy: 1.4409 - val_Top3: 0.9516 - val_Top10: 0.9809\n",
      "Epoch 9/200\n",
      "147/148 [============================>.] - ETA: 0s - loss: 2.8604 - accuracy: 0.6482 - categorical_accuracy: 0.6482 - categorical_crossentropy: 1.8887 - Top3: 0.7447 - Top10: 0.9896INFO:tensorflow:Unsupported signature for serialization: ((TensorSpec(shape=(2048, 200), dtype=tf.float32, name='gradient'), <tensorflow.python.framework.func_graph.UnknownArgument object at 0x7f149ff5a260>, 139727232963552), {}).\n"
     ]
    },
    {
     "name": "stderr",
     "output_type": "stream",
     "text": [
      "INFO:tensorflow:Unsupported signature for serialization: ((TensorSpec(shape=(2048, 200), dtype=tf.float32, name='gradient'), <tensorflow.python.framework.func_graph.UnknownArgument object at 0x7f149ff5a260>, 139727232963552), {}).\n"
     ]
    },
    {
     "name": "stdout",
     "output_type": "stream",
     "text": [
      "INFO:tensorflow:Unsupported signature for serialization: ((TensorSpec(shape=(200,), dtype=tf.float32, name='gradient'), <tensorflow.python.framework.func_graph.UnknownArgument object at 0x7f149ffa78b0>, 139727122164640), {}).\n"
     ]
    },
    {
     "name": "stderr",
     "output_type": "stream",
     "text": [
      "INFO:tensorflow:Unsupported signature for serialization: ((TensorSpec(shape=(200,), dtype=tf.float32, name='gradient'), <tensorflow.python.framework.func_graph.UnknownArgument object at 0x7f149ffa78b0>, 139727122164640), {}).\n"
     ]
    },
    {
     "name": "stdout",
     "output_type": "stream",
     "text": [
      "INFO:tensorflow:Unsupported signature for serialization: ((TensorSpec(shape=(2048, 200), dtype=tf.float32, name='gradient'), <tensorflow.python.framework.func_graph.UnknownArgument object at 0x7f149ff5a260>, 139727232963552), {}).\n"
     ]
    },
    {
     "name": "stderr",
     "output_type": "stream",
     "text": [
      "INFO:tensorflow:Unsupported signature for serialization: ((TensorSpec(shape=(2048, 200), dtype=tf.float32, name='gradient'), <tensorflow.python.framework.func_graph.UnknownArgument object at 0x7f149ff5a260>, 139727232963552), {}).\n"
     ]
    },
    {
     "name": "stdout",
     "output_type": "stream",
     "text": [
      "INFO:tensorflow:Unsupported signature for serialization: ((TensorSpec(shape=(200,), dtype=tf.float32, name='gradient'), <tensorflow.python.framework.func_graph.UnknownArgument object at 0x7f149ffa78b0>, 139727122164640), {}).\n"
     ]
    },
    {
     "name": "stderr",
     "output_type": "stream",
     "text": [
      "INFO:tensorflow:Unsupported signature for serialization: ((TensorSpec(shape=(200,), dtype=tf.float32, name='gradient'), <tensorflow.python.framework.func_graph.UnknownArgument object at 0x7f149ffa78b0>, 139727122164640), {}).\n",
      "WARNING:absl:Found untraced functions such as _update_step_xla while saving (showing 1 of 1). These functions will not be directly callable after loading.\n"
     ]
    },
    {
     "name": "stdout",
     "output_type": "stream",
     "text": [
      "INFO:tensorflow:Assets written to: models_cub_02_logs/CUB-200-2011/tfhub/google.inaturalist.inception_v3/best_model/assets\n"
     ]
    },
    {
     "name": "stderr",
     "output_type": "stream",
     "text": [
      "INFO:tensorflow:Assets written to: models_cub_02_logs/CUB-200-2011/tfhub/google.inaturalist.inception_v3/best_model/assets\n"
     ]
    },
    {
     "name": "stdout",
     "output_type": "stream",
     "text": [
      "(8, 2.34480881690979)\n",
      "148/148 [==============================] - 19s 125ms/step - loss: 2.8607 - accuracy: 0.6481 - categorical_accuracy: 0.6481 - categorical_crossentropy: 1.8892 - Top3: 0.7445 - Top10: 0.9896 - val_loss: 2.3448 - val_accuracy: 0.8536 - val_categorical_accuracy: 0.8536 - val_categorical_crossentropy: 1.4423 - val_Top3: 0.9495 - val_Top10: 0.9805\n",
      "Epoch 10/200\n",
      "147/148 [============================>.] - ETA: 0s - loss: 2.8669 - accuracy: 0.6433 - categorical_accuracy: 0.6433 - categorical_crossentropy: 1.8996 - Top3: 0.7493 - Top10: 0.9912INFO:tensorflow:Unsupported signature for serialization: ((TensorSpec(shape=(2048, 200), dtype=tf.float32, name='gradient'), <tensorflow.python.framework.func_graph.UnknownArgument object at 0x7f149ff5a260>, 139727232963552), {}).\n"
     ]
    },
    {
     "name": "stderr",
     "output_type": "stream",
     "text": [
      "INFO:tensorflow:Unsupported signature for serialization: ((TensorSpec(shape=(2048, 200), dtype=tf.float32, name='gradient'), <tensorflow.python.framework.func_graph.UnknownArgument object at 0x7f149ff5a260>, 139727232963552), {}).\n"
     ]
    },
    {
     "name": "stdout",
     "output_type": "stream",
     "text": [
      "INFO:tensorflow:Unsupported signature for serialization: ((TensorSpec(shape=(200,), dtype=tf.float32, name='gradient'), <tensorflow.python.framework.func_graph.UnknownArgument object at 0x7f149ffa78b0>, 139727122164640), {}).\n"
     ]
    },
    {
     "name": "stderr",
     "output_type": "stream",
     "text": [
      "INFO:tensorflow:Unsupported signature for serialization: ((TensorSpec(shape=(200,), dtype=tf.float32, name='gradient'), <tensorflow.python.framework.func_graph.UnknownArgument object at 0x7f149ffa78b0>, 139727122164640), {}).\n"
     ]
    },
    {
     "name": "stdout",
     "output_type": "stream",
     "text": [
      "INFO:tensorflow:Unsupported signature for serialization: ((TensorSpec(shape=(2048, 200), dtype=tf.float32, name='gradient'), <tensorflow.python.framework.func_graph.UnknownArgument object at 0x7f149ff5a260>, 139727232963552), {}).\n"
     ]
    },
    {
     "name": "stderr",
     "output_type": "stream",
     "text": [
      "INFO:tensorflow:Unsupported signature for serialization: ((TensorSpec(shape=(2048, 200), dtype=tf.float32, name='gradient'), <tensorflow.python.framework.func_graph.UnknownArgument object at 0x7f149ff5a260>, 139727232963552), {}).\n"
     ]
    },
    {
     "name": "stdout",
     "output_type": "stream",
     "text": [
      "INFO:tensorflow:Unsupported signature for serialization: ((TensorSpec(shape=(200,), dtype=tf.float32, name='gradient'), <tensorflow.python.framework.func_graph.UnknownArgument object at 0x7f149ffa78b0>, 139727122164640), {}).\n"
     ]
    },
    {
     "name": "stderr",
     "output_type": "stream",
     "text": [
      "INFO:tensorflow:Unsupported signature for serialization: ((TensorSpec(shape=(200,), dtype=tf.float32, name='gradient'), <tensorflow.python.framework.func_graph.UnknownArgument object at 0x7f149ffa78b0>, 139727122164640), {}).\n",
      "WARNING:absl:Found untraced functions such as _update_step_xla while saving (showing 1 of 1). These functions will not be directly callable after loading.\n"
     ]
    },
    {
     "name": "stdout",
     "output_type": "stream",
     "text": [
      "INFO:tensorflow:Assets written to: models_cub_02_logs/CUB-200-2011/tfhub/google.inaturalist.inception_v3/best_model/assets\n"
     ]
    },
    {
     "name": "stderr",
     "output_type": "stream",
     "text": [
      "INFO:tensorflow:Assets written to: models_cub_02_logs/CUB-200-2011/tfhub/google.inaturalist.inception_v3/best_model/assets\n"
     ]
    },
    {
     "name": "stdout",
     "output_type": "stream",
     "text": [
      "(9, 2.3426029682159424)\n",
      "148/148 [==============================] - 19s 127ms/step - loss: 2.8665 - accuracy: 0.6433 - categorical_accuracy: 0.6433 - categorical_crossentropy: 1.8990 - Top3: 0.7493 - Top10: 0.9912 - val_loss: 2.3426 - val_accuracy: 0.8490 - val_categorical_accuracy: 0.8490 - val_categorical_crossentropy: 1.4381 - val_Top3: 0.9474 - val_Top10: 0.9809\n",
      "Epoch 11/200\n",
      "147/148 [============================>.] - ETA: 0s - loss: 2.8449 - accuracy: 0.6513 - categorical_accuracy: 0.6513 - categorical_crossentropy: 1.8701 - Top3: 0.7537 - Top10: 0.9905INFO:tensorflow:Unsupported signature for serialization: ((TensorSpec(shape=(2048, 200), dtype=tf.float32, name='gradient'), <tensorflow.python.framework.func_graph.UnknownArgument object at 0x7f149ff5a260>, 139727232963552), {}).\n"
     ]
    },
    {
     "name": "stderr",
     "output_type": "stream",
     "text": [
      "INFO:tensorflow:Unsupported signature for serialization: ((TensorSpec(shape=(2048, 200), dtype=tf.float32, name='gradient'), <tensorflow.python.framework.func_graph.UnknownArgument object at 0x7f149ff5a260>, 139727232963552), {}).\n"
     ]
    },
    {
     "name": "stdout",
     "output_type": "stream",
     "text": [
      "INFO:tensorflow:Unsupported signature for serialization: ((TensorSpec(shape=(200,), dtype=tf.float32, name='gradient'), <tensorflow.python.framework.func_graph.UnknownArgument object at 0x7f149ffa78b0>, 139727122164640), {}).\n"
     ]
    },
    {
     "name": "stderr",
     "output_type": "stream",
     "text": [
      "INFO:tensorflow:Unsupported signature for serialization: ((TensorSpec(shape=(200,), dtype=tf.float32, name='gradient'), <tensorflow.python.framework.func_graph.UnknownArgument object at 0x7f149ffa78b0>, 139727122164640), {}).\n"
     ]
    },
    {
     "name": "stdout",
     "output_type": "stream",
     "text": [
      "INFO:tensorflow:Unsupported signature for serialization: ((TensorSpec(shape=(2048, 200), dtype=tf.float32, name='gradient'), <tensorflow.python.framework.func_graph.UnknownArgument object at 0x7f149ff5a260>, 139727232963552), {}).\n"
     ]
    },
    {
     "name": "stderr",
     "output_type": "stream",
     "text": [
      "INFO:tensorflow:Unsupported signature for serialization: ((TensorSpec(shape=(2048, 200), dtype=tf.float32, name='gradient'), <tensorflow.python.framework.func_graph.UnknownArgument object at 0x7f149ff5a260>, 139727232963552), {}).\n"
     ]
    },
    {
     "name": "stdout",
     "output_type": "stream",
     "text": [
      "INFO:tensorflow:Unsupported signature for serialization: ((TensorSpec(shape=(200,), dtype=tf.float32, name='gradient'), <tensorflow.python.framework.func_graph.UnknownArgument object at 0x7f149ffa78b0>, 139727122164640), {}).\n"
     ]
    },
    {
     "name": "stderr",
     "output_type": "stream",
     "text": [
      "INFO:tensorflow:Unsupported signature for serialization: ((TensorSpec(shape=(200,), dtype=tf.float32, name='gradient'), <tensorflow.python.framework.func_graph.UnknownArgument object at 0x7f149ffa78b0>, 139727122164640), {}).\n",
      "WARNING:absl:Found untraced functions such as _update_step_xla while saving (showing 1 of 1). These functions will not be directly callable after loading.\n"
     ]
    },
    {
     "name": "stdout",
     "output_type": "stream",
     "text": [
      "INFO:tensorflow:Assets written to: models_cub_02_logs/CUB-200-2011/tfhub/google.inaturalist.inception_v3/best_model/assets\n"
     ]
    },
    {
     "name": "stderr",
     "output_type": "stream",
     "text": [
      "INFO:tensorflow:Assets written to: models_cub_02_logs/CUB-200-2011/tfhub/google.inaturalist.inception_v3/best_model/assets\n"
     ]
    },
    {
     "name": "stdout",
     "output_type": "stream",
     "text": [
      "(10, 2.3377397060394287)\n",
      "148/148 [==============================] - 19s 127ms/step - loss: 2.8449 - accuracy: 0.6513 - categorical_accuracy: 0.6513 - categorical_crossentropy: 1.8700 - Top3: 0.7538 - Top10: 0.9906 - val_loss: 2.3377 - val_accuracy: 0.8519 - val_categorical_accuracy: 0.8519 - val_categorical_crossentropy: 1.4347 - val_Top3: 0.9525 - val_Top10: 0.9805\n",
      "Epoch 12/200\n",
      "147/148 [============================>.] - ETA: 0s - loss: 2.8446 - accuracy: 0.6481 - categorical_accuracy: 0.6481 - categorical_crossentropy: 1.8691 - Top3: 0.7637 - Top10: 0.9906INFO:tensorflow:Unsupported signature for serialization: ((TensorSpec(shape=(2048, 200), dtype=tf.float32, name='gradient'), <tensorflow.python.framework.func_graph.UnknownArgument object at 0x7f149ff5a260>, 139727232963552), {}).\n"
     ]
    },
    {
     "name": "stderr",
     "output_type": "stream",
     "text": [
      "INFO:tensorflow:Unsupported signature for serialization: ((TensorSpec(shape=(2048, 200), dtype=tf.float32, name='gradient'), <tensorflow.python.framework.func_graph.UnknownArgument object at 0x7f149ff5a260>, 139727232963552), {}).\n"
     ]
    },
    {
     "name": "stdout",
     "output_type": "stream",
     "text": [
      "INFO:tensorflow:Unsupported signature for serialization: ((TensorSpec(shape=(200,), dtype=tf.float32, name='gradient'), <tensorflow.python.framework.func_graph.UnknownArgument object at 0x7f149ffa78b0>, 139727122164640), {}).\n"
     ]
    },
    {
     "name": "stderr",
     "output_type": "stream",
     "text": [
      "INFO:tensorflow:Unsupported signature for serialization: ((TensorSpec(shape=(200,), dtype=tf.float32, name='gradient'), <tensorflow.python.framework.func_graph.UnknownArgument object at 0x7f149ffa78b0>, 139727122164640), {}).\n"
     ]
    },
    {
     "name": "stdout",
     "output_type": "stream",
     "text": [
      "INFO:tensorflow:Unsupported signature for serialization: ((TensorSpec(shape=(2048, 200), dtype=tf.float32, name='gradient'), <tensorflow.python.framework.func_graph.UnknownArgument object at 0x7f149ff5a260>, 139727232963552), {}).\n"
     ]
    },
    {
     "name": "stderr",
     "output_type": "stream",
     "text": [
      "INFO:tensorflow:Unsupported signature for serialization: ((TensorSpec(shape=(2048, 200), dtype=tf.float32, name='gradient'), <tensorflow.python.framework.func_graph.UnknownArgument object at 0x7f149ff5a260>, 139727232963552), {}).\n"
     ]
    },
    {
     "name": "stdout",
     "output_type": "stream",
     "text": [
      "INFO:tensorflow:Unsupported signature for serialization: ((TensorSpec(shape=(200,), dtype=tf.float32, name='gradient'), <tensorflow.python.framework.func_graph.UnknownArgument object at 0x7f149ffa78b0>, 139727122164640), {}).\n"
     ]
    },
    {
     "name": "stderr",
     "output_type": "stream",
     "text": [
      "INFO:tensorflow:Unsupported signature for serialization: ((TensorSpec(shape=(200,), dtype=tf.float32, name='gradient'), <tensorflow.python.framework.func_graph.UnknownArgument object at 0x7f149ffa78b0>, 139727122164640), {}).\n",
      "WARNING:absl:Found untraced functions such as _update_step_xla while saving (showing 1 of 1). These functions will not be directly callable after loading.\n"
     ]
    },
    {
     "name": "stdout",
     "output_type": "stream",
     "text": [
      "INFO:tensorflow:Assets written to: models_cub_02_logs/CUB-200-2011/tfhub/google.inaturalist.inception_v3/best_model/assets\n"
     ]
    },
    {
     "name": "stderr",
     "output_type": "stream",
     "text": [
      "INFO:tensorflow:Assets written to: models_cub_02_logs/CUB-200-2011/tfhub/google.inaturalist.inception_v3/best_model/assets\n"
     ]
    },
    {
     "name": "stdout",
     "output_type": "stream",
     "text": [
      "(11, 2.3354263305664062)\n",
      "148/148 [==============================] - 19s 126ms/step - loss: 2.8448 - accuracy: 0.6479 - categorical_accuracy: 0.6479 - categorical_crossentropy: 1.8694 - Top3: 0.7637 - Top10: 0.9907 - val_loss: 2.3354 - val_accuracy: 0.8566 - val_categorical_accuracy: 0.8566 - val_categorical_crossentropy: 1.4332 - val_Top3: 0.9521 - val_Top10: 0.9818\n",
      "Epoch 13/200\n",
      "147/148 [============================>.] - ETA: 0s - loss: 2.8159 - accuracy: 0.6584 - categorical_accuracy: 0.6584 - categorical_crossentropy: 1.8323 - Top3: 0.7798 - Top10: 0.9937(12, 2.343313217163086)\n",
      "148/148 [==============================] - 16s 105ms/step - loss: 2.8156 - accuracy: 0.6585 - categorical_accuracy: 0.6585 - categorical_crossentropy: 1.8319 - Top3: 0.7799 - Top10: 0.9937 - val_loss: 2.3433 - val_accuracy: 0.8566 - val_categorical_accuracy: 0.8566 - val_categorical_crossentropy: 1.4442 - val_Top3: 0.9478 - val_Top10: 0.9792\n",
      "Epoch 14/200\n",
      "147/148 [============================>.] - ETA: 0s - loss: 2.8192 - accuracy: 0.6552 - categorical_accuracy: 0.6552 - categorical_crossentropy: 1.8381 - Top3: 0.7819 - Top10: 0.9928(13, 2.3384649753570557)\n",
      "148/148 [==============================] - 16s 105ms/step - loss: 2.8202 - accuracy: 0.6549 - categorical_accuracy: 0.6549 - categorical_crossentropy: 1.8393 - Top3: 0.7819 - Top10: 0.9928 - val_loss: 2.3385 - val_accuracy: 0.8549 - val_categorical_accuracy: 0.8549 - val_categorical_crossentropy: 1.4381 - val_Top3: 0.9491 - val_Top10: 0.9801\n",
      "Epoch 15/200\n",
      "147/148 [============================>.] - ETA: 0s - loss: 2.8338 - accuracy: 0.6489 - categorical_accuracy: 0.6489 - categorical_crossentropy: 1.8581 - Top3: 0.7856 - Top10: 0.9954(14, 2.339512586593628)\n",
      "148/148 [==============================] - 16s 105ms/step - loss: 2.8331 - accuracy: 0.6491 - categorical_accuracy: 0.6491 - categorical_crossentropy: 1.8570 - Top3: 0.7859 - Top10: 0.9954 - val_loss: 2.3395 - val_accuracy: 0.8524 - val_categorical_accuracy: 0.8524 - val_categorical_crossentropy: 1.4392 - val_Top3: 0.9491 - val_Top10: 0.9818\n",
      "Epoch 16/200\n",
      "147/148 [============================>.] - ETA: 0s - loss: 2.7972 - accuracy: 0.6593 - categorical_accuracy: 0.6593 - categorical_crossentropy: 1.8098 - Top3: 0.7974 - Top10: 0.9945(15, 2.3460159301757812)\n",
      "148/148 [==============================] - 16s 105ms/step - loss: 2.7969 - accuracy: 0.6594 - categorical_accuracy: 0.6594 - categorical_crossentropy: 1.8093 - Top3: 0.7974 - Top10: 0.9945 - val_loss: 2.3460 - val_accuracy: 0.8498 - val_categorical_accuracy: 0.8498 - val_categorical_crossentropy: 1.4494 - val_Top3: 0.9470 - val_Top10: 0.9805\n",
      "Epoch 17/200\n",
      "147/148 [============================>.] - ETA: 0s - loss: 2.8133 - accuracy: 0.6536 - categorical_accuracy: 0.6536 - categorical_crossentropy: 1.8311 - Top3: 0.8021 - Top10: 0.9946(16, 2.3400847911834717)\n",
      "148/148 [==============================] - 16s 105ms/step - loss: 2.8143 - accuracy: 0.6533 - categorical_accuracy: 0.6533 - categorical_crossentropy: 1.8324 - Top3: 0.8019 - Top10: 0.9946 - val_loss: 2.3401 - val_accuracy: 0.8596 - val_categorical_accuracy: 0.8596 - val_categorical_crossentropy: 1.4437 - val_Top3: 0.9487 - val_Top10: 0.9796\n",
      "Epoch 18/200\n",
      "147/148 [============================>.] - ETA: 0s - loss: 2.7865 - accuracy: 0.6618 - categorical_accuracy: 0.6618 - categorical_crossentropy: 1.7962 - Top3: 0.8016 - Top10: 0.9945(17, 2.3447163105010986)\n",
      "148/148 [==============================] - 16s 105ms/step - loss: 2.7858 - accuracy: 0.6620 - categorical_accuracy: 0.6620 - categorical_crossentropy: 1.7953 - Top3: 0.8018 - Top10: 0.9945 - val_loss: 2.3447 - val_accuracy: 0.8570 - val_categorical_accuracy: 0.8570 - val_categorical_crossentropy: 1.4498 - val_Top3: 0.9478 - val_Top10: 0.9813\n",
      "Epoch 19/200\n",
      "147/148 [============================>.] - ETA: 0s - loss: 2.7598 - accuracy: 0.6680 - categorical_accuracy: 0.6680 - categorical_crossentropy: 1.7614 - Top3: 0.8095 - Top10: 0.9952(18, 2.3490169048309326)\n",
      "148/148 [==============================] - 16s 105ms/step - loss: 2.7602 - accuracy: 0.6679 - categorical_accuracy: 0.6679 - categorical_crossentropy: 1.7620 - Top3: 0.8096 - Top10: 0.9952 - val_loss: 2.3490 - val_accuracy: 0.8490 - val_categorical_accuracy: 0.8490 - val_categorical_crossentropy: 1.4570 - val_Top3: 0.9495 - val_Top10: 0.9788\n",
      "Epoch 20/200\n",
      "147/148 [============================>.] - ETA: 0s - loss: 2.7863 - accuracy: 0.6588 - categorical_accuracy: 0.6588 - categorical_crossentropy: 1.7967 - Top3: 0.8153 - Top10: 0.9968(19, 2.3459789752960205)\n",
      "148/148 [==============================] - 16s 105ms/step - loss: 2.7863 - accuracy: 0.6588 - categorical_accuracy: 0.6588 - categorical_crossentropy: 1.7966 - Top3: 0.8154 - Top10: 0.9968 - val_loss: 2.3460 - val_accuracy: 0.8524 - val_categorical_accuracy: 0.8524 - val_categorical_crossentropy: 1.4515 - val_Top3: 0.9470 - val_Top10: 0.9801\n",
      "Epoch 21/200\n",
      "147/148 [============================>.] - ETA: 0s - loss: 2.7558 - accuracy: 0.6686 - categorical_accuracy: 0.6686 - categorical_crossentropy: 1.7561 - Top3: 0.8206 - Top10: 0.9968(20, 2.349452257156372)\n",
      "148/148 [==============================] - 16s 106ms/step - loss: 2.7552 - accuracy: 0.6688 - categorical_accuracy: 0.6688 - categorical_crossentropy: 1.7553 - Top3: 0.8210 - Top10: 0.9968 - val_loss: 2.3495 - val_accuracy: 0.8532 - val_categorical_accuracy: 0.8532 - val_categorical_crossentropy: 1.4580 - val_Top3: 0.9482 - val_Top10: 0.9784\n",
      "Epoch 22/200\n",
      "147/148 [============================>.] - ETA: 0s - loss: 2.7823 - accuracy: 0.6577 - categorical_accuracy: 0.6577 - categorical_crossentropy: 1.7921 - Top3: 0.8273 - Top10: 0.9978(21, 2.3431925773620605)\n",
      "148/148 [==============================] - 16s 106ms/step - loss: 2.7843 - accuracy: 0.6571 - categorical_accuracy: 0.6571 - categorical_crossentropy: 1.7948 - Top3: 0.8272 - Top10: 0.9978 - val_loss: 2.3432 - val_accuracy: 0.8536 - val_categorical_accuracy: 0.8536 - val_categorical_crossentropy: 1.4491 - val_Top3: 0.9482 - val_Top10: 0.9801\n",
      "Epoch 23/200\n",
      "147/148 [============================>.] - ETA: 0s - loss: 2.7591 - accuracy: 0.6648 - categorical_accuracy: 0.6648 - categorical_crossentropy: 1.7598 - Top3: 0.8365 - Top10: 0.9979(22, 2.353895902633667)\n",
      "148/148 [==============================] - 16s 105ms/step - loss: 2.7605 - accuracy: 0.6643 - categorical_accuracy: 0.6643 - categorical_crossentropy: 1.7617 - Top3: 0.8368 - Top10: 0.9979 - val_loss: 2.3539 - val_accuracy: 0.8524 - val_categorical_accuracy: 0.8524 - val_categorical_crossentropy: 1.4659 - val_Top3: 0.9504 - val_Top10: 0.9792\n",
      "Epoch 24/200\n",
      "147/148 [============================>.] - ETA: 0s - loss: 2.7543 - accuracy: 0.6663 - categorical_accuracy: 0.6663 - categorical_crossentropy: 1.7559 - Top3: 0.8358 - Top10: 0.9980(23, 2.3553683757781982)\n",
      "148/148 [==============================] - 16s 106ms/step - loss: 2.7550 - accuracy: 0.6661 - categorical_accuracy: 0.6661 - categorical_crossentropy: 1.7568 - Top3: 0.8355 - Top10: 0.9980 - val_loss: 2.3554 - val_accuracy: 0.8583 - val_categorical_accuracy: 0.8583 - val_categorical_crossentropy: 1.4684 - val_Top3: 0.9504 - val_Top10: 0.9779\n",
      "Epoch 25/200\n",
      "147/148 [============================>.] - ETA: 0s - loss: 2.7454 - accuracy: 0.6676 - categorical_accuracy: 0.6676 - categorical_crossentropy: 1.7445 - Top3: 0.8390 - Top10: 0.9976(24, 2.3515124320983887)\n",
      "148/148 [==============================] - 16s 106ms/step - loss: 2.7445 - accuracy: 0.6679 - categorical_accuracy: 0.6679 - categorical_crossentropy: 1.7432 - Top3: 0.8390 - Top10: 0.9976 - val_loss: 2.3515 - val_accuracy: 0.8553 - val_categorical_accuracy: 0.8553 - val_categorical_crossentropy: 1.4633 - val_Top3: 0.9487 - val_Top10: 0.9784\n",
      "Epoch 26/200\n",
      "147/148 [============================>.] - ETA: 0s - loss: 2.7445 - accuracy: 0.6687 - categorical_accuracy: 0.6687 - categorical_crossentropy: 1.7428 - Top3: 0.8423 - Top10: 0.9983(25, 2.3569114208221436)\n",
      "148/148 [==============================] - 16s 106ms/step - loss: 2.7459 - accuracy: 0.6682 - categorical_accuracy: 0.6682 - categorical_crossentropy: 1.7447 - Top3: 0.8423 - Top10: 0.9983 - val_loss: 2.3569 - val_accuracy: 0.8574 - val_categorical_accuracy: 0.8574 - val_categorical_crossentropy: 1.4723 - val_Top3: 0.9482 - val_Top10: 0.9779\n"
     ]
    },
    {
     "name": "stdout",
     "output_type": "stream",
     "text": [
      "Epoch 27/200\n",
      "147/148 [============================>.] - ETA: 0s - loss: 2.7426 - accuracy: 0.6682 - categorical_accuracy: 0.6682 - categorical_crossentropy: 1.7413 - Top3: 0.8436 - Top10: 0.9982(26, 2.354121208190918)\n",
      "148/148 [==============================] - 16s 105ms/step - loss: 2.7421 - accuracy: 0.6683 - categorical_accuracy: 0.6683 - categorical_crossentropy: 1.7405 - Top3: 0.8436 - Top10: 0.9982 - val_loss: 2.3541 - val_accuracy: 0.8536 - val_categorical_accuracy: 0.8536 - val_categorical_crossentropy: 1.4672 - val_Top3: 0.9495 - val_Top10: 0.9784\n",
      "Epoch 28/200\n",
      "147/148 [============================>.] - ETA: 0s - loss: 2.7495 - accuracy: 0.6652 - categorical_accuracy: 0.6652 - categorical_crossentropy: 1.7506 - Top3: 0.8489 - Top10: 0.9988(27, 2.3643784523010254)\n",
      "148/148 [==============================] - 16s 105ms/step - loss: 2.7476 - accuracy: 0.6658 - categorical_accuracy: 0.6658 - categorical_crossentropy: 1.7479 - Top3: 0.8491 - Top10: 0.9988 - val_loss: 2.3644 - val_accuracy: 0.8604 - val_categorical_accuracy: 0.8604 - val_categorical_crossentropy: 1.4820 - val_Top3: 0.9470 - val_Top10: 0.9771\n",
      "Epoch 29/200\n",
      "147/148 [============================>.] - ETA: 0s - loss: 2.7337 - accuracy: 0.6711 - categorical_accuracy: 0.6711 - categorical_crossentropy: 1.7292 - Top3: 0.8547 - Top10: 0.9982(28, 2.3643977642059326)\n",
      "148/148 [==============================] - 16s 105ms/step - loss: 2.7327 - accuracy: 0.6714 - categorical_accuracy: 0.6714 - categorical_crossentropy: 1.7279 - Top3: 0.8549 - Top10: 0.9982 - val_loss: 2.3644 - val_accuracy: 0.8536 - val_categorical_accuracy: 0.8536 - val_categorical_crossentropy: 1.4825 - val_Top3: 0.9453 - val_Top10: 0.9784\n",
      "Epoch 30/200\n",
      "147/148 [============================>.] - ETA: 0s - loss: 2.7458 - accuracy: 0.6659 - categorical_accuracy: 0.6659 - categorical_crossentropy: 1.7462 - Top3: 0.8564 - Top10: 0.9993(29, 2.362300157546997)\n",
      "148/148 [==============================] - 16s 106ms/step - loss: 2.7455 - accuracy: 0.6660 - categorical_accuracy: 0.6660 - categorical_crossentropy: 1.7458 - Top3: 0.8565 - Top10: 0.9993 - val_loss: 2.3623 - val_accuracy: 0.8532 - val_categorical_accuracy: 0.8532 - val_categorical_crossentropy: 1.4794 - val_Top3: 0.9487 - val_Top10: 0.9775\n",
      "Epoch 31/200\n",
      "147/148 [============================>.] - ETA: 0s - loss: 2.7435 - accuracy: 0.6651 - categorical_accuracy: 0.6651 - categorical_crossentropy: 1.7427 - Top3: 0.8615 - Top10: 0.9990(30, 2.366856098175049)\n",
      "148/148 [==============================] - 16s 105ms/step - loss: 2.7432 - accuracy: 0.6651 - categorical_accuracy: 0.6651 - categorical_crossentropy: 1.7423 - Top3: 0.8616 - Top10: 0.9990 - val_loss: 2.3669 - val_accuracy: 0.8519 - val_categorical_accuracy: 0.8519 - val_categorical_crossentropy: 1.4863 - val_Top3: 0.9448 - val_Top10: 0.9762\n",
      "Epoch 32/200\n",
      "147/148 [============================>.] - ETA: 0s - loss: 2.7290 - accuracy: 0.6699 - categorical_accuracy: 0.6699 - categorical_crossentropy: 1.7240 - Top3: 0.8656 - Top10: 0.9988(31, 2.3730247020721436)\n",
      "148/148 [==============================] - 16s 106ms/step - loss: 2.7285 - accuracy: 0.6700 - categorical_accuracy: 0.6700 - categorical_crossentropy: 1.7232 - Top3: 0.8660 - Top10: 0.9988 - val_loss: 2.3730 - val_accuracy: 0.8524 - val_categorical_accuracy: 0.8524 - val_categorical_crossentropy: 1.4956 - val_Top3: 0.9461 - val_Top10: 0.9750\n",
      "Epoch 33/200\n",
      "147/148 [============================>.] - ETA: 0s - loss: 2.7197 - accuracy: 0.6720 - categorical_accuracy: 0.6720 - categorical_crossentropy: 1.7125 - Top3: 0.8669 - Top10: 0.9988(32, 2.3685505390167236)\n",
      "148/148 [==============================] - 16s 106ms/step - loss: 2.7188 - accuracy: 0.6723 - categorical_accuracy: 0.6723 - categorical_crossentropy: 1.7113 - Top3: 0.8672 - Top10: 0.9988 - val_loss: 2.3686 - val_accuracy: 0.8511 - val_categorical_accuracy: 0.8511 - val_categorical_crossentropy: 1.4899 - val_Top3: 0.9474 - val_Top10: 0.9762\n",
      "Epoch 34/200\n",
      "147/148 [============================>.] - ETA: 0s - loss: 2.7452 - accuracy: 0.6636 - categorical_accuracy: 0.6636 - categorical_crossentropy: 1.7454 - Top3: 0.8720 - Top10: 0.9994(33, 2.3678462505340576)\n",
      "148/148 [==============================] - 16s 105ms/step - loss: 2.7449 - accuracy: 0.6637 - categorical_accuracy: 0.6637 - categorical_crossentropy: 1.7449 - Top3: 0.8722 - Top10: 0.9994 - val_loss: 2.3678 - val_accuracy: 0.8549 - val_categorical_accuracy: 0.8549 - val_categorical_crossentropy: 1.4882 - val_Top3: 0.9457 - val_Top10: 0.9771\n",
      "Epoch 35/200\n",
      "147/148 [============================>.] - ETA: 0s - loss: 2.7259 - accuracy: 0.6696 - categorical_accuracy: 0.6696 - categorical_crossentropy: 1.7198 - Top3: 0.8709 - Top10: 0.9996(34, 2.3752079010009766)\n",
      "148/148 [==============================] - 16s 106ms/step - loss: 2.7250 - accuracy: 0.6699 - categorical_accuracy: 0.6699 - categorical_crossentropy: 1.7185 - Top3: 0.8712 - Top10: 0.9996 - val_loss: 2.3752 - val_accuracy: 0.8579 - val_categorical_accuracy: 0.8579 - val_categorical_crossentropy: 1.4998 - val_Top3: 0.9457 - val_Top10: 0.9767\n",
      "Epoch 36/200\n",
      "147/148 [============================>.] - ETA: 0s - loss: 2.7456 - accuracy: 0.6626 - categorical_accuracy: 0.6626 - categorical_crossentropy: 1.7467 - Top3: 0.8746 - Top10: 0.9997(35, 2.377774238586426)\n",
      "148/148 [==============================] - 16s 106ms/step - loss: 2.7456 - accuracy: 0.6626 - categorical_accuracy: 0.6626 - categorical_crossentropy: 1.7467 - Top3: 0.8748 - Top10: 0.9997 - val_loss: 2.3778 - val_accuracy: 0.8541 - val_categorical_accuracy: 0.8541 - val_categorical_crossentropy: 1.5029 - val_Top3: 0.9431 - val_Top10: 0.9750\n",
      "Epoch 37/200\n",
      "147/148 [============================>.] - ETA: 0s - loss: 2.7189 - accuracy: 0.6708 - categorical_accuracy: 0.6708 - categorical_crossentropy: 1.7113 - Top3: 0.8798 - Top10: 0.9997(36, 2.3768155574798584)\n",
      "148/148 [==============================] - 16s 106ms/step - loss: 2.7182 - accuracy: 0.6710 - categorical_accuracy: 0.6710 - categorical_crossentropy: 1.7105 - Top3: 0.8800 - Top10: 0.9997 - val_loss: 2.3768 - val_accuracy: 0.8562 - val_categorical_accuracy: 0.8562 - val_categorical_crossentropy: 1.5015 - val_Top3: 0.9470 - val_Top10: 0.9754\n",
      "Epoch 38/200\n",
      "147/148 [============================>.] - ETA: 0s - loss: 2.7131 - accuracy: 0.6724 - categorical_accuracy: 0.6724 - categorical_crossentropy: 1.7029 - Top3: 0.8798 - Top10: 0.9996(37, 2.386343002319336)\n",
      "148/148 [==============================] - 16s 106ms/step - loss: 2.7122 - accuracy: 0.6727 - categorical_accuracy: 0.6727 - categorical_crossentropy: 1.7016 - Top3: 0.8800 - Top10: 0.9996 - val_loss: 2.3863 - val_accuracy: 0.8557 - val_categorical_accuracy: 0.8557 - val_categorical_crossentropy: 1.5150 - val_Top3: 0.9440 - val_Top10: 0.9741\n",
      "Epoch 39/200\n",
      "147/148 [============================>.] - ETA: 0s - loss: 2.7069 - accuracy: 0.6738 - categorical_accuracy: 0.6738 - categorical_crossentropy: 1.6963 - Top3: 0.8799 - Top10: 0.9996(38, 2.378415584564209)\n",
      "148/148 [==============================] - 16s 106ms/step - loss: 2.7071 - accuracy: 0.6737 - categorical_accuracy: 0.6737 - categorical_crossentropy: 1.6965 - Top3: 0.8801 - Top10: 0.9996 - val_loss: 2.3784 - val_accuracy: 0.8549 - val_categorical_accuracy: 0.8549 - val_categorical_crossentropy: 1.5049 - val_Top3: 0.9448 - val_Top10: 0.9771\n",
      "Epoch 40/200\n",
      "147/148 [============================>.] - ETA: 0s - loss: 2.7109 - accuracy: 0.6718 - categorical_accuracy: 0.6718 - categorical_crossentropy: 1.7006 - Top3: 0.8879 - Top10: 0.9998(39, 2.3895623683929443)\n",
      "148/148 [==============================] - 16s 106ms/step - loss: 2.7116 - accuracy: 0.6715 - categorical_accuracy: 0.6715 - categorical_crossentropy: 1.7016 - Top3: 0.8880 - Top10: 0.9998 - val_loss: 2.3896 - val_accuracy: 0.8545 - val_categorical_accuracy: 0.8545 - val_categorical_crossentropy: 1.5209 - val_Top3: 0.9431 - val_Top10: 0.9741\n",
      "Epoch 41/200\n",
      "147/148 [============================>.] - ETA: 0s - loss: 2.7047 - accuracy: 0.6743 - categorical_accuracy: 0.6743 - categorical_crossentropy: 1.6936 - Top3: 0.8886 - Top10: 0.9996(40, 2.3860695362091064)\n",
      "148/148 [==============================] - 16s 106ms/step - loss: 2.7055 - accuracy: 0.6741 - categorical_accuracy: 0.6741 - categorical_crossentropy: 1.6946 - Top3: 0.8887 - Top10: 0.9996 - val_loss: 2.3861 - val_accuracy: 0.8553 - val_categorical_accuracy: 0.8553 - val_categorical_crossentropy: 1.5157 - val_Top3: 0.9423 - val_Top10: 0.9754\n"
     ]
    },
    {
     "name": "stdout",
     "output_type": "stream",
     "text": [
      "Epoch 42/200\n",
      "147/148 [============================>.] - ETA: 0s - loss: 2.6934 - accuracy: 0.6774 - categorical_accuracy: 0.6774 - categorical_crossentropy: 1.6782 - Top3: 0.8917 - Top10: 0.9996(41, 2.391291618347168)\n",
      "148/148 [==============================] - 16s 105ms/step - loss: 2.6926 - accuracy: 0.6777 - categorical_accuracy: 0.6777 - categorical_crossentropy: 1.6769 - Top3: 0.8918 - Top10: 0.9996 - val_loss: 2.3913 - val_accuracy: 0.8524 - val_categorical_accuracy: 0.8524 - val_categorical_crossentropy: 1.5241 - val_Top3: 0.9444 - val_Top10: 0.9754\n",
      "Epoch 43/200\n",
      "147/148 [============================>.] - ETA: 0s - loss: 2.7208 - accuracy: 0.6678 - categorical_accuracy: 0.6678 - categorical_crossentropy: 1.7143 - Top3: 0.8914 - Top10: 0.9998(42, 2.3909707069396973)\n",
      "148/148 [==============================] - 16s 108ms/step - loss: 2.7212 - accuracy: 0.6677 - categorical_accuracy: 0.6677 - categorical_crossentropy: 1.7149 - Top3: 0.8915 - Top10: 0.9998 - val_loss: 2.3910 - val_accuracy: 0.8532 - val_categorical_accuracy: 0.8532 - val_categorical_crossentropy: 1.5216 - val_Top3: 0.9419 - val_Top10: 0.9733\n",
      "Epoch 44/200\n",
      "147/148 [============================>.] - ETA: 0s - loss: 2.7102 - accuracy: 0.6716 - categorical_accuracy: 0.6716 - categorical_crossentropy: 1.7004 - Top3: 0.8981 - Top10: 0.9999(43, 2.3880863189697266)\n",
      "148/148 [==============================] - 16s 103ms/step - loss: 2.7093 - accuracy: 0.6718 - categorical_accuracy: 0.6718 - categorical_crossentropy: 1.6992 - Top3: 0.8982 - Top10: 0.9999 - val_loss: 2.3881 - val_accuracy: 0.8557 - val_categorical_accuracy: 0.8557 - val_categorical_crossentropy: 1.5188 - val_Top3: 0.9427 - val_Top10: 0.9737\n",
      "Epoch 45/200\n",
      "147/148 [============================>.] - ETA: 0s - loss: 2.7035 - accuracy: 0.6728 - categorical_accuracy: 0.6728 - categorical_crossentropy: 1.6919 - Top3: 0.8985 - Top10: 0.9998(44, 2.3933706283569336)\n",
      "148/148 [==============================] - 15s 102ms/step - loss: 2.7036 - accuracy: 0.6728 - categorical_accuracy: 0.6728 - categorical_crossentropy: 1.6920 - Top3: 0.8983 - Top10: 0.9998 - val_loss: 2.3934 - val_accuracy: 0.8562 - val_categorical_accuracy: 0.8562 - val_categorical_crossentropy: 1.5265 - val_Top3: 0.9431 - val_Top10: 0.9741\n",
      "Epoch 46/200\n",
      "147/148 [============================>.] - ETA: 0s - loss: 2.7073 - accuracy: 0.6717 - categorical_accuracy: 0.6717 - categorical_crossentropy: 1.6968 - Top3: 0.8953 - Top10: 0.9999(45, 2.3940584659576416)\n",
      "148/148 [==============================] - 16s 103ms/step - loss: 2.7067 - accuracy: 0.6718 - categorical_accuracy: 0.6718 - categorical_crossentropy: 1.6960 - Top3: 0.8956 - Top10: 0.9999 - val_loss: 2.3941 - val_accuracy: 0.8562 - val_categorical_accuracy: 0.8562 - val_categorical_crossentropy: 1.5277 - val_Top3: 0.9423 - val_Top10: 0.9758\n",
      "Epoch 47/200\n",
      "147/148 [============================>.] - ETA: 0s - loss: 2.7164 - accuracy: 0.6685 - categorical_accuracy: 0.6685 - categorical_crossentropy: 1.7080 - Top3: 0.9032 - Top10: 0.9997(46, 2.406867027282715)\n",
      "148/148 [==============================] - 15s 103ms/step - loss: 2.7165 - accuracy: 0.6684 - categorical_accuracy: 0.6684 - categorical_crossentropy: 1.7082 - Top3: 0.9031 - Top10: 0.9997 - val_loss: 2.4069 - val_accuracy: 0.8541 - val_categorical_accuracy: 0.8541 - val_categorical_crossentropy: 1.5466 - val_Top3: 0.9419 - val_Top10: 0.9733\n",
      "Epoch 48/200\n",
      "147/148 [============================>.] - ETA: 0s - loss: 2.7263 - accuracy: 0.6654 - categorical_accuracy: 0.6654 - categorical_crossentropy: 1.7227 - Top3: 0.9062 - Top10: 0.9997(47, 2.394062042236328)\n",
      "148/148 [==============================] - 16s 104ms/step - loss: 2.7251 - accuracy: 0.6658 - categorical_accuracy: 0.6658 - categorical_crossentropy: 1.7209 - Top3: 0.9065 - Top10: 0.9997 - val_loss: 2.3941 - val_accuracy: 0.8536 - val_categorical_accuracy: 0.8536 - val_categorical_crossentropy: 1.5276 - val_Top3: 0.9402 - val_Top10: 0.9741\n",
      "Epoch 49/200\n",
      "147/148 [============================>.] - ETA: 0s - loss: 2.6938 - accuracy: 0.6747 - categorical_accuracy: 0.6747 - categorical_crossentropy: 1.6791 - Top3: 0.9045 - Top10: 0.9999(48, 2.398648977279663)\n",
      "148/148 [==============================] - 15s 102ms/step - loss: 2.6946 - accuracy: 0.6745 - categorical_accuracy: 0.6745 - categorical_crossentropy: 1.6801 - Top3: 0.9047 - Top10: 0.9999 - val_loss: 2.3986 - val_accuracy: 0.8511 - val_categorical_accuracy: 0.8511 - val_categorical_crossentropy: 1.5343 - val_Top3: 0.9393 - val_Top10: 0.9741\n",
      "Epoch 50/200\n",
      "147/148 [============================>.] - ETA: 0s - loss: 2.7037 - accuracy: 0.6723 - categorical_accuracy: 0.6723 - categorical_crossentropy: 1.6920 - Top3: 0.9106 - Top10: 0.9998(49, 2.4028234481811523)\n",
      "148/148 [==============================] - 15s 102ms/step - loss: 2.7035 - accuracy: 0.6724 - categorical_accuracy: 0.6724 - categorical_crossentropy: 1.6916 - Top3: 0.9108 - Top10: 0.9998 - val_loss: 2.4028 - val_accuracy: 0.8519 - val_categorical_accuracy: 0.8519 - val_categorical_crossentropy: 1.5408 - val_Top3: 0.9423 - val_Top10: 0.9741\n",
      "Epoch 51/200\n",
      "147/148 [============================>.] - ETA: 0s - loss: 2.7059 - accuracy: 0.6708 - categorical_accuracy: 0.6708 - categorical_crossentropy: 1.6957 - Top3: 0.9080 - Top10: 0.9997(50, 2.404405117034912)\n",
      "148/148 [==============================] - 16s 103ms/step - loss: 2.7046 - accuracy: 0.6712 - categorical_accuracy: 0.6712 - categorical_crossentropy: 1.6941 - Top3: 0.9081 - Top10: 0.9997 - val_loss: 2.4044 - val_accuracy: 0.8519 - val_categorical_accuracy: 0.8519 - val_categorical_crossentropy: 1.5432 - val_Top3: 0.9415 - val_Top10: 0.9745\n",
      "Epoch 52/200\n",
      "147/148 [============================>.] - ETA: 0s - loss: 2.7116 - accuracy: 0.6689 - categorical_accuracy: 0.6689 - categorical_crossentropy: 1.7026 - Top3: 0.9076 - Top10: 0.9998(51, 2.4088022708892822)\n",
      "148/148 [==============================] - 16s 103ms/step - loss: 2.7106 - accuracy: 0.6692 - categorical_accuracy: 0.6692 - categorical_crossentropy: 1.7012 - Top3: 0.9079 - Top10: 0.9998 - val_loss: 2.4088 - val_accuracy: 0.8519 - val_categorical_accuracy: 0.8519 - val_categorical_crossentropy: 1.5497 - val_Top3: 0.9393 - val_Top10: 0.9741\n",
      "Epoch 53/200\n",
      "147/148 [============================>.] - ETA: 0s - loss: 2.7016 - accuracy: 0.6718 - categorical_accuracy: 0.6718 - categorical_crossentropy: 1.6895 - Top3: 0.9125 - Top10: 0.9999(52, 2.4160425662994385)\n",
      "148/148 [==============================] - 15s 102ms/step - loss: 2.7010 - accuracy: 0.6719 - categorical_accuracy: 0.6719 - categorical_crossentropy: 1.6887 - Top3: 0.9127 - Top10: 0.9999 - val_loss: 2.4160 - val_accuracy: 0.8541 - val_categorical_accuracy: 0.8541 - val_categorical_crossentropy: 1.5603 - val_Top3: 0.9406 - val_Top10: 0.9741\n",
      "Epoch 54/200\n",
      "147/148 [============================>.] - ETA: 0s - loss: 2.7058 - accuracy: 0.6697 - categorical_accuracy: 0.6697 - categorical_crossentropy: 1.6954 - Top3: 0.9180 - Top10: 0.9999(53, 2.409696340560913)\n",
      "148/148 [==============================] - 15s 103ms/step - loss: 2.7066 - accuracy: 0.6695 - categorical_accuracy: 0.6695 - categorical_crossentropy: 1.6964 - Top3: 0.9181 - Top10: 0.9999 - val_loss: 2.4097 - val_accuracy: 0.8541 - val_categorical_accuracy: 0.8541 - val_categorical_crossentropy: 1.5510 - val_Top3: 0.9423 - val_Top10: 0.9737\n",
      "Epoch 55/200\n",
      "147/148 [============================>.] - ETA: 0s - loss: 2.6788 - accuracy: 0.6781 - categorical_accuracy: 0.6781 - categorical_crossentropy: 1.6605 - Top3: 0.9203 - Top10: 0.9998(54, 2.4137613773345947)\n",
      "148/148 [==============================] - 15s 103ms/step - loss: 2.6786 - accuracy: 0.6782 - categorical_accuracy: 0.6782 - categorical_crossentropy: 1.6602 - Top3: 0.9204 - Top10: 0.9998 - val_loss: 2.4138 - val_accuracy: 0.8532 - val_categorical_accuracy: 0.8532 - val_categorical_crossentropy: 1.5568 - val_Top3: 0.9406 - val_Top10: 0.9720\n",
      "Epoch 56/200\n",
      "147/148 [============================>.] - ETA: 0s - loss: 2.7074 - accuracy: 0.6696 - categorical_accuracy: 0.6696 - categorical_crossentropy: 1.6974 - Top3: 0.9200 - Top10: 1.0000(55, 2.412120819091797)\n",
      "148/148 [==============================] - 15s 103ms/step - loss: 2.7072 - accuracy: 0.6697 - categorical_accuracy: 0.6697 - categorical_crossentropy: 1.6971 - Top3: 0.9199 - Top10: 1.0000 - val_loss: 2.4121 - val_accuracy: 0.8541 - val_categorical_accuracy: 0.8541 - val_categorical_crossentropy: 1.5549 - val_Top3: 0.9376 - val_Top10: 0.9728\n"
     ]
    },
    {
     "name": "stdout",
     "output_type": "stream",
     "text": [
      "Epoch 57/200\n",
      "147/148 [============================>.] - ETA: 0s - loss: 2.7113 - accuracy: 0.6688 - categorical_accuracy: 0.6688 - categorical_crossentropy: 1.7024 - Top3: 0.9213 - Top10: 1.0000(56, 2.416020631790161)\n",
      "148/148 [==============================] - 16s 104ms/step - loss: 2.7114 - accuracy: 0.6688 - categorical_accuracy: 0.6688 - categorical_crossentropy: 1.7025 - Top3: 0.9213 - Top10: 1.0000 - val_loss: 2.4160 - val_accuracy: 0.8524 - val_categorical_accuracy: 0.8524 - val_categorical_crossentropy: 1.5595 - val_Top3: 0.9398 - val_Top10: 0.9716\n",
      "Epoch 58/200\n",
      "147/148 [============================>.] - ETA: 0s - loss: 2.7224 - accuracy: 0.6638 - categorical_accuracy: 0.6638 - categorical_crossentropy: 1.7174 - Top3: 0.9237 - Top10: 0.9998(57, 2.405972480773926)\n",
      "148/148 [==============================] - 16s 104ms/step - loss: 2.7218 - accuracy: 0.6640 - categorical_accuracy: 0.6640 - categorical_crossentropy: 1.7165 - Top3: 0.9239 - Top10: 0.9998 - val_loss: 2.4060 - val_accuracy: 0.8541 - val_categorical_accuracy: 0.8541 - val_categorical_crossentropy: 1.5453 - val_Top3: 0.9410 - val_Top10: 0.9737\n",
      "Epoch 59/200\n",
      "147/148 [============================>.] - ETA: 0s - loss: 2.7070 - accuracy: 0.6687 - categorical_accuracy: 0.6687 - categorical_crossentropy: 1.6964 - Top3: 0.9253 - Top10: 1.0000(58, 2.415431022644043)\n",
      "148/148 [==============================] - 15s 103ms/step - loss: 2.7074 - accuracy: 0.6685 - categorical_accuracy: 0.6685 - categorical_crossentropy: 1.6970 - Top3: 0.9255 - Top10: 1.0000 - val_loss: 2.4154 - val_accuracy: 0.8553 - val_categorical_accuracy: 0.8553 - val_categorical_crossentropy: 1.5588 - val_Top3: 0.9398 - val_Top10: 0.9724\n",
      "Epoch 60/200\n",
      "147/148 [============================>.] - ETA: 0s - loss: 2.6679 - accuracy: 0.6814 - categorical_accuracy: 0.6814 - categorical_crossentropy: 1.6451 - Top3: 0.9235 - Top10: 0.9999(59, 2.4259579181671143)\n",
      "148/148 [==============================] - 15s 103ms/step - loss: 2.6681 - accuracy: 0.6814 - categorical_accuracy: 0.6814 - categorical_crossentropy: 1.6454 - Top3: 0.9236 - Top10: 0.9999 - val_loss: 2.4260 - val_accuracy: 0.8545 - val_categorical_accuracy: 0.8545 - val_categorical_crossentropy: 1.5744 - val_Top3: 0.9427 - val_Top10: 0.9728\n",
      "Epoch 61/200\n",
      "147/148 [============================>.] - ETA: 0s - loss: 2.7062 - accuracy: 0.6684 - categorical_accuracy: 0.6684 - categorical_crossentropy: 1.6963 - Top3: 0.9295 - Top10: 1.0000(60, 2.4200570583343506)\n",
      "148/148 [==============================] - 16s 104ms/step - loss: 2.7043 - accuracy: 0.6690 - categorical_accuracy: 0.6690 - categorical_crossentropy: 1.6937 - Top3: 0.9297 - Top10: 1.0000 - val_loss: 2.4201 - val_accuracy: 0.8536 - val_categorical_accuracy: 0.8536 - val_categorical_crossentropy: 1.5646 - val_Top3: 0.9385 - val_Top10: 0.9728\n",
      "Epoch 62/200\n",
      "147/148 [============================>.] - ETA: 0s - loss: 2.6946 - accuracy: 0.6723 - categorical_accuracy: 0.6723 - categorical_crossentropy: 1.6809 - Top3: 0.9278 - Top10: 1.0000(61, 2.426426410675049)\n",
      "148/148 [==============================] - 16s 103ms/step - loss: 2.6943 - accuracy: 0.6724 - categorical_accuracy: 0.6724 - categorical_crossentropy: 1.6806 - Top3: 0.9280 - Top10: 1.0000 - val_loss: 2.4264 - val_accuracy: 0.8524 - val_categorical_accuracy: 0.8524 - val_categorical_crossentropy: 1.5754 - val_Top3: 0.9402 - val_Top10: 0.9716\n",
      "Epoch 63/200\n",
      "147/148 [============================>.] - ETA: 0s - loss: 2.7008 - accuracy: 0.6699 - categorical_accuracy: 0.6699 - categorical_crossentropy: 1.6904 - Top3: 0.9257 - Top10: 0.9999(62, 2.4144093990325928)\n",
      "148/148 [==============================] - 15s 103ms/step - loss: 2.7002 - accuracy: 0.6700 - categorical_accuracy: 0.6700 - categorical_crossentropy: 1.6896 - Top3: 0.9259 - Top10: 0.9999 - val_loss: 2.4144 - val_accuracy: 0.8524 - val_categorical_accuracy: 0.8524 - val_categorical_crossentropy: 1.5576 - val_Top3: 0.9398 - val_Top10: 0.9741\n",
      "Epoch 64/200\n",
      "147/148 [============================>.] - ETA: 0s - loss: 2.6801 - accuracy: 0.6766 - categorical_accuracy: 0.6766 - categorical_crossentropy: 1.6613 - Top3: 0.9267 - Top10: 1.0000(63, 2.4377267360687256)\n",
      "148/148 [==============================] - 16s 103ms/step - loss: 2.6802 - accuracy: 0.6765 - categorical_accuracy: 0.6765 - categorical_crossentropy: 1.6615 - Top3: 0.9268 - Top10: 1.0000 - val_loss: 2.4377 - val_accuracy: 0.8549 - val_categorical_accuracy: 0.8549 - val_categorical_crossentropy: 1.5924 - val_Top3: 0.9376 - val_Top10: 0.9733\n",
      "Epoch 65/200\n",
      "147/148 [============================>.] - ETA: 0s - loss: 2.7048 - accuracy: 0.6686 - categorical_accuracy: 0.6686 - categorical_crossentropy: 1.6947 - Top3: 0.9336 - Top10: 1.0000(64, 2.432097911834717)\n",
      "148/148 [==============================] - 15s 103ms/step - loss: 2.7032 - accuracy: 0.6691 - categorical_accuracy: 0.6691 - categorical_crossentropy: 1.6925 - Top3: 0.9337 - Top10: 1.0000 - val_loss: 2.4321 - val_accuracy: 0.8536 - val_categorical_accuracy: 0.8536 - val_categorical_crossentropy: 1.5836 - val_Top3: 0.9385 - val_Top10: 0.9707\n",
      "Epoch 66/200\n",
      "147/148 [============================>.] - ETA: 0s - loss: 2.7125 - accuracy: 0.6658 - categorical_accuracy: 0.6658 - categorical_crossentropy: 1.7058 - Top3: 0.9319 - Top10: 1.0000(65, 2.4199435710906982)\n",
      "148/148 [==============================] - 15s 103ms/step - loss: 2.7133 - accuracy: 0.6656 - categorical_accuracy: 0.6656 - categorical_crossentropy: 1.7067 - Top3: 0.9320 - Top10: 1.0000 - val_loss: 2.4199 - val_accuracy: 0.8541 - val_categorical_accuracy: 0.8541 - val_categorical_crossentropy: 1.5657 - val_Top3: 0.9372 - val_Top10: 0.9728\n",
      "Epoch 67/200\n",
      "147/148 [============================>.] - ETA: 0s - loss: 2.6843 - accuracy: 0.6745 - categorical_accuracy: 0.6745 - categorical_crossentropy: 1.6673 - Top3: 0.9381 - Top10: 1.0000(66, 2.4290361404418945)\n",
      "148/148 [==============================] - 15s 103ms/step - loss: 2.6841 - accuracy: 0.6746 - categorical_accuracy: 0.6746 - categorical_crossentropy: 1.6671 - Top3: 0.9383 - Top10: 1.0000 - val_loss: 2.4290 - val_accuracy: 0.8532 - val_categorical_accuracy: 0.8532 - val_categorical_crossentropy: 1.5796 - val_Top3: 0.9415 - val_Top10: 0.9711\n",
      "Epoch 68/200\n",
      "147/148 [============================>.] - ETA: 0s - loss: 2.7155 - accuracy: 0.6654 - categorical_accuracy: 0.6654 - categorical_crossentropy: 1.7089 - Top3: 0.9358 - Top10: 1.0000(67, 2.4229750633239746)\n",
      "148/148 [==============================] - 15s 103ms/step - loss: 2.7159 - accuracy: 0.6653 - categorical_accuracy: 0.6653 - categorical_crossentropy: 1.7095 - Top3: 0.9358 - Top10: 1.0000 - val_loss: 2.4230 - val_accuracy: 0.8545 - val_categorical_accuracy: 0.8545 - val_categorical_crossentropy: 1.5710 - val_Top3: 0.9410 - val_Top10: 0.9728\n",
      "Epoch 69/200\n",
      "147/148 [============================>.] - ETA: 0s - loss: 2.7065 - accuracy: 0.6674 - categorical_accuracy: 0.6674 - categorical_crossentropy: 1.6964 - Top3: 0.9420 - Top10: 0.9999(68, 2.4316790103912354)\n",
      "148/148 [==============================] - 15s 102ms/step - loss: 2.7066 - accuracy: 0.6674 - categorical_accuracy: 0.6674 - categorical_crossentropy: 1.6965 - Top3: 0.9420 - Top10: 0.9999 - val_loss: 2.4317 - val_accuracy: 0.8524 - val_categorical_accuracy: 0.8524 - val_categorical_crossentropy: 1.5825 - val_Top3: 0.9372 - val_Top10: 0.9724\n",
      "Epoch 70/200\n",
      "147/148 [============================>.] - ETA: 0s - loss: 2.6957 - accuracy: 0.6711 - categorical_accuracy: 0.6711 - categorical_crossentropy: 1.6827 - Top3: 0.9408 - Top10: 1.0000(69, 2.439225196838379)\n",
      "148/148 [==============================] - 15s 103ms/step - loss: 2.6942 - accuracy: 0.6716 - categorical_accuracy: 0.6716 - categorical_crossentropy: 1.6805 - Top3: 0.9409 - Top10: 1.0000 - val_loss: 2.4392 - val_accuracy: 0.8583 - val_categorical_accuracy: 0.8583 - val_categorical_crossentropy: 1.5935 - val_Top3: 0.9381 - val_Top10: 0.9711\n",
      "Epoch 71/200\n",
      "147/148 [============================>.] - ETA: 0s - loss: 2.6727 - accuracy: 0.6775 - categorical_accuracy: 0.6775 - categorical_crossentropy: 1.6532 - Top3: 0.9431 - Top10: 1.0000(70, 2.4339706897735596)\n",
      "148/148 [==============================] - 15s 103ms/step - loss: 2.6718 - accuracy: 0.6778 - categorical_accuracy: 0.6778 - categorical_crossentropy: 1.6520 - Top3: 0.9433 - Top10: 1.0000 - val_loss: 2.4340 - val_accuracy: 0.8515 - val_categorical_accuracy: 0.8515 - val_categorical_crossentropy: 1.5856 - val_Top3: 0.9368 - val_Top10: 0.9724\n"
     ]
    },
    {
     "name": "stdout",
     "output_type": "stream",
     "text": [
      "Epoch 72/200\n",
      "147/148 [============================>.] - ETA: 0s - loss: 2.6983 - accuracy: 0.6700 - categorical_accuracy: 0.6700 - categorical_crossentropy: 1.6863 - Top3: 0.9390 - Top10: 1.0000(71, 2.4374029636383057)\n",
      "148/148 [==============================] - 15s 103ms/step - loss: 2.6984 - accuracy: 0.6699 - categorical_accuracy: 0.6699 - categorical_crossentropy: 1.6865 - Top3: 0.9391 - Top10: 1.0000 - val_loss: 2.4374 - val_accuracy: 0.8524 - val_categorical_accuracy: 0.8524 - val_categorical_crossentropy: 1.5911 - val_Top3: 0.9355 - val_Top10: 0.9707\n",
      "Epoch 73/200\n",
      "147/148 [============================>.] - ETA: 0s - loss: 2.6969 - accuracy: 0.6696 - categorical_accuracy: 0.6696 - categorical_crossentropy: 1.6849 - Top3: 0.9471 - Top10: 1.0000(72, 2.4286279678344727)\n",
      "148/148 [==============================] - 15s 103ms/step - loss: 2.6969 - accuracy: 0.6696 - categorical_accuracy: 0.6696 - categorical_crossentropy: 1.6851 - Top3: 0.9472 - Top10: 1.0000 - val_loss: 2.4286 - val_accuracy: 0.8545 - val_categorical_accuracy: 0.8545 - val_categorical_crossentropy: 1.5778 - val_Top3: 0.9402 - val_Top10: 0.9711\n",
      "Epoch 74/200\n",
      "147/148 [============================>.] - ETA: 0s - loss: 2.7199 - accuracy: 0.6632 - categorical_accuracy: 0.6632 - categorical_crossentropy: 1.7146 - Top3: 0.9452 - Top10: 1.0000(73, 2.4357333183288574)\n",
      "148/148 [==============================] - 16s 103ms/step - loss: 2.7179 - accuracy: 0.6638 - categorical_accuracy: 0.6638 - categorical_crossentropy: 1.7119 - Top3: 0.9453 - Top10: 1.0000 - val_loss: 2.4357 - val_accuracy: 0.8549 - val_categorical_accuracy: 0.8549 - val_categorical_crossentropy: 1.5883 - val_Top3: 0.9368 - val_Top10: 0.9699\n",
      "Epoch 75/200\n",
      "147/148 [============================>.] - ETA: 0s - loss: 2.6971 - accuracy: 0.6696 - categorical_accuracy: 0.6696 - categorical_crossentropy: 1.6847 - Top3: 0.9421 - Top10: 1.0000(74, 2.4393041133880615)\n",
      "148/148 [==============================] - 16s 103ms/step - loss: 2.6965 - accuracy: 0.6698 - categorical_accuracy: 0.6698 - categorical_crossentropy: 1.6838 - Top3: 0.9422 - Top10: 1.0000 - val_loss: 2.4393 - val_accuracy: 0.8519 - val_categorical_accuracy: 0.8519 - val_categorical_crossentropy: 1.5931 - val_Top3: 0.9381 - val_Top10: 0.9716\n",
      "Epoch 76/200\n",
      "147/148 [============================>.] - ETA: 0s - loss: 2.6791 - accuracy: 0.6757 - categorical_accuracy: 0.6757 - categorical_crossentropy: 1.6617 - Top3: 0.9409 - Top10: 1.0000(75, 2.441194772720337)\n",
      "148/148 [==============================] - 16s 103ms/step - loss: 2.6786 - accuracy: 0.6759 - categorical_accuracy: 0.6759 - categorical_crossentropy: 1.6609 - Top3: 0.9409 - Top10: 1.0000 - val_loss: 2.4412 - val_accuracy: 0.8541 - val_categorical_accuracy: 0.8541 - val_categorical_crossentropy: 1.5972 - val_Top3: 0.9385 - val_Top10: 0.9728\n",
      "Epoch 77/200\n",
      "147/148 [============================>.] - ETA: 0s - loss: 2.7208 - accuracy: 0.6624 - categorical_accuracy: 0.6624 - categorical_crossentropy: 1.7172 - Top3: 0.9481 - Top10: 1.0000(76, 2.4276440143585205)\n",
      "148/148 [==============================] - 15s 103ms/step - loss: 2.7205 - accuracy: 0.6625 - categorical_accuracy: 0.6625 - categorical_crossentropy: 1.7168 - Top3: 0.9483 - Top10: 1.0000 - val_loss: 2.4276 - val_accuracy: 0.8511 - val_categorical_accuracy: 0.8511 - val_categorical_crossentropy: 1.5759 - val_Top3: 0.9381 - val_Top10: 0.9711\n",
      "Epoch 78/200\n",
      "147/148 [============================>.] - ETA: 0s - loss: 2.7083 - accuracy: 0.6655 - categorical_accuracy: 0.6655 - categorical_crossentropy: 1.6996 - Top3: 0.9452 - Top10: 1.0000(77, 2.4366064071655273)\n",
      "148/148 [==============================] - 15s 103ms/step - loss: 2.7091 - accuracy: 0.6653 - categorical_accuracy: 0.6653 - categorical_crossentropy: 1.7006 - Top3: 0.9453 - Top10: 1.0000 - val_loss: 2.4366 - val_accuracy: 0.8519 - val_categorical_accuracy: 0.8519 - val_categorical_crossentropy: 1.5899 - val_Top3: 0.9372 - val_Top10: 0.9720\n",
      "Epoch 79/200\n",
      "147/148 [============================>.] - ETA: 0s - loss: 2.6797 - accuracy: 0.6751 - categorical_accuracy: 0.6751 - categorical_crossentropy: 1.6622 - Top3: 0.9478 - Top10: 0.9999(78, 2.439596176147461)\n",
      "148/148 [==============================] - 16s 104ms/step - loss: 2.6802 - accuracy: 0.6749 - categorical_accuracy: 0.6749 - categorical_crossentropy: 1.6628 - Top3: 0.9479 - Top10: 0.9999 - val_loss: 2.4396 - val_accuracy: 0.8541 - val_categorical_accuracy: 0.8541 - val_categorical_crossentropy: 1.5949 - val_Top3: 0.9385 - val_Top10: 0.9703\n",
      "Epoch 80/200\n",
      "147/148 [============================>.] - ETA: 0s - loss: 2.6708 - accuracy: 0.6772 - categorical_accuracy: 0.6772 - categorical_crossentropy: 1.6513 - Top3: 0.9532 - Top10: 1.0000(79, 2.441525936126709)\n",
      "148/148 [==============================] - 15s 103ms/step - loss: 2.6710 - accuracy: 0.6771 - categorical_accuracy: 0.6771 - categorical_crossentropy: 1.6515 - Top3: 0.9533 - Top10: 1.0000 - val_loss: 2.4415 - val_accuracy: 0.8557 - val_categorical_accuracy: 0.8557 - val_categorical_crossentropy: 1.5968 - val_Top3: 0.9381 - val_Top10: 0.9703\n",
      "Epoch 81/200\n",
      "147/148 [============================>.] - ETA: 0s - loss: 2.7114 - accuracy: 0.6652 - categorical_accuracy: 0.6652 - categorical_crossentropy: 1.7041 - Top3: 0.9516 - Top10: 1.0000(80, 2.4375159740448)\n",
      "148/148 [==============================] - 16s 103ms/step - loss: 2.7108 - accuracy: 0.6654 - categorical_accuracy: 0.6654 - categorical_crossentropy: 1.7032 - Top3: 0.9516 - Top10: 1.0000 - val_loss: 2.4375 - val_accuracy: 0.8562 - val_categorical_accuracy: 0.8562 - val_categorical_crossentropy: 1.5914 - val_Top3: 0.9355 - val_Top10: 0.9690\n",
      "Epoch 82/200\n",
      "147/148 [============================>.] - ETA: 0s - loss: 2.6788 - accuracy: 0.6749 - categorical_accuracy: 0.6749 - categorical_crossentropy: 1.6612 - Top3: 0.9499 - Top10: 1.0000(81, 2.454211473464966)\n",
      "148/148 [==============================] - 15s 103ms/step - loss: 2.6779 - accuracy: 0.6751 - categorical_accuracy: 0.6751 - categorical_crossentropy: 1.6599 - Top3: 0.9501 - Top10: 1.0000 - val_loss: 2.4542 - val_accuracy: 0.8519 - val_categorical_accuracy: 0.8519 - val_categorical_crossentropy: 1.6148 - val_Top3: 0.9385 - val_Top10: 0.9690\n",
      "Epoch 83/200\n",
      "147/148 [============================>.] - ETA: 0s - loss: 2.6899 - accuracy: 0.6718 - categorical_accuracy: 0.6718 - categorical_crossentropy: 1.6763 - Top3: 0.9525 - Top10: 1.0000(82, 2.444605827331543)\n",
      "148/148 [==============================] - 16s 104ms/step - loss: 2.6913 - accuracy: 0.6713 - categorical_accuracy: 0.6713 - categorical_crossentropy: 1.6783 - Top3: 0.9525 - Top10: 1.0000 - val_loss: 2.4446 - val_accuracy: 0.8557 - val_categorical_accuracy: 0.8557 - val_categorical_crossentropy: 1.6024 - val_Top3: 0.9347 - val_Top10: 0.9690\n",
      "Epoch 84/200\n",
      "147/148 [============================>.] - ETA: 0s - loss: 2.7039 - accuracy: 0.6674 - categorical_accuracy: 0.6674 - categorical_crossentropy: 1.6942 - Top3: 0.9561 - Top10: 1.0000(83, 2.44132137298584)\n",
      "148/148 [==============================] - 15s 103ms/step - loss: 2.7040 - accuracy: 0.6674 - categorical_accuracy: 0.6674 - categorical_crossentropy: 1.6943 - Top3: 0.9562 - Top10: 1.0000 - val_loss: 2.4413 - val_accuracy: 0.8541 - val_categorical_accuracy: 0.8541 - val_categorical_crossentropy: 1.5962 - val_Top3: 0.9364 - val_Top10: 0.9724\n",
      "Epoch 85/200\n",
      "147/148 [============================>.] - ETA: 0s - loss: 2.6966 - accuracy: 0.6691 - categorical_accuracy: 0.6691 - categorical_crossentropy: 1.6840 - Top3: 0.9536 - Top10: 1.0000(84, 2.448606014251709)\n",
      "148/148 [==============================] - 16s 103ms/step - loss: 2.6953 - accuracy: 0.6695 - categorical_accuracy: 0.6695 - categorical_crossentropy: 1.6823 - Top3: 0.9537 - Top10: 1.0000 - val_loss: 2.4486 - val_accuracy: 0.8541 - val_categorical_accuracy: 0.8541 - val_categorical_crossentropy: 1.6073 - val_Top3: 0.9372 - val_Top10: 0.9699\n",
      "Epoch 86/200\n",
      "147/148 [============================>.] - ETA: 0s - loss: 2.6662 - accuracy: 0.6790 - categorical_accuracy: 0.6790 - categorical_crossentropy: 1.6459 - Top3: 0.9570 - Top10: 1.0000(85, 2.4405293464660645)\n",
      "148/148 [==============================] - 15s 103ms/step - loss: 2.6664 - accuracy: 0.6789 - categorical_accuracy: 0.6789 - categorical_crossentropy: 1.6461 - Top3: 0.9571 - Top10: 1.0000 - val_loss: 2.4405 - val_accuracy: 0.8519 - val_categorical_accuracy: 0.8519 - val_categorical_crossentropy: 1.5956 - val_Top3: 0.9381 - val_Top10: 0.9699\n"
     ]
    },
    {
     "name": "stdout",
     "output_type": "stream",
     "text": [
      "Epoch 87/200\n",
      "147/148 [============================>.] - ETA: 0s - loss: 2.6909 - accuracy: 0.6711 - categorical_accuracy: 0.6711 - categorical_crossentropy: 1.6770 - Top3: 0.9529 - Top10: 1.0000(86, 2.440227746963501)\n",
      "148/148 [==============================] - 15s 103ms/step - loss: 2.6924 - accuracy: 0.6707 - categorical_accuracy: 0.6707 - categorical_crossentropy: 1.6790 - Top3: 0.9530 - Top10: 1.0000 - val_loss: 2.4402 - val_accuracy: 0.8536 - val_categorical_accuracy: 0.8536 - val_categorical_crossentropy: 1.5954 - val_Top3: 0.9398 - val_Top10: 0.9703\n",
      "Epoch 88/200\n",
      "147/148 [============================>.] - ETA: 0s - loss: 2.7106 - accuracy: 0.6642 - categorical_accuracy: 0.6642 - categorical_crossentropy: 1.7030 - Top3: 0.9588 - Top10: 1.0000(87, 2.4419949054718018)\n",
      "148/148 [==============================] - 16s 103ms/step - loss: 2.7104 - accuracy: 0.6643 - categorical_accuracy: 0.6643 - categorical_crossentropy: 1.7026 - Top3: 0.9589 - Top10: 1.0000 - val_loss: 2.4420 - val_accuracy: 0.8541 - val_categorical_accuracy: 0.8541 - val_categorical_crossentropy: 1.5974 - val_Top3: 0.9376 - val_Top10: 0.9703\n",
      "Epoch 89/200\n",
      "147/148 [============================>.] - ETA: 0s - loss: 2.6765 - accuracy: 0.6746 - categorical_accuracy: 0.6746 - categorical_crossentropy: 1.6579 - Top3: 0.9578 - Top10: 1.0000(88, 2.460530996322632)\n",
      "148/148 [==============================] - 16s 103ms/step - loss: 2.6783 - accuracy: 0.6741 - categorical_accuracy: 0.6741 - categorical_crossentropy: 1.6604 - Top3: 0.9579 - Top10: 1.0000 - val_loss: 2.4605 - val_accuracy: 0.8549 - val_categorical_accuracy: 0.8549 - val_categorical_crossentropy: 1.6251 - val_Top3: 0.9389 - val_Top10: 0.9707\n",
      "Epoch 90/200\n",
      "147/148 [============================>.] - ETA: 0s - loss: 2.7104 - accuracy: 0.6641 - categorical_accuracy: 0.6641 - categorical_crossentropy: 1.7038 - Top3: 0.9596 - Top10: 1.0000(89, 2.450805425643921)\n",
      "148/148 [==============================] - 16s 104ms/step - loss: 2.7101 - accuracy: 0.6642 - categorical_accuracy: 0.6642 - categorical_crossentropy: 1.7034 - Top3: 0.9597 - Top10: 1.0000 - val_loss: 2.4508 - val_accuracy: 0.8541 - val_categorical_accuracy: 0.8541 - val_categorical_crossentropy: 1.6106 - val_Top3: 0.9368 - val_Top10: 0.9728\n",
      "Epoch 91/200\n",
      "147/148 [============================>.] - ETA: 0s - loss: 2.7037 - accuracy: 0.6663 - categorical_accuracy: 0.6663 - categorical_crossentropy: 1.6945 - Top3: 0.9576 - Top10: 1.0000(90, 2.441422700881958)\n",
      "148/148 [==============================] - 15s 103ms/step - loss: 2.7048 - accuracy: 0.6660 - categorical_accuracy: 0.6660 - categorical_crossentropy: 1.6960 - Top3: 0.9577 - Top10: 1.0000 - val_loss: 2.4414 - val_accuracy: 0.8570 - val_categorical_accuracy: 0.8570 - val_categorical_crossentropy: 1.5968 - val_Top3: 0.9368 - val_Top10: 0.9716\n",
      "Epoch 92/200\n",
      "147/148 [============================>.] - ETA: 0s - loss: 2.6932 - accuracy: 0.6691 - categorical_accuracy: 0.6691 - categorical_crossentropy: 1.6802 - Top3: 0.9579 - Top10: 0.9999(91, 2.456172466278076)\n",
      "148/148 [==============================] - 15s 103ms/step - loss: 2.6929 - accuracy: 0.6692 - categorical_accuracy: 0.6692 - categorical_crossentropy: 1.6798 - Top3: 0.9580 - Top10: 0.9999 - val_loss: 2.4562 - val_accuracy: 0.8532 - val_categorical_accuracy: 0.8532 - val_categorical_crossentropy: 1.6181 - val_Top3: 0.9381 - val_Top10: 0.9707\n",
      "Epoch 93/200\n",
      "147/148 [============================>.] - ETA: 0s - loss: 2.6745 - accuracy: 0.6756 - categorical_accuracy: 0.6756 - categorical_crossentropy: 1.6563 - Top3: 0.9619 - Top10: 1.0000(92, 2.4503204822540283)\n",
      "148/148 [==============================] - 15s 102ms/step - loss: 2.6749 - accuracy: 0.6754 - categorical_accuracy: 0.6754 - categorical_crossentropy: 1.6570 - Top3: 0.9620 - Top10: 1.0000 - val_loss: 2.4503 - val_accuracy: 0.8574 - val_categorical_accuracy: 0.8574 - val_categorical_crossentropy: 1.6095 - val_Top3: 0.9385 - val_Top10: 0.9699\n",
      "Epoch 94/200\n",
      "147/148 [============================>.] - ETA: 0s - loss: 2.6981 - accuracy: 0.6683 - categorical_accuracy: 0.6683 - categorical_crossentropy: 1.6872 - Top3: 0.9622 - Top10: 1.0000(93, 2.4623608589172363)\n",
      "148/148 [==============================] - 15s 103ms/step - loss: 2.6995 - accuracy: 0.6678 - categorical_accuracy: 0.6678 - categorical_crossentropy: 1.6891 - Top3: 0.9623 - Top10: 1.0000 - val_loss: 2.4624 - val_accuracy: 0.8553 - val_categorical_accuracy: 0.8553 - val_categorical_crossentropy: 1.6268 - val_Top3: 0.9381 - val_Top10: 0.9695\n",
      "Epoch 95/200\n",
      "147/148 [============================>.] - ETA: 0s - loss: 2.7144 - accuracy: 0.6617 - categorical_accuracy: 0.6617 - categorical_crossentropy: 1.7082 - Top3: 0.9599 - Top10: 1.0000(94, 2.456115484237671)\n",
      "148/148 [==============================] - 15s 103ms/step - loss: 2.7147 - accuracy: 0.6615 - categorical_accuracy: 0.6615 - categorical_crossentropy: 1.7088 - Top3: 0.9600 - Top10: 1.0000 - val_loss: 2.4561 - val_accuracy: 0.8536 - val_categorical_accuracy: 0.8536 - val_categorical_crossentropy: 1.6178 - val_Top3: 0.9359 - val_Top10: 0.9686\n",
      "Epoch 96/200\n",
      "147/148 [============================>.] - ETA: 0s - loss: 2.6837 - accuracy: 0.6721 - categorical_accuracy: 0.6721 - categorical_crossentropy: 1.6690 - Top3: 0.9631 - Top10: 0.9999(95, 2.4567744731903076)\n",
      "148/148 [==============================] - 16s 103ms/step - loss: 2.6851 - accuracy: 0.6716 - categorical_accuracy: 0.6716 - categorical_crossentropy: 1.6710 - Top3: 0.9632 - Top10: 0.9999 - val_loss: 2.4568 - val_accuracy: 0.8566 - val_categorical_accuracy: 0.8566 - val_categorical_crossentropy: 1.6197 - val_Top3: 0.9381 - val_Top10: 0.9711\n",
      "Epoch 97/200\n",
      "147/148 [============================>.] - ETA: 0s - loss: 2.6941 - accuracy: 0.6691 - categorical_accuracy: 0.6691 - categorical_crossentropy: 1.6817 - Top3: 0.9594 - Top10: 1.0000(96, 2.4533355236053467)\n",
      "148/148 [==============================] - 16s 104ms/step - loss: 2.6942 - accuracy: 0.6691 - categorical_accuracy: 0.6691 - categorical_crossentropy: 1.6818 - Top3: 0.9595 - Top10: 1.0000 - val_loss: 2.4533 - val_accuracy: 0.8536 - val_categorical_accuracy: 0.8536 - val_categorical_crossentropy: 1.6141 - val_Top3: 0.9389 - val_Top10: 0.9695\n",
      "Epoch 98/200\n",
      "147/148 [============================>.] - ETA: 0s - loss: 2.6902 - accuracy: 0.6707 - categorical_accuracy: 0.6707 - categorical_crossentropy: 1.6764 - Top3: 0.9629 - Top10: 1.0000(97, 2.465445041656494)\n",
      "148/148 [==============================] - 16s 104ms/step - loss: 2.6896 - accuracy: 0.6709 - categorical_accuracy: 0.6709 - categorical_crossentropy: 1.6756 - Top3: 0.9630 - Top10: 1.0000 - val_loss: 2.4654 - val_accuracy: 0.8545 - val_categorical_accuracy: 0.8545 - val_categorical_crossentropy: 1.6319 - val_Top3: 0.9364 - val_Top10: 0.9703\n",
      "Epoch 99/200\n",
      "147/148 [============================>.] - ETA: 0s - loss: 2.6599 - accuracy: 0.6796 - categorical_accuracy: 0.6796 - categorical_crossentropy: 1.6385 - Top3: 0.9579 - Top10: 1.0000(98, 2.453141212463379)\n",
      "148/148 [==============================] - 16s 104ms/step - loss: 2.6600 - accuracy: 0.6796 - categorical_accuracy: 0.6796 - categorical_crossentropy: 1.6387 - Top3: 0.9580 - Top10: 1.0000 - val_loss: 2.4531 - val_accuracy: 0.8574 - val_categorical_accuracy: 0.8574 - val_categorical_crossentropy: 1.6132 - val_Top3: 0.9351 - val_Top10: 0.9682\n",
      "Epoch 100/200\n",
      "147/148 [============================>.] - ETA: 0s - loss: 2.6800 - accuracy: 0.6730 - categorical_accuracy: 0.6730 - categorical_crossentropy: 1.6637 - Top3: 0.9625 - Top10: 1.0000(99, 2.4611263275146484)\n",
      "148/148 [==============================] - 15s 103ms/step - loss: 2.6791 - accuracy: 0.6733 - categorical_accuracy: 0.6733 - categorical_crossentropy: 1.6625 - Top3: 0.9626 - Top10: 1.0000 - val_loss: 2.4611 - val_accuracy: 0.8536 - val_categorical_accuracy: 0.8536 - val_categorical_crossentropy: 1.6259 - val_Top3: 0.9376 - val_Top10: 0.9690\n",
      "Epoch 101/200\n",
      "147/148 [============================>.] - ETA: 0s - loss: 2.6833 - accuracy: 0.6720 - categorical_accuracy: 0.6720 - categorical_crossentropy: 1.6680 - Top3: 0.9647 - Top10: 1.0000(100, 2.465731382369995)\n",
      "148/148 [==============================] - 16s 104ms/step - loss: 2.6824 - accuracy: 0.6723 - categorical_accuracy: 0.6723 - categorical_crossentropy: 1.6668 - Top3: 0.9648 - Top10: 1.0000 - val_loss: 2.4657 - val_accuracy: 0.8524 - val_categorical_accuracy: 0.8524 - val_categorical_crossentropy: 1.6297 - val_Top3: 0.9338 - val_Top10: 0.9699\n"
     ]
    },
    {
     "name": "stdout",
     "output_type": "stream",
     "text": [
      "Epoch 102/200\n",
      "147/148 [============================>.] - ETA: 0s - loss: 2.6811 - accuracy: 0.6727 - categorical_accuracy: 0.6727 - categorical_crossentropy: 1.6648 - Top3: 0.9618 - Top10: 1.0000(101, 2.4615817070007324)\n",
      "148/148 [==============================] - 16s 103ms/step - loss: 2.6816 - accuracy: 0.6726 - categorical_accuracy: 0.6726 - categorical_crossentropy: 1.6654 - Top3: 0.9619 - Top10: 1.0000 - val_loss: 2.4616 - val_accuracy: 0.8562 - val_categorical_accuracy: 0.8562 - val_categorical_crossentropy: 1.6254 - val_Top3: 0.9368 - val_Top10: 0.9699\n",
      "Epoch 103/200\n",
      "147/148 [============================>.] - ETA: 0s - loss: 2.6794 - accuracy: 0.6736 - categorical_accuracy: 0.6736 - categorical_crossentropy: 1.6626 - Top3: 0.9647 - Top10: 1.0000(102, 2.4613547325134277)\n",
      "148/148 [==============================] - 16s 104ms/step - loss: 2.6788 - accuracy: 0.6737 - categorical_accuracy: 0.6737 - categorical_crossentropy: 1.6619 - Top3: 0.9648 - Top10: 1.0000 - val_loss: 2.4614 - val_accuracy: 0.8553 - val_categorical_accuracy: 0.8553 - val_categorical_crossentropy: 1.6252 - val_Top3: 0.9364 - val_Top10: 0.9678\n",
      "Epoch 104/200\n",
      "147/148 [============================>.] - ETA: 0s - loss: 2.7114 - accuracy: 0.6634 - categorical_accuracy: 0.6634 - categorical_crossentropy: 1.7051 - Top3: 0.9688 - Top10: 1.0000(103, 2.462526798248291)\n",
      "148/148 [==============================] - 16s 103ms/step - loss: 2.7121 - accuracy: 0.6631 - categorical_accuracy: 0.6631 - categorical_crossentropy: 1.7060 - Top3: 0.9688 - Top10: 1.0000 - val_loss: 2.4625 - val_accuracy: 0.8532 - val_categorical_accuracy: 0.8532 - val_categorical_crossentropy: 1.6267 - val_Top3: 0.9376 - val_Top10: 0.9673\n",
      "Epoch 105/200\n",
      "147/148 [============================>.] - ETA: 0s - loss: 2.7119 - accuracy: 0.6643 - categorical_accuracy: 0.6643 - categorical_crossentropy: 1.7054 - Top3: 0.9699 - Top10: 1.0000(104, 2.4620842933654785)\n",
      "148/148 [==============================] - 16s 104ms/step - loss: 2.7126 - accuracy: 0.6641 - categorical_accuracy: 0.6641 - categorical_crossentropy: 1.7064 - Top3: 0.9699 - Top10: 1.0000 - val_loss: 2.4621 - val_accuracy: 0.8545 - val_categorical_accuracy: 0.8545 - val_categorical_crossentropy: 1.6273 - val_Top3: 0.9372 - val_Top10: 0.9703\n",
      "Epoch 106/200\n",
      "147/148 [============================>.] - ETA: 0s - loss: 2.6762 - accuracy: 0.6743 - categorical_accuracy: 0.6743 - categorical_crossentropy: 1.6592 - Top3: 0.9662 - Top10: 1.0000(105, 2.4725494384765625)\n",
      "148/148 [==============================] - 16s 103ms/step - loss: 2.6760 - accuracy: 0.6744 - categorical_accuracy: 0.6744 - categorical_crossentropy: 1.6589 - Top3: 0.9663 - Top10: 1.0000 - val_loss: 2.4725 - val_accuracy: 0.8553 - val_categorical_accuracy: 0.8553 - val_categorical_crossentropy: 1.6422 - val_Top3: 0.9376 - val_Top10: 0.9669\n",
      "Epoch 107/200\n",
      "147/148 [============================>.] - ETA: 0s - loss: 2.6772 - accuracy: 0.6742 - categorical_accuracy: 0.6742 - categorical_crossentropy: 1.6610 - Top3: 0.9672 - Top10: 1.0000(106, 2.460899591445923)\n",
      "148/148 [==============================] - 15s 103ms/step - loss: 2.6787 - accuracy: 0.6737 - categorical_accuracy: 0.6737 - categorical_crossentropy: 1.6631 - Top3: 0.9672 - Top10: 1.0000 - val_loss: 2.4609 - val_accuracy: 0.8553 - val_categorical_accuracy: 0.8553 - val_categorical_crossentropy: 1.6255 - val_Top3: 0.9402 - val_Top10: 0.9699\n",
      "Epoch 108/200\n",
      "147/148 [============================>.] - ETA: 0s - loss: 2.6804 - accuracy: 0.6728 - categorical_accuracy: 0.6728 - categorical_crossentropy: 1.6657 - Top3: 0.9668 - Top10: 1.0000(107, 2.4529573917388916)\n",
      "148/148 [==============================] - 15s 103ms/step - loss: 2.6816 - accuracy: 0.6725 - categorical_accuracy: 0.6725 - categorical_crossentropy: 1.6672 - Top3: 0.9669 - Top10: 1.0000 - val_loss: 2.4530 - val_accuracy: 0.8579 - val_categorical_accuracy: 0.8579 - val_categorical_crossentropy: 1.6140 - val_Top3: 0.9372 - val_Top10: 0.9695\n",
      "Epoch 109/200\n",
      "147/148 [============================>.] - ETA: 0s - loss: 2.6861 - accuracy: 0.6717 - categorical_accuracy: 0.6717 - categorical_crossentropy: 1.6716 - Top3: 0.9675 - Top10: 1.0000(108, 2.461419105529785)\n",
      "148/148 [==============================] - 16s 103ms/step - loss: 2.6866 - accuracy: 0.6715 - categorical_accuracy: 0.6715 - categorical_crossentropy: 1.6722 - Top3: 0.9676 - Top10: 1.0000 - val_loss: 2.4614 - val_accuracy: 0.8562 - val_categorical_accuracy: 0.8562 - val_categorical_crossentropy: 1.6249 - val_Top3: 0.9368 - val_Top10: 0.9716\n",
      "Epoch 110/200\n",
      "147/148 [============================>.] - ETA: 0s - loss: 2.6996 - accuracy: 0.6670 - categorical_accuracy: 0.6670 - categorical_crossentropy: 1.6894 - Top3: 0.9688 - Top10: 1.0000(109, 2.4759817123413086)\n",
      "148/148 [==============================] - 15s 103ms/step - loss: 2.7001 - accuracy: 0.6668 - categorical_accuracy: 0.6668 - categorical_crossentropy: 1.6899 - Top3: 0.9688 - Top10: 1.0000 - val_loss: 2.4760 - val_accuracy: 0.8541 - val_categorical_accuracy: 0.8541 - val_categorical_crossentropy: 1.6470 - val_Top3: 0.9355 - val_Top10: 0.9686\n",
      "Epoch 111/200\n",
      "147/148 [============================>.] - ETA: 0s - loss: 2.7141 - accuracy: 0.6622 - categorical_accuracy: 0.6622 - categorical_crossentropy: 1.7097 - Top3: 0.9705 - Top10: 1.0000(110, 2.456535577774048)\n",
      "148/148 [==============================] - 15s 103ms/step - loss: 2.7145 - accuracy: 0.6621 - categorical_accuracy: 0.6621 - categorical_crossentropy: 1.7103 - Top3: 0.9705 - Top10: 1.0000 - val_loss: 2.4565 - val_accuracy: 0.8570 - val_categorical_accuracy: 0.8570 - val_categorical_crossentropy: 1.6187 - val_Top3: 0.9364 - val_Top10: 0.9690\n",
      "Epoch 112/200\n",
      "147/148 [============================>.] - ETA: 0s - loss: 2.6962 - accuracy: 0.6678 - categorical_accuracy: 0.6678 - categorical_crossentropy: 1.6846 - Top3: 0.9698 - Top10: 1.0000(111, 2.462229013442993)\n",
      "148/148 [==============================] - 15s 103ms/step - loss: 2.6955 - accuracy: 0.6680 - categorical_accuracy: 0.6680 - categorical_crossentropy: 1.6838 - Top3: 0.9699 - Top10: 1.0000 - val_loss: 2.4622 - val_accuracy: 0.8570 - val_categorical_accuracy: 0.8570 - val_categorical_crossentropy: 1.6268 - val_Top3: 0.9351 - val_Top10: 0.9695\n",
      "Epoch 113/200\n",
      "147/148 [============================>.] - ETA: 0s - loss: 2.6913 - accuracy: 0.6692 - categorical_accuracy: 0.6692 - categorical_crossentropy: 1.6786 - Top3: 0.9689 - Top10: 1.0000(112, 2.461390733718872)\n",
      "148/148 [==============================] - 16s 103ms/step - loss: 2.6907 - accuracy: 0.6694 - categorical_accuracy: 0.6694 - categorical_crossentropy: 1.6778 - Top3: 0.9689 - Top10: 1.0000 - val_loss: 2.4614 - val_accuracy: 0.8553 - val_categorical_accuracy: 0.8553 - val_categorical_crossentropy: 1.6258 - val_Top3: 0.9381 - val_Top10: 0.9695\n",
      "Epoch 114/200\n",
      "147/148 [============================>.] - ETA: 0s - loss: 2.6979 - accuracy: 0.6673 - categorical_accuracy: 0.6673 - categorical_crossentropy: 1.6878 - Top3: 0.9707 - Top10: 1.0000(113, 2.459200143814087)\n",
      "148/148 [==============================] - 16s 103ms/step - loss: 2.6979 - accuracy: 0.6673 - categorical_accuracy: 0.6673 - categorical_crossentropy: 1.6879 - Top3: 0.9707 - Top10: 1.0000 - val_loss: 2.4592 - val_accuracy: 0.8579 - val_categorical_accuracy: 0.8579 - val_categorical_crossentropy: 1.6225 - val_Top3: 0.9389 - val_Top10: 0.9673\n",
      "Epoch 115/200\n",
      "147/148 [============================>.] - ETA: 0s - loss: 2.6813 - accuracy: 0.6721 - categorical_accuracy: 0.6721 - categorical_crossentropy: 1.6659 - Top3: 0.9718 - Top10: 1.0000(114, 2.468116044998169)\n",
      "148/148 [==============================] - 16s 103ms/step - loss: 2.6804 - accuracy: 0.6724 - categorical_accuracy: 0.6724 - categorical_crossentropy: 1.6647 - Top3: 0.9719 - Top10: 1.0000 - val_loss: 2.4681 - val_accuracy: 0.8562 - val_categorical_accuracy: 0.8562 - val_categorical_crossentropy: 1.6357 - val_Top3: 0.9376 - val_Top10: 0.9707\n",
      "Epoch 116/200\n",
      "147/148 [============================>.] - ETA: 0s - loss: 2.6850 - accuracy: 0.6716 - categorical_accuracy: 0.6716 - categorical_crossentropy: 1.6712 - Top3: 0.9707 - Top10: 1.0000(115, 2.470364809036255)\n",
      "148/148 [==============================] - 16s 103ms/step - loss: 2.6858 - accuracy: 0.6713 - categorical_accuracy: 0.6713 - categorical_crossentropy: 1.6723 - Top3: 0.9707 - Top10: 1.0000 - val_loss: 2.4704 - val_accuracy: 0.8545 - val_categorical_accuracy: 0.8545 - val_categorical_crossentropy: 1.6398 - val_Top3: 0.9372 - val_Top10: 0.9699\n"
     ]
    },
    {
     "name": "stdout",
     "output_type": "stream",
     "text": [
      "Epoch 117/200\n",
      "147/148 [============================>.] - ETA: 0s - loss: 2.6955 - accuracy: 0.6673 - categorical_accuracy: 0.6673 - categorical_crossentropy: 1.6859 - Top3: 0.9720 - Top10: 1.0000(116, 2.4649789333343506)\n",
      "148/148 [==============================] - 15s 103ms/step - loss: 2.6952 - accuracy: 0.6674 - categorical_accuracy: 0.6674 - categorical_crossentropy: 1.6855 - Top3: 0.9721 - Top10: 1.0000 - val_loss: 2.4650 - val_accuracy: 0.8579 - val_categorical_accuracy: 0.8579 - val_categorical_crossentropy: 1.6305 - val_Top3: 0.9393 - val_Top10: 0.9690\n",
      "Epoch 118/200\n",
      "147/148 [============================>.] - ETA: 0s - loss: 2.6441 - accuracy: 0.6838 - categorical_accuracy: 0.6838 - categorical_crossentropy: 1.6172 - Top3: 0.9689 - Top10: 1.0000(117, 2.4718716144561768)\n",
      "148/148 [==============================] - 15s 103ms/step - loss: 2.6446 - accuracy: 0.6836 - categorical_accuracy: 0.6836 - categorical_crossentropy: 1.6180 - Top3: 0.9689 - Top10: 1.0000 - val_loss: 2.4719 - val_accuracy: 0.8532 - val_categorical_accuracy: 0.8532 - val_categorical_crossentropy: 1.6406 - val_Top3: 0.9372 - val_Top10: 0.9699\n",
      "Epoch 119/200\n",
      "147/148 [============================>.] - ETA: 0s - loss: 2.6653 - accuracy: 0.6777 - categorical_accuracy: 0.6777 - categorical_crossentropy: 1.6450 - Top3: 0.9703 - Top10: 1.0000(118, 2.4702956676483154)\n",
      "148/148 [==============================] - 15s 102ms/step - loss: 2.6654 - accuracy: 0.6777 - categorical_accuracy: 0.6777 - categorical_crossentropy: 1.6451 - Top3: 0.9704 - Top10: 1.0000 - val_loss: 2.4703 - val_accuracy: 0.8549 - val_categorical_accuracy: 0.8549 - val_categorical_crossentropy: 1.6383 - val_Top3: 0.9355 - val_Top10: 0.9690\n",
      "Epoch 120/200\n",
      "147/148 [============================>.] - ETA: 0s - loss: 2.6627 - accuracy: 0.6779 - categorical_accuracy: 0.6779 - categorical_crossentropy: 1.6416 - Top3: 0.9696 - Top10: 1.0000(119, 2.471543073654175)\n",
      "148/148 [==============================] - 16s 103ms/step - loss: 2.6622 - accuracy: 0.6781 - categorical_accuracy: 0.6781 - categorical_crossentropy: 1.6408 - Top3: 0.9697 - Top10: 1.0000 - val_loss: 2.4715 - val_accuracy: 0.8545 - val_categorical_accuracy: 0.8545 - val_categorical_crossentropy: 1.6409 - val_Top3: 0.9355 - val_Top10: 0.9673\n",
      "Epoch 121/200\n",
      "147/148 [============================>.] - ETA: 0s - loss: 2.6731 - accuracy: 0.6747 - categorical_accuracy: 0.6747 - categorical_crossentropy: 1.6561 - Top3: 0.9742 - Top10: 1.0000(120, 2.460937261581421)\n",
      "148/148 [==============================] - 16s 104ms/step - loss: 2.6739 - accuracy: 0.6745 - categorical_accuracy: 0.6745 - categorical_crossentropy: 1.6571 - Top3: 0.9742 - Top10: 1.0000 - val_loss: 2.4609 - val_accuracy: 0.8545 - val_categorical_accuracy: 0.8545 - val_categorical_crossentropy: 1.6254 - val_Top3: 0.9398 - val_Top10: 0.9682\n",
      "Epoch 122/200\n",
      "147/148 [============================>.] - ETA: 0s - loss: 2.6712 - accuracy: 0.6760 - categorical_accuracy: 0.6760 - categorical_crossentropy: 1.6526 - Top3: 0.9715 - Top10: 1.0000(121, 2.4677650928497314)\n",
      "148/148 [==============================] - 16s 103ms/step - loss: 2.6703 - accuracy: 0.6763 - categorical_accuracy: 0.6763 - categorical_crossentropy: 1.6515 - Top3: 0.9716 - Top10: 1.0000 - val_loss: 2.4678 - val_accuracy: 0.8557 - val_categorical_accuracy: 0.8557 - val_categorical_crossentropy: 1.6339 - val_Top3: 0.9347 - val_Top10: 0.9686\n",
      "Epoch 123/200\n",
      "147/148 [============================>.] - ETA: 0s - loss: 2.6733 - accuracy: 0.6740 - categorical_accuracy: 0.6740 - categorical_crossentropy: 1.6564 - Top3: 0.9723 - Top10: 1.0000(122, 2.4726359844207764)\n",
      "148/148 [==============================] - 16s 103ms/step - loss: 2.6737 - accuracy: 0.6738 - categorical_accuracy: 0.6738 - categorical_crossentropy: 1.6571 - Top3: 0.9723 - Top10: 1.0000 - val_loss: 2.4726 - val_accuracy: 0.8557 - val_categorical_accuracy: 0.8557 - val_categorical_crossentropy: 1.6427 - val_Top3: 0.9368 - val_Top10: 0.9678\n",
      "Epoch 124/200\n",
      "147/148 [============================>.] - ETA: 0s - loss: 2.6857 - accuracy: 0.6708 - categorical_accuracy: 0.6708 - categorical_crossentropy: 1.6722 - Top3: 0.9764 - Top10: 1.0000(123, 2.470287561416626)\n",
      "148/148 [==============================] - 15s 103ms/step - loss: 2.6868 - accuracy: 0.6704 - categorical_accuracy: 0.6704 - categorical_crossentropy: 1.6737 - Top3: 0.9765 - Top10: 1.0000 - val_loss: 2.4703 - val_accuracy: 0.8545 - val_categorical_accuracy: 0.8545 - val_categorical_crossentropy: 1.6370 - val_Top3: 0.9376 - val_Top10: 0.9665\n",
      "Epoch 125/200\n",
      "147/148 [============================>.] - ETA: 0s - loss: 2.6584 - accuracy: 0.6800 - categorical_accuracy: 0.6800 - categorical_crossentropy: 1.6354 - Top3: 0.9699 - Top10: 1.0000(124, 2.4930801391601562)\n",
      "148/148 [==============================] - 15s 103ms/step - loss: 2.6572 - accuracy: 0.6803 - categorical_accuracy: 0.6803 - categorical_crossentropy: 1.6338 - Top3: 0.9700 - Top10: 1.0000 - val_loss: 2.4931 - val_accuracy: 0.8536 - val_categorical_accuracy: 0.8536 - val_categorical_crossentropy: 1.6721 - val_Top3: 0.9359 - val_Top10: 0.9682\n",
      "Epoch 126/200\n",
      "147/148 [============================>.] - ETA: 0s - loss: 2.7024 - accuracy: 0.6656 - categorical_accuracy: 0.6656 - categorical_crossentropy: 1.6953 - Top3: 0.9766 - Top10: 1.0000(125, 2.468069314956665)\n",
      "148/148 [==============================] - 16s 103ms/step - loss: 2.7014 - accuracy: 0.6659 - categorical_accuracy: 0.6659 - categorical_crossentropy: 1.6941 - Top3: 0.9767 - Top10: 1.0000 - val_loss: 2.4681 - val_accuracy: 0.8545 - val_categorical_accuracy: 0.8545 - val_categorical_crossentropy: 1.6354 - val_Top3: 0.9347 - val_Top10: 0.9695\n",
      "Epoch 127/200\n",
      "147/148 [============================>.] - ETA: 0s - loss: 2.6896 - accuracy: 0.6694 - categorical_accuracy: 0.6694 - categorical_crossentropy: 1.6779 - Top3: 0.9745 - Top10: 1.0000(126, 2.465985059738159)\n",
      "148/148 [==============================] - 16s 103ms/step - loss: 2.6897 - accuracy: 0.6694 - categorical_accuracy: 0.6694 - categorical_crossentropy: 1.6780 - Top3: 0.9746 - Top10: 1.0000 - val_loss: 2.4660 - val_accuracy: 0.8511 - val_categorical_accuracy: 0.8511 - val_categorical_crossentropy: 1.6320 - val_Top3: 0.9368 - val_Top10: 0.9682\n",
      "Epoch 128/200\n",
      "147/148 [============================>.] - ETA: 0s - loss: 2.6608 - accuracy: 0.6778 - categorical_accuracy: 0.6778 - categorical_crossentropy: 1.6396 - Top3: 0.9745 - Top10: 1.0000(127, 2.47110915184021)\n",
      "148/148 [==============================] - 16s 103ms/step - loss: 2.6603 - accuracy: 0.6780 - categorical_accuracy: 0.6780 - categorical_crossentropy: 1.6389 - Top3: 0.9746 - Top10: 1.0000 - val_loss: 2.4711 - val_accuracy: 0.8545 - val_categorical_accuracy: 0.8545 - val_categorical_crossentropy: 1.6398 - val_Top3: 0.9364 - val_Top10: 0.9682\n",
      "Epoch 129/200\n",
      "147/148 [============================>.] - ETA: 0s - loss: 2.6761 - accuracy: 0.6740 - categorical_accuracy: 0.6740 - categorical_crossentropy: 1.6600 - Top3: 0.9762 - Top10: 1.0000(128, 2.472683906555176)\n",
      "148/148 [==============================] - 16s 103ms/step - loss: 2.6750 - accuracy: 0.6744 - categorical_accuracy: 0.6744 - categorical_crossentropy: 1.6584 - Top3: 0.9762 - Top10: 1.0000 - val_loss: 2.4727 - val_accuracy: 0.8562 - val_categorical_accuracy: 0.8562 - val_categorical_crossentropy: 1.6418 - val_Top3: 0.9351 - val_Top10: 0.9703\n",
      "Epoch 130/200\n",
      "147/148 [============================>.] - ETA: 0s - loss: 2.6921 - accuracy: 0.6674 - categorical_accuracy: 0.6674 - categorical_crossentropy: 1.6811 - Top3: 0.9754 - Top10: 1.0000(129, 2.4636483192443848)\n",
      "148/148 [==============================] - 15s 103ms/step - loss: 2.6925 - accuracy: 0.6673 - categorical_accuracy: 0.6673 - categorical_crossentropy: 1.6816 - Top3: 0.9755 - Top10: 1.0000 - val_loss: 2.4636 - val_accuracy: 0.8545 - val_categorical_accuracy: 0.8545 - val_categorical_crossentropy: 1.6281 - val_Top3: 0.9364 - val_Top10: 0.9673\n",
      "Epoch 131/200\n",
      "147/148 [============================>.] - ETA: 0s - loss: 2.6818 - accuracy: 0.6717 - categorical_accuracy: 0.6717 - categorical_crossentropy: 1.6666 - Top3: 0.9761 - Top10: 1.0000(130, 2.4823458194732666)\n",
      "148/148 [==============================] - 16s 104ms/step - loss: 2.6819 - accuracy: 0.6716 - categorical_accuracy: 0.6716 - categorical_crossentropy: 1.6668 - Top3: 0.9761 - Top10: 1.0000 - val_loss: 2.4823 - val_accuracy: 0.8515 - val_categorical_accuracy: 0.8515 - val_categorical_crossentropy: 1.6556 - val_Top3: 0.9372 - val_Top10: 0.9678\n"
     ]
    },
    {
     "name": "stdout",
     "output_type": "stream",
     "text": [
      "Epoch 132/200\n",
      "147/148 [============================>.] - ETA: 0s - loss: 2.6816 - accuracy: 0.6721 - categorical_accuracy: 0.6721 - categorical_crossentropy: 1.6675 - Top3: 0.9763 - Top10: 1.0000(131, 2.4761102199554443)\n",
      "148/148 [==============================] - 16s 104ms/step - loss: 2.6827 - accuracy: 0.6717 - categorical_accuracy: 0.6717 - categorical_crossentropy: 1.6690 - Top3: 0.9764 - Top10: 1.0000 - val_loss: 2.4761 - val_accuracy: 0.8574 - val_categorical_accuracy: 0.8574 - val_categorical_crossentropy: 1.6470 - val_Top3: 0.9381 - val_Top10: 0.9690\n",
      "Epoch 133/200\n",
      "147/148 [============================>.] - ETA: 0s - loss: 2.6497 - accuracy: 0.6824 - categorical_accuracy: 0.6824 - categorical_crossentropy: 1.6254 - Top3: 0.9744 - Top10: 1.0000(132, 2.473698139190674)\n",
      "148/148 [==============================] - 15s 103ms/step - loss: 2.6485 - accuracy: 0.6827 - categorical_accuracy: 0.6827 - categorical_crossentropy: 1.6238 - Top3: 0.9744 - Top10: 1.0000 - val_loss: 2.4737 - val_accuracy: 0.8545 - val_categorical_accuracy: 0.8545 - val_categorical_crossentropy: 1.6443 - val_Top3: 0.9351 - val_Top10: 0.9682\n",
      "Epoch 134/200\n",
      "147/148 [============================>.] - ETA: 0s - loss: 2.6976 - accuracy: 0.6667 - categorical_accuracy: 0.6667 - categorical_crossentropy: 1.6883 - Top3: 0.9792 - Top10: 1.0000(133, 2.477173328399658)\n",
      "148/148 [==============================] - 16s 103ms/step - loss: 2.6970 - accuracy: 0.6668 - categorical_accuracy: 0.6668 - categorical_crossentropy: 1.6874 - Top3: 0.9792 - Top10: 1.0000 - val_loss: 2.4772 - val_accuracy: 0.8557 - val_categorical_accuracy: 0.8557 - val_categorical_crossentropy: 1.6478 - val_Top3: 0.9364 - val_Top10: 0.9648\n",
      "Epoch 135/200\n",
      "147/148 [============================>.] - ETA: 0s - loss: 2.7021 - accuracy: 0.6651 - categorical_accuracy: 0.6651 - categorical_crossentropy: 1.6943 - Top3: 0.9736 - Top10: 1.0000(134, 2.474442481994629)\n",
      "148/148 [==============================] - 15s 103ms/step - loss: 2.7035 - accuracy: 0.6646 - categorical_accuracy: 0.6646 - categorical_crossentropy: 1.6962 - Top3: 0.9737 - Top10: 1.0000 - val_loss: 2.4744 - val_accuracy: 0.8532 - val_categorical_accuracy: 0.8532 - val_categorical_crossentropy: 1.6449 - val_Top3: 0.9372 - val_Top10: 0.9665\n",
      "Epoch 136/200\n",
      "147/148 [============================>.] - ETA: 0s - loss: 2.6912 - accuracy: 0.6685 - categorical_accuracy: 0.6685 - categorical_crossentropy: 1.6795 - Top3: 0.9801 - Top10: 1.0000(135, 2.4760384559631348)\n",
      "148/148 [==============================] - 16s 103ms/step - loss: 2.6900 - accuracy: 0.6689 - categorical_accuracy: 0.6689 - categorical_crossentropy: 1.6777 - Top3: 0.9802 - Top10: 1.0000 - val_loss: 2.4760 - val_accuracy: 0.8515 - val_categorical_accuracy: 0.8515 - val_categorical_crossentropy: 1.6457 - val_Top3: 0.9342 - val_Top10: 0.9678\n",
      "Epoch 137/200\n",
      "147/148 [============================>.] - ETA: 0s - loss: 2.6820 - accuracy: 0.6714 - categorical_accuracy: 0.6714 - categorical_crossentropy: 1.6676 - Top3: 0.9784 - Top10: 1.0000(136, 2.4793784618377686)\n",
      "148/148 [==============================] - 16s 103ms/step - loss: 2.6811 - accuracy: 0.6717 - categorical_accuracy: 0.6717 - categorical_crossentropy: 1.6664 - Top3: 0.9785 - Top10: 1.0000 - val_loss: 2.4794 - val_accuracy: 0.8532 - val_categorical_accuracy: 0.8532 - val_categorical_crossentropy: 1.6511 - val_Top3: 0.9347 - val_Top10: 0.9665\n",
      "Epoch 138/200\n",
      "147/148 [============================>.] - ETA: 0s - loss: 2.6613 - accuracy: 0.6783 - categorical_accuracy: 0.6783 - categorical_crossentropy: 1.6405 - Top3: 0.9741 - Top10: 1.0000(137, 2.486469268798828)\n",
      "148/148 [==============================] - 16s 103ms/step - loss: 2.6619 - accuracy: 0.6781 - categorical_accuracy: 0.6781 - categorical_crossentropy: 1.6412 - Top3: 0.9741 - Top10: 1.0000 - val_loss: 2.4865 - val_accuracy: 0.8553 - val_categorical_accuracy: 0.8553 - val_categorical_crossentropy: 1.6607 - val_Top3: 0.9364 - val_Top10: 0.9669\n",
      "Epoch 139/200\n",
      "147/148 [============================>.] - ETA: 0s - loss: 2.6688 - accuracy: 0.6745 - categorical_accuracy: 0.6745 - categorical_crossentropy: 1.6504 - Top3: 0.9816 - Top10: 1.0000(138, 2.485194444656372)\n",
      "148/148 [==============================] - 16s 103ms/step - loss: 2.6696 - accuracy: 0.6743 - categorical_accuracy: 0.6743 - categorical_crossentropy: 1.6515 - Top3: 0.9817 - Top10: 1.0000 - val_loss: 2.4852 - val_accuracy: 0.8545 - val_categorical_accuracy: 0.8545 - val_categorical_crossentropy: 1.6597 - val_Top3: 0.9342 - val_Top10: 0.9665\n",
      "Epoch 140/200\n",
      "147/148 [============================>.] - ETA: 0s - loss: 2.6556 - accuracy: 0.6800 - categorical_accuracy: 0.6800 - categorical_crossentropy: 1.6332 - Top3: 0.9795 - Top10: 1.0000(139, 2.4814395904541016)\n",
      "148/148 [==============================] - 16s 103ms/step - loss: 2.6558 - accuracy: 0.6799 - categorical_accuracy: 0.6799 - categorical_crossentropy: 1.6335 - Top3: 0.9795 - Top10: 1.0000 - val_loss: 2.4814 - val_accuracy: 0.8541 - val_categorical_accuracy: 0.8541 - val_categorical_crossentropy: 1.6546 - val_Top3: 0.9381 - val_Top10: 0.9669\n",
      "Epoch 141/200\n",
      "147/148 [============================>.] - ETA: 0s - loss: 2.7213 - accuracy: 0.6585 - categorical_accuracy: 0.6585 - categorical_crossentropy: 1.7205 - Top3: 0.9812 - Top10: 1.0000(140, 2.4696240425109863)\n",
      "148/148 [==============================] - 16s 104ms/step - loss: 2.7200 - accuracy: 0.6589 - categorical_accuracy: 0.6589 - categorical_crossentropy: 1.7187 - Top3: 0.9812 - Top10: 1.0000 - val_loss: 2.4696 - val_accuracy: 0.8524 - val_categorical_accuracy: 0.8524 - val_categorical_crossentropy: 1.6371 - val_Top3: 0.9334 - val_Top10: 0.9678\n",
      "Epoch 142/200\n",
      "147/148 [============================>.] - ETA: 0s - loss: 2.6845 - accuracy: 0.6700 - categorical_accuracy: 0.6700 - categorical_crossentropy: 1.6714 - Top3: 0.9787 - Top10: 1.0000(141, 2.473949670791626)\n",
      "148/148 [==============================] - 16s 103ms/step - loss: 2.6847 - accuracy: 0.6699 - categorical_accuracy: 0.6699 - categorical_crossentropy: 1.6716 - Top3: 0.9788 - Top10: 1.0000 - val_loss: 2.4739 - val_accuracy: 0.8536 - val_categorical_accuracy: 0.8536 - val_categorical_crossentropy: 1.6432 - val_Top3: 0.9351 - val_Top10: 0.9652\n",
      "Epoch 143/200\n",
      "147/148 [============================>.] - ETA: 0s - loss: 2.6710 - accuracy: 0.6747 - categorical_accuracy: 0.6747 - categorical_crossentropy: 1.6527 - Top3: 0.9790 - Top10: 1.0000(142, 2.4733760356903076)\n",
      "148/148 [==============================] - 15s 103ms/step - loss: 2.6712 - accuracy: 0.6747 - categorical_accuracy: 0.6747 - categorical_crossentropy: 1.6529 - Top3: 0.9790 - Top10: 1.0000 - val_loss: 2.4734 - val_accuracy: 0.8570 - val_categorical_accuracy: 0.8570 - val_categorical_crossentropy: 1.6434 - val_Top3: 0.9355 - val_Top10: 0.9673\n",
      "Epoch 144/200\n",
      "147/148 [============================>.] - ETA: 0s - loss: 2.6594 - accuracy: 0.6781 - categorical_accuracy: 0.6781 - categorical_crossentropy: 1.6382 - Top3: 0.9778 - Top10: 1.0000(143, 2.487902879714966)\n",
      "148/148 [==============================] - 15s 103ms/step - loss: 2.6602 - accuracy: 0.6779 - categorical_accuracy: 0.6779 - categorical_crossentropy: 1.6394 - Top3: 0.9778 - Top10: 1.0000 - val_loss: 2.4879 - val_accuracy: 0.8536 - val_categorical_accuracy: 0.8536 - val_categorical_crossentropy: 1.6643 - val_Top3: 0.9347 - val_Top10: 0.9669\n",
      "Epoch 145/200\n",
      "147/148 [============================>.] - ETA: 0s - loss: 2.6691 - accuracy: 0.6749 - categorical_accuracy: 0.6749 - categorical_crossentropy: 1.6513 - Top3: 0.9771 - Top10: 1.0000(144, 2.4772789478302)\n",
      "148/148 [==============================] - 16s 104ms/step - loss: 2.6695 - accuracy: 0.6747 - categorical_accuracy: 0.6747 - categorical_crossentropy: 1.6519 - Top3: 0.9772 - Top10: 1.0000 - val_loss: 2.4773 - val_accuracy: 0.8528 - val_categorical_accuracy: 0.8528 - val_categorical_crossentropy: 1.6481 - val_Top3: 0.9364 - val_Top10: 0.9673\n",
      "Epoch 146/200\n",
      "147/148 [============================>.] - ETA: 0s - loss: 2.6827 - accuracy: 0.6713 - categorical_accuracy: 0.6713 - categorical_crossentropy: 1.6691 - Top3: 0.9805 - Top10: 1.0000(145, 2.474285125732422)\n",
      "148/148 [==============================] - 16s 103ms/step - loss: 2.6808 - accuracy: 0.6719 - categorical_accuracy: 0.6719 - categorical_crossentropy: 1.6665 - Top3: 0.9806 - Top10: 1.0000 - val_loss: 2.4743 - val_accuracy: 0.8549 - val_categorical_accuracy: 0.8549 - val_categorical_crossentropy: 1.6430 - val_Top3: 0.9347 - val_Top10: 0.9648\n"
     ]
    },
    {
     "name": "stdout",
     "output_type": "stream",
     "text": [
      "Epoch 147/200\n",
      "147/148 [============================>.] - ETA: 0s - loss: 2.6660 - accuracy: 0.6762 - categorical_accuracy: 0.6762 - categorical_crossentropy: 1.6473 - Top3: 0.9813 - Top10: 1.0000(146, 2.485002279281616)\n",
      "148/148 [==============================] - 16s 103ms/step - loss: 2.6648 - accuracy: 0.6766 - categorical_accuracy: 0.6766 - categorical_crossentropy: 1.6457 - Top3: 0.9813 - Top10: 1.0000 - val_loss: 2.4850 - val_accuracy: 0.8541 - val_categorical_accuracy: 0.8541 - val_categorical_crossentropy: 1.6593 - val_Top3: 0.9334 - val_Top10: 0.9665\n",
      "Epoch 148/200\n",
      "147/148 [============================>.] - ETA: 0s - loss: 2.6722 - accuracy: 0.6743 - categorical_accuracy: 0.6743 - categorical_crossentropy: 1.6549 - Top3: 0.9801 - Top10: 1.0000(147, 2.4782495498657227)\n",
      "148/148 [==============================] - 16s 104ms/step - loss: 2.6720 - accuracy: 0.6744 - categorical_accuracy: 0.6744 - categorical_crossentropy: 1.6547 - Top3: 0.9802 - Top10: 1.0000 - val_loss: 2.4782 - val_accuracy: 0.8562 - val_categorical_accuracy: 0.8562 - val_categorical_crossentropy: 1.6499 - val_Top3: 0.9325 - val_Top10: 0.9669\n",
      "Epoch 149/200\n",
      "147/148 [============================>.] - ETA: 0s - loss: 2.6818 - accuracy: 0.6712 - categorical_accuracy: 0.6712 - categorical_crossentropy: 1.6678 - Top3: 0.9784 - Top10: 1.0000(148, 2.4843900203704834)\n",
      "148/148 [==============================] - 16s 103ms/step - loss: 2.6816 - accuracy: 0.6713 - categorical_accuracy: 0.6713 - categorical_crossentropy: 1.6675 - Top3: 0.9785 - Top10: 1.0000 - val_loss: 2.4844 - val_accuracy: 0.8541 - val_categorical_accuracy: 0.8541 - val_categorical_crossentropy: 1.6579 - val_Top3: 0.9347 - val_Top10: 0.9669\n",
      "Epoch 150/200\n",
      "147/148 [============================>.] - ETA: 0s - loss: 2.6893 - accuracy: 0.6699 - categorical_accuracy: 0.6699 - categorical_crossentropy: 1.6778 - Top3: 0.9811 - Top10: 1.0000(149, 2.4703404903411865)\n",
      "148/148 [==============================] - 15s 103ms/step - loss: 2.6894 - accuracy: 0.6698 - categorical_accuracy: 0.6698 - categorical_crossentropy: 1.6779 - Top3: 0.9811 - Top10: 1.0000 - val_loss: 2.4703 - val_accuracy: 0.8541 - val_categorical_accuracy: 0.8541 - val_categorical_crossentropy: 1.6386 - val_Top3: 0.9347 - val_Top10: 0.9673\n",
      "Epoch 151/200\n",
      "147/148 [============================>.] - ETA: 0s - loss: 2.7051 - accuracy: 0.6648 - categorical_accuracy: 0.6648 - categorical_crossentropy: 1.6983 - Top3: 0.9802 - Top10: 1.0000(150, 2.4756019115448)\n",
      "148/148 [==============================] - 16s 103ms/step - loss: 2.7042 - accuracy: 0.6650 - categorical_accuracy: 0.6650 - categorical_crossentropy: 1.6970 - Top3: 0.9803 - Top10: 1.0000 - val_loss: 2.4756 - val_accuracy: 0.8515 - val_categorical_accuracy: 0.8515 - val_categorical_crossentropy: 1.6456 - val_Top3: 0.9364 - val_Top10: 0.9682\n",
      "Epoch 152/200\n",
      "147/148 [============================>.] - ETA: 0s - loss: 2.6783 - accuracy: 0.6718 - categorical_accuracy: 0.6718 - categorical_crossentropy: 1.6622 - Top3: 0.9824 - Top10: 1.0000(151, 2.4849650859832764)\n",
      "148/148 [==============================] - 16s 104ms/step - loss: 2.6797 - accuracy: 0.6713 - categorical_accuracy: 0.6713 - categorical_crossentropy: 1.6642 - Top3: 0.9824 - Top10: 1.0000 - val_loss: 2.4850 - val_accuracy: 0.8515 - val_categorical_accuracy: 0.8515 - val_categorical_crossentropy: 1.6595 - val_Top3: 0.9347 - val_Top10: 0.9661\n",
      "Epoch 153/200\n",
      "147/148 [============================>.] - ETA: 0s - loss: 2.6948 - accuracy: 0.6666 - categorical_accuracy: 0.6666 - categorical_crossentropy: 1.6855 - Top3: 0.9799 - Top10: 1.0000(152, 2.475414514541626)\n",
      "148/148 [==============================] - 15s 103ms/step - loss: 2.6942 - accuracy: 0.6667 - categorical_accuracy: 0.6667 - categorical_crossentropy: 1.6847 - Top3: 0.9800 - Top10: 1.0000 - val_loss: 2.4754 - val_accuracy: 0.8541 - val_categorical_accuracy: 0.8541 - val_categorical_crossentropy: 1.6452 - val_Top3: 0.9359 - val_Top10: 0.9686\n",
      "Epoch 154/200\n",
      "147/148 [============================>.] - ETA: 0s - loss: 2.6825 - accuracy: 0.6708 - categorical_accuracy: 0.6708 - categorical_crossentropy: 1.6693 - Top3: 0.9818 - Top10: 1.0000(153, 2.487222909927368)\n",
      "148/148 [==============================] - 16s 104ms/step - loss: 2.6809 - accuracy: 0.6713 - categorical_accuracy: 0.6713 - categorical_crossentropy: 1.6672 - Top3: 0.9819 - Top10: 1.0000 - val_loss: 2.4872 - val_accuracy: 0.8536 - val_categorical_accuracy: 0.8536 - val_categorical_crossentropy: 1.6627 - val_Top3: 0.9355 - val_Top10: 0.9652\n",
      "Epoch 155/200\n",
      "147/148 [============================>.] - ETA: 0s - loss: 2.6570 - accuracy: 0.6787 - categorical_accuracy: 0.6787 - categorical_crossentropy: 1.6358 - Top3: 0.9802 - Top10: 1.0000(154, 2.4924426078796387)\n",
      "148/148 [==============================] - 16s 104ms/step - loss: 2.6572 - accuracy: 0.6786 - categorical_accuracy: 0.6786 - categorical_crossentropy: 1.6361 - Top3: 0.9803 - Top10: 1.0000 - val_loss: 2.4924 - val_accuracy: 0.8524 - val_categorical_accuracy: 0.8524 - val_categorical_crossentropy: 1.6701 - val_Top3: 0.9351 - val_Top10: 0.9669\n",
      "Epoch 156/200\n",
      "147/148 [============================>.] - ETA: 0s - loss: 2.6813 - accuracy: 0.6710 - categorical_accuracy: 0.6710 - categorical_crossentropy: 1.6672 - Top3: 0.9818 - Top10: 1.0000(155, 2.483625650405884)\n",
      "148/148 [==============================] - 16s 103ms/step - loss: 2.6801 - accuracy: 0.6714 - categorical_accuracy: 0.6714 - categorical_crossentropy: 1.6656 - Top3: 0.9819 - Top10: 1.0000 - val_loss: 2.4836 - val_accuracy: 0.8541 - val_categorical_accuracy: 0.8541 - val_categorical_crossentropy: 1.6583 - val_Top3: 0.9359 - val_Top10: 0.9673\n",
      "Epoch 157/200\n",
      "147/148 [============================>.] - ETA: 0s - loss: 2.6887 - accuracy: 0.6684 - categorical_accuracy: 0.6684 - categorical_crossentropy: 1.6777 - Top3: 0.9795 - Top10: 1.0000(156, 2.476722240447998)\n",
      "148/148 [==============================] - 15s 103ms/step - loss: 2.6892 - accuracy: 0.6682 - categorical_accuracy: 0.6682 - categorical_crossentropy: 1.6783 - Top3: 0.9795 - Top10: 1.0000 - val_loss: 2.4767 - val_accuracy: 0.8545 - val_categorical_accuracy: 0.8545 - val_categorical_crossentropy: 1.6460 - val_Top3: 0.9342 - val_Top10: 0.9682\n",
      "Epoch 158/200\n",
      "147/148 [============================>.] - ETA: 0s - loss: 2.6895 - accuracy: 0.6699 - categorical_accuracy: 0.6699 - categorical_crossentropy: 1.6776 - Top3: 0.9821 - Top10: 1.0000(157, 2.480877637863159)\n",
      "148/148 [==============================] - 16s 104ms/step - loss: 2.6886 - accuracy: 0.6701 - categorical_accuracy: 0.6701 - categorical_crossentropy: 1.6764 - Top3: 0.9822 - Top10: 1.0000 - val_loss: 2.4809 - val_accuracy: 0.8536 - val_categorical_accuracy: 0.8536 - val_categorical_crossentropy: 1.6533 - val_Top3: 0.9364 - val_Top10: 0.9656\n",
      "Epoch 159/200\n",
      "147/148 [============================>.] - ETA: 0s - loss: 2.6837 - accuracy: 0.6719 - categorical_accuracy: 0.6719 - categorical_crossentropy: 1.6706 - Top3: 0.9801 - Top10: 1.0000(158, 2.4835116863250732)\n",
      "148/148 [==============================] - 15s 103ms/step - loss: 2.6845 - accuracy: 0.6716 - categorical_accuracy: 0.6716 - categorical_crossentropy: 1.6716 - Top3: 0.9802 - Top10: 1.0000 - val_loss: 2.4835 - val_accuracy: 0.8536 - val_categorical_accuracy: 0.8536 - val_categorical_crossentropy: 1.6572 - val_Top3: 0.9364 - val_Top10: 0.9686\n",
      "Epoch 160/200\n",
      "147/148 [============================>.] - ETA: 0s - loss: 2.6713 - accuracy: 0.6734 - categorical_accuracy: 0.6734 - categorical_crossentropy: 1.6542 - Top3: 0.9821 - Top10: 1.0000(159, 2.48236083984375)\n",
      "148/148 [==============================] - 16s 104ms/step - loss: 2.6715 - accuracy: 0.6733 - categorical_accuracy: 0.6733 - categorical_crossentropy: 1.6544 - Top3: 0.9822 - Top10: 1.0000 - val_loss: 2.4824 - val_accuracy: 0.8549 - val_categorical_accuracy: 0.8549 - val_categorical_crossentropy: 1.6560 - val_Top3: 0.9347 - val_Top10: 0.9669\n",
      "Epoch 161/200\n",
      "147/148 [============================>.] - ETA: 0s - loss: 2.6606 - accuracy: 0.6774 - categorical_accuracy: 0.6774 - categorical_crossentropy: 1.6402 - Top3: 0.9816 - Top10: 1.0000(160, 2.4818694591522217)\n",
      "148/148 [==============================] - 16s 104ms/step - loss: 2.6601 - accuracy: 0.6776 - categorical_accuracy: 0.6776 - categorical_crossentropy: 1.6395 - Top3: 0.9817 - Top10: 1.0000 - val_loss: 2.4819 - val_accuracy: 0.8562 - val_categorical_accuracy: 0.8562 - val_categorical_crossentropy: 1.6548 - val_Top3: 0.9355 - val_Top10: 0.9665\n"
     ]
    },
    {
     "name": "stdout",
     "output_type": "stream",
     "text": [
      "Epoch 162/200\n",
      "147/148 [============================>.] - ETA: 0s - loss: 2.6784 - accuracy: 0.6720 - categorical_accuracy: 0.6720 - categorical_crossentropy: 1.6646 - Top3: 0.9831 - Top10: 1.0000(161, 2.4853339195251465)\n",
      "148/148 [==============================] - 16s 104ms/step - loss: 2.6776 - accuracy: 0.6723 - categorical_accuracy: 0.6723 - categorical_crossentropy: 1.6634 - Top3: 0.9831 - Top10: 1.0000 - val_loss: 2.4853 - val_accuracy: 0.8532 - val_categorical_accuracy: 0.8532 - val_categorical_crossentropy: 1.6590 - val_Top3: 0.9368 - val_Top10: 0.9682\n",
      "Epoch 163/200\n",
      "147/148 [============================>.] - ETA: 0s - loss: 2.6786 - accuracy: 0.6710 - categorical_accuracy: 0.6710 - categorical_crossentropy: 1.6638 - Top3: 0.9850 - Top10: 1.0000(162, 2.488124132156372)\n",
      "148/148 [==============================] - 16s 104ms/step - loss: 2.6784 - accuracy: 0.6711 - categorical_accuracy: 0.6711 - categorical_crossentropy: 1.6635 - Top3: 0.9850 - Top10: 1.0000 - val_loss: 2.4881 - val_accuracy: 0.8502 - val_categorical_accuracy: 0.8502 - val_categorical_crossentropy: 1.6637 - val_Top3: 0.9347 - val_Top10: 0.9652\n",
      "Epoch 164/200\n",
      "147/148 [============================>.] - ETA: 0s - loss: 2.6812 - accuracy: 0.6708 - categorical_accuracy: 0.6708 - categorical_crossentropy: 1.6669 - Top3: 0.9829 - Top10: 1.0000(163, 2.490429639816284)\n",
      "148/148 [==============================] - 16s 103ms/step - loss: 2.6803 - accuracy: 0.6711 - categorical_accuracy: 0.6711 - categorical_crossentropy: 1.6657 - Top3: 0.9829 - Top10: 1.0000 - val_loss: 2.4904 - val_accuracy: 0.8566 - val_categorical_accuracy: 0.8566 - val_categorical_crossentropy: 1.6672 - val_Top3: 0.9342 - val_Top10: 0.9682\n",
      "Epoch 165/200\n",
      "147/148 [============================>.] - ETA: 0s - loss: 2.6606 - accuracy: 0.6772 - categorical_accuracy: 0.6772 - categorical_crossentropy: 1.6413 - Top3: 0.9821 - Top10: 1.0000(164, 2.483036994934082)\n",
      "148/148 [==============================] - 15s 103ms/step - loss: 2.6601 - accuracy: 0.6773 - categorical_accuracy: 0.6773 - categorical_crossentropy: 1.6406 - Top3: 0.9822 - Top10: 1.0000 - val_loss: 2.4830 - val_accuracy: 0.8545 - val_categorical_accuracy: 0.8545 - val_categorical_crossentropy: 1.6565 - val_Top3: 0.9342 - val_Top10: 0.9669\n",
      "Epoch 166/200\n",
      "147/148 [============================>.] - ETA: 0s - loss: 2.6848 - accuracy: 0.6702 - categorical_accuracy: 0.6702 - categorical_crossentropy: 1.6720 - Top3: 0.9818 - Top10: 1.0000(165, 2.486393690109253)\n",
      "148/148 [==============================] - 15s 103ms/step - loss: 2.6856 - accuracy: 0.6699 - categorical_accuracy: 0.6699 - categorical_crossentropy: 1.6731 - Top3: 0.9819 - Top10: 1.0000 - val_loss: 2.4864 - val_accuracy: 0.8557 - val_categorical_accuracy: 0.8557 - val_categorical_crossentropy: 1.6613 - val_Top3: 0.9334 - val_Top10: 0.9652\n",
      "Epoch 167/200\n",
      "147/148 [============================>.] - ETA: 0s - loss: 2.6438 - accuracy: 0.6829 - categorical_accuracy: 0.6829 - categorical_crossentropy: 1.6178 - Top3: 0.9844 - Top10: 1.0000(166, 2.4859209060668945)\n",
      "148/148 [==============================] - 16s 103ms/step - loss: 2.6444 - accuracy: 0.6827 - categorical_accuracy: 0.6827 - categorical_crossentropy: 1.6185 - Top3: 0.9844 - Top10: 1.0000 - val_loss: 2.4859 - val_accuracy: 0.8541 - val_categorical_accuracy: 0.8541 - val_categorical_crossentropy: 1.6597 - val_Top3: 0.9359 - val_Top10: 0.9656\n",
      "Epoch 168/200\n",
      "147/148 [============================>.] - ETA: 0s - loss: 2.6678 - accuracy: 0.6751 - categorical_accuracy: 0.6751 - categorical_crossentropy: 1.6492 - Top3: 0.9827 - Top10: 1.0000(167, 2.4892890453338623)\n",
      "148/148 [==============================] - 16s 104ms/step - loss: 2.6683 - accuracy: 0.6749 - categorical_accuracy: 0.6749 - categorical_crossentropy: 1.6498 - Top3: 0.9827 - Top10: 1.0000 - val_loss: 2.4893 - val_accuracy: 0.8549 - val_categorical_accuracy: 0.8549 - val_categorical_crossentropy: 1.6659 - val_Top3: 0.9368 - val_Top10: 0.9669\n",
      "Epoch 169/200\n",
      "147/148 [============================>.] - ETA: 0s - loss: 2.6649 - accuracy: 0.6761 - categorical_accuracy: 0.6761 - categorical_crossentropy: 1.6465 - Top3: 0.9825 - Top10: 1.0000(168, 2.492363929748535)\n",
      "148/148 [==============================] - 16s 103ms/step - loss: 2.6641 - accuracy: 0.6764 - categorical_accuracy: 0.6764 - categorical_crossentropy: 1.6454 - Top3: 0.9825 - Top10: 1.0000 - val_loss: 2.4924 - val_accuracy: 0.8553 - val_categorical_accuracy: 0.8553 - val_categorical_crossentropy: 1.6697 - val_Top3: 0.9351 - val_Top10: 0.9695\n",
      "Epoch 170/200\n",
      "147/148 [============================>.] - ETA: 0s - loss: 2.6666 - accuracy: 0.6762 - categorical_accuracy: 0.6762 - categorical_crossentropy: 1.6484 - Top3: 0.9847 - Top10: 1.0000(169, 2.4892032146453857)\n",
      "148/148 [==============================] - 16s 103ms/step - loss: 2.6667 - accuracy: 0.6762 - categorical_accuracy: 0.6762 - categorical_crossentropy: 1.6487 - Top3: 0.9847 - Top10: 1.0000 - val_loss: 2.4892 - val_accuracy: 0.8566 - val_categorical_accuracy: 0.8566 - val_categorical_crossentropy: 1.6658 - val_Top3: 0.9338 - val_Top10: 0.9678\n",
      "Epoch 171/200\n",
      "147/148 [============================>.] - ETA: 0s - loss: 2.6651 - accuracy: 0.6756 - categorical_accuracy: 0.6756 - categorical_crossentropy: 1.6469 - Top3: 0.9846 - Top10: 1.0000(170, 2.4792823791503906)\n",
      "148/148 [==============================] - 16s 104ms/step - loss: 2.6669 - accuracy: 0.6750 - categorical_accuracy: 0.6750 - categorical_crossentropy: 1.6494 - Top3: 0.9846 - Top10: 1.0000 - val_loss: 2.4793 - val_accuracy: 0.8536 - val_categorical_accuracy: 0.8536 - val_categorical_crossentropy: 1.6519 - val_Top3: 0.9347 - val_Top10: 0.9686\n",
      "Epoch 172/200\n",
      "147/148 [============================>.] - ETA: 0s - loss: 2.6754 - accuracy: 0.6724 - categorical_accuracy: 0.6724 - categorical_crossentropy: 1.6600 - Top3: 0.9846 - Top10: 1.0000(171, 2.4861814975738525)\n",
      "148/148 [==============================] - 16s 103ms/step - loss: 2.6765 - accuracy: 0.6720 - categorical_accuracy: 0.6720 - categorical_crossentropy: 1.6615 - Top3: 0.9846 - Top10: 1.0000 - val_loss: 2.4862 - val_accuracy: 0.8545 - val_categorical_accuracy: 0.8545 - val_categorical_crossentropy: 1.6605 - val_Top3: 0.9355 - val_Top10: 0.9686\n",
      "Epoch 173/200\n",
      "147/148 [============================>.] - ETA: 0s - loss: 2.6910 - accuracy: 0.6678 - categorical_accuracy: 0.6678 - categorical_crossentropy: 1.6797 - Top3: 0.9861 - Top10: 1.0000(172, 2.48457670211792)\n",
      "148/148 [==============================] - 16s 103ms/step - loss: 2.6918 - accuracy: 0.6676 - categorical_accuracy: 0.6676 - categorical_crossentropy: 1.6807 - Top3: 0.9861 - Top10: 1.0000 - val_loss: 2.4846 - val_accuracy: 0.8528 - val_categorical_accuracy: 0.8528 - val_categorical_crossentropy: 1.6573 - val_Top3: 0.9330 - val_Top10: 0.9661\n",
      "Epoch 174/200\n",
      "147/148 [============================>.] - ETA: 0s - loss: 2.6751 - accuracy: 0.6730 - categorical_accuracy: 0.6730 - categorical_crossentropy: 1.6592 - Top3: 0.9831 - Top10: 1.0000(173, 2.4882164001464844)\n",
      "148/148 [==============================] - 16s 104ms/step - loss: 2.6759 - accuracy: 0.6728 - categorical_accuracy: 0.6728 - categorical_crossentropy: 1.6603 - Top3: 0.9831 - Top10: 1.0000 - val_loss: 2.4882 - val_accuracy: 0.8532 - val_categorical_accuracy: 0.8532 - val_categorical_crossentropy: 1.6639 - val_Top3: 0.9372 - val_Top10: 0.9678\n",
      "Epoch 175/200\n",
      "147/148 [============================>.] - ETA: 0s - loss: 2.6620 - accuracy: 0.6774 - categorical_accuracy: 0.6774 - categorical_crossentropy: 1.6414 - Top3: 0.9847 - Top10: 1.0000(174, 2.4927480220794678)\n",
      "148/148 [==============================] - 16s 104ms/step - loss: 2.6634 - accuracy: 0.6769 - categorical_accuracy: 0.6769 - categorical_crossentropy: 1.6434 - Top3: 0.9847 - Top10: 1.0000 - val_loss: 2.4927 - val_accuracy: 0.8532 - val_categorical_accuracy: 0.8532 - val_categorical_crossentropy: 1.6705 - val_Top3: 0.9347 - val_Top10: 0.9661\n",
      "Epoch 176/200\n",
      "147/148 [============================>.] - ETA: 0s - loss: 2.6814 - accuracy: 0.6722 - categorical_accuracy: 0.6722 - categorical_crossentropy: 1.6679 - Top3: 0.9868 - Top10: 1.0000(175, 2.4877099990844727)\n",
      "148/148 [==============================] - 16s 103ms/step - loss: 2.6815 - accuracy: 0.6721 - categorical_accuracy: 0.6721 - categorical_crossentropy: 1.6681 - Top3: 0.9869 - Top10: 1.0000 - val_loss: 2.4877 - val_accuracy: 0.8553 - val_categorical_accuracy: 0.8553 - val_categorical_crossentropy: 1.6627 - val_Top3: 0.9338 - val_Top10: 0.9656\n"
     ]
    },
    {
     "name": "stdout",
     "output_type": "stream",
     "text": [
      "Epoch 177/200\n",
      "147/148 [============================>.] - ETA: 0s - loss: 2.6762 - accuracy: 0.6728 - categorical_accuracy: 0.6728 - categorical_crossentropy: 1.6615 - Top3: 0.9859 - Top10: 1.0000(176, 2.4860002994537354)\n",
      "148/148 [==============================] - 16s 104ms/step - loss: 2.6757 - accuracy: 0.6730 - categorical_accuracy: 0.6730 - categorical_crossentropy: 1.6608 - Top3: 0.9859 - Top10: 1.0000 - val_loss: 2.4860 - val_accuracy: 0.8566 - val_categorical_accuracy: 0.8566 - val_categorical_crossentropy: 1.6601 - val_Top3: 0.9364 - val_Top10: 0.9673\n",
      "Epoch 178/200\n",
      "147/148 [============================>.] - ETA: 0s - loss: 2.6605 - accuracy: 0.6771 - categorical_accuracy: 0.6771 - categorical_crossentropy: 1.6405 - Top3: 0.9850 - Top10: 1.0000(177, 2.494616746902466)\n",
      "148/148 [==============================] - 16s 103ms/step - loss: 2.6610 - accuracy: 0.6769 - categorical_accuracy: 0.6769 - categorical_crossentropy: 1.6412 - Top3: 0.9850 - Top10: 1.0000 - val_loss: 2.4946 - val_accuracy: 0.8574 - val_categorical_accuracy: 0.8574 - val_categorical_crossentropy: 1.6733 - val_Top3: 0.9368 - val_Top10: 0.9669\n",
      "Epoch 179/200\n",
      "147/148 [============================>.] - ETA: 0s - loss: 2.6738 - accuracy: 0.6742 - categorical_accuracy: 0.6742 - categorical_crossentropy: 1.6581 - Top3: 0.9847 - Top10: 1.0000(178, 2.488093852996826)\n",
      "148/148 [==============================] - 15s 103ms/step - loss: 2.6735 - accuracy: 0.6743 - categorical_accuracy: 0.6743 - categorical_crossentropy: 1.6577 - Top3: 0.9847 - Top10: 1.0000 - val_loss: 2.4881 - val_accuracy: 0.8557 - val_categorical_accuracy: 0.8557 - val_categorical_crossentropy: 1.6635 - val_Top3: 0.9321 - val_Top10: 0.9673\n",
      "Epoch 180/200\n",
      "147/148 [============================>.] - ETA: 0s - loss: 2.6895 - accuracy: 0.6683 - categorical_accuracy: 0.6683 - categorical_crossentropy: 1.6789 - Top3: 0.9869 - Top10: 1.0000(179, 2.473053455352783)\n",
      "148/148 [==============================] - 15s 103ms/step - loss: 2.6909 - accuracy: 0.6678 - categorical_accuracy: 0.6678 - categorical_crossentropy: 1.6808 - Top3: 0.9870 - Top10: 1.0000 - val_loss: 2.4731 - val_accuracy: 0.8532 - val_categorical_accuracy: 0.8532 - val_categorical_crossentropy: 1.6423 - val_Top3: 0.9372 - val_Top10: 0.9665\n",
      "Epoch 181/200\n",
      "147/148 [============================>.] - ETA: 0s - loss: 2.6678 - accuracy: 0.6754 - categorical_accuracy: 0.6754 - categorical_crossentropy: 1.6501 - Top3: 0.9841 - Top10: 1.0000(180, 2.486896276473999)\n",
      "148/148 [==============================] - 16s 103ms/step - loss: 2.6679 - accuracy: 0.6753 - categorical_accuracy: 0.6753 - categorical_crossentropy: 1.6503 - Top3: 0.9841 - Top10: 1.0000 - val_loss: 2.4869 - val_accuracy: 0.8553 - val_categorical_accuracy: 0.8553 - val_categorical_crossentropy: 1.6608 - val_Top3: 0.9338 - val_Top10: 0.9644\n",
      "Epoch 182/200\n",
      "147/148 [============================>.] - ETA: 0s - loss: 2.6681 - accuracy: 0.6751 - categorical_accuracy: 0.6751 - categorical_crossentropy: 1.6495 - Top3: 0.9875 - Top10: 1.0000(181, 2.503223180770874)\n",
      "148/148 [==============================] - 16s 103ms/step - loss: 2.6699 - accuracy: 0.6745 - categorical_accuracy: 0.6745 - categorical_crossentropy: 1.6520 - Top3: 0.9875 - Top10: 1.0000 - val_loss: 2.5032 - val_accuracy: 0.8545 - val_categorical_accuracy: 0.8545 - val_categorical_crossentropy: 1.6848 - val_Top3: 0.9330 - val_Top10: 0.9665\n",
      "Epoch 183/200\n",
      "147/148 [============================>.] - ETA: 0s - loss: 2.6870 - accuracy: 0.6687 - categorical_accuracy: 0.6687 - categorical_crossentropy: 1.6754 - Top3: 0.9870 - Top10: 1.0000(182, 2.4976842403411865)\n",
      "148/148 [==============================] - 15s 103ms/step - loss: 2.6878 - accuracy: 0.6684 - categorical_accuracy: 0.6684 - categorical_crossentropy: 1.6764 - Top3: 0.9871 - Top10: 1.0000 - val_loss: 2.4977 - val_accuracy: 0.8528 - val_categorical_accuracy: 0.8528 - val_categorical_crossentropy: 1.6778 - val_Top3: 0.9351 - val_Top10: 0.9648\n",
      "Epoch 184/200\n",
      "147/148 [============================>.] - ETA: 0s - loss: 2.6569 - accuracy: 0.6789 - categorical_accuracy: 0.6789 - categorical_crossentropy: 1.6358 - Top3: 0.9857 - Top10: 1.0000(183, 2.498553514480591)\n",
      "148/148 [==============================] - 15s 103ms/step - loss: 2.6567 - accuracy: 0.6789 - categorical_accuracy: 0.6789 - categorical_crossentropy: 1.6356 - Top3: 0.9857 - Top10: 1.0000 - val_loss: 2.4986 - val_accuracy: 0.8545 - val_categorical_accuracy: 0.8545 - val_categorical_crossentropy: 1.6784 - val_Top3: 0.9359 - val_Top10: 0.9661\n",
      "Epoch 185/200\n",
      "147/148 [============================>.] - ETA: 0s - loss: 2.6657 - accuracy: 0.6760 - categorical_accuracy: 0.6760 - categorical_crossentropy: 1.6483 - Top3: 0.9839 - Top10: 1.0000(184, 2.4847633838653564)\n",
      "148/148 [==============================] - 16s 103ms/step - loss: 2.6665 - accuracy: 0.6758 - categorical_accuracy: 0.6758 - categorical_crossentropy: 1.6493 - Top3: 0.9840 - Top10: 1.0000 - val_loss: 2.4848 - val_accuracy: 0.8511 - val_categorical_accuracy: 0.8511 - val_categorical_crossentropy: 1.6588 - val_Top3: 0.9355 - val_Top10: 0.9673\n",
      "Epoch 186/200\n",
      "147/148 [============================>.] - ETA: 0s - loss: 2.6890 - accuracy: 0.6689 - categorical_accuracy: 0.6689 - categorical_crossentropy: 1.6773 - Top3: 0.9861 - Top10: 1.0000(185, 2.488926410675049)\n",
      "148/148 [==============================] - 15s 103ms/step - loss: 2.6894 - accuracy: 0.6688 - categorical_accuracy: 0.6688 - categorical_crossentropy: 1.6779 - Top3: 0.9861 - Top10: 1.0000 - val_loss: 2.4889 - val_accuracy: 0.8502 - val_categorical_accuracy: 0.8502 - val_categorical_crossentropy: 1.6652 - val_Top3: 0.9342 - val_Top10: 0.9678\n",
      "Epoch 187/200\n",
      "147/148 [============================>.] - ETA: 0s - loss: 2.6645 - accuracy: 0.6772 - categorical_accuracy: 0.6772 - categorical_crossentropy: 1.6448 - Top3: 0.9865 - Top10: 1.0000(186, 2.511436939239502)\n",
      "148/148 [==============================] - 15s 103ms/step - loss: 2.6643 - accuracy: 0.6772 - categorical_accuracy: 0.6772 - categorical_crossentropy: 1.6446 - Top3: 0.9865 - Top10: 1.0000 - val_loss: 2.5114 - val_accuracy: 0.8511 - val_categorical_accuracy: 0.8511 - val_categorical_crossentropy: 1.6967 - val_Top3: 0.9351 - val_Top10: 0.9678\n",
      "Epoch 188/200\n",
      "147/148 [============================>.] - ETA: 0s - loss: 2.6644 - accuracy: 0.6767 - categorical_accuracy: 0.6767 - categorical_crossentropy: 1.6461 - Top3: 0.9875 - Top10: 1.0000(187, 2.5015861988067627)\n",
      "148/148 [==============================] - 16s 103ms/step - loss: 2.6635 - accuracy: 0.6769 - categorical_accuracy: 0.6769 - categorical_crossentropy: 1.6450 - Top3: 0.9875 - Top10: 1.0000 - val_loss: 2.5016 - val_accuracy: 0.8541 - val_categorical_accuracy: 0.8541 - val_categorical_crossentropy: 1.6829 - val_Top3: 0.9330 - val_Top10: 0.9639\n",
      "Epoch 189/200\n",
      "147/148 [============================>.] - ETA: 0s - loss: 2.6809 - accuracy: 0.6706 - categorical_accuracy: 0.6706 - categorical_crossentropy: 1.6677 - Top3: 0.9876 - Top10: 1.0000(188, 2.4867098331451416)\n",
      "148/148 [==============================] - 15s 103ms/step - loss: 2.6813 - accuracy: 0.6704 - categorical_accuracy: 0.6704 - categorical_crossentropy: 1.6682 - Top3: 0.9876 - Top10: 1.0000 - val_loss: 2.4867 - val_accuracy: 0.8536 - val_categorical_accuracy: 0.8536 - val_categorical_crossentropy: 1.6618 - val_Top3: 0.9347 - val_Top10: 0.9673\n",
      "Epoch 190/200\n",
      "147/148 [============================>.] - ETA: 0s - loss: 2.6824 - accuracy: 0.6706 - categorical_accuracy: 0.6706 - categorical_crossentropy: 1.6693 - Top3: 0.9853 - Top10: 1.0000(189, 2.485853672027588)\n",
      "148/148 [==============================] - 16s 104ms/step - loss: 2.6825 - accuracy: 0.6706 - categorical_accuracy: 0.6706 - categorical_crossentropy: 1.6693 - Top3: 0.9854 - Top10: 1.0000 - val_loss: 2.4859 - val_accuracy: 0.8536 - val_categorical_accuracy: 0.8536 - val_categorical_crossentropy: 1.6587 - val_Top3: 0.9359 - val_Top10: 0.9665\n",
      "Epoch 191/200\n",
      "147/148 [============================>.] - ETA: 0s - loss: 2.6797 - accuracy: 0.6704 - categorical_accuracy: 0.6704 - categorical_crossentropy: 1.6654 - Top3: 0.9871 - Top10: 1.0000(190, 2.496372699737549)\n",
      "148/148 [==============================] - 16s 104ms/step - loss: 2.6805 - accuracy: 0.6701 - categorical_accuracy: 0.6701 - categorical_crossentropy: 1.6665 - Top3: 0.9872 - Top10: 1.0000 - val_loss: 2.4964 - val_accuracy: 0.8549 - val_categorical_accuracy: 0.8549 - val_categorical_crossentropy: 1.6755 - val_Top3: 0.9372 - val_Top10: 0.9661\n"
     ]
    },
    {
     "name": "stdout",
     "output_type": "stream",
     "text": [
      "Epoch 192/200\n",
      "147/148 [============================>.] - ETA: 0s - loss: 2.6635 - accuracy: 0.6770 - categorical_accuracy: 0.6770 - categorical_crossentropy: 1.6444 - Top3: 0.9884 - Top10: 1.0000(191, 2.4969966411590576)\n",
      "148/148 [==============================] - 16s 104ms/step - loss: 2.6627 - accuracy: 0.6772 - categorical_accuracy: 0.6772 - categorical_crossentropy: 1.6432 - Top3: 0.9884 - Top10: 1.0000 - val_loss: 2.4970 - val_accuracy: 0.8515 - val_categorical_accuracy: 0.8515 - val_categorical_crossentropy: 1.6763 - val_Top3: 0.9330 - val_Top10: 0.9656\n",
      "Epoch 193/200\n",
      "147/148 [============================>.] - ETA: 0s - loss: 2.6853 - accuracy: 0.6699 - categorical_accuracy: 0.6699 - categorical_crossentropy: 1.6731 - Top3: 0.9893 - Top10: 1.0000(192, 2.4988961219787598)\n",
      "148/148 [==============================] - 16s 104ms/step - loss: 2.6844 - accuracy: 0.6701 - categorical_accuracy: 0.6701 - categorical_crossentropy: 1.6718 - Top3: 0.9893 - Top10: 1.0000 - val_loss: 2.4989 - val_accuracy: 0.8528 - val_categorical_accuracy: 0.8528 - val_categorical_crossentropy: 1.6781 - val_Top3: 0.9338 - val_Top10: 0.9661\n",
      "Epoch 194/200\n",
      "147/148 [============================>.] - ETA: 0s - loss: 2.6930 - accuracy: 0.6667 - categorical_accuracy: 0.6667 - categorical_crossentropy: 1.6834 - Top3: 0.9865 - Top10: 1.0000(193, 2.491973876953125)\n",
      "148/148 [==============================] - 15s 103ms/step - loss: 2.6927 - accuracy: 0.6667 - categorical_accuracy: 0.6667 - categorical_crossentropy: 1.6830 - Top3: 0.9865 - Top10: 1.0000 - val_loss: 2.4920 - val_accuracy: 0.8536 - val_categorical_accuracy: 0.8536 - val_categorical_crossentropy: 1.6692 - val_Top3: 0.9355 - val_Top10: 0.9652\n",
      "Epoch 195/200\n",
      "147/148 [============================>.] - ETA: 0s - loss: 2.6833 - accuracy: 0.6701 - categorical_accuracy: 0.6701 - categorical_crossentropy: 1.6711 - Top3: 0.9876 - Top10: 1.0000(194, 2.4954988956451416)\n",
      "148/148 [==============================] - 15s 103ms/step - loss: 2.6821 - accuracy: 0.6704 - categorical_accuracy: 0.6704 - categorical_crossentropy: 1.6694 - Top3: 0.9876 - Top10: 1.0000 - val_loss: 2.4955 - val_accuracy: 0.8511 - val_categorical_accuracy: 0.8511 - val_categorical_crossentropy: 1.6738 - val_Top3: 0.9330 - val_Top10: 0.9673\n",
      "Epoch 196/200\n",
      "147/148 [============================>.] - ETA: 0s - loss: 2.6764 - accuracy: 0.6712 - categorical_accuracy: 0.6712 - categorical_crossentropy: 1.6611 - Top3: 0.9872 - Top10: 1.0000(195, 2.502309560775757)\n",
      "148/148 [==============================] - 15s 103ms/step - loss: 2.6765 - accuracy: 0.6712 - categorical_accuracy: 0.6712 - categorical_crossentropy: 1.6613 - Top3: 0.9873 - Top10: 1.0000 - val_loss: 2.5023 - val_accuracy: 0.8511 - val_categorical_accuracy: 0.8511 - val_categorical_crossentropy: 1.6835 - val_Top3: 0.9347 - val_Top10: 0.9665\n",
      "Epoch 197/200\n",
      "147/148 [============================>.] - ETA: 0s - loss: 2.6753 - accuracy: 0.6725 - categorical_accuracy: 0.6725 - categorical_crossentropy: 1.6603 - Top3: 0.9878 - Top10: 1.0000(196, 2.4942307472229004)\n",
      "148/148 [==============================] - 16s 103ms/step - loss: 2.6757 - accuracy: 0.6724 - categorical_accuracy: 0.6724 - categorical_crossentropy: 1.6609 - Top3: 0.9878 - Top10: 1.0000 - val_loss: 2.4942 - val_accuracy: 0.8515 - val_categorical_accuracy: 0.8515 - val_categorical_crossentropy: 1.6722 - val_Top3: 0.9342 - val_Top10: 0.9682\n",
      "Epoch 198/200\n",
      "147/148 [============================>.] - ETA: 0s - loss: 2.6697 - accuracy: 0.6750 - categorical_accuracy: 0.6750 - categorical_crossentropy: 1.6532 - Top3: 0.9875 - Top10: 1.0000(197, 2.492518663406372)\n",
      "148/148 [==============================] - 15s 103ms/step - loss: 2.6699 - accuracy: 0.6749 - categorical_accuracy: 0.6749 - categorical_crossentropy: 1.6533 - Top3: 0.9875 - Top10: 1.0000 - val_loss: 2.4925 - val_accuracy: 0.8524 - val_categorical_accuracy: 0.8524 - val_categorical_crossentropy: 1.6692 - val_Top3: 0.9342 - val_Top10: 0.9639\n",
      "Epoch 199/200\n",
      "147/148 [============================>.] - ETA: 0s - loss: 2.6946 - accuracy: 0.6669 - categorical_accuracy: 0.6669 - categorical_crossentropy: 1.6861 - Top3: 0.9876 - Top10: 1.0000(198, 2.493708372116089)\n",
      "148/148 [==============================] - 16s 103ms/step - loss: 2.6947 - accuracy: 0.6668 - categorical_accuracy: 0.6668 - categorical_crossentropy: 1.6862 - Top3: 0.9876 - Top10: 1.0000 - val_loss: 2.4937 - val_accuracy: 0.8545 - val_categorical_accuracy: 0.8545 - val_categorical_crossentropy: 1.6715 - val_Top3: 0.9355 - val_Top10: 0.9686\n",
      "Epoch 200/200\n",
      "147/148 [============================>.] - ETA: 0s - loss: 2.6646 - accuracy: 0.6759 - categorical_accuracy: 0.6759 - categorical_crossentropy: 1.6461 - Top3: 0.9892 - Top10: 1.0000(199, 2.4911129474639893)\n",
      "148/148 [==============================] - 16s 103ms/step - loss: 2.6648 - accuracy: 0.6759 - categorical_accuracy: 0.6759 - categorical_crossentropy: 1.6463 - Top3: 0.9892 - Top10: 1.0000 - val_loss: 2.4911 - val_accuracy: 0.8541 - val_categorical_accuracy: 0.8541 - val_categorical_crossentropy: 1.6674 - val_Top3: 0.9317 - val_Top10: 0.9661\n",
      "<keras.callbacks.History object at 0x7f14c821d870>\n",
      "2.9312496185302734\n"
     ]
    }
   ],
   "source": [
    "# Run Logging\n",
    "run_logs = RunLogging(\n",
    "    data_dir = f'models_cub_02_logs',\n",
    ")\n",
    "\n",
    "# for each base model\n",
    "#for base_model_metadata in base_models_metadata:\n",
    "run_model(base_models_metadata[2])\n",
    "    \n",
    "    \n",
    "    \n",
    "    \n"
   ]
  },
  {
   "cell_type": "code",
   "execution_count": null,
   "id": "ab9e4dea",
   "metadata": {},
   "outputs": [],
   "source": []
  }
 ],
 "metadata": {
  "kernelspec": {
   "display_name": "Python [conda env:.conda-fungi] *",
   "language": "python",
   "name": "conda-env-.conda-fungi-py"
  },
  "language_info": {
   "codemirror_mode": {
    "name": "ipython",
    "version": 3
   },
   "file_extension": ".py",
   "mimetype": "text/x-python",
   "name": "python",
   "nbconvert_exporter": "python",
   "pygments_lexer": "ipython3",
   "version": "3.10.8"
  }
 },
 "nbformat": 4,
 "nbformat_minor": 5
}
