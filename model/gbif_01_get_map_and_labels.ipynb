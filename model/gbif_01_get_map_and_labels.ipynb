{
 "cells": [
  {
   "cell_type": "code",
   "execution_count": 1,
   "id": "0bcb8867",
   "metadata": {},
   "outputs": [],
   "source": [
    "import pandas as pd\n",
    "import numpy as np"
   ]
  },
  {
   "cell_type": "code",
   "execution_count": 2,
   "id": "5658e144",
   "metadata": {},
   "outputs": [],
   "source": [
    "media_df = pd.read_hdf('/mnt/gbif/clean_data.h5', 'media_merged_filtered-by-species_350pt')"
   ]
  },
  {
   "cell_type": "code",
   "execution_count": 3,
   "id": "1e67d360",
   "metadata": {},
   "outputs": [
    {
     "data": {
      "text/plain": [
       "['gbifID',\n",
       " 'format',\n",
       " 'identifier_media',\n",
       " 'identifier_obs',\n",
       " 'eventDate',\n",
       " 'decimalLatitude',\n",
       " 'decimalLongitude',\n",
       " 'taxonID',\n",
       " 'taxonRank',\n",
       " 'taxonomicStatus',\n",
       " 'taxonKey',\n",
       " 'acceptedTaxonKey',\n",
       " 'phylumKey',\n",
       " 'classKey',\n",
       " 'orderKey',\n",
       " 'familyKey',\n",
       " 'genusKey',\n",
       " 'speciesKey',\n",
       " 'species',\n",
       " 'acceptedScientificName',\n",
       " 'verbatimScientificName',\n",
       " 'media_count_per_taxonID']"
      ]
     },
     "execution_count": 3,
     "metadata": {},
     "output_type": "execute_result"
    }
   ],
   "source": [
    "media_df.columns.to_list()"
   ]
  },
  {
   "cell_type": "code",
   "execution_count": 4,
   "id": "d2052240",
   "metadata": {},
   "outputs": [
    {
     "data": {
      "text/plain": [
       "2388"
      ]
     },
     "execution_count": 4,
     "metadata": {},
     "output_type": "execute_result"
    }
   ],
   "source": [
    "len(media_df['speciesKey'].unique())"
   ]
  },
  {
   "cell_type": "code",
   "execution_count": 5,
   "id": "03c5a9dc",
   "metadata": {},
   "outputs": [
    {
     "data": {
      "text/plain": [
       "dtype('float64')"
      ]
     },
     "execution_count": 5,
     "metadata": {},
     "output_type": "execute_result"
    }
   ],
   "source": [
    "media_df['speciesKey'].dtype"
   ]
  },
  {
   "cell_type": "code",
   "execution_count": 6,
   "id": "21cfcc20",
   "metadata": {},
   "outputs": [
    {
     "data": {
      "text/plain": [
       "True"
      ]
     },
     "execution_count": 6,
     "metadata": {},
     "output_type": "execute_result"
    }
   ],
   "source": [
    "media_df[media_df['speciesKey'].isna()]['species'].isna().any()"
   ]
  },
  {
   "cell_type": "code",
   "execution_count": 7,
   "id": "3437add7",
   "metadata": {},
   "outputs": [
    {
     "data": {
      "text/plain": [
       "16026"
      ]
     },
     "execution_count": 7,
     "metadata": {},
     "output_type": "execute_result"
    }
   ],
   "source": [
    "len(media_df[media_df['speciesKey'].isna()]['species'].isna())"
   ]
  },
  {
   "cell_type": "code",
   "execution_count": 8,
   "id": "f3f80f93",
   "metadata": {},
   "outputs": [
    {
     "data": {
      "text/plain": [
       "2388"
      ]
     },
     "execution_count": 8,
     "metadata": {},
     "output_type": "execute_result"
    }
   ],
   "source": [
    "len(media_df['species'].unique())"
   ]
  },
  {
   "cell_type": "code",
   "execution_count": 9,
   "id": "33aca71f",
   "metadata": {},
   "outputs": [
    {
     "data": {
      "text/plain": [
       "False"
      ]
     },
     "execution_count": 9,
     "metadata": {},
     "output_type": "execute_result"
    }
   ],
   "source": [
    "media_df[media_df['speciesKey'].isna()]['acceptedScientificName'].isna().any()"
   ]
  },
  {
   "cell_type": "code",
   "execution_count": 10,
   "id": "635b7f0d",
   "metadata": {},
   "outputs": [
    {
     "data": {
      "text/plain": [
       "2451"
      ]
     },
     "execution_count": 10,
     "metadata": {},
     "output_type": "execute_result"
    }
   ],
   "source": [
    "len(media_df['acceptedScientificName'].unique()) # use this"
   ]
  },
  {
   "cell_type": "code",
   "execution_count": 11,
   "id": "28f786cb",
   "metadata": {},
   "outputs": [
    {
     "data": {
      "text/plain": [
       "False"
      ]
     },
     "execution_count": 11,
     "metadata": {},
     "output_type": "execute_result"
    }
   ],
   "source": [
    "media_df[media_df['speciesKey'].isna()]['verbatimScientificName'].isna().any()"
   ]
  },
  {
   "cell_type": "code",
   "execution_count": 12,
   "id": "36cfb667",
   "metadata": {},
   "outputs": [
    {
     "data": {
      "text/plain": [
       "2505"
      ]
     },
     "execution_count": 12,
     "metadata": {},
     "output_type": "execute_result"
    }
   ],
   "source": [
    "len(media_df['verbatimScientificName'].unique())"
   ]
  },
  {
   "cell_type": "code",
   "execution_count": 13,
   "id": "76e233b2",
   "metadata": {},
   "outputs": [
    {
     "data": {
      "text/plain": [
       "2507"
      ]
     },
     "execution_count": 13,
     "metadata": {},
     "output_type": "execute_result"
    }
   ],
   "source": [
    "len(media_df['taxonID'].unique())"
   ]
  },
  {
   "cell_type": "code",
   "execution_count": 14,
   "id": "388ecb78",
   "metadata": {},
   "outputs": [
    {
     "data": {
      "text/plain": [
       "array(['SPECIES', 'VARIETY', 'SUBSPECIES', 'FAMILY', 'GENUS', 'FORM'],\n",
       "      dtype=object)"
      ]
     },
     "execution_count": 14,
     "metadata": {},
     "output_type": "execute_result"
    }
   ],
   "source": [
    "media_df['taxonRank'].unique()"
   ]
  },
  {
   "cell_type": "code",
   "execution_count": 15,
   "id": "28dda731",
   "metadata": {},
   "outputs": [
    {
     "data": {
      "text/plain": [
       "2495"
      ]
     },
     "execution_count": 15,
     "metadata": {},
     "output_type": "execute_result"
    }
   ],
   "source": [
    "len(media_df['taxonKey'].unique())"
   ]
  },
  {
   "cell_type": "code",
   "execution_count": 16,
   "id": "b7213b9a",
   "metadata": {},
   "outputs": [
    {
     "data": {
      "text/plain": [
       "0    2608086\n",
       "5    2548311\n",
       "6    7241318\n",
       "7    2605405\n",
       "8    2605405\n",
       "Name: taxonKey, dtype: int64"
      ]
     },
     "execution_count": 16,
     "metadata": {},
     "output_type": "execute_result"
    }
   ],
   "source": [
    "media_df['taxonKey'].head()"
   ]
  },
  {
   "cell_type": "code",
   "execution_count": null,
   "id": "a3217a24",
   "metadata": {},
   "outputs": [],
   "source": []
  },
  {
   "cell_type": "code",
   "execution_count": null,
   "id": "d641af57",
   "metadata": {},
   "outputs": [],
   "source": []
  },
  {
   "cell_type": "code",
   "execution_count": null,
   "id": "4e3ee976",
   "metadata": {},
   "outputs": [],
   "source": []
  },
  {
   "cell_type": "code",
   "execution_count": null,
   "id": "0e000868",
   "metadata": {},
   "outputs": [],
   "source": []
  },
  {
   "cell_type": "code",
   "execution_count": null,
   "id": "85c9ab47",
   "metadata": {},
   "outputs": [],
   "source": []
  },
  {
   "cell_type": "code",
   "execution_count": 17,
   "id": "d6a03140",
   "metadata": {},
   "outputs": [],
   "source": [
    "species_map = media_df['acceptedScientificName'].unique()"
   ]
  },
  {
   "cell_type": "code",
   "execution_count": 18,
   "id": "1fb20a3b",
   "metadata": {},
   "outputs": [
    {
     "data": {
      "text/plain": [
       "2451"
      ]
     },
     "execution_count": 18,
     "metadata": {},
     "output_type": "execute_result"
    }
   ],
   "source": [
    "len(species_map)"
   ]
  },
  {
   "cell_type": "code",
   "execution_count": 19,
   "id": "b5a7f696",
   "metadata": {},
   "outputs": [
    {
     "data": {
      "text/plain": [
       "array(['Niebla homalea (Ach.) Rundel & Bowler',\n",
       "       'Trametes versicolor (L.) Lloyd', 'Ganoderma tsugae Murrill',\n",
       "       'Letharia columbiana (Nutt.) J.W.Thomson',\n",
       "       'Amanita muscaria (L.) Lam.'], dtype=object)"
      ]
     },
     "execution_count": 19,
     "metadata": {},
     "output_type": "execute_result"
    }
   ],
   "source": [
    "species_map[:5]"
   ]
  },
  {
   "cell_type": "code",
   "execution_count": 20,
   "id": "e1905d8b",
   "metadata": {},
   "outputs": [],
   "source": [
    "def apply_map( species_str ):\n",
    "    res = np.where(species_map == species_str )[0]\n",
    "    if ( len(res) != 1 ):\n",
    "        print(res)\n",
    "\n",
    "    return res[0]\n",
    "\n",
    "new_col = media_df['acceptedScientificName'].map(apply_map)"
   ]
  },
  {
   "cell_type": "code",
   "execution_count": 21,
   "id": "4da588ea",
   "metadata": {},
   "outputs": [
    {
     "data": {
      "text/plain": [
       "0             0\n",
       "5             1\n",
       "6             2\n",
       "7             3\n",
       "8             3\n",
       "           ... \n",
       "2803458    2110\n",
       "2803459    2110\n",
       "2803460    2110\n",
       "2803483    2303\n",
       "2803517    1457\n",
       "Name: acceptedScientificName, Length: 665803, dtype: int64"
      ]
     },
     "execution_count": 21,
     "metadata": {},
     "output_type": "execute_result"
    }
   ],
   "source": [
    "new_col"
   ]
  },
  {
   "cell_type": "code",
   "execution_count": 22,
   "id": "22e1e57e",
   "metadata": {},
   "outputs": [
    {
     "data": {
      "text/plain": [
       "array(['Niebla homalea (Ach.) Rundel & Bowler',\n",
       "       'Trametes versicolor (L.) Lloyd', 'Ganoderma tsugae Murrill', ...,\n",
       "       'Pluteus podospileus Sacc. & Cub.',\n",
       "       'Hydropus praedecurrens (Murrill) Redhead',\n",
       "       'Synchytrium australe Speg.'], dtype=object)"
      ]
     },
     "execution_count": 22,
     "metadata": {},
     "output_type": "execute_result"
    }
   ],
   "source": [
    "species_map"
   ]
  },
  {
   "cell_type": "code",
   "execution_count": 23,
   "id": "8adec6a6",
   "metadata": {},
   "outputs": [
    {
     "data": {
      "text/plain": [
       "2451"
      ]
     },
     "execution_count": 23,
     "metadata": {},
     "output_type": "execute_result"
    }
   ],
   "source": [
    "len(new_col.unique())"
   ]
  },
  {
   "cell_type": "code",
   "execution_count": 24,
   "id": "2a52fdc8",
   "metadata": {},
   "outputs": [
    {
     "data": {
      "text/plain": [
       "2451"
      ]
     },
     "execution_count": 24,
     "metadata": {},
     "output_type": "execute_result"
    }
   ],
   "source": [
    "len(species_map)"
   ]
  },
  {
   "cell_type": "code",
   "execution_count": null,
   "id": "bf6d9d1f",
   "metadata": {},
   "outputs": [],
   "source": []
  },
  {
   "cell_type": "code",
   "execution_count": null,
   "id": "8b6e58c0",
   "metadata": {},
   "outputs": [],
   "source": []
  },
  {
   "cell_type": "code",
   "execution_count": null,
   "id": "1f75b641",
   "metadata": {},
   "outputs": [],
   "source": []
  },
  {
   "cell_type": "code",
   "execution_count": null,
   "id": "c8eea8c5",
   "metadata": {},
   "outputs": [],
   "source": []
  },
  {
   "cell_type": "code",
   "execution_count": null,
   "id": "4f57aa53",
   "metadata": {},
   "outputs": [],
   "source": []
  },
  {
   "cell_type": "code",
   "execution_count": 25,
   "id": "7d74bc9a",
   "metadata": {},
   "outputs": [],
   "source": [
    "import json"
   ]
  },
  {
   "cell_type": "code",
   "execution_count": 26,
   "id": "0bfb0feb",
   "metadata": {},
   "outputs": [],
   "source": [
    "with open('/mnt/gbif/map.json', 'w') as map_file:\n",
    "    json.dump(dict(enumerate(species_map)), map_file, indent=2)"
   ]
  },
  {
   "cell_type": "code",
   "execution_count": 27,
   "id": "97cf82d9",
   "metadata": {},
   "outputs": [],
   "source": [
    "with open('/mnt/gbif/labels.json', 'w') as map_file:\n",
    "    json.dump(dict(enumerate(new_col)), map_file, indent=2)"
   ]
  },
  {
   "cell_type": "code",
   "execution_count": 28,
   "id": "6510ece4",
   "metadata": {},
   "outputs": [
    {
     "data": {
      "text/plain": [
       "count    2451.000000\n",
       "mean      271.645451\n",
       "std       107.778660\n",
       "min       101.000000\n",
       "25%       168.000000\n",
       "50%       333.000000\n",
       "75%       350.000000\n",
       "max      1050.000000\n",
       "Name: acceptedScientificName, dtype: float64"
      ]
     },
     "execution_count": 28,
     "metadata": {},
     "output_type": "execute_result"
    }
   ],
   "source": [
    "new_col.value_counts().describe()"
   ]
  },
  {
   "cell_type": "code",
   "execution_count": 29,
   "id": "0a2cefd4",
   "metadata": {},
   "outputs": [],
   "source": [
    "species_map_df = pd.DataFrame(species_map)"
   ]
  },
  {
   "cell_type": "code",
   "execution_count": 30,
   "id": "3ab26a70",
   "metadata": {},
   "outputs": [],
   "source": [
    "species_map_df = species_map_df.reset_index()"
   ]
  },
  {
   "cell_type": "code",
   "execution_count": 31,
   "id": "a7ebffd0",
   "metadata": {},
   "outputs": [],
   "source": [
    "species_map_df.columns = ['mapping', 'acceptedScientificName']"
   ]
  },
  {
   "cell_type": "code",
   "execution_count": 32,
   "id": "d81a73e8",
   "metadata": {},
   "outputs": [
    {
     "data": {
      "text/html": [
       "<div>\n",
       "<style scoped>\n",
       "    .dataframe tbody tr th:only-of-type {\n",
       "        vertical-align: middle;\n",
       "    }\n",
       "\n",
       "    .dataframe tbody tr th {\n",
       "        vertical-align: top;\n",
       "    }\n",
       "\n",
       "    .dataframe thead th {\n",
       "        text-align: right;\n",
       "    }\n",
       "</style>\n",
       "<table border=\"1\" class=\"dataframe\">\n",
       "  <thead>\n",
       "    <tr style=\"text-align: right;\">\n",
       "      <th></th>\n",
       "      <th>mapping</th>\n",
       "      <th>acceptedScientificName</th>\n",
       "    </tr>\n",
       "  </thead>\n",
       "  <tbody>\n",
       "    <tr>\n",
       "      <th>0</th>\n",
       "      <td>0</td>\n",
       "      <td>Niebla homalea (Ach.) Rundel &amp; Bowler</td>\n",
       "    </tr>\n",
       "    <tr>\n",
       "      <th>1</th>\n",
       "      <td>1</td>\n",
       "      <td>Trametes versicolor (L.) Lloyd</td>\n",
       "    </tr>\n",
       "    <tr>\n",
       "      <th>2</th>\n",
       "      <td>2</td>\n",
       "      <td>Ganoderma tsugae Murrill</td>\n",
       "    </tr>\n",
       "    <tr>\n",
       "      <th>3</th>\n",
       "      <td>3</td>\n",
       "      <td>Letharia columbiana (Nutt.) J.W.Thomson</td>\n",
       "    </tr>\n",
       "    <tr>\n",
       "      <th>4</th>\n",
       "      <td>4</td>\n",
       "      <td>Amanita muscaria (L.) Lam.</td>\n",
       "    </tr>\n",
       "  </tbody>\n",
       "</table>\n",
       "</div>"
      ],
      "text/plain": [
       "   mapping                   acceptedScientificName\n",
       "0        0    Niebla homalea (Ach.) Rundel & Bowler\n",
       "1        1           Trametes versicolor (L.) Lloyd\n",
       "2        2                 Ganoderma tsugae Murrill\n",
       "3        3  Letharia columbiana (Nutt.) J.W.Thomson\n",
       "4        4               Amanita muscaria (L.) Lam."
      ]
     },
     "execution_count": 32,
     "metadata": {},
     "output_type": "execute_result"
    }
   ],
   "source": [
    "species_map_df.head()"
   ]
  },
  {
   "cell_type": "code",
   "execution_count": 33,
   "id": "64fa5cef",
   "metadata": {},
   "outputs": [],
   "source": [
    "species_map_df.to_hdf('/mnt/gbif/clean_data.h5', 'map')"
   ]
  },
  {
   "cell_type": "code",
   "execution_count": null,
   "id": "14725b82",
   "metadata": {},
   "outputs": [],
   "source": []
  },
  {
   "cell_type": "code",
   "execution_count": 34,
   "id": "efa73031",
   "metadata": {},
   "outputs": [
    {
     "data": {
      "text/plain": [
       "pandas.core.series.Series"
      ]
     },
     "execution_count": 34,
     "metadata": {},
     "output_type": "execute_result"
    }
   ],
   "source": [
    "type(new_col)"
   ]
  },
  {
   "cell_type": "code",
   "execution_count": 35,
   "id": "0bb989e2",
   "metadata": {},
   "outputs": [
    {
     "data": {
      "text/plain": [
       "0             0\n",
       "5             1\n",
       "6             2\n",
       "7             3\n",
       "8             3\n",
       "           ... \n",
       "2803458    2110\n",
       "2803459    2110\n",
       "2803460    2110\n",
       "2803483    2303\n",
       "2803517    1457\n",
       "Name: acceptedScientificName, Length: 665803, dtype: int64"
      ]
     },
     "execution_count": 35,
     "metadata": {},
     "output_type": "execute_result"
    }
   ],
   "source": [
    "new_col"
   ]
  },
  {
   "cell_type": "code",
   "execution_count": 36,
   "id": "44d4c511",
   "metadata": {},
   "outputs": [
    {
     "data": {
      "text/plain": [
       "665803"
      ]
     },
     "execution_count": 36,
     "metadata": {},
     "output_type": "execute_result"
    }
   ],
   "source": [
    "len(new_col)"
   ]
  },
  {
   "cell_type": "code",
   "execution_count": 39,
   "id": "c1764e6f",
   "metadata": {},
   "outputs": [],
   "source": [
    "labels_df = pd.DataFrame(new_col)\n",
    "labels_df = labels_df.reset_index()\n",
    "labels_df.columns = ['mapping_index', 'acceptedScientificName']"
   ]
  },
  {
   "cell_type": "code",
   "execution_count": 40,
   "id": "35167ae9",
   "metadata": {},
   "outputs": [
    {
     "data": {
      "text/html": [
       "<div>\n",
       "<style scoped>\n",
       "    .dataframe tbody tr th:only-of-type {\n",
       "        vertical-align: middle;\n",
       "    }\n",
       "\n",
       "    .dataframe tbody tr th {\n",
       "        vertical-align: top;\n",
       "    }\n",
       "\n",
       "    .dataframe thead th {\n",
       "        text-align: right;\n",
       "    }\n",
       "</style>\n",
       "<table border=\"1\" class=\"dataframe\">\n",
       "  <thead>\n",
       "    <tr style=\"text-align: right;\">\n",
       "      <th></th>\n",
       "      <th>mapping_index</th>\n",
       "      <th>acceptedScientificName</th>\n",
       "    </tr>\n",
       "  </thead>\n",
       "  <tbody>\n",
       "    <tr>\n",
       "      <th>0</th>\n",
       "      <td>0</td>\n",
       "      <td>0</td>\n",
       "    </tr>\n",
       "    <tr>\n",
       "      <th>1</th>\n",
       "      <td>5</td>\n",
       "      <td>1</td>\n",
       "    </tr>\n",
       "    <tr>\n",
       "      <th>2</th>\n",
       "      <td>6</td>\n",
       "      <td>2</td>\n",
       "    </tr>\n",
       "    <tr>\n",
       "      <th>3</th>\n",
       "      <td>7</td>\n",
       "      <td>3</td>\n",
       "    </tr>\n",
       "    <tr>\n",
       "      <th>4</th>\n",
       "      <td>8</td>\n",
       "      <td>3</td>\n",
       "    </tr>\n",
       "  </tbody>\n",
       "</table>\n",
       "</div>"
      ],
      "text/plain": [
       "   mapping_index  acceptedScientificName\n",
       "0              0                       0\n",
       "1              5                       1\n",
       "2              6                       2\n",
       "3              7                       3\n",
       "4              8                       3"
      ]
     },
     "execution_count": 40,
     "metadata": {},
     "output_type": "execute_result"
    }
   ],
   "source": [
    "labels_df.head()"
   ]
  },
  {
   "cell_type": "code",
   "execution_count": 41,
   "id": "c76cec99",
   "metadata": {},
   "outputs": [],
   "source": [
    "labels_df.to_hdf('/mnt/gbif/clean_data.h5', 'labels')"
   ]
  },
  {
   "cell_type": "code",
   "execution_count": null,
   "id": "8a9600a1",
   "metadata": {},
   "outputs": [],
   "source": []
  }
 ],
 "metadata": {
  "kernelspec": {
   "display_name": "Python [conda env:.conda-fungi] *",
   "language": "python",
   "name": "conda-env-.conda-fungi-py"
  },
  "language_info": {
   "codemirror_mode": {
    "name": "ipython",
    "version": 3
   },
   "file_extension": ".py",
   "mimetype": "text/x-python",
   "name": "python",
   "nbconvert_exporter": "python",
   "pygments_lexer": "ipython3",
   "version": "3.10.9"
  }
 },
 "nbformat": 4,
 "nbformat_minor": 5
}
