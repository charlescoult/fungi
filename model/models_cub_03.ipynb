{
 "cells": [
  {
   "cell_type": "markdown",
   "id": "518a0c58",
   "metadata": {},
   "source": [
    "# Models Exploration using CUB dataset"
   ]
  },
  {
   "cell_type": "markdown",
   "id": "b411778a",
   "metadata": {},
   "source": [
    "## References\n",
    "* [Transfer Learning with Hub](https://www.tensorflow.org/tutorials/images/transfer_learning_with_hub)\n",
    "* [`tf.keras.utils.image_dataset_from_directory`](https://www.tensorflow.org/api_docs/python/tf/keras/utils/image_dataset_from_directory)\n",
    "* [Limiting GPU Memory Growth](https://www.tensorflow.org/guide/gpu#limiting_gpu_memory_growth)"
   ]
  },
  {
   "cell_type": "markdown",
   "id": "a285c8a1",
   "metadata": {},
   "source": [
    "## Setup"
   ]
  },
  {
   "cell_type": "code",
   "execution_count": 1,
   "id": "f2c0f4e3",
   "metadata": {},
   "outputs": [],
   "source": [
    "import matplotlib.pyplot as plt\n",
    "import numpy as np\n",
    "import PIL\n",
    "import datetime\n",
    "import os\n",
    "import pandas as pd\n",
    "\n",
    "import tensorflow as tf\n",
    "from tensorflow import keras\n",
    "from tensorflow.keras import layers\n",
    "from tensorflow.keras.models import Sequential\n",
    "\n",
    "from tensorflow.keras.preprocessing.image import ImageDataGenerator\n",
    "\n",
    "import tensorflow_hub as hub\n",
    "from keras.utils.layer_utils import count_params\n"
   ]
  },
  {
   "cell_type": "markdown",
   "id": "8a639289",
   "metadata": {},
   "source": [
    "### Limit GPU memory allocation"
   ]
  },
  {
   "cell_type": "code",
   "execution_count": 2,
   "id": "16845159",
   "metadata": {},
   "outputs": [],
   "source": [
    "def limit_memory_growth(limit=True):\n",
    "    gpus = tf.config.list_physical_devices('GPU')\n",
    "    if gpus:\n",
    "        try:\n",
    "            # Currently, memory growth needs to be the same across GPUs\n",
    "            for gpu in gpus:\n",
    "                tf.config.experimental.set_memory_growth(gpu, limit)\n",
    "            logical_gpus = tf.config.list_logical_devices('GPU')\n",
    "            print(len(gpus), \"Physical GPUs,\", len(logical_gpus), \"Logical GPUs\")\n",
    "        except RuntimeError as e:\n",
    "            # Memory growth must be set before GPUs have been initialized\n",
    "            print(e)"
   ]
  },
  {
   "cell_type": "markdown",
   "id": "106e1972",
   "metadata": {},
   "source": [
    "---"
   ]
  },
  {
   "cell_type": "markdown",
   "id": "2bf8d406",
   "metadata": {},
   "source": [
    "## Enumerate Datasets to test"
   ]
  },
  {
   "cell_type": "code",
   "execution_count": 3,
   "id": "b652b376",
   "metadata": {},
   "outputs": [],
   "source": [
    "import pathlib\n",
    "\n",
    "flowers_dataset_url = \"https://storage.googleapis.com/download.tensorflow.org/example_images/flower_photos.tgz\"\n",
    "flowers_data_dir = tf.keras.utils.get_file('flower_photos', origin=flowers_dataset_url, untar=True)\n",
    "flowers_data_dir = pathlib.Path(flowers_data_dir)\n",
    "\n",
    "datasets = [\n",
    "    ('CUB-200-2011', '/mnt/cub/CUB_200_2011/images'),\n",
    "    ('flowers', flowers_data_dir),\n",
    "]"
   ]
  },
  {
   "cell_type": "markdown",
   "id": "52c9c943",
   "metadata": {},
   "source": [
    "## Dataset"
   ]
  },
  {
   "cell_type": "code",
   "execution_count": 4,
   "id": "dd46f988",
   "metadata": {},
   "outputs": [],
   "source": [
    "# build a dataset object from a directory of images\n",
    "def build_dataset(\n",
    "    dataset,\n",
    "    image_size,\n",
    "    preprocess_input = None,\n",
    "    batch_size = 64,\n",
    "):\n",
    "   \n",
    "    train_ds, val_ds = tf.keras.utils.image_dataset_from_directory(\n",
    "        dataset[1],\n",
    "        batch_size = batch_size,\n",
    "        validation_split = 0.2,\n",
    "        image_size = image_size,\n",
    "        subset = \"both\",\n",
    "        shuffle = True, # default but here for clarity\n",
    "        seed=42,\n",
    "        label_mode=\"categorical\" # enables one-hot encoding (use 'int' for sparse_categorical_crossentropy loss)\n",
    "    )\n",
    "    \n",
    "    # Retrieve class names\n",
    "    # (can't do this after converting to PrefetchDataset?)\n",
    "    class_names = train_ds.class_names\n",
    "    \n",
    "    # Prefetch images\n",
    "    train_ds = train_ds.cache().prefetch(buffer_size=tf.data.AUTOTUNE)\n",
    "    val_ds = val_ds.cache().prefetch(buffer_size=tf.data.AUTOTUNE)\n",
    "    \n",
    "    # apply preprocessing function\n",
    "    train_ds = train_ds.map(\n",
    "        lambda x, y: (preprocess_input(x), y),\n",
    "        num_parallel_calls = 16,\n",
    "    )\n",
    "    val_ds = val_ds.map(\n",
    "        lambda x, y: (preprocess_input(x), y),\n",
    "        num_parallel_calls = 16,\n",
    "    )\n",
    "    \n",
    "    return (train_ds, val_ds, class_names)"
   ]
  },
  {
   "cell_type": "markdown",
   "id": "1de845ab",
   "metadata": {},
   "source": [
    "---"
   ]
  },
  {
   "cell_type": "markdown",
   "id": "23cf56f3",
   "metadata": {},
   "source": [
    "## Enumerate Models to test"
   ]
  },
  {
   "cell_type": "code",
   "execution_count": 5,
   "id": "ee979c63",
   "metadata": {},
   "outputs": [],
   "source": [
    "# Array of tuples describing the models to be tested\n",
    "# in the form: (model_handle, input_image_size, preprocessing_function)\n",
    "# where the model_handle is a model building function or a url to a tfhub feature model\n",
    "base_models_metadata = [\n",
    "    (\n",
    "        'https://tfhub.dev/google/tf2-preview/mobilenet_v2/feature_vector/4',\n",
    "        224,\n",
    "        # https://www.tensorflow.org/hub/common_signatures/images#input\n",
    "        # The inputs pixel values are scaled between -1 and 1, sample-wise.\n",
    "        tf.keras.applications.mobilenet_v2.preprocess_input,\n",
    "    ),\n",
    "    (\n",
    "        'https://tfhub.dev/google/tf2-preview/inception_v3/feature_vector/4',\n",
    "        299,\n",
    "        # The inputs pixel values are scaled between -1 and 1, sample-wise.\n",
    "        tf.keras.applications.inception_v3.preprocess_input,\n",
    "    ),\n",
    "    (\n",
    "        'https://tfhub.dev/google/inaturalist/inception_v3/feature_vector/5',\n",
    "        299,\n",
    "        # The inputs pixel values are scaled between -1 and 1, sample-wise.\n",
    "        tf.keras.applications.inception_v3.preprocess_input,\n",
    "    ),\n",
    "    (\n",
    "        tf.keras.applications.Xception,\n",
    "        299,\n",
    "        # The inputs pixel values are scaled between -1 and 1, sample-wise.\n",
    "        tf.keras.applications.xception.preprocess_input,\n",
    "    ),\n",
    "    (\n",
    "        tf.keras.applications.resnet.ResNet101,\n",
    "        224,\n",
    "        tf.keras.applications.resnet50.preprocess_input,\n",
    "    ),\n",
    "    (\n",
    "        tf.keras.applications.ResNet50,\n",
    "        224,\n",
    "        tf.keras.applications.resnet50.preprocess_input,\n",
    "    ),\n",
    "    (\n",
    "        tf.keras.applications.InceptionResNetV2,\n",
    "        299,\n",
    "        tf.keras.applications.inception_resnet_v2.preprocess_input,\n",
    "    ),\n",
    "    (\n",
    "        tf.keras.applications.efficientnet_v2.EfficientNetV2B0,\n",
    "        224,\n",
    "        # The preprocessing logic has been included in the EfficientNetV2\n",
    "        # model implementation. Users are no longer required to call this\n",
    "        # method to normalize the input data. This method does nothing and\n",
    "        # only kept as a placeholder to align the API surface between old\n",
    "        # and new version of model.\n",
    "        tf.keras.applications.efficientnet_v2.preprocess_input,\n",
    "    )\n",
    "]"
   ]
  },
  {
   "cell_type": "code",
   "execution_count": 6,
   "id": "9a0c6376",
   "metadata": {},
   "outputs": [],
   "source": [
    "# return a name that accurately describes the model building function or\n",
    "# the tfhub model (by url) that was passed\n",
    "def get_model_name( model_handle ):\n",
    "    \n",
    "    if callable(model_handle):\n",
    "        return f'keras.applications/{model_handle.__name__}'\n",
    "    else:\n",
    "        split = model_handle.split('/')\n",
    "        return f'tfhub/{split[-5]}.{split[-4]}.{split[-3]}'\n",
    "    "
   ]
  },
  {
   "cell_type": "markdown",
   "id": "c1aa7788",
   "metadata": {},
   "source": [
    "## Model Building"
   ]
  },
  {
   "cell_type": "code",
   "execution_count": 7,
   "id": "a06cf38a",
   "metadata": {},
   "outputs": [],
   "source": [
    "\n",
    "class FullModel(tf.keras.Sequential):\n",
    "    \n",
    "    def __init__(\n",
    "        self,\n",
    "        base_model_metadata,\n",
    "        num_classes,\n",
    "        dropout,\n",
    "        thawed_base_model_layers,\n",
    "        data_augmentation = False,\n",
    "    ):\n",
    "        super().__init__(name = \"full_model\")\n",
    "        \n",
    "        # Get base_model_information\n",
    "        model_handle, input_dimension, preprocess_input = base_model_metadata\n",
    "        \n",
    "        # TODO: only really needed on training data...?\n",
    "        #  - should be a function of the dataset, no?\n",
    "        if data_augmentation:\n",
    "            self.add(self.build_data_augmentation())\n",
    "        \n",
    "        self.base_model = self.build_base_model(\n",
    "            model_handle,\n",
    "            thawed_base_model_layers = thawed_base_model_layers,\n",
    "        )\n",
    "        self.add(self.base_model)\n",
    "\n",
    "        self.classifier_model = self.build_classifier_model(\n",
    "            num_classes,\n",
    "            dropout,\n",
    "        )\n",
    "        self.add(self.classifier_model)\n",
    "    \n",
    "    @staticmethod\n",
    "    def build_data_augmentation():\n",
    "        data_augmentation = keras.Sequential([\n",
    "            layers.RandomFlip(\n",
    "                \"horizontal\",\n",
    "            ),\n",
    "            layers.RandomRotation(0.1),\n",
    "            layers.RandomZoom(0.1),\n",
    "        ], name = \"data_augmentation\")\n",
    "\n",
    "        return data_augmentation\n",
    "\n",
    "    @staticmethod\n",
    "    def build_base_model(\n",
    "        base_model_handle,\n",
    "        thawed_base_model_layers = 0,\n",
    "        name=\"base_model\",\n",
    "    ):\n",
    "        # If model_handle is a model building function, use that function\n",
    "        if callable(base_model_handle):\n",
    "            base_model = model_handle(\n",
    "                include_top=False,\n",
    "                weights='imagenet',\n",
    "                pooling = 'avg',\n",
    "            )\n",
    "\n",
    "        # otherwise build a layer from the tfhub url that was passed as a string\n",
    "        else:\n",
    "            base_model = hub.KerasLayer(\n",
    "                base_model_handle,\n",
    "                name=name,\n",
    "            )\n",
    "\n",
    "        # Print Base model weights\n",
    "        print(\"\\nBase Model:\")\n",
    "        FullModel.print_weight_counts(base_model)\n",
    "\n",
    "        return base_model\n",
    "    \n",
    "    # Freeze base model?\n",
    "    def freeze_base_model(\n",
    "        self,\n",
    "        thawed_base_model_layers = 0,\n",
    "    ):\n",
    "        if thawed_base_model_layers == 0:\n",
    "            self.base_model.trainable = False\n",
    "        elif thawed_base_model_layers > 0:\n",
    "            for layer in self.base_model.layers[:(-1*thawed_base_model_layers)]:\n",
    "                layer.trainable = False\n",
    "        else:\n",
    "            self.base_model.trainable = True\n",
    "    \n",
    "    @staticmethod\n",
    "    def build_classifier_model(\n",
    "        num_classes,\n",
    "        dropout,\n",
    "    ):\n",
    "        model = Sequential()\n",
    "        model.add(\n",
    "            layers.Dense(\n",
    "                num_classes,\n",
    "                # activation = 'softmax',\n",
    "            )\n",
    "        )\n",
    "\n",
    "        model.add(\n",
    "            layers.Dropout(dropout)\n",
    "        )\n",
    "\n",
    "        model.add(\n",
    "            layers.Activation(\"softmax\", dtype=\"float32\")\n",
    "        )\n",
    "        \n",
    "        return model\n",
    "\n",
    "    # Print model weight counts\n",
    "    @staticmethod\n",
    "    def print_weight_counts(model):\n",
    "        print(f'Non-trainable weights: {count_params(model.non_trainable_weights)}')\n",
    "        print(f'Trainable weights: {count_params(model.trainable_weights)}')"
   ]
  },
  {
   "cell_type": "markdown",
   "id": "a65bf126",
   "metadata": {},
   "source": [
    "---"
   ]
  },
  {
   "cell_type": "markdown",
   "id": "34d60b33",
   "metadata": {},
   "source": [
    "## Run Results Logging"
   ]
  },
  {
   "cell_type": "code",
   "execution_count": 8,
   "id": "c3401105",
   "metadata": {},
   "outputs": [],
   "source": [
    "class RunLogging():\n",
    "\n",
    "    hdf_key = \"runs\"\n",
    "\n",
    "    def __init__(\n",
    "        self,\n",
    "        data_dir = \"./\",\n",
    "        hdf_filename = \"runs.h5\",\n",
    "    ):\n",
    "        self.data_dir = data_dir\n",
    "        self.filename =  os.path.join( data_dir, hdf_filename )\n",
    "        self.df = self.load_metadata()\n",
    "\n",
    "    def load_metadata(self):\n",
    "        if ( os.path.exists(self.filename) ):\n",
    "            return pd.read_hdf( self.filename, self.hdf_key )\n",
    "        else: return pd.DataFrame()\n",
    "\n",
    "    def save_df(self):\n",
    "        self.df.to_hdf(self.filename, self.hdf_key)\n",
    "\n",
    "    def add_run(self, params, log_dir, time, scores):\n",
    "\n",
    "        cols = {\n",
    "            **params,\n",
    "            'time': time,\n",
    "            'log_dir': log_dir,\n",
    "            'scores.loss': scores[0],\n",
    "            'scores.accuracy': scores[1],\n",
    "            'scores.top3': scores[2],\n",
    "            'scores.top10': scores[3],\n",
    "        }\n",
    "\n",
    "        new_run = pd.DataFrame([cols])\n",
    "\n",
    "        self.df = pd.concat([self.df, new_run])\n",
    "        self.save_df()"
   ]
  },
  {
   "cell_type": "markdown",
   "id": "6bb6dd65",
   "metadata": {},
   "source": [
    "---"
   ]
  },
  {
   "cell_type": "markdown",
   "id": "b4286d70",
   "metadata": {},
   "source": [
    "## Build and run all models"
   ]
  },
  {
   "cell_type": "markdown",
   "id": "4f5b6575",
   "metadata": {},
   "source": [
    "* Note regarding `thawed_base_model_layers` and full model architecture ([reference](https://stackoverflow.com/questions/64227483/what-is-the-right-way-to-gradually-unfreeze-layers-in-neural-network-while-learn))\n",
    "![image](https://i.stack.imgur.com/JLJqv.png)\n",
    "* [Another great reference](https://towardsdatascience.com/transfer-learning-from-pre-trained-models-f2393f124751)"
   ]
  },
  {
   "cell_type": "code",
   "execution_count": 9,
   "id": "ed107505",
   "metadata": {},
   "outputs": [],
   "source": [
    "# Hyperparameters\n",
    "\n",
    "## Dataset Hyperparameters\n",
    "dataset = datasets[0]\n",
    "batch_size = 64\n",
    "\n",
    "## Full Model Hyperparameters\n",
    "\n",
    "### Input Model Hyperparameters\n",
    "data_augmentation = False\n",
    "\n",
    "### Base Model Hyperparameters\n",
    "thawed_base_model_layers = 0 # base_model completely frozen\n",
    "# thawed_base_model_layers = n # last 'n' layers of base_model unfrozen\n",
    "# thawed_base_model_layers = -1 # all base_model layers unfrozen\n",
    "\n",
    "### Classifier Model Hyperparameters\n",
    "classifier_dropout = 0.33\n",
    "\n",
    "## Training Hyperparameters\n",
    "max_epochs = 2\n",
    "\n",
    "### Optimizer Function Hyperparameters\n",
    "learning_rate = 0.0005\n",
    "\n",
    "### Loss function hyperparameters\n",
    "label_smoothing = 0.2\n",
    "\n",
    "# use logits?\n",
    "\n",
    "# vary classifier architecture?"
   ]
  },
  {
   "cell_type": "code",
   "execution_count": 10,
   "id": "5ea7b188",
   "metadata": {},
   "outputs": [],
   "source": [
    "class Run():\n",
    "    \n",
    "    def __init__(\n",
    "        self,\n",
    "        base_model_metadata,\n",
    "    ):\n",
    "        model_handle, input_dimension, preprocess_input = base_model_metadata\n",
    "        self.image_size = (input_dimension, input_dimension)\n",
    "\n",
    "        "
   ]
  },
  {
   "cell_type": "code",
   "execution_count": null,
   "id": "23753f9a",
   "metadata": {},
   "outputs": [],
   "source": [
    "def run_model(\n",
    "    base_model_metadata,\n",
    "):\n",
    "    model_handle, input_dimension, preprocess_input = base_model_metadata\n",
    "\n",
    "    image_size = (input_dimension, input_dimension)\n",
    "    \n",
    "    # Build dataset/pipeline\n",
    "    train_ds, val_ds, class_names = build_dataset(\n",
    "        dataset,\n",
    "        batch_size = batch_size,\n",
    "        image_size = image_size,\n",
    "        preprocess_input = preprocess_input,\n",
    "    )\n",
    "    \n",
    "    # Build model\n",
    "    model = FullModel(\n",
    "        base_model_metadata,\n",
    "        len(class_names),\n",
    "        classifier_dropout,\n",
    "        thawed_base_model_layers = thawed_base_model_layers,\n",
    "        data_augmentation = data_augmentation,\n",
    "    )\n",
    "    \n",
    "    # Compile model\n",
    "    # Sparse vs non-sparse CCE https://www.kaggle.com/general/197993\n",
    "    model.compile(\n",
    "        optimizer = tf.keras.optimizers.Adam(learning_rate=learning_rate),\n",
    "        # loss=tf.keras.losses.SparseCategoricalCrossentropy(from_logits=True),\n",
    "        loss=tf.keras.losses.CategoricalCrossentropy(\n",
    "            # from_logits=True,\n",
    "            label_smoothing = label_smoothing,\n",
    "        ),\n",
    "        metrics=[\n",
    "            'accuracy',\n",
    "            tf.keras.metrics.CategoricalAccuracy(),\n",
    "            tf.keras.metrics.CategoricalCrossentropy(),\n",
    "            tf.keras.metrics.TopKCategoricalAccuracy(k=3, name=\"Top3\"),\n",
    "            tf.keras.metrics.TopKCategoricalAccuracy(k=10, name=\"Top10\"),\n",
    "        ],\n",
    "    )\n",
    "\n",
    "    # Logging\n",
    "    base_model_id = get_model_name(model_handle)\n",
    "    run_log_dir = os.path.join( run_logs.data_dir, dataset[0], base_model_id )\n",
    "    print(f'\\n{run_log_dir}')\n",
    "    \n",
    "    # Tensorboard logs\n",
    "    tensorboard_callback = tf.keras.callbacks.TensorBoard(\n",
    "        log_dir = run_log_dir,\n",
    "        histogram_freq = 1,\n",
    "    )\n",
    "    \n",
    "    # Early stopping\n",
    "    early_stopping_callback = tf.keras.callbacks.EarlyStopping(\n",
    "        # monitor='val_sparse_categorical_accuracy',\n",
    "        monitor = 'val_loss',\n",
    "        patience = 5,\n",
    "        min_delta = 0.01,\n",
    "    )\n",
    "    \n",
    "    # Model Checkpoints for saving best model weights\n",
    "    model_checkpoint_callback = tf.keras.callbacks.ModelCheckpoint(\n",
    "        os.path.join(run_log_dir, 'best_model' ),\n",
    "        save_best_only = True,\n",
    "        monitor = 'val_loss',\n",
    "        # mode = 'min', # should be chosen correctly based on monitor value\n",
    "    )\n",
    "    \n",
    "    best_batch = (0, float('inf'))\n",
    "    \n",
    "    # Train\n",
    "    history = model.fit(\n",
    "        train_ds,\n",
    "        validation_data=val_ds,\n",
    "        epochs=max_epochs,\n",
    "        callbacks=[\n",
    "            tensorboard_callback,\n",
    "            early_stopping_callback,\n",
    "            model_checkpoint_callback,\n",
    "            tf.keras.callbacks.LambdaCallback(\n",
    "                on_epoch_end = lambda batch, logs: print((batch, logs['val_loss']) if logs['val_loss'] < best_batch[1] else best_batch),\n",
    "            )\n",
    "        ]\n",
    "    )\n",
    "    \n",
    "    print(history)\n",
    "    print(max(history.history['val_loss']))\n",
    "    \n",
    "    history_df = pd.DataFrame(history.history)"
   ]
  },
  {
   "cell_type": "code",
   "execution_count": 11,
   "id": "03b3f0ef",
   "metadata": {},
   "outputs": [
    {
     "name": "stdout",
     "output_type": "stream",
     "text": [
      "Found 11788 files belonging to 200 classes.\n",
      "Using 9431 files for training.\n",
      "Using 2357 files for validation.\n",
      "WARNING:tensorflow:From /home/charlescoult/.conda/envs/fungi/lib/python3.10/site-packages/tensorflow/python/autograph/pyct/static_analysis/liveness.py:83: Analyzer.lamba_check (from tensorflow.python.autograph.pyct.static_analysis.liveness) is deprecated and will be removed after 2023-09-23.\n",
      "Instructions for updating:\n",
      "Lambda fuctions will be no more assumed to be used in the statement where they are used, or at least in the same block. https://github.com/tensorflow/tensorflow/issues/56089\n",
      "WARNING:tensorflow:Please fix your imports. Module tensorflow.python.training.tracking.data_structures has been moved to tensorflow.python.trackable.data_structures. The old module will be deleted in version 2.11.\n",
      "\n",
      "Base Model:\n",
      "Non-trainable weights: 2257984\n",
      "Trainable weights: 0\n",
      "\n",
      "models_cub_02_logs/CUB-200-2011/tfhub/google.tf2-preview.mobilenet_v2\n",
      "Epoch 1/2\n",
      "148/148 [==============================] - ETA: 0s - loss: 5.1552 - accuracy: 0.0579 - categorical_accuracy: 0.0579 - categorical_crossentropy: 4.9883 - Top3: 0.1233 - Top10: 0.2486INFO:tensorflow:Unsupported signature for serialization: ((TensorSpec(shape=(1280, 200), dtype=tf.float32, name='gradient'), <tensorflow.python.framework.func_graph.UnknownArgument object at 0x7f178412b9a0>, 139739386151600), {}).\n"
     ]
    },
    {
     "name": "stderr",
     "output_type": "stream",
     "text": [
      "INFO:tensorflow:Unsupported signature for serialization: ((TensorSpec(shape=(1280, 200), dtype=tf.float32, name='gradient'), <tensorflow.python.framework.func_graph.UnknownArgument object at 0x7f178412b9a0>, 139739386151600), {}).\n"
     ]
    },
    {
     "name": "stdout",
     "output_type": "stream",
     "text": [
      "INFO:tensorflow:Unsupported signature for serialization: ((TensorSpec(shape=(200,), dtype=tf.float32, name='gradient'), <tensorflow.python.framework.func_graph.UnknownArgument object at 0x7f1779f14790>, 139739384855920), {}).\n"
     ]
    },
    {
     "name": "stderr",
     "output_type": "stream",
     "text": [
      "INFO:tensorflow:Unsupported signature for serialization: ((TensorSpec(shape=(200,), dtype=tf.float32, name='gradient'), <tensorflow.python.framework.func_graph.UnknownArgument object at 0x7f1779f14790>, 139739384855920), {}).\n"
     ]
    },
    {
     "name": "stdout",
     "output_type": "stream",
     "text": [
      "INFO:tensorflow:Unsupported signature for serialization: ((TensorSpec(shape=(1280, 200), dtype=tf.float32, name='gradient'), <tensorflow.python.framework.func_graph.UnknownArgument object at 0x7f178412b9a0>, 139739386151600), {}).\n"
     ]
    },
    {
     "name": "stderr",
     "output_type": "stream",
     "text": [
      "INFO:tensorflow:Unsupported signature for serialization: ((TensorSpec(shape=(1280, 200), dtype=tf.float32, name='gradient'), <tensorflow.python.framework.func_graph.UnknownArgument object at 0x7f178412b9a0>, 139739386151600), {}).\n"
     ]
    },
    {
     "name": "stdout",
     "output_type": "stream",
     "text": [
      "INFO:tensorflow:Unsupported signature for serialization: ((TensorSpec(shape=(200,), dtype=tf.float32, name='gradient'), <tensorflow.python.framework.func_graph.UnknownArgument object at 0x7f1779f14790>, 139739384855920), {}).\n"
     ]
    },
    {
     "name": "stderr",
     "output_type": "stream",
     "text": [
      "INFO:tensorflow:Unsupported signature for serialization: ((TensorSpec(shape=(200,), dtype=tf.float32, name='gradient'), <tensorflow.python.framework.func_graph.UnknownArgument object at 0x7f1779f14790>, 139739384855920), {}).\n",
      "WARNING:absl:Found untraced functions such as _update_step_xla while saving (showing 1 of 1). These functions will not be directly callable after loading.\n"
     ]
    },
    {
     "name": "stdout",
     "output_type": "stream",
     "text": [
      "INFO:tensorflow:Assets written to: models_cub_02_logs/CUB-200-2011/tfhub/google.tf2-preview.mobilenet_v2/best_model/assets\n"
     ]
    },
    {
     "name": "stderr",
     "output_type": "stream",
     "text": [
      "INFO:tensorflow:Assets written to: models_cub_02_logs/CUB-200-2011/tfhub/google.tf2-preview.mobilenet_v2/best_model/assets\n"
     ]
    },
    {
     "name": "stdout",
     "output_type": "stream",
     "text": [
      "(0, 4.536968231201172)\n",
      "148/148 [==============================] - 15s 76ms/step - loss: 5.1552 - accuracy: 0.0579 - categorical_accuracy: 0.0579 - categorical_crossentropy: 4.9883 - Top3: 0.1233 - Top10: 0.2486 - val_loss: 4.5370 - val_accuracy: 0.1527 - val_categorical_accuracy: 0.1527 - val_categorical_crossentropy: 4.2415 - val_Top3: 0.2860 - val_Top10: 0.4938\n",
      "Epoch 2/2\n",
      "146/148 [============================>.] - ETA: 0s - loss: 4.4193 - accuracy: 0.2092 - categorical_accuracy: 0.2092 - categorical_crossentropy: 4.0019 - Top3: 0.3474 - Top10: 0.5058INFO:tensorflow:Unsupported signature for serialization: ((TensorSpec(shape=(1280, 200), dtype=tf.float32, name='gradient'), <tensorflow.python.framework.func_graph.UnknownArgument object at 0x7f178412b9a0>, 139739386151600), {}).\n"
     ]
    },
    {
     "name": "stderr",
     "output_type": "stream",
     "text": [
      "INFO:tensorflow:Unsupported signature for serialization: ((TensorSpec(shape=(1280, 200), dtype=tf.float32, name='gradient'), <tensorflow.python.framework.func_graph.UnknownArgument object at 0x7f178412b9a0>, 139739386151600), {}).\n"
     ]
    },
    {
     "name": "stdout",
     "output_type": "stream",
     "text": [
      "INFO:tensorflow:Unsupported signature for serialization: ((TensorSpec(shape=(200,), dtype=tf.float32, name='gradient'), <tensorflow.python.framework.func_graph.UnknownArgument object at 0x7f1779f14790>, 139739384855920), {}).\n"
     ]
    },
    {
     "name": "stderr",
     "output_type": "stream",
     "text": [
      "INFO:tensorflow:Unsupported signature for serialization: ((TensorSpec(shape=(200,), dtype=tf.float32, name='gradient'), <tensorflow.python.framework.func_graph.UnknownArgument object at 0x7f1779f14790>, 139739384855920), {}).\n"
     ]
    },
    {
     "name": "stdout",
     "output_type": "stream",
     "text": [
      "INFO:tensorflow:Unsupported signature for serialization: ((TensorSpec(shape=(1280, 200), dtype=tf.float32, name='gradient'), <tensorflow.python.framework.func_graph.UnknownArgument object at 0x7f178412b9a0>, 139739386151600), {}).\n"
     ]
    },
    {
     "name": "stderr",
     "output_type": "stream",
     "text": [
      "INFO:tensorflow:Unsupported signature for serialization: ((TensorSpec(shape=(1280, 200), dtype=tf.float32, name='gradient'), <tensorflow.python.framework.func_graph.UnknownArgument object at 0x7f178412b9a0>, 139739386151600), {}).\n"
     ]
    },
    {
     "name": "stdout",
     "output_type": "stream",
     "text": [
      "INFO:tensorflow:Unsupported signature for serialization: ((TensorSpec(shape=(200,), dtype=tf.float32, name='gradient'), <tensorflow.python.framework.func_graph.UnknownArgument object at 0x7f1779f14790>, 139739384855920), {}).\n"
     ]
    },
    {
     "name": "stderr",
     "output_type": "stream",
     "text": [
      "INFO:tensorflow:Unsupported signature for serialization: ((TensorSpec(shape=(200,), dtype=tf.float32, name='gradient'), <tensorflow.python.framework.func_graph.UnknownArgument object at 0x7f1779f14790>, 139739384855920), {}).\n",
      "WARNING:absl:Found untraced functions such as _update_step_xla while saving (showing 1 of 1). These functions will not be directly callable after loading.\n"
     ]
    },
    {
     "name": "stdout",
     "output_type": "stream",
     "text": [
      "INFO:tensorflow:Assets written to: models_cub_02_logs/CUB-200-2011/tfhub/google.tf2-preview.mobilenet_v2/best_model/assets\n"
     ]
    },
    {
     "name": "stderr",
     "output_type": "stream",
     "text": [
      "INFO:tensorflow:Assets written to: models_cub_02_logs/CUB-200-2011/tfhub/google.tf2-preview.mobilenet_v2/best_model/assets\n"
     ]
    },
    {
     "name": "stdout",
     "output_type": "stream",
     "text": [
      "(1, 4.196374893188477)\n",
      "148/148 [==============================] - 9s 59ms/step - loss: 4.4180 - accuracy: 0.2099 - categorical_accuracy: 0.2099 - categorical_crossentropy: 3.9999 - Top3: 0.3479 - Top10: 0.5061 - val_loss: 4.1964 - val_accuracy: 0.2355 - val_categorical_accuracy: 0.2355 - val_categorical_crossentropy: 3.7741 - val_Top3: 0.4145 - val_Top10: 0.6381\n",
      "<keras.callbacks.History object at 0x7f17c02a7490>\n",
      "4.536968231201172\n",
      "Found 11788 files belonging to 200 classes.\n",
      "Using 9431 files for training.\n",
      "Using 2357 files for validation.\n",
      "\n",
      "Base Model:\n",
      "Non-trainable weights: 21802784\n",
      "Trainable weights: 0\n",
      "\n",
      "models_cub_02_logs/CUB-200-2011/tfhub/google.tf2-preview.inception_v3\n",
      "Epoch 1/2\n",
      "148/148 [==============================] - ETA: 0s - loss: 5.3529 - accuracy: 0.0182 - categorical_accuracy: 0.0182 - categorical_crossentropy: 5.3057 - Top3: 0.0443 - Top10: 0.1131INFO:tensorflow:Unsupported signature for serialization: ((TensorSpec(shape=(2048, 200), dtype=tf.float32, name='gradient'), <tensorflow.python.framework.func_graph.UnknownArgument object at 0x7f1722185060>, 139740390285328), {}).\n"
     ]
    },
    {
     "name": "stderr",
     "output_type": "stream",
     "text": [
      "INFO:tensorflow:Unsupported signature for serialization: ((TensorSpec(shape=(2048, 200), dtype=tf.float32, name='gradient'), <tensorflow.python.framework.func_graph.UnknownArgument object at 0x7f1722185060>, 139740390285328), {}).\n"
     ]
    },
    {
     "name": "stdout",
     "output_type": "stream",
     "text": [
      "INFO:tensorflow:Unsupported signature for serialization: ((TensorSpec(shape=(200,), dtype=tf.float32, name='gradient'), <tensorflow.python.framework.func_graph.UnknownArgument object at 0x7f170970de70>, 139740390285568), {}).\n"
     ]
    },
    {
     "name": "stderr",
     "output_type": "stream",
     "text": [
      "INFO:tensorflow:Unsupported signature for serialization: ((TensorSpec(shape=(200,), dtype=tf.float32, name='gradient'), <tensorflow.python.framework.func_graph.UnknownArgument object at 0x7f170970de70>, 139740390285568), {}).\n"
     ]
    },
    {
     "name": "stdout",
     "output_type": "stream",
     "text": [
      "INFO:tensorflow:Unsupported signature for serialization: ((TensorSpec(shape=(2048, 200), dtype=tf.float32, name='gradient'), <tensorflow.python.framework.func_graph.UnknownArgument object at 0x7f1722185060>, 139740390285328), {}).\n"
     ]
    },
    {
     "name": "stderr",
     "output_type": "stream",
     "text": [
      "INFO:tensorflow:Unsupported signature for serialization: ((TensorSpec(shape=(2048, 200), dtype=tf.float32, name='gradient'), <tensorflow.python.framework.func_graph.UnknownArgument object at 0x7f1722185060>, 139740390285328), {}).\n"
     ]
    },
    {
     "name": "stdout",
     "output_type": "stream",
     "text": [
      "INFO:tensorflow:Unsupported signature for serialization: ((TensorSpec(shape=(200,), dtype=tf.float32, name='gradient'), <tensorflow.python.framework.func_graph.UnknownArgument object at 0x7f170970de70>, 139740390285568), {}).\n"
     ]
    },
    {
     "name": "stderr",
     "output_type": "stream",
     "text": [
      "INFO:tensorflow:Unsupported signature for serialization: ((TensorSpec(shape=(200,), dtype=tf.float32, name='gradient'), <tensorflow.python.framework.func_graph.UnknownArgument object at 0x7f170970de70>, 139740390285568), {}).\n",
      "WARNING:absl:Found untraced functions such as _update_step_xla while saving (showing 1 of 1). These functions will not be directly callable after loading.\n"
     ]
    },
    {
     "name": "stdout",
     "output_type": "stream",
     "text": [
      "INFO:tensorflow:Assets written to: models_cub_02_logs/CUB-200-2011/tfhub/google.tf2-preview.inception_v3/best_model/assets\n"
     ]
    },
    {
     "name": "stderr",
     "output_type": "stream",
     "text": [
      "INFO:tensorflow:Assets written to: models_cub_02_logs/CUB-200-2011/tfhub/google.tf2-preview.inception_v3/best_model/assets\n"
     ]
    },
    {
     "name": "stdout",
     "output_type": "stream",
     "text": [
      "(0, 5.133784294128418)\n",
      "148/148 [==============================] - 29s 168ms/step - loss: 5.3529 - accuracy: 0.0182 - categorical_accuracy: 0.0182 - categorical_crossentropy: 5.3057 - Top3: 0.0443 - Top10: 0.1131 - val_loss: 5.1338 - val_accuracy: 0.0259 - val_categorical_accuracy: 0.0259 - val_categorical_crossentropy: 5.0493 - val_Top3: 0.0725 - val_Top10: 0.1807\n",
      "Epoch 2/2\n",
      "147/148 [============================>.] - ETA: 0s - loss: 5.0596 - accuracy: 0.0530 - categorical_accuracy: 0.0530 - categorical_crossentropy: 4.9234 - Top3: 0.1116 - Top10: 0.2309INFO:tensorflow:Unsupported signature for serialization: ((TensorSpec(shape=(2048, 200), dtype=tf.float32, name='gradient'), <tensorflow.python.framework.func_graph.UnknownArgument object at 0x7f1722185060>, 139740390285328), {}).\n"
     ]
    },
    {
     "name": "stderr",
     "output_type": "stream",
     "text": [
      "INFO:tensorflow:Unsupported signature for serialization: ((TensorSpec(shape=(2048, 200), dtype=tf.float32, name='gradient'), <tensorflow.python.framework.func_graph.UnknownArgument object at 0x7f1722185060>, 139740390285328), {}).\n"
     ]
    },
    {
     "name": "stdout",
     "output_type": "stream",
     "text": [
      "INFO:tensorflow:Unsupported signature for serialization: ((TensorSpec(shape=(200,), dtype=tf.float32, name='gradient'), <tensorflow.python.framework.func_graph.UnknownArgument object at 0x7f170970de70>, 139740390285568), {}).\n"
     ]
    },
    {
     "name": "stderr",
     "output_type": "stream",
     "text": [
      "INFO:tensorflow:Unsupported signature for serialization: ((TensorSpec(shape=(200,), dtype=tf.float32, name='gradient'), <tensorflow.python.framework.func_graph.UnknownArgument object at 0x7f170970de70>, 139740390285568), {}).\n"
     ]
    },
    {
     "name": "stdout",
     "output_type": "stream",
     "text": [
      "INFO:tensorflow:Unsupported signature for serialization: ((TensorSpec(shape=(2048, 200), dtype=tf.float32, name='gradient'), <tensorflow.python.framework.func_graph.UnknownArgument object at 0x7f1722185060>, 139740390285328), {}).\n"
     ]
    },
    {
     "name": "stderr",
     "output_type": "stream",
     "text": [
      "INFO:tensorflow:Unsupported signature for serialization: ((TensorSpec(shape=(2048, 200), dtype=tf.float32, name='gradient'), <tensorflow.python.framework.func_graph.UnknownArgument object at 0x7f1722185060>, 139740390285328), {}).\n"
     ]
    },
    {
     "name": "stdout",
     "output_type": "stream",
     "text": [
      "INFO:tensorflow:Unsupported signature for serialization: ((TensorSpec(shape=(200,), dtype=tf.float32, name='gradient'), <tensorflow.python.framework.func_graph.UnknownArgument object at 0x7f170970de70>, 139740390285568), {}).\n"
     ]
    },
    {
     "name": "stderr",
     "output_type": "stream",
     "text": [
      "INFO:tensorflow:Unsupported signature for serialization: ((TensorSpec(shape=(200,), dtype=tf.float32, name='gradient'), <tensorflow.python.framework.func_graph.UnknownArgument object at 0x7f170970de70>, 139740390285568), {}).\n",
      "WARNING:absl:Found untraced functions such as _update_step_xla while saving (showing 1 of 1). These functions will not be directly callable after loading.\n"
     ]
    },
    {
     "name": "stdout",
     "output_type": "stream",
     "text": [
      "INFO:tensorflow:Assets written to: models_cub_02_logs/CUB-200-2011/tfhub/google.tf2-preview.inception_v3/best_model/assets\n"
     ]
    },
    {
     "name": "stderr",
     "output_type": "stream",
     "text": [
      "INFO:tensorflow:Assets written to: models_cub_02_logs/CUB-200-2011/tfhub/google.tf2-preview.inception_v3/best_model/assets\n"
     ]
    },
    {
     "name": "stdout",
     "output_type": "stream",
     "text": [
      "(1, 5.0380940437316895)\n",
      "148/148 [==============================] - 19s 126ms/step - loss: 5.0592 - accuracy: 0.0531 - categorical_accuracy: 0.0531 - categorical_crossentropy: 4.9229 - Top3: 0.1117 - Top10: 0.2310 - val_loss: 5.0381 - val_accuracy: 0.0496 - val_categorical_accuracy: 0.0496 - val_categorical_crossentropy: 4.9156 - val_Top3: 0.1069 - val_Top10: 0.2406\n",
      "<keras.callbacks.History object at 0x7f170632b490>\n",
      "5.133784294128418\n",
      "Found 11788 files belonging to 200 classes.\n",
      "Using 9431 files for training.\n",
      "Using 2357 files for validation.\n",
      "\n",
      "Base Model:\n",
      "Non-trainable weights: 21802784\n",
      "Trainable weights: 0\n",
      "\n",
      "models_cub_02_logs/CUB-200-2011/tfhub/google.inaturalist.inception_v3\n",
      "Epoch 1/2\n",
      "147/148 [============================>.] - ETA: 0s - loss: 4.1845 - accuracy: 0.3901 - categorical_accuracy: 0.3901 - categorical_crossentropy: 3.8054 - Top3: 0.5162 - Top10: 0.7194INFO:tensorflow:Unsupported signature for serialization: ((TensorSpec(shape=(2048, 200), dtype=tf.float32, name='gradient'), <tensorflow.python.framework.func_graph.UnknownArgument object at 0x7f11251e9480>, 139737586538320), {}).\n"
     ]
    },
    {
     "name": "stderr",
     "output_type": "stream",
     "text": [
      "INFO:tensorflow:Unsupported signature for serialization: ((TensorSpec(shape=(2048, 200), dtype=tf.float32, name='gradient'), <tensorflow.python.framework.func_graph.UnknownArgument object at 0x7f11251e9480>, 139737586538320), {}).\n"
     ]
    },
    {
     "name": "stdout",
     "output_type": "stream",
     "text": [
      "INFO:tensorflow:Unsupported signature for serialization: ((TensorSpec(shape=(200,), dtype=tf.float32, name='gradient'), <tensorflow.python.framework.func_graph.UnknownArgument object at 0x7f11251eb850>, 139736914334528), {}).\n"
     ]
    },
    {
     "name": "stderr",
     "output_type": "stream",
     "text": [
      "INFO:tensorflow:Unsupported signature for serialization: ((TensorSpec(shape=(200,), dtype=tf.float32, name='gradient'), <tensorflow.python.framework.func_graph.UnknownArgument object at 0x7f11251eb850>, 139736914334528), {}).\n"
     ]
    },
    {
     "name": "stdout",
     "output_type": "stream",
     "text": [
      "INFO:tensorflow:Unsupported signature for serialization: ((TensorSpec(shape=(2048, 200), dtype=tf.float32, name='gradient'), <tensorflow.python.framework.func_graph.UnknownArgument object at 0x7f11251e9480>, 139737586538320), {}).\n"
     ]
    },
    {
     "name": "stderr",
     "output_type": "stream",
     "text": [
      "INFO:tensorflow:Unsupported signature for serialization: ((TensorSpec(shape=(2048, 200), dtype=tf.float32, name='gradient'), <tensorflow.python.framework.func_graph.UnknownArgument object at 0x7f11251e9480>, 139737586538320), {}).\n"
     ]
    },
    {
     "name": "stdout",
     "output_type": "stream",
     "text": [
      "INFO:tensorflow:Unsupported signature for serialization: ((TensorSpec(shape=(200,), dtype=tf.float32, name='gradient'), <tensorflow.python.framework.func_graph.UnknownArgument object at 0x7f11251eb850>, 139736914334528), {}).\n"
     ]
    },
    {
     "name": "stderr",
     "output_type": "stream",
     "text": [
      "INFO:tensorflow:Unsupported signature for serialization: ((TensorSpec(shape=(200,), dtype=tf.float32, name='gradient'), <tensorflow.python.framework.func_graph.UnknownArgument object at 0x7f11251eb850>, 139736914334528), {}).\n",
      "WARNING:absl:Found untraced functions such as _update_step_xla while saving (showing 1 of 1). These functions will not be directly callable after loading.\n"
     ]
    },
    {
     "name": "stdout",
     "output_type": "stream",
     "text": [
      "INFO:tensorflow:Assets written to: models_cub_02_logs/CUB-200-2011/tfhub/google.inaturalist.inception_v3/best_model/assets\n"
     ]
    },
    {
     "name": "stderr",
     "output_type": "stream",
     "text": [
      "INFO:tensorflow:Assets written to: models_cub_02_logs/CUB-200-2011/tfhub/google.inaturalist.inception_v3/best_model/assets\n"
     ]
    },
    {
     "name": "stdout",
     "output_type": "stream",
     "text": [
      "(0, 2.9166975021362305)\n",
      "148/148 [==============================] - 25s 149ms/step - loss: 4.1832 - accuracy: 0.3902 - categorical_accuracy: 0.3902 - categorical_crossentropy: 3.8037 - Top3: 0.5161 - Top10: 0.7193 - val_loss: 2.9167 - val_accuracy: 0.7997 - val_categorical_accuracy: 0.7997 - val_categorical_crossentropy: 2.2222 - val_Top3: 0.9393 - val_Top10: 0.9767\n",
      "Epoch 2/2\n",
      "147/148 [============================>.] - ETA: 0s - loss: 3.1213 - accuracy: 0.5941 - categorical_accuracy: 0.5941 - categorical_crossentropy: 2.2944 - Top3: 0.6619 - Top10: 0.8600INFO:tensorflow:Unsupported signature for serialization: ((TensorSpec(shape=(2048, 200), dtype=tf.float32, name='gradient'), <tensorflow.python.framework.func_graph.UnknownArgument object at 0x7f11251e9480>, 139737586538320), {}).\n"
     ]
    },
    {
     "name": "stderr",
     "output_type": "stream",
     "text": [
      "INFO:tensorflow:Unsupported signature for serialization: ((TensorSpec(shape=(2048, 200), dtype=tf.float32, name='gradient'), <tensorflow.python.framework.func_graph.UnknownArgument object at 0x7f11251e9480>, 139737586538320), {}).\n"
     ]
    },
    {
     "name": "stdout",
     "output_type": "stream",
     "text": [
      "INFO:tensorflow:Unsupported signature for serialization: ((TensorSpec(shape=(200,), dtype=tf.float32, name='gradient'), <tensorflow.python.framework.func_graph.UnknownArgument object at 0x7f11251eb850>, 139736914334528), {}).\n"
     ]
    },
    {
     "name": "stderr",
     "output_type": "stream",
     "text": [
      "INFO:tensorflow:Unsupported signature for serialization: ((TensorSpec(shape=(200,), dtype=tf.float32, name='gradient'), <tensorflow.python.framework.func_graph.UnknownArgument object at 0x7f11251eb850>, 139736914334528), {}).\n"
     ]
    },
    {
     "name": "stdout",
     "output_type": "stream",
     "text": [
      "INFO:tensorflow:Unsupported signature for serialization: ((TensorSpec(shape=(2048, 200), dtype=tf.float32, name='gradient'), <tensorflow.python.framework.func_graph.UnknownArgument object at 0x7f11251e9480>, 139737586538320), {}).\n"
     ]
    },
    {
     "name": "stderr",
     "output_type": "stream",
     "text": [
      "INFO:tensorflow:Unsupported signature for serialization: ((TensorSpec(shape=(2048, 200), dtype=tf.float32, name='gradient'), <tensorflow.python.framework.func_graph.UnknownArgument object at 0x7f11251e9480>, 139737586538320), {}).\n"
     ]
    },
    {
     "name": "stdout",
     "output_type": "stream",
     "text": [
      "INFO:tensorflow:Unsupported signature for serialization: ((TensorSpec(shape=(200,), dtype=tf.float32, name='gradient'), <tensorflow.python.framework.func_graph.UnknownArgument object at 0x7f11251eb850>, 139736914334528), {}).\n"
     ]
    },
    {
     "name": "stderr",
     "output_type": "stream",
     "text": [
      "INFO:tensorflow:Unsupported signature for serialization: ((TensorSpec(shape=(200,), dtype=tf.float32, name='gradient'), <tensorflow.python.framework.func_graph.UnknownArgument object at 0x7f11251eb850>, 139736914334528), {}).\n",
      "WARNING:absl:Found untraced functions such as _update_step_xla while saving (showing 1 of 1). These functions will not be directly callable after loading.\n"
     ]
    },
    {
     "name": "stdout",
     "output_type": "stream",
     "text": [
      "INFO:tensorflow:Assets written to: models_cub_02_logs/CUB-200-2011/tfhub/google.inaturalist.inception_v3/best_model/assets\n"
     ]
    },
    {
     "name": "stderr",
     "output_type": "stream",
     "text": [
      "INFO:tensorflow:Assets written to: models_cub_02_logs/CUB-200-2011/tfhub/google.inaturalist.inception_v3/best_model/assets\n"
     ]
    },
    {
     "name": "stdout",
     "output_type": "stream",
     "text": [
      "(1, 2.4808266162872314)\n",
      "148/148 [==============================] - 19s 127ms/step - loss: 3.1211 - accuracy: 0.5942 - categorical_accuracy: 0.5942 - categorical_crossentropy: 2.2941 - Top3: 0.6619 - Top10: 0.8601 - val_loss: 2.4808 - val_accuracy: 0.8354 - val_categorical_accuracy: 0.8354 - val_categorical_crossentropy: 1.6175 - val_Top3: 0.9453 - val_Top10: 0.9801\n",
      "<keras.callbacks.History object at 0x7f17222d2e30>\n",
      "2.9166975021362305\n",
      "Found 11788 files belonging to 200 classes.\n",
      "Using 9431 files for training.\n",
      "Using 2357 files for validation.\n",
      "\n",
      "Base Model:\n",
      "Non-trainable weights: 54528\n",
      "Trainable weights: 20806952\n",
      "\n",
      "models_cub_02_logs/CUB-200-2011/keras.applications/Xception\n",
      "Epoch 1/2\n",
      "148/148 [==============================] - ETA: 0s - loss: 4.1378 - accuracy: 0.2988 - categorical_accuracy: 0.2988 - categorical_crossentropy: 3.6519 - Top3: 0.4317 - Top10: 0.6198"
     ]
    },
    {
     "name": "stderr",
     "output_type": "stream",
     "text": [
      "WARNING:absl:Found untraced functions such as _jit_compiled_convolution_op, _jit_compiled_convolution_op, _jit_compiled_convolution_op, _jit_compiled_convolution_op, _jit_compiled_convolution_op while saving (showing 5 of 40). These functions will not be directly callable after loading.\n"
     ]
    },
    {
     "name": "stdout",
     "output_type": "stream",
     "text": [
      "INFO:tensorflow:Assets written to: models_cub_02_logs/CUB-200-2011/keras.applications/Xception/best_model/assets\n"
     ]
    },
    {
     "name": "stderr",
     "output_type": "stream",
     "text": [
      "INFO:tensorflow:Assets written to: models_cub_02_logs/CUB-200-2011/keras.applications/Xception/best_model/assets\n"
     ]
    },
    {
     "name": "stdout",
     "output_type": "stream",
     "text": [
      "(0, 3.1290175914764404)\n",
      "148/148 [==============================] - 103s 582ms/step - loss: 4.1378 - accuracy: 0.2988 - categorical_accuracy: 0.2988 - categorical_crossentropy: 3.6519 - Top3: 0.4317 - Top10: 0.6198 - val_loss: 3.1290 - val_accuracy: 0.5906 - val_categorical_accuracy: 0.5906 - val_categorical_crossentropy: 2.4504 - val_Top3: 0.8010 - val_Top10: 0.9410\n",
      "Epoch 2/2\n",
      "148/148 [==============================] - ETA: 0s - loss: 3.2660 - accuracy: 0.5403 - categorical_accuracy: 0.5403 - categorical_crossentropy: 2.4190 - Top3: 0.6360 - Top10: 0.8626"
     ]
    },
    {
     "name": "stderr",
     "output_type": "stream",
     "text": [
      "WARNING:absl:Found untraced functions such as _jit_compiled_convolution_op, _jit_compiled_convolution_op, _jit_compiled_convolution_op, _jit_compiled_convolution_op, _jit_compiled_convolution_op while saving (showing 5 of 40). These functions will not be directly callable after loading.\n"
     ]
    },
    {
     "name": "stdout",
     "output_type": "stream",
     "text": [
      "INFO:tensorflow:Assets written to: models_cub_02_logs/CUB-200-2011/keras.applications/Xception/best_model/assets\n"
     ]
    },
    {
     "name": "stderr",
     "output_type": "stream",
     "text": [
      "INFO:tensorflow:Assets written to: models_cub_02_logs/CUB-200-2011/keras.applications/Xception/best_model/assets\n"
     ]
    },
    {
     "name": "stdout",
     "output_type": "stream",
     "text": [
      "(1, 3.017591714859009)\n",
      "148/148 [==============================] - 79s 533ms/step - loss: 3.2660 - accuracy: 0.5403 - categorical_accuracy: 0.5403 - categorical_crossentropy: 2.4190 - Top3: 0.6360 - Top10: 0.8626 - val_loss: 3.0176 - val_accuracy: 0.6733 - val_categorical_accuracy: 0.6733 - val_categorical_crossentropy: 2.3386 - val_Top3: 0.8583 - val_Top10: 0.9512\n",
      "<keras.callbacks.History object at 0x7f179c128940>\n",
      "3.1290175914764404\n",
      "Found 11788 files belonging to 200 classes.\n",
      "Using 9431 files for training.\n",
      "Using 2357 files for validation.\n",
      "\n",
      "Base Model:\n",
      "Non-trainable weights: 105344\n",
      "Trainable weights: 42552832\n",
      "\n",
      "models_cub_02_logs/CUB-200-2011/keras.applications/ResNet101\n",
      "Epoch 1/2\n",
      "148/148 [==============================] - ETA: 0s - loss: 4.6778 - accuracy: 0.1468 - categorical_accuracy: 0.1468 - categorical_crossentropy: 4.3627 - Top3: 0.2611 - Top10: 0.4093"
     ]
    },
    {
     "name": "stderr",
     "output_type": "stream",
     "text": [
      "WARNING:absl:Found untraced functions such as _jit_compiled_convolution_op, _jit_compiled_convolution_op, _jit_compiled_convolution_op, _jit_compiled_convolution_op, _jit_compiled_convolution_op while saving (showing 5 of 104). These functions will not be directly callable after loading.\n"
     ]
    },
    {
     "name": "stdout",
     "output_type": "stream",
     "text": [
      "INFO:tensorflow:Assets written to: models_cub_02_logs/CUB-200-2011/keras.applications/ResNet101/best_model/assets\n"
     ]
    },
    {
     "name": "stderr",
     "output_type": "stream",
     "text": [
      "INFO:tensorflow:Assets written to: models_cub_02_logs/CUB-200-2011/keras.applications/ResNet101/best_model/assets\n"
     ]
    },
    {
     "name": "stdout",
     "output_type": "stream",
     "text": [
      "(0, 42.07725143432617)\n",
      "148/148 [==============================] - 111s 546ms/step - loss: 4.6778 - accuracy: 0.1468 - categorical_accuracy: 0.1468 - categorical_crossentropy: 4.3627 - Top3: 0.2611 - Top10: 0.4093 - val_loss: 42.0773 - val_accuracy: 0.0874 - val_categorical_accuracy: 0.0874 - val_categorical_crossentropy: 41.5768 - val_Top3: 0.1986 - val_Top10: 0.3958\n",
      "Epoch 2/2\n",
      "148/148 [==============================] - ETA: 0s - loss: 3.7838 - accuracy: 0.3833 - categorical_accuracy: 0.3833 - categorical_crossentropy: 3.1114 - Top3: 0.5327 - Top10: 0.6677"
     ]
    },
    {
     "name": "stderr",
     "output_type": "stream",
     "text": [
      "WARNING:absl:Found untraced functions such as _jit_compiled_convolution_op, _jit_compiled_convolution_op, _jit_compiled_convolution_op, _jit_compiled_convolution_op, _jit_compiled_convolution_op while saving (showing 5 of 104). These functions will not be directly callable after loading.\n"
     ]
    },
    {
     "name": "stdout",
     "output_type": "stream",
     "text": [
      "INFO:tensorflow:Assets written to: models_cub_02_logs/CUB-200-2011/keras.applications/ResNet101/best_model/assets\n"
     ]
    },
    {
     "name": "stderr",
     "output_type": "stream",
     "text": [
      "INFO:tensorflow:Assets written to: models_cub_02_logs/CUB-200-2011/keras.applications/ResNet101/best_model/assets\n"
     ]
    },
    {
     "name": "stdout",
     "output_type": "stream",
     "text": [
      "(1, 3.9862630367279053)\n",
      "148/148 [==============================] - 76s 511ms/step - loss: 3.7838 - accuracy: 0.3833 - categorical_accuracy: 0.3833 - categorical_crossentropy: 3.1114 - Top3: 0.5327 - Top10: 0.6677 - val_loss: 3.9863 - val_accuracy: 0.3305 - val_categorical_accuracy: 0.3305 - val_categorical_crossentropy: 3.5711 - val_Top3: 0.5418 - val_Top10: 0.7603\n",
      "<keras.callbacks.History object at 0x7f17313c3100>\n",
      "42.07725143432617\n",
      "Found 11788 files belonging to 200 classes.\n",
      "Using 9431 files for training.\n",
      "Using 2357 files for validation.\n",
      "\n",
      "Base Model:\n",
      "Non-trainable weights: 53120\n",
      "Trainable weights: 23534592\n",
      "\n",
      "models_cub_02_logs/CUB-200-2011/keras.applications/ResNet50\n",
      "Epoch 1/2\n",
      "148/148 [==============================] - ETA: 0s - loss: 4.6283 - accuracy: 0.1627 - categorical_accuracy: 0.1627 - categorical_crossentropy: 4.2788 - Top3: 0.2862 - Top10: 0.4327"
     ]
    },
    {
     "name": "stderr",
     "output_type": "stream",
     "text": [
      "WARNING:absl:Found untraced functions such as _jit_compiled_convolution_op, _jit_compiled_convolution_op, _jit_compiled_convolution_op, _jit_compiled_convolution_op, _jit_compiled_convolution_op while saving (showing 5 of 53). These functions will not be directly callable after loading.\n"
     ]
    },
    {
     "name": "stdout",
     "output_type": "stream",
     "text": [
      "INFO:tensorflow:Assets written to: models_cub_02_logs/CUB-200-2011/keras.applications/ResNet50/best_model/assets\n"
     ]
    },
    {
     "name": "stderr",
     "output_type": "stream",
     "text": [
      "INFO:tensorflow:Assets written to: models_cub_02_logs/CUB-200-2011/keras.applications/ResNet50/best_model/assets\n"
     ]
    },
    {
     "name": "stdout",
     "output_type": "stream",
     "text": [
      "(0, 4.435545921325684)\n",
      "148/148 [==============================] - 60s 303ms/step - loss: 4.6283 - accuracy: 0.1627 - categorical_accuracy: 0.1627 - categorical_crossentropy: 4.2788 - Top3: 0.2862 - Top10: 0.4327 - val_loss: 4.4355 - val_accuracy: 0.1392 - val_categorical_accuracy: 0.1392 - val_categorical_crossentropy: 4.0653 - val_Top3: 0.2932 - val_Top10: 0.5112\n",
      "Epoch 2/2\n",
      "148/148 [==============================] - ETA: 0s - loss: 3.7391 - accuracy: 0.4134 - categorical_accuracy: 0.4134 - categorical_crossentropy: 3.0363 - Top3: 0.5500 - Top10: 0.6723"
     ]
    },
    {
     "name": "stderr",
     "output_type": "stream",
     "text": [
      "WARNING:absl:Found untraced functions such as _jit_compiled_convolution_op, _jit_compiled_convolution_op, _jit_compiled_convolution_op, _jit_compiled_convolution_op, _jit_compiled_convolution_op while saving (showing 5 of 53). These functions will not be directly callable after loading.\n"
     ]
    },
    {
     "name": "stdout",
     "output_type": "stream",
     "text": [
      "INFO:tensorflow:Assets written to: models_cub_02_logs/CUB-200-2011/keras.applications/ResNet50/best_model/assets\n"
     ]
    },
    {
     "name": "stderr",
     "output_type": "stream",
     "text": [
      "INFO:tensorflow:Assets written to: models_cub_02_logs/CUB-200-2011/keras.applications/ResNet50/best_model/assets\n"
     ]
    },
    {
     "name": "stdout",
     "output_type": "stream",
     "text": [
      "(1, 3.861441135406494)\n",
      "148/148 [==============================] - 42s 286ms/step - loss: 3.7391 - accuracy: 0.4134 - categorical_accuracy: 0.4134 - categorical_crossentropy: 3.0363 - Top3: 0.5500 - Top10: 0.6723 - val_loss: 3.8614 - val_accuracy: 0.4111 - val_categorical_accuracy: 0.4111 - val_categorical_crossentropy: 3.4254 - val_Top3: 0.6517 - val_Top10: 0.8362\n",
      "<keras.callbacks.History object at 0x7f10ca97a980>\n",
      "4.435545921325684\n",
      "Found 11788 files belonging to 200 classes.\n",
      "Using 9431 files for training.\n",
      "Using 2357 files for validation.\n",
      "\n",
      "Base Model:\n",
      "Non-trainable weights: 60544\n",
      "Trainable weights: 54276192\n",
      "\n",
      "models_cub_02_logs/CUB-200-2011/keras.applications/InceptionResNetV2\n",
      "Epoch 1/2\n",
      "148/148 [==============================] - ETA: 0s - loss: 4.2580 - accuracy: 0.2551 - categorical_accuracy: 0.2551 - categorical_crossentropy: 3.8003 - Top3: 0.3896 - Top10: 0.5240"
     ]
    },
    {
     "name": "stderr",
     "output_type": "stream",
     "text": [
      "WARNING:absl:Found untraced functions such as _jit_compiled_convolution_op, _jit_compiled_convolution_op, _jit_compiled_convolution_op, _jit_compiled_convolution_op, _jit_compiled_convolution_op while saving (showing 5 of 244). These functions will not be directly callable after loading.\n"
     ]
    },
    {
     "name": "stdout",
     "output_type": "stream",
     "text": [
      "INFO:tensorflow:Assets written to: models_cub_02_logs/CUB-200-2011/keras.applications/InceptionResNetV2/best_model/assets\n"
     ]
    },
    {
     "name": "stderr",
     "output_type": "stream",
     "text": [
      "INFO:tensorflow:Assets written to: models_cub_02_logs/CUB-200-2011/keras.applications/InceptionResNetV2/best_model/assets\n"
     ]
    },
    {
     "name": "stdout",
     "output_type": "stream",
     "text": [
      "(0, 5.313594818115234)\n",
      "148/148 [==============================] - 184s 962ms/step - loss: 4.2580 - accuracy: 0.2551 - categorical_accuracy: 0.2551 - categorical_crossentropy: 3.8003 - Top3: 0.3896 - Top10: 0.5240 - val_loss: 5.3136 - val_accuracy: 0.3326 - val_categorical_accuracy: 0.3326 - val_categorical_crossentropy: 4.9248 - val_Top3: 0.5363 - val_Top10: 0.7378\n",
      "Epoch 2/2\n",
      "148/148 [==============================] - ETA: 0s - loss: 3.4332 - accuracy: 0.4934 - categorical_accuracy: 0.4934 - categorical_crossentropy: 2.6389 - Top3: 0.6071 - Top10: 0.7701"
     ]
    },
    {
     "name": "stderr",
     "output_type": "stream",
     "text": [
      "WARNING:absl:Found untraced functions such as _jit_compiled_convolution_op, _jit_compiled_convolution_op, _jit_compiled_convolution_op, _jit_compiled_convolution_op, _jit_compiled_convolution_op while saving (showing 5 of 244). These functions will not be directly callable after loading.\n"
     ]
    },
    {
     "name": "stdout",
     "output_type": "stream",
     "text": [
      "INFO:tensorflow:Assets written to: models_cub_02_logs/CUB-200-2011/keras.applications/InceptionResNetV2/best_model/assets\n"
     ]
    },
    {
     "name": "stderr",
     "output_type": "stream",
     "text": [
      "INFO:tensorflow:Assets written to: models_cub_02_logs/CUB-200-2011/keras.applications/InceptionResNetV2/best_model/assets\n"
     ]
    },
    {
     "name": "stdout",
     "output_type": "stream",
     "text": [
      "(1, 3.411019802093506)\n",
      "148/148 [==============================] - 131s 888ms/step - loss: 3.4332 - accuracy: 0.4934 - categorical_accuracy: 0.4934 - categorical_crossentropy: 2.6389 - Top3: 0.6071 - Top10: 0.7701 - val_loss: 3.4110 - val_accuracy: 0.5112 - val_categorical_accuracy: 0.5112 - val_categorical_crossentropy: 2.7801 - val_Top3: 0.7276 - val_Top10: 0.8791\n",
      "<keras.callbacks.History object at 0x7f10ea20d9c0>\n",
      "5.313594818115234\n",
      "Found 11788 files belonging to 200 classes.\n",
      "Using 9431 files for training.\n",
      "Using 2357 files for validation.\n",
      "\n",
      "Base Model:\n",
      "Non-trainable weights: 60608\n",
      "Trainable weights: 5858704\n",
      "\n",
      "models_cub_02_logs/CUB-200-2011/keras.applications/EfficientNetV2B0\n",
      "Epoch 1/2\n"
     ]
    },
    {
     "name": "stderr",
     "output_type": "stream",
     "text": [
      "2023-02-05 13:53:53.229572: E tensorflow/core/grappler/optimizers/meta_optimizer.cc:954] layout failed: INVALID_ARGUMENT: Size of values 0 does not match size of permutation 4 @ fanin shape infull_model/efficientnetv2-b0/block2b_drop/dropout/SelectV2-2-TransposeNHWCToNCHW-LayoutOptimizer\n"
     ]
    },
    {
     "name": "stdout",
     "output_type": "stream",
     "text": [
      "148/148 [==============================] - ETA: 0s - loss: 4.4660 - accuracy: 0.2149 - categorical_accuracy: 0.2149 - categorical_crossentropy: 4.1237 - Top3: 0.3316 - Top10: 0.4606"
     ]
    },
    {
     "name": "stderr",
     "output_type": "stream",
     "text": [
      "WARNING:absl:Function `_wrapped_model` contains input name(s) efficientnetv2-b0_input with unsupported characters which will be renamed to efficientnetv2_b0_input in the SavedModel.\n",
      "WARNING:absl:Found untraced functions such as _jit_compiled_convolution_op, _jit_compiled_convolution_op, _jit_compiled_convolution_op, _jit_compiled_convolution_op, _jit_compiled_convolution_op while saving (showing 5 of 91). These functions will not be directly callable after loading.\n"
     ]
    },
    {
     "name": "stdout",
     "output_type": "stream",
     "text": [
      "INFO:tensorflow:Assets written to: models_cub_02_logs/CUB-200-2011/keras.applications/EfficientNetV2B0/best_model/assets\n"
     ]
    },
    {
     "name": "stderr",
     "output_type": "stream",
     "text": [
      "INFO:tensorflow:Assets written to: models_cub_02_logs/CUB-200-2011/keras.applications/EfficientNetV2B0/best_model/assets\n"
     ]
    },
    {
     "name": "stdout",
     "output_type": "stream",
     "text": [
      "(0, 3.2268424034118652)\n",
      "148/148 [==============================] - 68s 320ms/step - loss: 4.4660 - accuracy: 0.2149 - categorical_accuracy: 0.2149 - categorical_crossentropy: 4.1237 - Top3: 0.3316 - Top10: 0.4606 - val_loss: 3.2268 - val_accuracy: 0.5397 - val_categorical_accuracy: 0.5397 - val_categorical_crossentropy: 2.5459 - val_Top3: 0.7650 - val_Top10: 0.9270\n",
      "Epoch 2/2\n",
      "148/148 [==============================] - ETA: 0s - loss: 3.4334 - accuracy: 0.5103 - categorical_accuracy: 0.5103 - categorical_crossentropy: 2.6496 - Top3: 0.6137 - Top10: 0.7176"
     ]
    },
    {
     "name": "stderr",
     "output_type": "stream",
     "text": [
      "WARNING:absl:Function `_wrapped_model` contains input name(s) efficientnetv2-b0_input with unsupported characters which will be renamed to efficientnetv2_b0_input in the SavedModel.\n",
      "WARNING:absl:Found untraced functions such as _jit_compiled_convolution_op, _jit_compiled_convolution_op, _jit_compiled_convolution_op, _jit_compiled_convolution_op, _jit_compiled_convolution_op while saving (showing 5 of 91). These functions will not be directly callable after loading.\n"
     ]
    },
    {
     "name": "stdout",
     "output_type": "stream",
     "text": [
      "INFO:tensorflow:Assets written to: models_cub_02_logs/CUB-200-2011/keras.applications/EfficientNetV2B0/best_model/assets\n"
     ]
    },
    {
     "name": "stderr",
     "output_type": "stream",
     "text": [
      "INFO:tensorflow:Assets written to: models_cub_02_logs/CUB-200-2011/keras.applications/EfficientNetV2B0/best_model/assets\n"
     ]
    },
    {
     "name": "stdout",
     "output_type": "stream",
     "text": [
      "(1, 2.8062069416046143)\n",
      "148/148 [==============================] - 42s 288ms/step - loss: 3.4334 - accuracy: 0.5103 - categorical_accuracy: 0.5103 - categorical_crossentropy: 2.6496 - Top3: 0.6137 - Top10: 0.7176 - val_loss: 2.8062 - val_accuracy: 0.6759 - val_categorical_accuracy: 0.6759 - val_categorical_crossentropy: 1.9971 - val_Top3: 0.8693 - val_Top10: 0.9555\n",
      "<keras.callbacks.History object at 0x7f10cbd25840>\n",
      "3.2268424034118652\n"
     ]
    }
   ],
   "source": [
    "# Run Logging\n",
    "run_logs = RunLogging(\n",
    "    data_dir = f'models_cub_02_logs',\n",
    ")\n",
    "\n",
    "# for each base model\n",
    "for base_model_metadata in base_models_metadata:\n",
    "    run_model(base_model_metadata)\n",
    "    \n",
    "    \n",
    "    \n",
    "    \n"
   ]
  },
  {
   "cell_type": "code",
   "execution_count": 12,
   "id": "3b10d121",
   "metadata": {},
   "outputs": [
    {
     "data": {
      "text/plain": [
       "0"
      ]
     },
     "execution_count": 12,
     "metadata": {},
     "output_type": "execute_result"
    }
   ],
   "source": [
    "tf.config.threading.get_inter_op_parallelism_threads()"
   ]
  },
  {
   "cell_type": "code",
   "execution_count": null,
   "id": "ab9e4dea",
   "metadata": {},
   "outputs": [],
   "source": []
  }
 ],
 "metadata": {
  "kernelspec": {
   "display_name": "Python [conda env:.conda-fungi] *",
   "language": "python",
   "name": "conda-env-.conda-fungi-py"
  },
  "language_info": {
   "codemirror_mode": {
    "name": "ipython",
    "version": 3
   },
   "file_extension": ".py",
   "mimetype": "text/x-python",
   "name": "python",
   "nbconvert_exporter": "python",
   "pygments_lexer": "ipython3",
   "version": "3.10.8"
  }
 },
 "nbformat": 4,
 "nbformat_minor": 5
}
