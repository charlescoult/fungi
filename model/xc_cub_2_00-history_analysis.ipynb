{
 "cells": [
  {
   "cell_type": "code",
   "execution_count": 2,
   "id": "eec8ac6f",
   "metadata": {},
   "outputs": [],
   "source": [
    "import tensorflow as tf\n",
    "from tensorflow.keras.preprocessing.image import ImageDataGenerator\n"
   ]
  },
  {
   "cell_type": "code",
   "execution_count": 3,
   "id": "0cd270a1",
   "metadata": {},
   "outputs": [],
   "source": [
    "datagen = ImageDataGenerator(\n",
    "    preprocessing_function = tf.keras.applications.xception.preprocess_input,\n",
    "    validation_split=0.2,\n",
    ")"
   ]
  },
  {
   "cell_type": "code",
   "execution_count": 4,
   "id": "650587a0",
   "metadata": {},
   "outputs": [
    {
     "name": "stdout",
     "output_type": "stream",
     "text": [
      "Found 9465 images belonging to 200 classes.\n",
      "Found 2323 images belonging to 200 classes.\n"
     ]
    }
   ],
   "source": [
    "train_gen = datagen.flow_from_directory(\n",
    "    '../cub/CUB_200_2011/images',\n",
    "    target_size=(299,299),\n",
    "    batch_size=50,\n",
    "    subset='training',\n",
    "    shuffle=True,\n",
    ")\n",
    "\n",
    "validation_gen = datagen.flow_from_directory(\n",
    "    '../cub/CUB_200_2011/images',\n",
    "    target_size=(299,299),\n",
    "    batch_size=50,\n",
    "    subset='validation',\n",
    "    shuffle=True,\n",
    ")\n"
   ]
  },
  {
   "cell_type": "code",
   "execution_count": 6,
   "id": "70366088",
   "metadata": {},
   "outputs": [],
   "source": [
    "import os\n",
    "\n",
    "# load model\n",
    "model = tf.keras.models.load_model(f'model.{os.uname()[1]}.000')"
   ]
  },
  {
   "cell_type": "code",
   "execution_count": 7,
   "id": "04aa344b",
   "metadata": {},
   "outputs": [
    {
     "name": "stdout",
     "output_type": "stream",
     "text": [
      "47/47 [==============================] - 150s 3s/step - loss: 1.5830 - accuracy: 0.6677\n",
      "CPU times: user 33min 38s, sys: 5min 3s, total: 38min 41s\n",
      "Wall time: 2min 30s\n"
     ]
    },
    {
     "data": {
      "text/plain": [
       "[1.5829674005508423, 0.6676711440086365]"
      ]
     },
     "execution_count": 7,
     "metadata": {},
     "output_type": "execute_result"
    }
   ],
   "source": [
    "%%time\n",
    "model.evaluate(validation_gen)"
   ]
  },
  {
   "cell_type": "code",
   "execution_count": null,
   "id": "bca3fe21",
   "metadata": {},
   "outputs": [],
   "source": [
    "model."
   ]
  }
 ],
 "metadata": {
  "kernelspec": {
   "display_name": "Python [conda env:.conda-fungi] *",
   "language": "python",
   "name": "conda-env-.conda-fungi-py"
  },
  "language_info": {
   "codemirror_mode": {
    "name": "ipython",
    "version": 3
   },
   "file_extension": ".py",
   "mimetype": "text/x-python",
   "name": "python",
   "nbconvert_exporter": "python",
   "pygments_lexer": "ipython3",
   "version": "3.10.8"
  }
 },
 "nbformat": 4,
 "nbformat_minor": 5
}
