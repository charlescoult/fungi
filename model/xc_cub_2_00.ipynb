{
 "cells": [
  {
   "cell_type": "markdown",
   "id": "9fc9a61b",
   "metadata": {},
   "source": [
    "# Xception Transfer Learning with CUB-200-2011 Dataset"
   ]
  },
  {
   "cell_type": "code",
   "execution_count": 10,
   "id": "eec8ac6f",
   "metadata": {},
   "outputs": [],
   "source": [
    "import tensorflow as tf"
   ]
  },
  {
   "cell_type": "code",
   "execution_count": 11,
   "id": "c24f4d5f",
   "metadata": {},
   "outputs": [
    {
     "name": "stdout",
     "output_type": "stream",
     "text": [
      "The tensorboard extension is already loaded. To reload it, use:\n",
      "  %reload_ext tensorboard\n"
     ]
    }
   ],
   "source": [
    "%load_ext tensorboard"
   ]
  },
  {
   "cell_type": "markdown",
   "id": "b5d663f6",
   "metadata": {},
   "source": [
    "## Run ID"
   ]
  },
  {
   "cell_type": "code",
   "execution_count": 12,
   "id": "b482d80e",
   "metadata": {},
   "outputs": [],
   "source": [
    "import datetime as dt\n",
    "\n",
    "# run_id = dt.datetime.now().strftime(\"%Y%m%d-%H%M%S\")\n",
    "tb_log_dir = './tb_log_2'"
   ]
  },
  {
   "cell_type": "markdown",
   "id": "a0a929e8",
   "metadata": {},
   "source": [
    "## Parameters"
   ]
  },
  {
   "cell_type": "code",
   "execution_count": 13,
   "id": "2d38e092",
   "metadata": {},
   "outputs": [],
   "source": [
    "# Parameter space setup\n",
    "optimizers = [\n",
    "    tf.optimizers.Adam(\n",
    "        # learning_rate=0.001, # this is the default\n",
    "    ),\n",
    "    tf.optimizers.Adam(\n",
    "        learning_rate=0.0001,\n",
    "    ),\n",
    "]\n",
    "\n",
    "losses = {\n",
    "    'Categorical Cross Entropy': tf.keras.losses.CategoricalCrossentropy(),\n",
    "    'Binary Cross Entropy': tf.keras.losses.BinaryCrossentropy(\n",
    "        from_logits = True,\n",
    "    ),\n",
    "}"
   ]
  },
  {
   "cell_type": "code",
   "execution_count": 14,
   "id": "bbd49f6f",
   "metadata": {},
   "outputs": [],
   "source": [
    "# Selected model parameters\n",
    "\n",
    "batch_size = 128\n",
    "dropout = 0.4\n",
    "optimizer = optimizers[0]\n",
    "loss = losses['Categorical Cross Entropy']\n"
   ]
  },
  {
   "cell_type": "code",
   "execution_count": 15,
   "id": "bbaf79b3",
   "metadata": {},
   "outputs": [],
   "source": [
    "epochs = 80"
   ]
  },
  {
   "cell_type": "markdown",
   "id": "c374dcb3",
   "metadata": {},
   "source": [
    "## Load Dataset"
   ]
  },
  {
   "cell_type": "code",
   "execution_count": 16,
   "id": "0cd270a1",
   "metadata": {},
   "outputs": [],
   "source": [
    "from tensorflow.keras.preprocessing.image import ImageDataGenerator\n",
    "\n",
    "data_dir = '/mnt/cub/CUB_200_2011/images'\n",
    "\n",
    "datagen = ImageDataGenerator(\n",
    "    preprocessing_function = tf.keras.applications.xception.preprocess_input,\n",
    "    validation_split=0.2,\n",
    ")\n"
   ]
  },
  {
   "cell_type": "code",
   "execution_count": 17,
   "id": "650587a0",
   "metadata": {},
   "outputs": [
    {
     "name": "stdout",
     "output_type": "stream",
     "text": [
      "Found 9465 images belonging to 200 classes.\n",
      "Found 2323 images belonging to 200 classes.\n"
     ]
    }
   ],
   "source": [
    "train_gen = datagen.flow_from_directory(\n",
    "    data_dir,\n",
    "    target_size=(299,299),\n",
    "    batch_size=batch_size,\n",
    "    subset='training',\n",
    "    shuffle=True,\n",
    ")\n",
    "\n",
    "validation_gen = datagen.flow_from_directory(\n",
    "    data_dir,\n",
    "    target_size=(299,299),\n",
    "    batch_size=batch_size,\n",
    "    subset='validation',\n",
    "    shuffle=True,\n",
    ")\n"
   ]
  },
  {
   "cell_type": "code",
   "execution_count": 18,
   "id": "1a1895e4",
   "metadata": {},
   "outputs": [
    {
     "data": {
      "text/plain": [
       "keras.preprocessing.image.DirectoryIterator"
      ]
     },
     "execution_count": 18,
     "metadata": {},
     "output_type": "execute_result"
    }
   ],
   "source": [
    "type(train_gen)"
   ]
  },
  {
   "cell_type": "markdown",
   "id": "f4413f32",
   "metadata": {},
   "source": [
    "## Build Model"
   ]
  },
  {
   "cell_type": "code",
   "execution_count": 20,
   "id": "78fa74ad",
   "metadata": {},
   "outputs": [
    {
     "ename": "ResourceExhaustedError",
     "evalue": "{{function_node __wrapped__Mul_device_/job:localhost/replica:0/task:0/device:GPU:0}} failed to allocate memory [Op:Mul]",
     "output_type": "error",
     "traceback": [
      "\u001b[0;31m---------------------------------------------------------------------------\u001b[0m",
      "\u001b[0;31mResourceExhaustedError\u001b[0m                    Traceback (most recent call last)",
      "Cell \u001b[0;32mIn[20], line 9\u001b[0m\n\u001b[1;32m      3\u001b[0m \u001b[38;5;66;03m# https://www.tensorflow.org/tutorials/images/data_augmentation\u001b[39;00m\n\u001b[1;32m      4\u001b[0m model \u001b[38;5;241m=\u001b[39m tf\u001b[38;5;241m.\u001b[39mkeras\u001b[38;5;241m.\u001b[39mmodels\u001b[38;5;241m.\u001b[39mSequential([\n\u001b[1;32m      5\u001b[0m     layers\u001b[38;5;241m.\u001b[39mRandomFlip(\u001b[38;5;124m\"\u001b[39m\u001b[38;5;124mhorizontal_and_vertical\u001b[39m\u001b[38;5;124m\"\u001b[39m),\n\u001b[1;32m      6\u001b[0m     layers\u001b[38;5;241m.\u001b[39mRandomRotation(\u001b[38;5;241m0.2\u001b[39m),\n\u001b[1;32m      7\u001b[0m ])\n\u001b[0;32m----> 9\u001b[0m base_model \u001b[38;5;241m=\u001b[39m \u001b[43mtf\u001b[49m\u001b[38;5;241;43m.\u001b[39;49m\u001b[43mkeras\u001b[49m\u001b[38;5;241;43m.\u001b[39;49m\u001b[43mapplications\u001b[49m\u001b[38;5;241;43m.\u001b[39;49m\u001b[43mXception\u001b[49m\u001b[43m(\u001b[49m\n\u001b[1;32m     10\u001b[0m \u001b[43m    \u001b[49m\u001b[43minclude_top\u001b[49m\u001b[38;5;241;43m=\u001b[39;49m\u001b[38;5;28;43;01mFalse\u001b[39;49;00m\u001b[43m,\u001b[49m\n\u001b[1;32m     11\u001b[0m \u001b[43m    \u001b[49m\u001b[43mpooling\u001b[49m\u001b[38;5;241;43m=\u001b[39;49m\u001b[38;5;124;43m'\u001b[39;49m\u001b[38;5;124;43mavg\u001b[39;49m\u001b[38;5;124;43m'\u001b[39;49m\u001b[43m,\u001b[49m\n\u001b[1;32m     12\u001b[0m \u001b[43m    \u001b[49m\u001b[38;5;66;43;03m# weights=\"imagenet\"\u001b[39;49;00m\n\u001b[1;32m     13\u001b[0m \u001b[43m)\u001b[49m\n\u001b[1;32m     14\u001b[0m basemodel\u001b[38;5;241m.\u001b[39mtrainable \u001b[38;5;241m=\u001b[39m \u001b[38;5;28;01mFalse\u001b[39;00m\n\u001b[1;32m     15\u001b[0m model\u001b[38;5;241m.\u001b[39madd(base_model)\n",
      "File \u001b[0;32m~/.conda/envs/fungi/lib/python3.10/site-packages/keras/applications/xception.py:303\u001b[0m, in \u001b[0;36mXception\u001b[0;34m(include_top, weights, input_tensor, input_shape, pooling, classes, classifier_activation)\u001b[0m\n\u001b[1;32m    298\u001b[0m x \u001b[38;5;241m=\u001b[39m layers\u001b[38;5;241m.\u001b[39mMaxPooling2D(\n\u001b[1;32m    299\u001b[0m     (\u001b[38;5;241m3\u001b[39m, \u001b[38;5;241m3\u001b[39m), strides\u001b[38;5;241m=\u001b[39m(\u001b[38;5;241m2\u001b[39m, \u001b[38;5;241m2\u001b[39m), padding\u001b[38;5;241m=\u001b[39m\u001b[38;5;124m\"\u001b[39m\u001b[38;5;124msame\u001b[39m\u001b[38;5;124m\"\u001b[39m, name\u001b[38;5;241m=\u001b[39m\u001b[38;5;124m\"\u001b[39m\u001b[38;5;124mblock13_pool\u001b[39m\u001b[38;5;124m\"\u001b[39m\n\u001b[1;32m    300\u001b[0m )(x)\n\u001b[1;32m    301\u001b[0m x \u001b[38;5;241m=\u001b[39m layers\u001b[38;5;241m.\u001b[39madd([x, residual])\n\u001b[0;32m--> 303\u001b[0m x \u001b[38;5;241m=\u001b[39m \u001b[43mlayers\u001b[49m\u001b[38;5;241;43m.\u001b[39;49m\u001b[43mSeparableConv2D\u001b[49m\u001b[43m(\u001b[49m\n\u001b[1;32m    304\u001b[0m \u001b[43m    \u001b[49m\u001b[38;5;241;43m1536\u001b[39;49m\u001b[43m,\u001b[49m\u001b[43m \u001b[49m\u001b[43m(\u001b[49m\u001b[38;5;241;43m3\u001b[39;49m\u001b[43m,\u001b[49m\u001b[43m \u001b[49m\u001b[38;5;241;43m3\u001b[39;49m\u001b[43m)\u001b[49m\u001b[43m,\u001b[49m\u001b[43m \u001b[49m\u001b[43mpadding\u001b[49m\u001b[38;5;241;43m=\u001b[39;49m\u001b[38;5;124;43m\"\u001b[39;49m\u001b[38;5;124;43msame\u001b[39;49m\u001b[38;5;124;43m\"\u001b[39;49m\u001b[43m,\u001b[49m\u001b[43m \u001b[49m\u001b[43muse_bias\u001b[49m\u001b[38;5;241;43m=\u001b[39;49m\u001b[38;5;28;43;01mFalse\u001b[39;49;00m\u001b[43m,\u001b[49m\u001b[43m \u001b[49m\u001b[43mname\u001b[49m\u001b[38;5;241;43m=\u001b[39;49m\u001b[38;5;124;43m\"\u001b[39;49m\u001b[38;5;124;43mblock14_sepconv1\u001b[39;49m\u001b[38;5;124;43m\"\u001b[39;49m\n\u001b[1;32m    305\u001b[0m \u001b[43m\u001b[49m\u001b[43m)\u001b[49m\u001b[43m(\u001b[49m\u001b[43mx\u001b[49m\u001b[43m)\u001b[49m\n\u001b[1;32m    306\u001b[0m x \u001b[38;5;241m=\u001b[39m layers\u001b[38;5;241m.\u001b[39mBatchNormalization(\n\u001b[1;32m    307\u001b[0m     axis\u001b[38;5;241m=\u001b[39mchannel_axis, name\u001b[38;5;241m=\u001b[39m\u001b[38;5;124m\"\u001b[39m\u001b[38;5;124mblock14_sepconv1_bn\u001b[39m\u001b[38;5;124m\"\u001b[39m\n\u001b[1;32m    308\u001b[0m )(x)\n\u001b[1;32m    309\u001b[0m x \u001b[38;5;241m=\u001b[39m layers\u001b[38;5;241m.\u001b[39mActivation(\u001b[38;5;124m\"\u001b[39m\u001b[38;5;124mrelu\u001b[39m\u001b[38;5;124m\"\u001b[39m, name\u001b[38;5;241m=\u001b[39m\u001b[38;5;124m\"\u001b[39m\u001b[38;5;124mblock14_sepconv1_act\u001b[39m\u001b[38;5;124m\"\u001b[39m)(x)\n",
      "File \u001b[0;32m~/.conda/envs/fungi/lib/python3.10/site-packages/keras/utils/traceback_utils.py:70\u001b[0m, in \u001b[0;36mfilter_traceback.<locals>.error_handler\u001b[0;34m(*args, **kwargs)\u001b[0m\n\u001b[1;32m     67\u001b[0m     filtered_tb \u001b[38;5;241m=\u001b[39m _process_traceback_frames(e\u001b[38;5;241m.\u001b[39m__traceback__)\n\u001b[1;32m     68\u001b[0m     \u001b[38;5;66;03m# To get the full stack trace, call:\u001b[39;00m\n\u001b[1;32m     69\u001b[0m     \u001b[38;5;66;03m# `tf.debugging.disable_traceback_filtering()`\u001b[39;00m\n\u001b[0;32m---> 70\u001b[0m     \u001b[38;5;28;01mraise\u001b[39;00m e\u001b[38;5;241m.\u001b[39mwith_traceback(filtered_tb) \u001b[38;5;28;01mfrom\u001b[39;00m \u001b[38;5;28mNone\u001b[39m\n\u001b[1;32m     71\u001b[0m \u001b[38;5;28;01mfinally\u001b[39;00m:\n\u001b[1;32m     72\u001b[0m     \u001b[38;5;28;01mdel\u001b[39;00m filtered_tb\n",
      "File \u001b[0;32m~/.conda/envs/fungi/lib/python3.10/site-packages/keras/backend.py:2100\u001b[0m, in \u001b[0;36mRandomGenerator.random_uniform\u001b[0;34m(self, shape, minval, maxval, dtype, nonce)\u001b[0m\n\u001b[1;32m   2098\u001b[0m     \u001b[38;5;28;01mif\u001b[39;00m nonce:\n\u001b[1;32m   2099\u001b[0m         seed \u001b[38;5;241m=\u001b[39m tf\u001b[38;5;241m.\u001b[39mrandom\u001b[38;5;241m.\u001b[39mexperimental\u001b[38;5;241m.\u001b[39mstateless_fold_in(seed, nonce)\n\u001b[0;32m-> 2100\u001b[0m     \u001b[38;5;28;01mreturn\u001b[39;00m \u001b[43mtf\u001b[49m\u001b[38;5;241;43m.\u001b[39;49m\u001b[43mrandom\u001b[49m\u001b[38;5;241;43m.\u001b[39;49m\u001b[43mstateless_uniform\u001b[49m\u001b[43m(\u001b[49m\n\u001b[1;32m   2101\u001b[0m \u001b[43m        \u001b[49m\u001b[43mshape\u001b[49m\u001b[38;5;241;43m=\u001b[39;49m\u001b[43mshape\u001b[49m\u001b[43m,\u001b[49m\n\u001b[1;32m   2102\u001b[0m \u001b[43m        \u001b[49m\u001b[43mminval\u001b[49m\u001b[38;5;241;43m=\u001b[39;49m\u001b[43mminval\u001b[49m\u001b[43m,\u001b[49m\n\u001b[1;32m   2103\u001b[0m \u001b[43m        \u001b[49m\u001b[43mmaxval\u001b[49m\u001b[38;5;241;43m=\u001b[39;49m\u001b[43mmaxval\u001b[49m\u001b[43m,\u001b[49m\n\u001b[1;32m   2104\u001b[0m \u001b[43m        \u001b[49m\u001b[43mdtype\u001b[49m\u001b[38;5;241;43m=\u001b[39;49m\u001b[43mdtype\u001b[49m\u001b[43m,\u001b[49m\n\u001b[1;32m   2105\u001b[0m \u001b[43m        \u001b[49m\u001b[43mseed\u001b[49m\u001b[38;5;241;43m=\u001b[39;49m\u001b[43mseed\u001b[49m\u001b[43m,\u001b[49m\n\u001b[1;32m   2106\u001b[0m \u001b[43m    \u001b[49m\u001b[43m)\u001b[49m\n\u001b[1;32m   2107\u001b[0m \u001b[38;5;28;01mreturn\u001b[39;00m tf\u001b[38;5;241m.\u001b[39mrandom\u001b[38;5;241m.\u001b[39muniform(\n\u001b[1;32m   2108\u001b[0m     shape\u001b[38;5;241m=\u001b[39mshape,\n\u001b[1;32m   2109\u001b[0m     minval\u001b[38;5;241m=\u001b[39mminval,\n\u001b[0;32m   (...)\u001b[0m\n\u001b[1;32m   2112\u001b[0m     seed\u001b[38;5;241m=\u001b[39m\u001b[38;5;28mself\u001b[39m\u001b[38;5;241m.\u001b[39mmake_legacy_seed(),\n\u001b[1;32m   2113\u001b[0m )\n",
      "\u001b[0;31mResourceExhaustedError\u001b[0m: {{function_node __wrapped__Mul_device_/job:localhost/replica:0/task:0/device:GPU:0}} failed to allocate memory [Op:Mul]"
     ]
    }
   ],
   "source": [
    "from tensorflow.keras import layers\n",
    "\n",
    "# https://www.tensorflow.org/tutorials/images/data_augmentation\n",
    "model = tf.keras.models.Sequential([\n",
    "    layers.RandomFlip(\"horizontal_and_vertical\"),\n",
    "    layers.RandomRotation(0.2),\n",
    "])\n",
    "\n",
    "base_model = tf.keras.applications.Xception(\n",
    "    include_top=False,\n",
    "    pooling='avg',\n",
    "    # weights=\"imagenet\"\n",
    ")\n",
    "basemodel.trainable = False\n",
    "model.add(base_model)\n",
    "\n",
    "# model.add( GlobalAveragePooling2D() )\n",
    "model.add( layers.Dropout(dropout) )\n",
    "model.add( layers.Dense(200) )\n",
    "model.add( layers.Activation(\"softmax\", dtype=\"float32\") )\n"
   ]
  },
  {
   "cell_type": "code",
   "execution_count": null,
   "id": "190cfecc",
   "metadata": {},
   "outputs": [],
   "source": [
    "model.summary()"
   ]
  },
  {
   "cell_type": "code",
   "execution_count": 21,
   "id": "9bbfc286",
   "metadata": {},
   "outputs": [
    {
     "name": "stdout",
     "output_type": "stream",
     "text": [
      "CPU times: user 7.28 ms, sys: 366 µs, total: 7.65 ms\n",
      "Wall time: 8.59 ms\n"
     ]
    }
   ],
   "source": [
    "%%time\n",
    "model.compile(\n",
    "    optimizer=optimizer,\n",
    "    loss=loss,\n",
    "    metrics=[\n",
    "        'accuracy',\n",
    "        tf.keras.metrics.TopKCategoricalAccuracy(k=3, name=\"Top3\"),\n",
    "        tf.keras.metrics.TopKCategoricalAccuracy(k=10, name=\"Top10\"),\n",
    "    ],\n",
    ")"
   ]
  },
  {
   "cell_type": "markdown",
   "id": "40998b3f",
   "metadata": {},
   "source": [
    "## Train"
   ]
  },
  {
   "cell_type": "code",
   "execution_count": 12,
   "id": "31c56baa",
   "metadata": {},
   "outputs": [
    {
     "name": "stdout",
     "output_type": "stream",
     "text": [
      "Epoch 1/80\n",
      "74/74 [==============================] - 35s 397ms/step - loss: 5.1689 - accuracy: 0.0228 - Top3: 0.0575 - Top10: 0.1441 - val_loss: 4.9639 - val_accuracy: 0.0895 - val_Top3: 0.1985 - val_Top10: 0.4077\n",
      "Epoch 2/80\n",
      "74/74 [==============================] - 25s 332ms/step - loss: 4.8193 - accuracy: 0.1002 - Top3: 0.2208 - Top10: 0.4285 - val_loss: 4.6533 - val_accuracy: 0.2355 - val_Top3: 0.4460 - val_Top10: 0.7090\n",
      "Epoch 3/80\n",
      "74/74 [==============================] - 25s 335ms/step - loss: 4.5181 - accuracy: 0.2054 - Top3: 0.3816 - Top10: 0.6430 - val_loss: 4.3755 - val_accuracy: 0.3418 - val_Top3: 0.5764 - val_Top10: 0.8158\n",
      "Epoch 4/80\n",
      "74/74 [==============================] - 25s 333ms/step - loss: 4.2478 - accuracy: 0.2849 - Top3: 0.5036 - Top10: 0.7600 - val_loss: 4.1276 - val_accuracy: 0.4120 - val_Top3: 0.6509 - val_Top10: 0.8661\n",
      "Epoch 5/80\n",
      "74/74 [==============================] - 25s 329ms/step - loss: 4.0057 - accuracy: 0.3559 - Top3: 0.5880 - Top10: 0.8249 - val_loss: 3.9065 - val_accuracy: 0.4550 - val_Top3: 0.6814 - val_Top10: 0.8842\n",
      "Epoch 6/80\n",
      "74/74 [==============================] - 25s 334ms/step - loss: 3.7897 - accuracy: 0.4035 - Top3: 0.6429 - Top10: 0.8642 - val_loss: 3.7091 - val_accuracy: 0.4770 - val_Top3: 0.7133 - val_Top10: 0.9019\n",
      "Epoch 7/80\n",
      "74/74 [==============================] - 25s 331ms/step - loss: 3.5893 - accuracy: 0.4506 - Top3: 0.6899 - Top10: 0.8911 - val_loss: 3.5340 - val_accuracy: 0.4976 - val_Top3: 0.7279 - val_Top10: 0.9027\n",
      "Epoch 8/80\n",
      "74/74 [==============================] - 25s 331ms/step - loss: 3.4226 - accuracy: 0.4787 - Top3: 0.7154 - Top10: 0.8986 - val_loss: 3.3779 - val_accuracy: 0.5123 - val_Top3: 0.7409 - val_Top10: 0.9083\n",
      "Epoch 9/80\n",
      "74/74 [==============================] - 25s 330ms/step - loss: 3.2630 - accuracy: 0.5012 - Top3: 0.7361 - Top10: 0.9113 - val_loss: 3.2382 - val_accuracy: 0.5230 - val_Top3: 0.7520 - val_Top10: 0.9122\n",
      "Epoch 10/80\n",
      "74/74 [==============================] - 25s 335ms/step - loss: 3.1270 - accuracy: 0.5200 - Top3: 0.7510 - Top10: 0.9214 - val_loss: 3.1131 - val_accuracy: 0.5329 - val_Top3: 0.7563 - val_Top10: 0.9169\n",
      "Epoch 11/80\n",
      "74/74 [==============================] - 25s 333ms/step - loss: 2.9942 - accuracy: 0.5439 - Top3: 0.7701 - Top10: 0.9265 - val_loss: 3.0004 - val_accuracy: 0.5441 - val_Top3: 0.7667 - val_Top10: 0.9169\n",
      "Epoch 12/80\n",
      "74/74 [==============================] - 25s 336ms/step - loss: 2.8823 - accuracy: 0.5587 - Top3: 0.7776 - Top10: 0.9311 - val_loss: 2.8992 - val_accuracy: 0.5536 - val_Top3: 0.7753 - val_Top10: 0.9208\n",
      "Epoch 13/80\n",
      "74/74 [==============================] - 25s 333ms/step - loss: 2.7751 - accuracy: 0.5760 - Top3: 0.7949 - Top10: 0.9366 - val_loss: 2.8067 - val_accuracy: 0.5570 - val_Top3: 0.7762 - val_Top10: 0.9229\n",
      "Epoch 14/80\n",
      "74/74 [==============================] - 25s 332ms/step - loss: 2.6810 - accuracy: 0.5859 - Top3: 0.8026 - Top10: 0.9361 - val_loss: 2.7223 - val_accuracy: 0.5652 - val_Top3: 0.7805 - val_Top10: 0.9255\n",
      "Epoch 15/80\n",
      "74/74 [==============================] - 25s 331ms/step - loss: 2.5916 - accuracy: 0.5988 - Top3: 0.8074 - Top10: 0.9417 - val_loss: 2.6452 - val_accuracy: 0.5691 - val_Top3: 0.7852 - val_Top10: 0.9260\n",
      "Epoch 16/80\n",
      "74/74 [==============================] - 25s 334ms/step - loss: 2.5153 - accuracy: 0.6055 - Top3: 0.8133 - Top10: 0.9416 - val_loss: 2.5743 - val_accuracy: 0.5704 - val_Top3: 0.7895 - val_Top10: 0.9264\n",
      "Epoch 17/80\n",
      "74/74 [==============================] - 25s 334ms/step - loss: 2.4382 - accuracy: 0.6161 - Top3: 0.8209 - Top10: 0.9464 - val_loss: 2.5089 - val_accuracy: 0.5786 - val_Top3: 0.7912 - val_Top10: 0.9272\n",
      "Epoch 18/80\n",
      "74/74 [==============================] - 25s 335ms/step - loss: 2.3657 - accuracy: 0.6209 - Top3: 0.8268 - Top10: 0.9492 - val_loss: 2.4486 - val_accuracy: 0.5777 - val_Top3: 0.7912 - val_Top10: 0.9272\n",
      "Epoch 19/80\n",
      "74/74 [==============================] - 25s 335ms/step - loss: 2.3033 - accuracy: 0.6293 - Top3: 0.8296 - Top10: 0.9487 - val_loss: 2.3920 - val_accuracy: 0.5811 - val_Top3: 0.7990 - val_Top10: 0.9294\n",
      "Epoch 20/80\n",
      "74/74 [==============================] - 25s 331ms/step - loss: 2.2394 - accuracy: 0.6337 - Top3: 0.8394 - Top10: 0.9518 - val_loss: 2.3401 - val_accuracy: 0.5842 - val_Top3: 0.7985 - val_Top10: 0.9303\n",
      "Epoch 21/80\n",
      "74/74 [==============================] - 25s 334ms/step - loss: 2.1832 - accuracy: 0.6522 - Top3: 0.8416 - Top10: 0.9522 - val_loss: 2.2913 - val_accuracy: 0.5880 - val_Top3: 0.8011 - val_Top10: 0.9307\n",
      "Epoch 22/80\n",
      "74/74 [==============================] - 25s 335ms/step - loss: 2.1341 - accuracy: 0.6499 - Top3: 0.8435 - Top10: 0.9513 - val_loss: 2.2460 - val_accuracy: 0.5876 - val_Top3: 0.8028 - val_Top10: 0.9307\n",
      "Epoch 23/80\n",
      "74/74 [==============================] - 25s 335ms/step - loss: 2.0836 - accuracy: 0.6591 - Top3: 0.8469 - Top10: 0.9552 - val_loss: 2.2035 - val_accuracy: 0.5936 - val_Top3: 0.8080 - val_Top10: 0.9316\n",
      "Epoch 24/80\n",
      "74/74 [==============================] - 25s 331ms/step - loss: 2.0325 - accuracy: 0.6647 - Top3: 0.8530 - Top10: 0.9588 - val_loss: 2.1635 - val_accuracy: 0.5984 - val_Top3: 0.8063 - val_Top10: 0.9328\n",
      "Epoch 25/80\n",
      "74/74 [==============================] - 25s 334ms/step - loss: 1.9920 - accuracy: 0.6663 - Top3: 0.8575 - Top10: 0.9576 - val_loss: 2.1263 - val_accuracy: 0.6009 - val_Top3: 0.8123 - val_Top10: 0.9346\n",
      "Epoch 26/80\n",
      "74/74 [==============================] - 25s 336ms/step - loss: 1.9502 - accuracy: 0.6729 - Top3: 0.8573 - Top10: 0.9570 - val_loss: 2.0907 - val_accuracy: 0.6009 - val_Top3: 0.8102 - val_Top10: 0.9350\n",
      "Epoch 27/80\n",
      "74/74 [==============================] - 25s 331ms/step - loss: 1.9097 - accuracy: 0.6796 - Top3: 0.8579 - Top10: 0.9586 - val_loss: 2.0576 - val_accuracy: 0.6035 - val_Top3: 0.8127 - val_Top10: 0.9359\n",
      "Epoch 28/80\n",
      "74/74 [==============================] - 25s 333ms/step - loss: 1.8680 - accuracy: 0.6874 - Top3: 0.8657 - Top10: 0.9593 - val_loss: 2.0262 - val_accuracy: 0.6074 - val_Top3: 0.8140 - val_Top10: 0.9354\n",
      "Epoch 29/80\n",
      "74/74 [==============================] - 25s 334ms/step - loss: 1.8358 - accuracy: 0.6883 - Top3: 0.8627 - Top10: 0.9593 - val_loss: 1.9963 - val_accuracy: 0.6078 - val_Top3: 0.8123 - val_Top10: 0.9359\n",
      "Epoch 30/80\n",
      "74/74 [==============================] - 25s 331ms/step - loss: 1.7994 - accuracy: 0.6890 - Top3: 0.8678 - Top10: 0.9619 - val_loss: 1.9680 - val_accuracy: 0.6104 - val_Top3: 0.8153 - val_Top10: 0.9376\n",
      "Epoch 31/80\n",
      "74/74 [==============================] - 25s 334ms/step - loss: 1.7695 - accuracy: 0.6923 - Top3: 0.8694 - Top10: 0.9627 - val_loss: 1.9413 - val_accuracy: 0.6113 - val_Top3: 0.8179 - val_Top10: 0.9380\n",
      "Epoch 32/80\n",
      "74/74 [==============================] - 25s 337ms/step - loss: 1.7346 - accuracy: 0.6987 - Top3: 0.8721 - Top10: 0.9646 - val_loss: 1.9160 - val_accuracy: 0.6117 - val_Top3: 0.8183 - val_Top10: 0.9384\n",
      "Epoch 33/80\n",
      "74/74 [==============================] - 25s 330ms/step - loss: 1.7082 - accuracy: 0.6987 - Top3: 0.8737 - Top10: 0.9647 - val_loss: 1.8918 - val_accuracy: 0.6164 - val_Top3: 0.8196 - val_Top10: 0.9384\n",
      "Epoch 34/80\n",
      "74/74 [==============================] - 25s 331ms/step - loss: 1.6800 - accuracy: 0.7080 - Top3: 0.8758 - Top10: 0.9646 - val_loss: 1.8685 - val_accuracy: 0.6169 - val_Top3: 0.8222 - val_Top10: 0.9380\n",
      "Epoch 35/80\n",
      "74/74 [==============================] - 25s 337ms/step - loss: 1.6509 - accuracy: 0.7125 - Top3: 0.8788 - Top10: 0.9674 - val_loss: 1.8470 - val_accuracy: 0.6190 - val_Top3: 0.8218 - val_Top10: 0.9384\n",
      "Epoch 36/80\n",
      "74/74 [==============================] - 25s 333ms/step - loss: 1.6260 - accuracy: 0.7116 - Top3: 0.8787 - Top10: 0.9658 - val_loss: 1.8261 - val_accuracy: 0.6182 - val_Top3: 0.8235 - val_Top10: 0.9384\n",
      "Epoch 37/80\n",
      "74/74 [==============================] - 25s 330ms/step - loss: 1.5995 - accuracy: 0.7144 - Top3: 0.8785 - Top10: 0.9668 - val_loss: 1.8063 - val_accuracy: 0.6203 - val_Top3: 0.8226 - val_Top10: 0.9389\n",
      "Epoch 38/80\n",
      "74/74 [==============================] - 25s 333ms/step - loss: 1.5751 - accuracy: 0.7177 - Top3: 0.8842 - Top10: 0.9669 - val_loss: 1.7869 - val_accuracy: 0.6225 - val_Top3: 0.8244 - val_Top10: 0.9389\n",
      "Epoch 39/80\n"
     ]
    },
    {
     "name": "stdout",
     "output_type": "stream",
     "text": [
      "74/74 [==============================] - 25s 333ms/step - loss: 1.5561 - accuracy: 0.7163 - Top3: 0.8837 - Top10: 0.9681 - val_loss: 1.7687 - val_accuracy: 0.6216 - val_Top3: 0.8248 - val_Top10: 0.9397\n",
      "Epoch 40/80\n",
      "74/74 [==============================] - 25s 332ms/step - loss: 1.5340 - accuracy: 0.7251 - Top3: 0.8859 - Top10: 0.9695 - val_loss: 1.7515 - val_accuracy: 0.6263 - val_Top3: 0.8239 - val_Top10: 0.9406\n",
      "Epoch 41/80\n",
      "74/74 [==============================] - 25s 335ms/step - loss: 1.5112 - accuracy: 0.7248 - Top3: 0.8863 - Top10: 0.9674 - val_loss: 1.7348 - val_accuracy: 0.6246 - val_Top3: 0.8257 - val_Top10: 0.9406\n",
      "Epoch 42/80\n",
      "74/74 [==============================] - 25s 334ms/step - loss: 1.4911 - accuracy: 0.7295 - Top3: 0.8908 - Top10: 0.9704 - val_loss: 1.7189 - val_accuracy: 0.6272 - val_Top3: 0.8265 - val_Top10: 0.9397\n",
      "Epoch 43/80\n",
      "74/74 [==============================] - 25s 336ms/step - loss: 1.4721 - accuracy: 0.7311 - Top3: 0.8891 - Top10: 0.9687 - val_loss: 1.7034 - val_accuracy: 0.6259 - val_Top3: 0.8265 - val_Top10: 0.9415\n",
      "Epoch 44/80\n",
      "74/74 [==============================] - 25s 333ms/step - loss: 1.4509 - accuracy: 0.7331 - Top3: 0.8910 - Top10: 0.9698 - val_loss: 1.6885 - val_accuracy: 0.6281 - val_Top3: 0.8278 - val_Top10: 0.9415\n",
      "Epoch 45/80\n",
      "74/74 [==============================] - 25s 334ms/step - loss: 1.4308 - accuracy: 0.7381 - Top3: 0.8956 - Top10: 0.9712 - val_loss: 1.6744 - val_accuracy: 0.6289 - val_Top3: 0.8291 - val_Top10: 0.9415\n",
      "Epoch 46/80\n",
      "74/74 [==============================] - 25s 334ms/step - loss: 1.4135 - accuracy: 0.7392 - Top3: 0.8935 - Top10: 0.9719 - val_loss: 1.6604 - val_accuracy: 0.6337 - val_Top3: 0.8291 - val_Top10: 0.9415\n",
      "Epoch 47/80\n",
      "74/74 [==============================] - 25s 334ms/step - loss: 1.3958 - accuracy: 0.7423 - Top3: 0.8978 - Top10: 0.9700 - val_loss: 1.6477 - val_accuracy: 0.6332 - val_Top3: 0.8295 - val_Top10: 0.9423\n",
      "Epoch 48/80\n",
      "74/74 [==============================] - 25s 334ms/step - loss: 1.3795 - accuracy: 0.7404 - Top3: 0.8996 - Top10: 0.9720 - val_loss: 1.6349 - val_accuracy: 0.6328 - val_Top3: 0.8313 - val_Top10: 0.9427\n",
      "Epoch 49/80\n",
      "74/74 [==============================] - 25s 332ms/step - loss: 1.3673 - accuracy: 0.7426 - Top3: 0.8979 - Top10: 0.9719 - val_loss: 1.6223 - val_accuracy: 0.6345 - val_Top3: 0.8325 - val_Top10: 0.9436\n",
      "Epoch 50/80\n",
      "74/74 [==============================] - 25s 332ms/step - loss: 1.3489 - accuracy: 0.7414 - Top3: 0.8983 - Top10: 0.9709 - val_loss: 1.6106 - val_accuracy: 0.6337 - val_Top3: 0.8325 - val_Top10: 0.9423\n",
      "Epoch 51/80\n",
      "74/74 [==============================] - 25s 335ms/step - loss: 1.3390 - accuracy: 0.7443 - Top3: 0.8995 - Top10: 0.9725 - val_loss: 1.5995 - val_accuracy: 0.6371 - val_Top3: 0.8343 - val_Top10: 0.9440\n",
      "Epoch 52/80\n",
      "74/74 [==============================] - 25s 336ms/step - loss: 1.3173 - accuracy: 0.7501 - Top3: 0.8989 - Top10: 0.9736 - val_loss: 1.5885 - val_accuracy: 0.6350 - val_Top3: 0.8338 - val_Top10: 0.9440\n",
      "Epoch 53/80\n",
      "74/74 [==============================] - 25s 332ms/step - loss: 1.3033 - accuracy: 0.7511 - Top3: 0.9030 - Top10: 0.9726 - val_loss: 1.5777 - val_accuracy: 0.6367 - val_Top3: 0.8343 - val_Top10: 0.9445\n",
      "Epoch 54/80\n",
      "74/74 [==============================] - 25s 334ms/step - loss: 1.2908 - accuracy: 0.7535 - Top3: 0.9023 - Top10: 0.9735 - val_loss: 1.5674 - val_accuracy: 0.6371 - val_Top3: 0.8351 - val_Top10: 0.9449\n",
      "Epoch 55/80\n",
      "74/74 [==============================] - 25s 333ms/step - loss: 1.2738 - accuracy: 0.7540 - Top3: 0.9073 - Top10: 0.9738 - val_loss: 1.5577 - val_accuracy: 0.6393 - val_Top3: 0.8368 - val_Top10: 0.9453\n",
      "Epoch 56/80\n",
      "74/74 [==============================] - 25s 334ms/step - loss: 1.2604 - accuracy: 0.7560 - Top3: 0.9073 - Top10: 0.9742 - val_loss: 1.5476 - val_accuracy: 0.6406 - val_Top3: 0.8356 - val_Top10: 0.9449\n",
      "Epoch 57/80\n",
      "74/74 [==============================] - 25s 333ms/step - loss: 1.2505 - accuracy: 0.7580 - Top3: 0.9070 - Top10: 0.9730 - val_loss: 1.5384 - val_accuracy: 0.6427 - val_Top3: 0.8377 - val_Top10: 0.9453\n",
      "Epoch 58/80\n",
      "74/74 [==============================] - 25s 333ms/step - loss: 1.2360 - accuracy: 0.7595 - Top3: 0.9092 - Top10: 0.9759 - val_loss: 1.5292 - val_accuracy: 0.6453 - val_Top3: 0.8364 - val_Top10: 0.9462\n",
      "Epoch 59/80\n",
      "74/74 [==============================] - 25s 332ms/step - loss: 1.2286 - accuracy: 0.7634 - Top3: 0.9091 - Top10: 0.9756 - val_loss: 1.5208 - val_accuracy: 0.6436 - val_Top3: 0.8364 - val_Top10: 0.9458\n",
      "Epoch 60/80\n",
      "74/74 [==============================] - 25s 333ms/step - loss: 1.2128 - accuracy: 0.7643 - Top3: 0.9108 - Top10: 0.9761 - val_loss: 1.5121 - val_accuracy: 0.6453 - val_Top3: 0.8381 - val_Top10: 0.9458\n",
      "Epoch 61/80\n",
      "74/74 [==============================] - 25s 334ms/step - loss: 1.1943 - accuracy: 0.7690 - Top3: 0.9165 - Top10: 0.9774 - val_loss: 1.5040 - val_accuracy: 0.6440 - val_Top3: 0.8399 - val_Top10: 0.9466\n",
      "Epoch 62/80\n",
      "74/74 [==============================] - 25s 336ms/step - loss: 1.1860 - accuracy: 0.7691 - Top3: 0.9120 - Top10: 0.9775 - val_loss: 1.4960 - val_accuracy: 0.6474 - val_Top3: 0.8386 - val_Top10: 0.9458\n",
      "Epoch 63/80\n",
      "74/74 [==============================] - 25s 336ms/step - loss: 1.1766 - accuracy: 0.7665 - Top3: 0.9143 - Top10: 0.9759 - val_loss: 1.4882 - val_accuracy: 0.6479 - val_Top3: 0.8394 - val_Top10: 0.9466\n",
      "Epoch 64/80\n",
      "74/74 [==============================] - 25s 334ms/step - loss: 1.1646 - accuracy: 0.7731 - Top3: 0.9149 - Top10: 0.9764 - val_loss: 1.4807 - val_accuracy: 0.6496 - val_Top3: 0.8390 - val_Top10: 0.9466\n",
      "Epoch 65/80\n",
      "74/74 [==============================] - 25s 331ms/step - loss: 1.1553 - accuracy: 0.7747 - Top3: 0.9140 - Top10: 0.9765 - val_loss: 1.4733 - val_accuracy: 0.6505 - val_Top3: 0.8399 - val_Top10: 0.9471\n",
      "Epoch 66/80\n",
      "74/74 [==============================] - 25s 330ms/step - loss: 1.1440 - accuracy: 0.7735 - Top3: 0.9156 - Top10: 0.9784 - val_loss: 1.4660 - val_accuracy: 0.6483 - val_Top3: 0.8442 - val_Top10: 0.9483\n",
      "Epoch 67/80\n",
      "74/74 [==============================] - 25s 336ms/step - loss: 1.1340 - accuracy: 0.7759 - Top3: 0.9172 - Top10: 0.9767 - val_loss: 1.4586 - val_accuracy: 0.6492 - val_Top3: 0.8416 - val_Top10: 0.9471\n",
      "Epoch 68/80\n",
      "74/74 [==============================] - 25s 333ms/step - loss: 1.1275 - accuracy: 0.7758 - Top3: 0.9154 - Top10: 0.9777 - val_loss: 1.4524 - val_accuracy: 0.6522 - val_Top3: 0.8407 - val_Top10: 0.9483\n",
      "Epoch 69/80\n",
      "74/74 [==============================] - 25s 336ms/step - loss: 1.1134 - accuracy: 0.7778 - Top3: 0.9199 - Top10: 0.9792 - val_loss: 1.4455 - val_accuracy: 0.6535 - val_Top3: 0.8442 - val_Top10: 0.9475\n",
      "Epoch 70/80\n",
      "74/74 [==============================] - 25s 335ms/step - loss: 1.1038 - accuracy: 0.7838 - Top3: 0.9208 - Top10: 0.9793 - val_loss: 1.4392 - val_accuracy: 0.6530 - val_Top3: 0.8437 - val_Top10: 0.9483\n",
      "Epoch 71/80\n",
      "74/74 [==============================] - 25s 333ms/step - loss: 1.0974 - accuracy: 0.7826 - Top3: 0.9193 - Top10: 0.9794 - val_loss: 1.4330 - val_accuracy: 0.6539 - val_Top3: 0.8442 - val_Top10: 0.9492\n",
      "Epoch 72/80\n",
      "74/74 [==============================] - 25s 337ms/step - loss: 1.0839 - accuracy: 0.7854 - Top3: 0.9215 - Top10: 0.9803 - val_loss: 1.4268 - val_accuracy: 0.6530 - val_Top3: 0.8450 - val_Top10: 0.9488\n",
      "Epoch 73/80\n",
      "74/74 [==============================] - 25s 334ms/step - loss: 1.0802 - accuracy: 0.7809 - Top3: 0.9215 - Top10: 0.9784 - val_loss: 1.4218 - val_accuracy: 0.6556 - val_Top3: 0.8429 - val_Top10: 0.9488\n",
      "Epoch 74/80\n",
      "74/74 [==============================] - 25s 334ms/step - loss: 1.0692 - accuracy: 0.7869 - Top3: 0.9232 - Top10: 0.9792 - val_loss: 1.4157 - val_accuracy: 0.6569 - val_Top3: 0.8467 - val_Top10: 0.9509\n",
      "Epoch 75/80\n",
      "74/74 [==============================] - 25s 331ms/step - loss: 1.0579 - accuracy: 0.7900 - Top3: 0.9244 - Top10: 0.9792 - val_loss: 1.4094 - val_accuracy: 0.6565 - val_Top3: 0.8489 - val_Top10: 0.9496\n",
      "Epoch 76/80\n",
      "74/74 [==============================] - 25s 333ms/step - loss: 1.0520 - accuracy: 0.7907 - Top3: 0.9230 - Top10: 0.9801 - val_loss: 1.4043 - val_accuracy: 0.6569 - val_Top3: 0.8463 - val_Top10: 0.9492\n",
      "Epoch 77/80\n"
     ]
    },
    {
     "name": "stdout",
     "output_type": "stream",
     "text": [
      "74/74 [==============================] - 25s 332ms/step - loss: 1.0409 - accuracy: 0.7932 - Top3: 0.9235 - Top10: 0.9802 - val_loss: 1.3988 - val_accuracy: 0.6595 - val_Top3: 0.8480 - val_Top10: 0.9501\n",
      "Epoch 78/80\n",
      "74/74 [==============================] - 25s 332ms/step - loss: 1.0357 - accuracy: 0.7938 - Top3: 0.9255 - Top10: 0.9803 - val_loss: 1.3937 - val_accuracy: 0.6608 - val_Top3: 0.8476 - val_Top10: 0.9496\n",
      "Epoch 79/80\n",
      "74/74 [==============================] - 25s 329ms/step - loss: 1.0254 - accuracy: 0.7960 - Top3: 0.9274 - Top10: 0.9811 - val_loss: 1.3885 - val_accuracy: 0.6616 - val_Top3: 0.8472 - val_Top10: 0.9518\n",
      "Epoch 80/80\n",
      "74/74 [==============================] - 25s 333ms/step - loss: 1.0179 - accuracy: 0.7942 - Top3: 0.9271 - Top10: 0.9813 - val_loss: 1.3837 - val_accuracy: 0.6608 - val_Top3: 0.8476 - val_Top10: 0.9514\n",
      "CPU times: user 40min 36s, sys: 15min 44s, total: 56min 21s\n",
      "Wall time: 33min 17s\n"
     ]
    }
   ],
   "source": [
    "%%time\n",
    "history = model.fit(\n",
    "    train_gen,\n",
    "    epochs=epochs,\n",
    "    validation_data=validation_gen,\n",
    "    callbacks=[\n",
    "        tf.keras.callbacks.TensorBoard(\n",
    "            log_dir = tb_log_dir,\n",
    "            histogram_freq=1,\n",
    "        )\n",
    "        #tf.keras.callbacks.EarlyStopping(\n",
    "        #    monitor='val_accuracy',\n",
    "        #    patience=5,\n",
    "        #    min_delta=0.001,\n",
    "        #    mode='max',\n",
    "        #),\n",
    "        #tf.keras.callbacks.ModelCheckpoint(\n",
    "        ##    filepath='checkpoints3',\n",
    "        #    save_weights_only=True,\n",
    "        #),\n",
    "    ]\n",
    ")"
   ]
  },
  {
   "cell_type": "markdown",
   "id": "1227757b",
   "metadata": {},
   "source": [
    "## Evaluation"
   ]
  },
  {
   "cell_type": "code",
   "execution_count": 13,
   "id": "04aa344b",
   "metadata": {},
   "outputs": [
    {
     "name": "stdout",
     "output_type": "stream",
     "text": [
      "19/19 [==============================] - 5s 231ms/step - loss: 1.3837 - accuracy: 0.6608 - Top3: 0.8476 - Top10: 0.9514\n",
      "CPU times: user 4.58 s, sys: 603 ms, total: 5.19 s\n",
      "Wall time: 4.95 s\n"
     ]
    },
    {
     "data": {
      "text/plain": [
       "[1.3837388753890991,\n",
       " 0.6607834696769714,\n",
       " 0.8476108312606812,\n",
       " 0.9513559937477112]"
      ]
     },
     "execution_count": 13,
     "metadata": {},
     "output_type": "execute_result"
    }
   ],
   "source": [
    "%%time\n",
    "model.evaluate(validation_gen)"
   ]
  },
  {
   "cell_type": "code",
   "execution_count": 14,
   "id": "ae427c0a",
   "metadata": {},
   "outputs": [
    {
     "name": "stderr",
     "output_type": "stream",
     "text": [
      "WARNING:absl:Found untraced functions such as _jit_compiled_convolution_op, _jit_compiled_convolution_op, _jit_compiled_convolution_op, _jit_compiled_convolution_op, _jit_compiled_convolution_op while saving (showing 5 of 40). These functions will not be directly callable after loading.\n"
     ]
    },
    {
     "name": "stdout",
     "output_type": "stream",
     "text": [
      "INFO:tensorflow:Assets written to: model.cserv.003/assets\n"
     ]
    },
    {
     "name": "stderr",
     "output_type": "stream",
     "text": [
      "INFO:tensorflow:Assets written to: model.cserv.003/assets\n"
     ]
    }
   ],
   "source": [
    "import os\n",
    "model.save(f'model.{os.uname()[1]}.003')"
   ]
  },
  {
   "cell_type": "code",
   "execution_count": 15,
   "id": "bca3fe21",
   "metadata": {},
   "outputs": [
    {
     "data": {
      "image/png": "[encoded data removed]",
      "text/plain": [
       "<Figure size 640x480 with 1 Axes>"
      ]
     },
     "metadata": {},
     "output_type": "display_data"
    }
   ],
   "source": [
    "from matplotlib import pyplot as plt\n",
    "\n",
    "plt.plot(history.history['loss'])\n",
    "plt.plot(history.history['val_loss'])\n",
    "plt.title('model loss')\n",
    "plt.ylabel('loss')\n",
    "plt.xlabel('epoch')\n",
    "plt.legend(['train', 'val'], loc='upper right')\n",
    "plt.show()"
   ]
  }
 ],
 "metadata": {
  "kernelspec": {
   "display_name": "Python [conda env:.conda-fungi] *",
   "language": "python",
   "name": "conda-env-.conda-fungi-py"
  },
  "language_info": {
   "codemirror_mode": {
    "name": "ipython",
    "version": 3
   },
   "file_extension": ".py",
   "mimetype": "text/x-python",
   "name": "python",
   "nbconvert_exporter": "python",
   "pygments_lexer": "ipython3",
   "version": "3.10.8"
  }
 },
 "nbformat": 4,
 "nbformat_minor": 5
}
