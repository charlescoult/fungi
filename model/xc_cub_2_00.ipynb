{
 "cells": [
  {
   "cell_type": "code",
   "execution_count": 1,
   "id": "eec8ac6f",
   "metadata": {},
   "outputs": [],
   "source": [
    "import tensorflow as tf\n",
    "from tensorflow.keras.preprocessing.image import ImageDataGenerator\n"
   ]
  },
  {
   "cell_type": "code",
   "execution_count": 2,
   "id": "0cd270a1",
   "metadata": {},
   "outputs": [],
   "source": [
    "datagen = ImageDataGenerator(\n",
    "    preprocessing_function = tf.keras.applications.xception.preprocess_input,\n",
    "    validation_split=0.2,\n",
    ")"
   ]
  },
  {
   "cell_type": "code",
   "execution_count": 3,
   "id": "650587a0",
   "metadata": {},
   "outputs": [
    {
     "name": "stdout",
     "output_type": "stream",
     "text": [
      "Found 9465 images belonging to 200 classes.\n",
      "Found 2323 images belonging to 200 classes.\n"
     ]
    }
   ],
   "source": [
    "train_gen = datagen.flow_from_directory(\n",
    "    '../cub/CUB_200_2011/images',\n",
    "    target_size=(299,299),\n",
    "    batch_size=50,\n",
    "    subset='training',\n",
    "    shuffle=True,\n",
    ")\n",
    "\n",
    "validation_gen = datagen.flow_from_directory(\n",
    "    '../cub/CUB_200_2011/images',\n",
    "    target_size=(299,299),\n",
    "    batch_size=50,\n",
    "    subset='validation',\n",
    "    shuffle=True,\n",
    ")\n"
   ]
  },
  {
   "cell_type": "code",
   "execution_count": 4,
   "id": "eff415f0",
   "metadata": {},
   "outputs": [
    {
     "data": {
      "text/plain": [
       "(50, 299, 299, 3)"
      ]
     },
     "execution_count": 4,
     "metadata": {},
     "output_type": "execute_result"
    }
   ],
   "source": [
    "train_gen.next()[0].shape"
   ]
  },
  {
   "cell_type": "code",
   "execution_count": 17,
   "id": "78fa74ad",
   "metadata": {},
   "outputs": [],
   "source": [
    "from tensorflow.keras.layers import Dense, Flatten, GlobalAveragePooling2D, Activation, Flatten, Dropout, BatchNormalization\n",
    "\n",
    "model = tf.keras.models.Sequential()\n",
    "model.add(tf.keras.applications.Xception(include_top=False, pooling='avg', weights=\"imagenet\"))\n",
    "model.add(Dense(512))\n",
    "model.add(Activation('relu'))\n",
    "model.add(Dropout(0.5))\n",
    "model.add(Dense(200, activation='softmax'))\n",
    "model.layers[0].trainable = False\n"
   ]
  },
  {
   "cell_type": "code",
   "execution_count": 18,
   "id": "9bbfc286",
   "metadata": {},
   "outputs": [
    {
     "name": "stdout",
     "output_type": "stream",
     "text": [
      "CPU times: user 3.68 ms, sys: 50 µs, total: 3.73 ms\n",
      "Wall time: 3.47 ms\n"
     ]
    }
   ],
   "source": [
    "%%time\n",
    "model.compile(\n",
    "    optimizer='Adam',\n",
    "    loss='categorical_crossentropy',\n",
    "    metrics=['accuracy'],\n",
    ")"
   ]
  },
  {
   "cell_type": "code",
   "execution_count": null,
   "id": "31c56baa",
   "metadata": {},
   "outputs": [
    {
     "name": "stdout",
     "output_type": "stream",
     "text": [
      "Epoch 1/100\n",
      "190/190 [==============================] - 764s 4s/step - loss: 3.8072 - accuracy: 0.1704 - val_loss: 2.3518 - val_accuracy: 0.4335\n",
      "Epoch 2/100\n",
      "190/190 [==============================] - 760s 4s/step - loss: 2.2752 - accuracy: 0.3970 - val_loss: 1.7612 - val_accuracy: 0.5437\n",
      "Epoch 3/100\n",
      "190/190 [==============================] - 761s 4s/step - loss: 1.8356 - accuracy: 0.4973 - val_loss: 1.5353 - val_accuracy: 0.5880\n",
      "Epoch 4/100\n",
      "190/190 [==============================] - 762s 4s/step - loss: 1.5749 - accuracy: 0.5659 - val_loss: 1.4153 - val_accuracy: 0.6113\n",
      "Epoch 5/100\n",
      "190/190 [==============================] - 760s 4s/step - loss: 1.3982 - accuracy: 0.6038 - val_loss: 1.3186 - val_accuracy: 0.6328\n",
      "Epoch 6/100\n",
      "190/190 [==============================] - 762s 4s/step - loss: 1.2481 - accuracy: 0.6378 - val_loss: 1.2807 - val_accuracy: 0.6505\n",
      "Epoch 7/100\n",
      "190/190 [==============================] - 761s 4s/step - loss: 1.1500 - accuracy: 0.6654 - val_loss: 1.2807 - val_accuracy: 0.6414\n",
      "Epoch 8/100\n",
      "190/190 [==============================] - 760s 4s/step - loss: 1.0773 - accuracy: 0.6795 - val_loss: 1.2078 - val_accuracy: 0.6509\n",
      "Epoch 9/100\n",
      "190/190 [==============================] - 759s 4s/step - loss: 1.0000 - accuracy: 0.7011 - val_loss: 1.1770 - val_accuracy: 0.6591\n",
      "Epoch 10/100\n",
      "190/190 [==============================] - 760s 4s/step - loss: 0.9334 - accuracy: 0.7235 - val_loss: 1.1652 - val_accuracy: 0.6655\n",
      "Epoch 11/100\n",
      "190/190 [==============================] - 760s 4s/step - loss: 0.8780 - accuracy: 0.7350 - val_loss: 1.1553 - val_accuracy: 0.6694\n",
      "Epoch 12/100\n",
      "190/190 [==============================] - 760s 4s/step - loss: 0.8230 - accuracy: 0.7526 - val_loss: 1.1473 - val_accuracy: 0.6767\n",
      "Epoch 13/100\n",
      "190/190 [==============================] - 760s 4s/step - loss: 0.7781 - accuracy: 0.7586 - val_loss: 1.1430 - val_accuracy: 0.6651\n",
      "Epoch 14/100\n",
      "190/190 [==============================] - 760s 4s/step - loss: 0.7325 - accuracy: 0.7752 - val_loss: 1.1585 - val_accuracy: 0.6724\n",
      "Epoch 15/100\n",
      "190/190 [==============================] - 761s 4s/step - loss: 0.7063 - accuracy: 0.7827 - val_loss: 1.1461 - val_accuracy: 0.6784\n",
      "Epoch 16/100\n",
      "190/190 [==============================] - 762s 4s/step - loss: 0.6642 - accuracy: 0.7950 - val_loss: 1.1373 - val_accuracy: 0.6840\n",
      "Epoch 17/100\n",
      "100/190 [==============>...............] - ETA: 4:50 - loss: 0.6088 - accuracy: 0.8122"
     ]
    }
   ],
   "source": [
    "%%time\n",
    "history = model.fit(\n",
    "    train_gen,\n",
    "    epochs=100,\n",
    "    validation_data=validation_gen,\n",
    "    callbacks=[\n",
    "        tf.keras.callbacks.EarlyStopping(\n",
    "            monitor='val_accuracy',\n",
    "            patience=5,\n",
    "            min_delta=0.001,\n",
    "            mode='max',\n",
    "        ),\n",
    "        tf.keras.callbacks.ModelCheckpoint(\n",
    "            filepath='checkpoints3',\n",
    "            save_weights_only=True,\n",
    "        ),\n",
    "    ]\n",
    ")"
   ]
  },
  {
   "cell_type": "code",
   "execution_count": null,
   "id": "04aa344b",
   "metadata": {},
   "outputs": [],
   "source": [
    "%%time\n",
    "model.evaluate(validation_gen)"
   ]
  },
  {
   "cell_type": "code",
   "execution_count": null,
   "id": "ae427c0a",
   "metadata": {},
   "outputs": [],
   "source": [
    "import os\n",
    "model.save(f'model.{os.uname()[1]}.003')"
   ]
  },
  {
   "cell_type": "code",
   "execution_count": null,
   "id": "bca3fe21",
   "metadata": {},
   "outputs": [],
   "source": [
    "from matplotlib import pyplot as plt\n",
    "\n",
    "plt.plot(history.history['loss'])\n",
    "plt.plot(history.history['val_loss'])\n",
    "plt.title('model accuracy')\n",
    "plt.ylabel('accuracy')\n",
    "plt.xlabel('epoch')\n",
    "plt.legend(['train', 'val'], loc='upper left')\n",
    "plt.show()"
   ]
  },
  {
   "cell_type": "code",
   "execution_count": null,
   "id": "afc51c15",
   "metadata": {},
   "outputs": [],
   "source": []
  },
  {
   "cell_type": "code",
   "execution_count": null,
   "id": "c8a97e80",
   "metadata": {},
   "outputs": [],
   "source": []
  }
 ],
 "metadata": {
  "kernelspec": {
   "display_name": "Python [conda env:.conda-fungi] *",
   "language": "python",
   "name": "conda-env-.conda-fungi-py"
  },
  "language_info": {
   "codemirror_mode": {
    "name": "ipython",
    "version": 3
   },
   "file_extension": ".py",
   "mimetype": "text/x-python",
   "name": "python",
   "nbconvert_exporter": "python",
   "pygments_lexer": "ipython3",
   "version": "3.10.8"
  }
 },
 "nbformat": 4,
 "nbformat_minor": 5
}
