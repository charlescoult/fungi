{
 "cells": [
  {
   "cell_type": "markdown",
   "id": "9fc9a61b",
   "metadata": {},
   "source": [
    "# Xception Transfer Learning with CUB-200-2011 Dataset"
   ]
  },
  {
   "cell_type": "code",
   "execution_count": 1,
   "id": "eec8ac6f",
   "metadata": {},
   "outputs": [],
   "source": [
    "import tensorflow as tf"
   ]
  },
  {
   "cell_type": "code",
   "execution_count": 2,
   "id": "c24f4d5f",
   "metadata": {},
   "outputs": [],
   "source": [
    "%load_ext tensorboard"
   ]
  },
  {
   "cell_type": "markdown",
   "id": "35015788",
   "metadata": {},
   "source": [
    "## Run ID"
   ]
  },
  {
   "cell_type": "code",
   "execution_count": 3,
   "id": "b482d80e",
   "metadata": {},
   "outputs": [],
   "source": [
    "import datetime as dt\n",
    "\n",
    "# run_id = dt.datetime.now().strftime(\"%Y%m%d-%H%M%S\")\n",
    "tb_log_dir = './tb_log_2'"
   ]
  },
  {
   "cell_type": "markdown",
   "id": "a0a929e8",
   "metadata": {},
   "source": [
    "## Parameters"
   ]
  },
  {
   "cell_type": "code",
   "execution_count": 4,
   "id": "98033645",
   "metadata": {},
   "outputs": [],
   "source": [
    "label_smoothing = 0.1"
   ]
  },
  {
   "cell_type": "code",
   "execution_count": 5,
   "id": "2d38e092",
   "metadata": {},
   "outputs": [],
   "source": [
    "# Parameter space setup\n",
    "optimizers = [\n",
    "    tf.optimizers.Adam(\n",
    "        # learning_rate=0.001, # this is the default\n",
    "    ),\n",
    "    tf.optimizers.Adam(\n",
    "        learning_rate=0.0001,\n",
    "    ),\n",
    "]\n",
    "\n",
    "losses = {\n",
    "    'Categorical Cross Entropy': tf.keras.losses.CategoricalCrossentropy(\n",
    "        label_smoothing = label_smoothing,\n",
    "    ),\n",
    "    'Binary Cross Entropy': tf.keras.losses.BinaryCrossentropy(\n",
    "        from_logits = True,\n",
    "    ),\n",
    "}"
   ]
  },
  {
   "cell_type": "code",
   "execution_count": 6,
   "id": "bbd49f6f",
   "metadata": {},
   "outputs": [],
   "source": [
    "# Selected model parameters\n",
    "\n",
    "batch_size = 64\n",
    "dropout = 0.1\n",
    "optimizer = optimizers[1]\n",
    "loss = losses['Categorical Cross Entropy']\n"
   ]
  },
  {
   "cell_type": "code",
   "execution_count": 7,
   "id": "bbaf79b3",
   "metadata": {},
   "outputs": [],
   "source": [
    "epochs = 80"
   ]
  },
  {
   "cell_type": "markdown",
   "id": "c374dcb3",
   "metadata": {},
   "source": [
    "## Load Dataset"
   ]
  },
  {
   "cell_type": "code",
   "execution_count": 8,
   "id": "0cd270a1",
   "metadata": {},
   "outputs": [],
   "source": [
    "from tensorflow.keras.preprocessing.image import ImageDataGenerator\n",
    "\n",
    "data_dir = '/mnt/cub/CUB_200_2011/images'\n",
    "\n",
    "datagen = ImageDataGenerator(\n",
    "    preprocessing_function = tf.keras.applications.xception.preprocess_input,\n",
    "    validation_split=0.2,\n",
    "    rotation_range=10,\n",
    "    width_shift_range=0.1,\n",
    "    height_shift_range=0.1,\n",
    "    shear_range=0.15,\n",
    "    zoom_range=0.1,\n",
    "    channel_shift_range=10.,\n",
    "    horizontal_flip=True,\n",
    ")\n"
   ]
  },
  {
   "cell_type": "code",
   "execution_count": 9,
   "id": "650587a0",
   "metadata": {},
   "outputs": [
    {
     "name": "stdout",
     "output_type": "stream",
     "text": [
      "Found 9465 images belonging to 200 classes.\n",
      "Found 2323 images belonging to 200 classes.\n"
     ]
    }
   ],
   "source": [
    "train_gen = datagen.flow_from_directory(\n",
    "    data_dir,\n",
    "    target_size=(299,299),\n",
    "    batch_size=batch_size,\n",
    "    subset='training',\n",
    "    shuffle=True,\n",
    ")\n",
    "\n",
    "validation_gen = datagen.flow_from_directory(\n",
    "    data_dir,\n",
    "    target_size=(299,299),\n",
    "    batch_size=batch_size,\n",
    "    subset='validation',\n",
    "    shuffle=True,\n",
    ")\n"
   ]
  },
  {
   "cell_type": "code",
   "execution_count": 10,
   "id": "6fb02264",
   "metadata": {},
   "outputs": [
    {
     "data": {
      "text/plain": [
       "keras.preprocessing.image.DirectoryIterator"
      ]
     },
     "execution_count": 10,
     "metadata": {},
     "output_type": "execute_result"
    }
   ],
   "source": [
    "type(train_gen)"
   ]
  },
  {
   "cell_type": "markdown",
   "id": "f4413f32",
   "metadata": {},
   "source": [
    "## Build Model"
   ]
  },
  {
   "cell_type": "code",
   "execution_count": 11,
   "id": "78fa74ad",
   "metadata": {},
   "outputs": [],
   "source": [
    "from tensorflow.keras import layers\n",
    "\n",
    "# https://www.tensorflow.org/tutorials/images/data_augmentation\n",
    "# This is the recommended way of doing image data augmentation\n",
    "# (as opposed to using parameters in the ImageDataGenerator)\n",
    "model = tf.keras.models.Sequential([\n",
    "    # layers.RandomHeight(0.2),\n",
    "    # layers.RandomWidth(0.2),\n",
    "    # layers.RandomFlip(\"horizontal\"),\n",
    "    # layers.RandomRotation(0.2),\n",
    "    # layers.RandomZoom(0.2, 0.2),\n",
    "])\n"
   ]
  },
  {
   "cell_type": "code",
   "execution_count": 12,
   "id": "73e2c30c",
   "metadata": {},
   "outputs": [],
   "source": [
    "\n",
    "base_model = tf.keras.applications.Xception(\n",
    "    include_top=False,\n",
    "    pooling='avg',\n",
    "    weights=\"imagenet\"\n",
    ")\n"
   ]
  },
  {
   "cell_type": "code",
   "execution_count": 13,
   "id": "122c411f",
   "metadata": {},
   "outputs": [],
   "source": [
    "base_model.trainable = False\n",
    "model.add(base_model)\n"
   ]
  },
  {
   "cell_type": "code",
   "execution_count": 14,
   "id": "b0241140",
   "metadata": {},
   "outputs": [],
   "source": [
    "\n",
    "# model.add( GlobalAveragePooling2D() )\n",
    "model.add( layers.Dense(200) )\n",
    "model.add( layers.Dropout(dropout) )\n",
    "model.add( layers.Activation(\"softmax\", dtype=\"float32\") )\n"
   ]
  },
  {
   "cell_type": "code",
   "execution_count": 15,
   "id": "9bbfc286",
   "metadata": {},
   "outputs": [
    {
     "name": "stdout",
     "output_type": "stream",
     "text": [
      "CPU times: user 7.81 ms, sys: 554 µs, total: 8.36 ms\n",
      "Wall time: 57.9 ms\n"
     ]
    }
   ],
   "source": [
    "%%time\n",
    "model.compile(\n",
    "    optimizer=optimizer,\n",
    "    loss=loss,\n",
    "    metrics=[\n",
    "        'accuracy',\n",
    "        tf.keras.metrics.TopKCategoricalAccuracy(k=3, name=\"Top3\"),\n",
    "        tf.keras.metrics.TopKCategoricalAccuracy(k=10, name=\"Top10\"),\n",
    "    ],\n",
    ")"
   ]
  },
  {
   "cell_type": "markdown",
   "id": "40998b3f",
   "metadata": {},
   "source": [
    "## Train"
   ]
  },
  {
   "cell_type": "code",
   "execution_count": 16,
   "id": "31c56baa",
   "metadata": {},
   "outputs": [
    {
     "name": "stdout",
     "output_type": "stream",
     "text": [
      "Epoch 1/80\n",
      "148/148 [==============================] - 125s 813ms/step - loss: 5.0778 - accuracy: 0.0646 - Top3: 0.1390 - Top10: 0.2883 - val_loss: 4.8153 - val_accuracy: 0.1558 - val_Top3: 0.3384 - val_Top10: 0.6108\n",
      "Epoch 2/80\n",
      "148/148 [==============================] - 118s 799ms/step - loss: 4.6449 - accuracy: 0.2328 - Top3: 0.4433 - Top10: 0.6523 - val_loss: 4.4336 - val_accuracy: 0.3216 - val_Top3: 0.5648 - val_Top10: 0.8097\n",
      "Epoch 3/80\n",
      "148/148 [==============================] - 117s 790ms/step - loss: 4.3198 - accuracy: 0.3554 - Top3: 0.5774 - Top10: 0.7630 - val_loss: 4.1235 - val_accuracy: 0.4051 - val_Top3: 0.6505 - val_Top10: 0.8678\n",
      "Epoch 4/80\n",
      "148/148 [==============================] - 116s 787ms/step - loss: 4.0545 - accuracy: 0.4330 - Top3: 0.6467 - Top10: 0.8113 - val_loss: 3.8835 - val_accuracy: 0.4615 - val_Top3: 0.6875 - val_Top10: 0.8868\n",
      "Epoch 5/80\n",
      "148/148 [==============================] - 118s 800ms/step - loss: 3.8296 - accuracy: 0.4736 - Top3: 0.6840 - Top10: 0.8398 - val_loss: 3.6829 - val_accuracy: 0.4907 - val_Top3: 0.7111 - val_Top10: 0.8980\n",
      "Epoch 6/80\n",
      "148/148 [==============================] - 121s 819ms/step - loss: 3.6590 - accuracy: 0.5010 - Top3: 0.6980 - Top10: 0.8443 - val_loss: 3.5170 - val_accuracy: 0.5032 - val_Top3: 0.7357 - val_Top10: 0.9100\n",
      "Epoch 7/80\n",
      "148/148 [==============================] - 119s 802ms/step - loss: 3.4942 - accuracy: 0.5296 - Top3: 0.7219 - Top10: 0.8549 - val_loss: 3.3777 - val_accuracy: 0.5282 - val_Top3: 0.7495 - val_Top10: 0.9161\n",
      "Epoch 8/80\n",
      "148/148 [==============================] - 118s 796ms/step - loss: 3.3649 - accuracy: 0.5464 - Top3: 0.7347 - Top10: 0.8602 - val_loss: 3.2638 - val_accuracy: 0.5471 - val_Top3: 0.7551 - val_Top10: 0.9191\n",
      "Epoch 9/80\n",
      "148/148 [==============================] - 118s 798ms/step - loss: 3.2579 - accuracy: 0.5532 - Top3: 0.7380 - Top10: 0.8588 - val_loss: 3.1589 - val_accuracy: 0.5502 - val_Top3: 0.7671 - val_Top10: 0.9229\n",
      "Epoch 10/80\n",
      "148/148 [==============================] - 118s 799ms/step - loss: 3.1605 - accuracy: 0.5707 - Top3: 0.7536 - Top10: 0.8644 - val_loss: 3.0757 - val_accuracy: 0.5639 - val_Top3: 0.7718 - val_Top10: 0.9208\n",
      "Epoch 11/80\n",
      "148/148 [==============================] - 118s 796ms/step - loss: 3.0807 - accuracy: 0.5886 - Top3: 0.7578 - Top10: 0.8646 - val_loss: 2.9977 - val_accuracy: 0.5583 - val_Top3: 0.7779 - val_Top10: 0.9272\n",
      "Epoch 12/80\n",
      "148/148 [==============================] - 118s 797ms/step - loss: 2.9924 - accuracy: 0.5994 - Top3: 0.7696 - Top10: 0.8684 - val_loss: 2.9262 - val_accuracy: 0.5734 - val_Top3: 0.7757 - val_Top10: 0.9290\n",
      "Epoch 13/80\n",
      "148/148 [==============================] - 118s 796ms/step - loss: 2.9437 - accuracy: 0.6029 - Top3: 0.7679 - Top10: 0.8651 - val_loss: 2.8628 - val_accuracy: 0.5842 - val_Top3: 0.7904 - val_Top10: 0.9333\n",
      "Epoch 14/80\n",
      "148/148 [==============================] - 118s 795ms/step - loss: 2.8954 - accuracy: 0.6064 - Top3: 0.7733 - Top10: 0.8673 - val_loss: 2.8080 - val_accuracy: 0.5936 - val_Top3: 0.7947 - val_Top10: 0.9384\n",
      "Epoch 15/80\n",
      "148/148 [==============================] - 118s 796ms/step - loss: 2.8302 - accuracy: 0.6132 - Top3: 0.7775 - Top10: 0.8704 - val_loss: 2.7599 - val_accuracy: 0.5971 - val_Top3: 0.7994 - val_Top10: 0.9406\n",
      "Epoch 16/80\n",
      "148/148 [==============================] - 117s 792ms/step - loss: 2.7884 - accuracy: 0.6208 - Top3: 0.7802 - Top10: 0.8707 - val_loss: 2.7140 - val_accuracy: 0.6031 - val_Top3: 0.8093 - val_Top10: 0.9415\n",
      "Epoch 17/80\n",
      "148/148 [==============================] - 118s 796ms/step - loss: 2.7508 - accuracy: 0.6298 - Top3: 0.7845 - Top10: 0.8700 - val_loss: 2.6806 - val_accuracy: 0.6053 - val_Top3: 0.8089 - val_Top10: 0.9363\n",
      "Epoch 18/80\n",
      "148/148 [==============================] - 117s 793ms/step - loss: 2.7002 - accuracy: 0.6333 - Top3: 0.7892 - Top10: 0.8725 - val_loss: 2.6414 - val_accuracy: 0.6207 - val_Top3: 0.8188 - val_Top10: 0.9337\n",
      "Epoch 19/80\n",
      "148/148 [==============================] - 117s 791ms/step - loss: 2.6601 - accuracy: 0.6446 - Top3: 0.7947 - Top10: 0.8773 - val_loss: 2.6065 - val_accuracy: 0.6126 - val_Top3: 0.8084 - val_Top10: 0.9384\n",
      "Epoch 20/80\n",
      "148/148 [==============================] - 116s 786ms/step - loss: 2.6239 - accuracy: 0.6508 - Top3: 0.7990 - Top10: 0.8793 - val_loss: 2.5747 - val_accuracy: 0.6130 - val_Top3: 0.8179 - val_Top10: 0.9423\n",
      "Epoch 21/80\n",
      "148/148 [==============================] - 118s 795ms/step - loss: 2.5879 - accuracy: 0.6560 - Top3: 0.8029 - Top10: 0.8810 - val_loss: 2.5544 - val_accuracy: 0.6143 - val_Top3: 0.8183 - val_Top10: 0.9402\n",
      "Epoch 22/80\n",
      "148/148 [==============================] - 117s 791ms/step - loss: 2.5664 - accuracy: 0.6568 - Top3: 0.8041 - Top10: 0.8814 - val_loss: 2.5243 - val_accuracy: 0.6324 - val_Top3: 0.8201 - val_Top10: 0.9406\n",
      "Epoch 23/80\n",
      "148/148 [==============================] - 118s 795ms/step - loss: 2.5500 - accuracy: 0.6566 - Top3: 0.8021 - Top10: 0.8781 - val_loss: 2.5018 - val_accuracy: 0.6276 - val_Top3: 0.8132 - val_Top10: 0.9436\n",
      "Epoch 24/80\n",
      "148/148 [==============================] - 117s 793ms/step - loss: 2.5384 - accuracy: 0.6639 - Top3: 0.8002 - Top10: 0.8778 - val_loss: 2.4685 - val_accuracy: 0.6242 - val_Top3: 0.8248 - val_Top10: 0.9445\n",
      "Epoch 25/80\n",
      "148/148 [==============================] - 117s 791ms/step - loss: 2.5021 - accuracy: 0.6621 - Top3: 0.8073 - Top10: 0.8822 - val_loss: 2.4550 - val_accuracy: 0.6423 - val_Top3: 0.8282 - val_Top10: 0.9436\n",
      "Epoch 26/80\n",
      "148/148 [==============================] - 117s 794ms/step - loss: 2.4778 - accuracy: 0.6676 - Top3: 0.8093 - Top10: 0.8804 - val_loss: 2.4388 - val_accuracy: 0.6401 - val_Top3: 0.8304 - val_Top10: 0.9419\n",
      "Epoch 27/80\n",
      "148/148 [==============================] - 118s 794ms/step - loss: 2.4474 - accuracy: 0.6768 - Top3: 0.8132 - Top10: 0.8860 - val_loss: 2.4058 - val_accuracy: 0.6457 - val_Top3: 0.8295 - val_Top10: 0.9453\n",
      "Epoch 28/80\n",
      "148/148 [==============================] - 118s 796ms/step - loss: 2.4419 - accuracy: 0.6779 - Top3: 0.8135 - Top10: 0.8839 - val_loss: 2.3918 - val_accuracy: 0.6440 - val_Top3: 0.8390 - val_Top10: 0.9462\n",
      "Epoch 29/80\n",
      "148/148 [==============================] - 117s 792ms/step - loss: 2.4347 - accuracy: 0.6785 - Top3: 0.8106 - Top10: 0.8792 - val_loss: 2.3802 - val_accuracy: 0.6479 - val_Top3: 0.8257 - val_Top10: 0.9445\n",
      "Epoch 30/80\n",
      "148/148 [==============================] - 116s 787ms/step - loss: 2.4129 - accuracy: 0.6808 - Top3: 0.8164 - Top10: 0.8853 - val_loss: 2.3651 - val_accuracy: 0.6436 - val_Top3: 0.8364 - val_Top10: 0.9479\n",
      "Epoch 31/80\n",
      "148/148 [==============================] - 117s 789ms/step - loss: 2.3798 - accuracy: 0.6877 - Top3: 0.8257 - Top10: 0.8892 - val_loss: 2.3619 - val_accuracy: 0.6436 - val_Top3: 0.8291 - val_Top10: 0.9483\n",
      "Epoch 32/80\n",
      "148/148 [==============================] - 117s 789ms/step - loss: 2.3556 - accuracy: 0.6962 - Top3: 0.8254 - Top10: 0.8908 - val_loss: 2.3383 - val_accuracy: 0.6457 - val_Top3: 0.8347 - val_Top10: 0.9445\n",
      "Epoch 33/80\n",
      "148/148 [==============================] - 117s 790ms/step - loss: 2.3611 - accuracy: 0.6919 - Top3: 0.8220 - Top10: 0.8880 - val_loss: 2.3321 - val_accuracy: 0.6543 - val_Top3: 0.8274 - val_Top10: 0.9483\n",
      "Epoch 34/80\n",
      "148/148 [==============================] - 117s 791ms/step - loss: 2.3527 - accuracy: 0.6922 - Top3: 0.8213 - Top10: 0.8865 - val_loss: 2.3176 - val_accuracy: 0.6509 - val_Top3: 0.8300 - val_Top10: 0.9492\n",
      "Epoch 35/80\n",
      "148/148 [==============================] - 118s 797ms/step - loss: 2.3274 - accuracy: 0.6973 - Top3: 0.8266 - Top10: 0.8914 - val_loss: 2.3067 - val_accuracy: 0.6582 - val_Top3: 0.8416 - val_Top10: 0.9488\n",
      "Epoch 36/80\n",
      "148/148 [==============================] - 117s 792ms/step - loss: 2.3069 - accuracy: 0.6995 - Top3: 0.8267 - Top10: 0.8902 - val_loss: 2.2988 - val_accuracy: 0.6492 - val_Top3: 0.8433 - val_Top10: 0.9492\n",
      "Epoch 37/80\n",
      "148/148 [==============================] - 117s 791ms/step - loss: 2.3065 - accuracy: 0.7026 - Top3: 0.8275 - Top10: 0.8908 - val_loss: 2.2916 - val_accuracy: 0.6444 - val_Top3: 0.8373 - val_Top10: 0.9479\n",
      "Epoch 38/80\n",
      "148/148 [==============================] - 116s 786ms/step - loss: 2.2863 - accuracy: 0.7062 - Top3: 0.8337 - Top10: 0.8967 - val_loss: 2.2688 - val_accuracy: 0.6642 - val_Top3: 0.8437 - val_Top10: 0.9509\n"
     ]
    },
    {
     "name": "stdout",
     "output_type": "stream",
     "text": [
      "Epoch 39/80\n",
      "148/148 [==============================] - 116s 784ms/step - loss: 2.2631 - accuracy: 0.7115 - Top3: 0.8343 - Top10: 0.8985 - val_loss: 2.2721 - val_accuracy: 0.6586 - val_Top3: 0.8377 - val_Top10: 0.9479\n",
      "Epoch 40/80\n",
      "148/148 [==============================] - 117s 789ms/step - loss: 2.2547 - accuracy: 0.7092 - Top3: 0.8316 - Top10: 0.8976 - val_loss: 2.2566 - val_accuracy: 0.6569 - val_Top3: 0.8399 - val_Top10: 0.9458\n",
      "Epoch 41/80\n",
      "148/148 [==============================] - 117s 791ms/step - loss: 2.2491 - accuracy: 0.7130 - Top3: 0.8347 - Top10: 0.8969 - val_loss: 2.2591 - val_accuracy: 0.6530 - val_Top3: 0.8343 - val_Top10: 0.9462\n",
      "Epoch 42/80\n",
      "148/148 [==============================] - 117s 793ms/step - loss: 2.2472 - accuracy: 0.7159 - Top3: 0.8334 - Top10: 0.8945 - val_loss: 2.2562 - val_accuracy: 0.6638 - val_Top3: 0.8377 - val_Top10: 0.9492\n",
      "Epoch 43/80\n",
      "148/148 [==============================] - 117s 792ms/step - loss: 2.2228 - accuracy: 0.7195 - Top3: 0.8361 - Top10: 0.8996 - val_loss: 2.2328 - val_accuracy: 0.6651 - val_Top3: 0.8433 - val_Top10: 0.9522\n",
      "Epoch 44/80\n",
      "148/148 [==============================] - 117s 791ms/step - loss: 2.2181 - accuracy: 0.7199 - Top3: 0.8367 - Top10: 0.8969 - val_loss: 2.2258 - val_accuracy: 0.6582 - val_Top3: 0.8467 - val_Top10: 0.9488\n",
      "Epoch 45/80\n",
      "148/148 [==============================] - 117s 789ms/step - loss: 2.1955 - accuracy: 0.7210 - Top3: 0.8442 - Top10: 0.9025 - val_loss: 2.2175 - val_accuracy: 0.6651 - val_Top3: 0.8493 - val_Top10: 0.9518\n",
      "Epoch 46/80\n",
      "148/148 [==============================] - 116s 782ms/step - loss: 2.2017 - accuracy: 0.7217 - Top3: 0.8409 - Top10: 0.9001 - val_loss: 2.2109 - val_accuracy: 0.6698 - val_Top3: 0.8485 - val_Top10: 0.9496\n",
      "Epoch 47/80\n",
      "148/148 [==============================] - 117s 792ms/step - loss: 2.1982 - accuracy: 0.7234 - Top3: 0.8409 - Top10: 0.8971 - val_loss: 2.1952 - val_accuracy: 0.6608 - val_Top3: 0.8493 - val_Top10: 0.9514\n",
      "Epoch 48/80\n",
      "148/148 [==============================] - 116s 785ms/step - loss: 2.2128 - accuracy: 0.7201 - Top3: 0.8335 - Top10: 0.8940 - val_loss: 2.2006 - val_accuracy: 0.6690 - val_Top3: 0.8476 - val_Top10: 0.9492\n",
      "Epoch 49/80\n",
      "148/148 [==============================] - 116s 781ms/step - loss: 2.1778 - accuracy: 0.7245 - Top3: 0.8420 - Top10: 0.9026 - val_loss: 2.1868 - val_accuracy: 0.6703 - val_Top3: 0.8502 - val_Top10: 0.9531\n",
      "Epoch 50/80\n",
      "148/148 [==============================] - 118s 799ms/step - loss: 2.1607 - accuracy: 0.7304 - Top3: 0.8447 - Top10: 0.9045 - val_loss: 2.1849 - val_accuracy: 0.6690 - val_Top3: 0.8523 - val_Top10: 0.9475\n",
      "Epoch 51/80\n",
      "148/148 [==============================] - 116s 782ms/step - loss: 2.1653 - accuracy: 0.7285 - Top3: 0.8425 - Top10: 0.9022 - val_loss: 2.1876 - val_accuracy: 0.6698 - val_Top3: 0.8511 - val_Top10: 0.9479\n",
      "Epoch 52/80\n",
      "148/148 [==============================] - 117s 791ms/step - loss: 2.1444 - accuracy: 0.7321 - Top3: 0.8463 - Top10: 0.9026 - val_loss: 2.1795 - val_accuracy: 0.6681 - val_Top3: 0.8498 - val_Top10: 0.9514\n",
      "Epoch 53/80\n",
      "148/148 [==============================] - 117s 790ms/step - loss: 2.1376 - accuracy: 0.7348 - Top3: 0.8451 - Top10: 0.9047 - val_loss: 2.1700 - val_accuracy: 0.6763 - val_Top3: 0.8485 - val_Top10: 0.9505\n",
      "Epoch 54/80\n",
      "148/148 [==============================] - 116s 787ms/step - loss: 2.1398 - accuracy: 0.7392 - Top3: 0.8419 - Top10: 0.9041 - val_loss: 2.1704 - val_accuracy: 0.6672 - val_Top3: 0.8463 - val_Top10: 0.9514\n",
      "Epoch 55/80\n",
      "148/148 [==============================] - 117s 791ms/step - loss: 2.1441 - accuracy: 0.7322 - Top3: 0.8418 - Top10: 0.9006 - val_loss: 2.1668 - val_accuracy: 0.6767 - val_Top3: 0.8506 - val_Top10: 0.9488\n",
      "Epoch 56/80\n",
      "148/148 [==============================] - 117s 790ms/step - loss: 2.1117 - accuracy: 0.7432 - Top3: 0.8496 - Top10: 0.9065 - val_loss: 2.1512 - val_accuracy: 0.6690 - val_Top3: 0.8558 - val_Top10: 0.9531\n",
      "Epoch 57/80\n",
      "148/148 [==============================] - 116s 783ms/step - loss: 2.1033 - accuracy: 0.7421 - Top3: 0.8525 - Top10: 0.9074 - val_loss: 2.1498 - val_accuracy: 0.6767 - val_Top3: 0.8562 - val_Top10: 0.9539\n",
      "Epoch 58/80\n",
      "148/148 [==============================] - 117s 791ms/step - loss: 2.1060 - accuracy: 0.7414 - Top3: 0.8509 - Top10: 0.9068 - val_loss: 2.1482 - val_accuracy: 0.6707 - val_Top3: 0.8493 - val_Top10: 0.9557\n",
      "Epoch 59/80\n",
      "148/148 [==============================] - 117s 792ms/step - loss: 2.1115 - accuracy: 0.7395 - Top3: 0.8468 - Top10: 0.9039 - val_loss: 2.1460 - val_accuracy: 0.6733 - val_Top3: 0.8515 - val_Top10: 0.9505\n",
      "Epoch 60/80\n",
      "148/148 [==============================] - 117s 790ms/step - loss: 2.0945 - accuracy: 0.7459 - Top3: 0.8526 - Top10: 0.9065 - val_loss: 2.1419 - val_accuracy: 0.6750 - val_Top3: 0.8597 - val_Top10: 0.9475\n",
      "Epoch 61/80\n",
      "148/148 [==============================] - 117s 792ms/step - loss: 2.1073 - accuracy: 0.7453 - Top3: 0.8455 - Top10: 0.9013 - val_loss: 2.1284 - val_accuracy: 0.6840 - val_Top3: 0.8601 - val_Top10: 0.9488\n",
      "Epoch 62/80\n",
      "148/148 [==============================] - 116s 787ms/step - loss: 2.0765 - accuracy: 0.7482 - Top3: 0.8519 - Top10: 0.9090 - val_loss: 2.1336 - val_accuracy: 0.6802 - val_Top3: 0.8575 - val_Top10: 0.9578\n",
      "Epoch 63/80\n",
      "148/148 [==============================] - 118s 795ms/step - loss: 2.0670 - accuracy: 0.7537 - Top3: 0.8532 - Top10: 0.9105 - val_loss: 2.1233 - val_accuracy: 0.6827 - val_Top3: 0.8549 - val_Top10: 0.9518\n",
      "Epoch 64/80\n",
      "148/148 [==============================] - 116s 785ms/step - loss: 2.0615 - accuracy: 0.7548 - Top3: 0.8564 - Top10: 0.9135 - val_loss: 2.1209 - val_accuracy: 0.6827 - val_Top3: 0.8584 - val_Top10: 0.9509\n",
      "Epoch 65/80\n",
      "148/148 [==============================] - 117s 794ms/step - loss: 2.0705 - accuracy: 0.7472 - Top3: 0.8527 - Top10: 0.9090 - val_loss: 2.1184 - val_accuracy: 0.6802 - val_Top3: 0.8584 - val_Top10: 0.9535\n",
      "Epoch 66/80\n",
      "148/148 [==============================] - 116s 783ms/step - loss: 2.0643 - accuracy: 0.7554 - Top3: 0.8537 - Top10: 0.9076 - val_loss: 2.1144 - val_accuracy: 0.6896 - val_Top3: 0.8554 - val_Top10: 0.9509\n",
      "Epoch 67/80\n",
      "148/148 [==============================] - 117s 792ms/step - loss: 2.0425 - accuracy: 0.7537 - Top3: 0.8580 - Top10: 0.9122 - val_loss: 2.1097 - val_accuracy: 0.6849 - val_Top3: 0.8610 - val_Top10: 0.9561\n",
      "Epoch 68/80\n",
      "148/148 [==============================] - 117s 792ms/step - loss: 2.0599 - accuracy: 0.7533 - Top3: 0.8520 - Top10: 0.9064 - val_loss: 2.1152 - val_accuracy: 0.6776 - val_Top3: 0.8567 - val_Top10: 0.9544\n",
      "Epoch 69/80\n",
      "148/148 [==============================] - 117s 792ms/step - loss: 2.0589 - accuracy: 0.7544 - Top3: 0.8524 - Top10: 0.9074 - val_loss: 2.1181 - val_accuracy: 0.6720 - val_Top3: 0.8567 - val_Top10: 0.9509\n",
      "Epoch 70/80\n",
      "148/148 [==============================] - 116s 782ms/step - loss: 2.0371 - accuracy: 0.7582 - Top3: 0.8563 - Top10: 0.9125 - val_loss: 2.0952 - val_accuracy: 0.6922 - val_Top3: 0.8597 - val_Top10: 0.9552\n",
      "Epoch 71/80\n",
      "148/148 [==============================] - 116s 786ms/step - loss: 2.0344 - accuracy: 0.7634 - Top3: 0.8537 - Top10: 0.9094 - val_loss: 2.1017 - val_accuracy: 0.6737 - val_Top3: 0.8575 - val_Top10: 0.9518\n",
      "Epoch 72/80\n",
      "148/148 [==============================] - 117s 792ms/step - loss: 2.0216 - accuracy: 0.7641 - Top3: 0.8597 - Top10: 0.9125 - val_loss: 2.0952 - val_accuracy: 0.6892 - val_Top3: 0.8622 - val_Top10: 0.9561\n",
      "Epoch 73/80\n",
      "148/148 [==============================] - 116s 787ms/step - loss: 2.0381 - accuracy: 0.7590 - Top3: 0.8534 - Top10: 0.9107 - val_loss: 2.0998 - val_accuracy: 0.6866 - val_Top3: 0.8631 - val_Top10: 0.9548\n",
      "Epoch 74/80\n",
      "148/148 [==============================] - 117s 790ms/step - loss: 2.0229 - accuracy: 0.7632 - Top3: 0.8580 - Top10: 0.9120 - val_loss: 2.1051 - val_accuracy: 0.6819 - val_Top3: 0.8588 - val_Top10: 0.9466\n",
      "Epoch 75/80\n",
      "148/148 [==============================] - 117s 790ms/step - loss: 2.0211 - accuracy: 0.7635 - Top3: 0.8577 - Top10: 0.9102 - val_loss: 2.0927 - val_accuracy: 0.6888 - val_Top3: 0.8571 - val_Top10: 0.9492\n",
      "Epoch 76/80\n",
      "148/148 [==============================] - 117s 789ms/step - loss: 2.0078 - accuracy: 0.7674 - Top3: 0.8599 - Top10: 0.9138 - val_loss: 2.0759 - val_accuracy: 0.6957 - val_Top3: 0.8618 - val_Top10: 0.9570\n"
     ]
    },
    {
     "name": "stdout",
     "output_type": "stream",
     "text": [
      "Epoch 77/80\n",
      "148/148 [==============================] - 117s 791ms/step - loss: 1.9818 - accuracy: 0.7752 - Top3: 0.8637 - Top10: 0.9211 - val_loss: 2.0778 - val_accuracy: 0.6793 - val_Top3: 0.8627 - val_Top10: 0.9587\n",
      "Epoch 78/80\n",
      "148/148 [==============================] - 117s 790ms/step - loss: 1.9919 - accuracy: 0.7714 - Top3: 0.8617 - Top10: 0.9137 - val_loss: 2.0872 - val_accuracy: 0.6827 - val_Top3: 0.8614 - val_Top10: 0.9539\n",
      "Epoch 79/80\n",
      "148/148 [==============================] - 116s 784ms/step - loss: 2.0041 - accuracy: 0.7674 - Top3: 0.8567 - Top10: 0.9116 - val_loss: 2.0801 - val_accuracy: 0.6845 - val_Top3: 0.8618 - val_Top10: 0.9522\n",
      "Epoch 80/80\n",
      "148/148 [==============================] - 116s 781ms/step - loss: 1.9928 - accuracy: 0.7693 - Top3: 0.8604 - Top10: 0.9142 - val_loss: 2.0711 - val_accuracy: 0.6905 - val_Top3: 0.8627 - val_Top10: 0.9531\n",
      "CPU times: user 2h 45min 7s, sys: 16min 20s, total: 3h 1min 28s\n",
      "Wall time: 2h 36min 14s\n"
     ]
    }
   ],
   "source": [
    "%%time\n",
    "history = model.fit(\n",
    "    train_gen,\n",
    "    epochs=epochs,\n",
    "    validation_data=validation_gen,\n",
    "    callbacks=[\n",
    "        tf.keras.callbacks.TensorBoard(\n",
    "            log_dir = tb_log_dir,\n",
    "            histogram_freq=1,\n",
    "        )\n",
    "        #tf.keras.callbacks.EarlyStopping(\n",
    "        #    monitor='val_accuracy',\n",
    "        #    patience=5,\n",
    "        #    min_delta=0.001,\n",
    "        #    mode='max',\n",
    "        #),\n",
    "        #tf.keras.callbacks.ModelCheckpoint(\n",
    "        ##    filepath='checkpoints3',\n",
    "        #    save_weights_only=True,\n",
    "        #),\n",
    "    ]\n",
    ")"
   ]
  },
  {
   "cell_type": "markdown",
   "id": "1227757b",
   "metadata": {},
   "source": [
    "## Evaluation"
   ]
  },
  {
   "cell_type": "code",
   "execution_count": 17,
   "id": "04aa344b",
   "metadata": {},
   "outputs": [
    {
     "name": "stdout",
     "output_type": "stream",
     "text": [
      "37/37 [==============================] - 23s 611ms/step - loss: 2.0865 - accuracy: 0.6793 - Top3: 0.8657 - Top10: 0.9522\n",
      "CPU times: user 23.2 s, sys: 584 ms, total: 23.8 s\n",
      "Wall time: 23.4 s\n"
     ]
    },
    {
     "data": {
      "text/plain": [
       "[2.0865015983581543,\n",
       " 0.6792939901351929,\n",
       " 0.8656909465789795,\n",
       " 0.9522169828414917]"
      ]
     },
     "execution_count": 17,
     "metadata": {},
     "output_type": "execute_result"
    }
   ],
   "source": [
    "%%time\n",
    "model.evaluate(validation_gen)"
   ]
  },
  {
   "cell_type": "code",
   "execution_count": 18,
   "id": "ae427c0a",
   "metadata": {},
   "outputs": [
    {
     "name": "stderr",
     "output_type": "stream",
     "text": [
      "WARNING:absl:Found untraced functions such as _jit_compiled_convolution_op, _jit_compiled_convolution_op, _jit_compiled_convolution_op, _jit_compiled_convolution_op, _jit_compiled_convolution_op while saving (showing 5 of 40). These functions will not be directly callable after loading.\n"
     ]
    },
    {
     "name": "stdout",
     "output_type": "stream",
     "text": [
      "INFO:tensorflow:Assets written to: model.cserv.003/assets\n"
     ]
    },
    {
     "name": "stderr",
     "output_type": "stream",
     "text": [
      "INFO:tensorflow:Assets written to: model.cserv.003/assets\n"
     ]
    }
   ],
   "source": [
    "import os\n",
    "model.save(f'model.{os.uname()[1]}.003')"
   ]
  },
  {
   "cell_type": "code",
   "execution_count": 19,
   "id": "bca3fe21",
   "metadata": {},
   "outputs": [
    {
     "data": {
      "image/png": "[encoded data removed]",
      "text/plain": [
       "<Figure size 640x480 with 1 Axes>"
      ]
     },
     "metadata": {},
     "output_type": "display_data"
    }
   ],
   "source": [
    "from matplotlib import pyplot as plt\n",
    "\n",
    "plt.plot(history.history['loss'])\n",
    "plt.plot(history.history['val_loss'])\n",
    "plt.title('model loss')\n",
    "plt.ylabel('loss')\n",
    "plt.xlabel('epoch')\n",
    "plt.legend(['train', 'val'], loc='upper right')\n",
    "plt.show()"
   ]
  },
  {
   "cell_type": "code",
   "execution_count": 20,
   "id": "0e79a91a",
   "metadata": {},
   "outputs": [
    {
     "name": "stdout",
     "output_type": "stream",
     "text": [
      "Model: \"sequential\"\n",
      "_________________________________________________________________\n",
      " Layer (type)                Output Shape              Param #   \n",
      "=================================================================\n",
      " xception (Functional)       (None, 2048)              20861480  \n",
      "                                                                 \n",
      " dense (Dense)               (None, 200)               409800    \n",
      "                                                                 \n",
      " dropout (Dropout)           (None, 200)               0         \n",
      "                                                                 \n",
      " activation (Activation)     (None, 200)               0         \n",
      "                                                                 \n",
      "=================================================================\n",
      "Total params: 21,271,280\n",
      "Trainable params: 409,800\n",
      "Non-trainable params: 20,861,480\n",
      "_________________________________________________________________\n"
     ]
    }
   ],
   "source": [
    "model.summary()"
   ]
  },
  {
   "cell_type": "code",
   "execution_count": null,
   "id": "f62dd572",
   "metadata": {},
   "outputs": [],
   "source": []
  }
 ],
 "metadata": {
  "kernelspec": {
   "display_name": "Python [conda env:.conda-fungi] *",
   "language": "python",
   "name": "conda-env-.conda-fungi-py"
  },
  "language_info": {
   "codemirror_mode": {
    "name": "ipython",
    "version": 3
   },
   "file_extension": ".py",
   "mimetype": "text/x-python",
   "name": "python",
   "nbconvert_exporter": "python",
   "pygments_lexer": "ipython3",
   "version": "3.10.8"
  }
 },
 "nbformat": 4,
 "nbformat_minor": 5
}
