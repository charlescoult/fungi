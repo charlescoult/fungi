{
 "cells": [
  {
   "cell_type": "markdown",
   "id": "518a0c58",
   "metadata": {},
   "source": [
    "# Model Generation for GBIF Fungi Dataset"
   ]
  },
  {
   "cell_type": "code",
   "execution_count": 1,
   "id": "c086d1bb",
   "metadata": {},
   "outputs": [],
   "source": [
    "notebook_version = \"0.0.1\"\n",
    "runs_dir = '/media/data/runs'\n",
    "runs_hdf = 'runs.h5'"
   ]
  },
  {
   "cell_type": "markdown",
   "id": "b411778a",
   "metadata": {},
   "source": [
    "## References\n",
    "* [Transfer Learning with Hub](https://www.tensorflow.org/tutorials/images/transfer_learning_with_hub)\n",
    "* [`tf.data`: Build TensorFlow input pipelines](https://www.tensorflow.org/guide/data?hl=en)"
   ]
  },
  {
   "cell_type": "markdown",
   "id": "d62b4d31",
   "metadata": {},
   "source": [
    "---"
   ]
  },
  {
   "cell_type": "markdown",
   "id": "a285c8a1",
   "metadata": {},
   "source": [
    "## Setup"
   ]
  },
  {
   "cell_type": "code",
   "execution_count": 2,
   "id": "f2c0f4e3",
   "metadata": {},
   "outputs": [],
   "source": [
    "import numpy as np\n",
    "import os\n",
    "import pandas as pd\n",
    "\n",
    "import tensorflow as tf\n",
    "from tensorflow import keras\n",
    "from tensorflow.keras import layers\n",
    "from tensorflow.keras.models import Sequential\n",
    "\n",
    "import tensorflow_hub as hub\n",
    "from keras.utils.layer_utils import count_params\n",
    "\n",
    "from sklearn.model_selection import train_test_split\n",
    "import json\n",
    "\n",
    "AUTOTUNE = tf.data.AUTOTUNE"
   ]
  },
  {
   "cell_type": "markdown",
   "id": "8a639289",
   "metadata": {},
   "source": [
    "### Limit GPU memory allocation\n",
    "[Limiting GPU Memory Growth](https://www.tensorflow.org/guide/gpu#limiting_gpu_memory_growth)"
   ]
  },
  {
   "cell_type": "code",
   "execution_count": 3,
   "id": "16845159",
   "metadata": {},
   "outputs": [],
   "source": [
    "def limit_memory_growth(limit=True):\n",
    "    gpus = tf.config.list_physical_devices('GPU')\n",
    "    if gpus:\n",
    "        try:\n",
    "            # Currently, memory growth needs to be the same across GPUs\n",
    "            for gpu in gpus:\n",
    "                tf.config.experimental.set_memory_growth(gpu, limit)\n",
    "            logical_gpus = tf.config.list_logical_devices('GPU')\n",
    "            print(len(gpus), \"Physical GPUs,\", len(logical_gpus), \"Logical GPUs\")\n",
    "        except RuntimeError as e:\n",
    "            # Memory growth must be set before GPUs have been initialized\n",
    "            print(e)"
   ]
  },
  {
   "cell_type": "code",
   "execution_count": 4,
   "id": "10a47939",
   "metadata": {},
   "outputs": [
    {
     "name": "stdout",
     "output_type": "stream",
     "text": [
      "1 Physical GPUs, 1 Logical GPUs\n"
     ]
    }
   ],
   "source": [
    "limit_memory_growth()"
   ]
  },
  {
   "cell_type": "markdown",
   "id": "106e1972",
   "metadata": {},
   "source": [
    "---"
   ]
  },
  {
   "cell_type": "markdown",
   "id": "2d3ebd47",
   "metadata": {},
   "source": [
    "## Run Identifier"
   ]
  },
  {
   "cell_type": "code",
   "execution_count": 5,
   "id": "1f625078",
   "metadata": {},
   "outputs": [],
   "source": [
    "# ToDo: generate run_id from hdf runs.hdf in runs_dir\n",
    "run_id = 0"
   ]
  },
  {
   "cell_type": "code",
   "execution_count": 6,
   "id": "bde63a51",
   "metadata": {},
   "outputs": [
    {
     "data": {
      "text/plain": [
       "'/media/data/runs/0'"
      ]
     },
     "execution_count": 6,
     "metadata": {},
     "output_type": "execute_result"
    }
   ],
   "source": [
    "# This run's path\n",
    "run_path = os.path.join( runs_dir, str(run_id) )\n",
    "run_path"
   ]
  },
  {
   "cell_type": "code",
   "execution_count": 7,
   "id": "51f16734",
   "metadata": {},
   "outputs": [
    {
     "name": "stdout",
     "output_type": "stream",
     "text": [
      "Run path already exists!!\n",
      " Overwriting: /media/data/runs/0\n"
     ]
    }
   ],
   "source": [
    "if (os.path.exists( run_path )):\n",
    "    print(\"Run path already exists!!\")\n",
    "    print(\" Overwriting: %s\" % run_path)\n",
    "else:\n",
    "    os.makedirs( run_path )"
   ]
  },
  {
   "cell_type": "code",
   "execution_count": 8,
   "id": "280b9512",
   "metadata": {},
   "outputs": [],
   "source": [
    "batch_size = 64"
   ]
  },
  {
   "cell_type": "code",
   "execution_count": 9,
   "id": "94b709fa",
   "metadata": {},
   "outputs": [],
   "source": [
    "classifier_dropout = 0.33"
   ]
  },
  {
   "cell_type": "markdown",
   "id": "1833a622",
   "metadata": {},
   "source": [
    "---"
   ]
  },
  {
   "cell_type": "markdown",
   "id": "7175f0db",
   "metadata": {},
   "source": [
    "## Define Model Base"
   ]
  },
  {
   "cell_type": "code",
   "execution_count": 10,
   "id": "a95bd61b",
   "metadata": {},
   "outputs": [],
   "source": [
    "# Array of tuples describing the models to be tested\n",
    "# in the form: (model_handle, input_image_size, preprocessing_function)\n",
    "# where the model_handle is a model building function or a url to a tfhub feature model\n",
    "base_models = [\n",
    "    {\n",
    "        'source': 'https://tfhub.dev/google/tf2-preview/mobilenet_v2/feature_vector/4',\n",
    "        'input_dim': 224,\n",
    "        # https://www.tensorflow.org/hub/common_signatures/images#input\n",
    "        # The inputs pixel values are scaled between -1 and 1, sample-wise.\n",
    "        'preprocessor': tf.keras.applications.mobilenet_v2.preprocess_input,\n",
    "    },\n",
    "    {\n",
    "        'source': 'https://tfhub.dev/google/tf2-preview/inception_v3/feature_vector/4',\n",
    "        'input_dim': 299,\n",
    "        # The inputs pixel values are scaled between -1 and 1, sample-wise.\n",
    "        'preprocessor': tf.keras.applications.inception_v3.preprocess_input,\n",
    "    },\n",
    "    {\n",
    "        'source': 'https://tfhub.dev/google/inaturalist/inception_v3/feature_vector/5',\n",
    "        'input_dim': 299,\n",
    "        # The inputs pixel values are scaled between -1 and 1, sample-wise.\n",
    "        'preprocessor': tf.keras.applications.inception_v3.preprocess_input,\n",
    "    },\n",
    "    {\n",
    "        'source': tf.keras.applications.Xception,\n",
    "        'input_dim': 299,\n",
    "        # The inputs pixel values are scaled between -1 and 1, sample-wise.\n",
    "        'preprocessor': tf.keras.applications.xception.preprocess_input,\n",
    "    },\n",
    "    {\n",
    "        'source': tf.keras.applications.resnet.ResNet101,\n",
    "        'input_dim': 224,\n",
    "        'preprocessor': tf.keras.applications.resnet50.preprocess_input,\n",
    "    },\n",
    "    {\n",
    "        'source': tf.keras.applications.ResNet50,\n",
    "        'input_dim': 224,\n",
    "        'preprocessor': tf.keras.applications.resnet50.preprocess_input,\n",
    "    },\n",
    "    {\n",
    "        'source': tf.keras.applications.InceptionResNetV2,\n",
    "        'input_dim': 299,\n",
    "        'preprocessor': tf.keras.applications.inception_resnet_v2.preprocess_input,\n",
    "    },\n",
    "    {\n",
    "        'source': tf.keras.applications.efficientnet_v2.EfficientNetV2B0,\n",
    "        'input_dim': 224,\n",
    "        # The preprocessing logic has been included in the EfficientNetV2\n",
    "        # model implementation. Users are no longer required to call this\n",
    "        # method to normalize the input data. This method does nothing and\n",
    "        # only kept as a placeholder to align the API surface between old\n",
    "        # and new version of model.\n",
    "        'preprocessor': tf.keras.applications.efficientnet_v2.preprocess_input,\n",
    "    },\n",
    "]"
   ]
  },
  {
   "cell_type": "code",
   "execution_count": 11,
   "id": "3d3d505b",
   "metadata": {},
   "outputs": [],
   "source": [
    "model = {}\n",
    "model[\"base\"] = base_models[2]"
   ]
  },
  {
   "cell_type": "markdown",
   "id": "53b66f3b",
   "metadata": {},
   "source": [
    "---"
   ]
  },
  {
   "cell_type": "markdown",
   "id": "2bf8d406",
   "metadata": {},
   "source": [
    "## Define Dataset"
   ]
  },
  {
   "cell_type": "code",
   "execution_count": 12,
   "id": "b652b376",
   "metadata": {},
   "outputs": [],
   "source": [
    "ds_hdf_path = '/media/data/gbif/clean_data.h5'\n",
    "ds_hdf_key = 'media_merged_filtered-by-species_350pt'\n",
    "\n",
    "ds_col_filename = 'filename'\n",
    "ds_col_label = 'acceptedScientificName'"
   ]
  },
  {
   "cell_type": "code",
   "execution_count": 13,
   "id": "06565e2d",
   "metadata": {},
   "outputs": [],
   "source": [
    "# Read in source dataframe\n",
    "ds_df = pd.read_hdf( ds_hdf_path, ds_hdf_key )"
   ]
  },
  {
   "cell_type": "markdown",
   "id": "8968969f",
   "metadata": {},
   "source": [
    "### Dataset Information"
   ]
  },
  {
   "cell_type": "code",
   "execution_count": 14,
   "id": "cfe4b81c",
   "metadata": {},
   "outputs": [
    {
     "name": "stdout",
     "output_type": "stream",
     "text": [
      "Label count: 2451\n",
      "Datapoint count: 665803\n"
     ]
    }
   ],
   "source": [
    "ds_classes = ds_df[ ds_col_label ].unique()\n",
    "print('Label count: %d' % len(ds_classes))\n",
    "print('Datapoint count: %d' % len(ds_df))"
   ]
  },
  {
   "cell_type": "code",
   "execution_count": 15,
   "id": "3e823d09",
   "metadata": {},
   "outputs": [],
   "source": [
    "ds_df_label_vc = ds_df[ ds_col_label ].value_counts()\n",
    "ds_df_label_vc = ds_df_label_vc.sort_values( ascending=False )"
   ]
  },
  {
   "cell_type": "code",
   "execution_count": 16,
   "id": "d014f0fb",
   "metadata": {
    "scrolled": true
   },
   "outputs": [
    {
     "data": {
      "text/plain": [
       "Amanita muscaria (L.) Lam.              1050\n",
       "Pisolithus arhizus (Scop.) Rauschert    1050\n",
       "Phellinus igniarius (L.) Quél.          1030\n",
       "Inonotus obliquus (Fr.) Pilát            968\n",
       "Collybiopsis (J.Schröt.) Earle, 1909     942\n",
       "Name: acceptedScientificName, dtype: int64"
      ]
     },
     "execution_count": 16,
     "metadata": {},
     "output_type": "execute_result"
    }
   ],
   "source": [
    "ds_df_label_vc.head()"
   ]
  },
  {
   "cell_type": "code",
   "execution_count": 17,
   "id": "97d31064",
   "metadata": {},
   "outputs": [
    {
     "data": {
      "text/plain": [
       "Cheimonophyllum candidissimum (Berk. & M.A.Curtis) Singer                                    101\n",
       "Urocystis anemones (Pers.) G.Winter                                                          101\n",
       "Melanelixia subargentifera (Nyl.) O.Blanco, A.Crespo, Divakar, Essl., D.Hawksw. & Lumbsch    101\n",
       "Furia ithacensis (J.P.Kramer) Humber                                                         101\n",
       "Fistulina antarctica Speg.                                                                   101\n",
       "Name: acceptedScientificName, dtype: int64"
      ]
     },
     "execution_count": 17,
     "metadata": {},
     "output_type": "execute_result"
    }
   ],
   "source": [
    "ds_df_label_vc.tail()"
   ]
  },
  {
   "cell_type": "code",
   "execution_count": 18,
   "id": "1c328f96",
   "metadata": {},
   "outputs": [
    {
     "data": {
      "text/plain": [
       "<Axes: >"
      ]
     },
     "execution_count": 18,
     "metadata": {},
     "output_type": "execute_result"
    },
    {
     "data": {
      "image/png": "[encoded data removed]",
      "text/plain": [
       "<Figure size 640x480 with 1 Axes>"
      ]
     },
     "metadata": {},
     "output_type": "display_data"
    }
   ],
   "source": [
    "ds_df_label_vc.hist( bins=50 )"
   ]
  },
  {
   "cell_type": "markdown",
   "id": "768b4828",
   "metadata": {},
   "source": [
    "Most classes have 350 datapoints because I thought I had downsampled the datasets with more than 350 datapoints down to 350 but it looks like there are some that were not affected by the transformation I performed. There are some classes with more than 350 datapoints somehow. Regardless, we will be downsampling them all to the lowest value_count (101)..."
   ]
  },
  {
   "cell_type": "markdown",
   "id": "a2311854",
   "metadata": {},
   "source": [
    "### Dataset Transformation\n",
    "(downsample, upsample, etc.)"
   ]
  },
  {
   "cell_type": "code",
   "execution_count": 19,
   "id": "2a86a1db",
   "metadata": {},
   "outputs": [
    {
     "name": "stdout",
     "output_type": "stream",
     "text": [
      "Least number of samples per class: 101\n"
     ]
    }
   ],
   "source": [
    "# Downsample to equal number of samples per class\n",
    "ds_df_label_vc_min = ds_df_label_vc.min()\n",
    "print('Least number of samples per class: %d' % ds_df_label_vc_min)"
   ]
  },
  {
   "cell_type": "code",
   "execution_count": 20,
   "id": "77f90178",
   "metadata": {},
   "outputs": [
    {
     "data": {
      "text/plain": [
       "Abortiporus biennis (Bull.) Singer                        101\n",
       "Perenniporia fraxinea (Bull.) Ryvarden                    101\n",
       "Peltula euploca (Ach.) Poelt ex Pišút                     101\n",
       "Penicillium digitatum (Pers.) Sacc.                       101\n",
       "Penicillium vulpinum (Cooke & Massee) Seifert & Samson    101\n",
       "                                                         ... \n",
       "Ganoderma curtisii (Berk.) Murrill                        101\n",
       "Ganoderma lobatum (Cooke) G.F.Atk.                        101\n",
       "Ganoderma lucidum (Curtis) P.Karst.                       101\n",
       "Ganoderma oregonense Murrill                              101\n",
       "Yarrumia coronata (Müll.Arg.) D.J.Galloway                101\n",
       "Name: acceptedScientificName, Length: 2451, dtype: int64"
      ]
     },
     "execution_count": 20,
     "metadata": {},
     "output_type": "execute_result"
    }
   ],
   "source": [
    "ds_df_trans = ds_df.groupby( by=ds_col_label ).sample(n = ds_df_label_vc_min)\n",
    "ds_df_trans[ds_col_label].value_counts()"
   ]
  },
  {
   "cell_type": "code",
   "execution_count": 21,
   "id": "88e070ac",
   "metadata": {},
   "outputs": [
    {
     "data": {
      "text/plain": [
       "101    2451\n",
       "Name: acceptedScientificName, dtype: int64"
      ]
     },
     "execution_count": 21,
     "metadata": {},
     "output_type": "execute_result"
    }
   ],
   "source": [
    "ds_df_trans[ds_col_label].value_counts().value_counts()"
   ]
  },
  {
   "cell_type": "markdown",
   "id": "d888fc08",
   "metadata": {},
   "source": [
    "We have transformed the original dataset through downsampling to produce a dataset where all classes have the same number of datapoints as the class with the least amount of datapoints."
   ]
  },
  {
   "cell_type": "markdown",
   "id": "f32501e4",
   "metadata": {},
   "source": [
    "### Train, Validation, Test Split"
   ]
  },
  {
   "cell_type": "code",
   "execution_count": null,
   "id": "04d835ff",
   "metadata": {},
   "outputs": [],
   "source": [
    "ds_split_test = 0.05\n",
    "ds_split_val = 0.1"
   ]
  },
  {
   "cell_type": "code",
   "execution_count": null,
   "id": "320ffe2a",
   "metadata": {},
   "outputs": [],
   "source": [
    "ds_df_train, ds_df_test = train_test_split(\n",
    "    ds_df_trans,\n",
    "    test_size = ds_split_test,\n",
    "    stratify = ds_df_trans[[ ds_col_label ]],\n",
    ")\n",
    "\n",
    "ds_df_train, ds_df_val = train_test_split(\n",
    "    ds_df_train,\n",
    "    test_size = ds_split_val,\n",
    "    stratify = ds_df_train[[ ds_col_label ]],\n",
    ")"
   ]
  },
  {
   "cell_type": "markdown",
   "id": "5db61aa5",
   "metadata": {},
   "source": [
    "### Input Data Pipeline Generation"
   ]
  },
  {
   "cell_type": "code",
   "execution_count": null,
   "id": "024d2826",
   "metadata": {},
   "outputs": [],
   "source": [
    "def load_image(\n",
    "    filename,\n",
    "):\n",
    "    img_raw = tf.io.read_file( filename )\n",
    "    img_tensor = tf.image.decode_image(\n",
    "        img_raw,\n",
    "        dtype = tf.dtypes.float32,\n",
    "        channels = 3,\n",
    "        expand_animations = False,\n",
    "    )\n",
    "    return img_tensor"
   ]
  },
  {
   "cell_type": "code",
   "execution_count": null,
   "id": "5cd2f7c8",
   "metadata": {},
   "outputs": [],
   "source": [
    "def resize(\n",
    "    img_tensor,\n",
    "    input_dim,\n",
    "):\n",
    "    return tf.image.resize(\n",
    "        img_tensor,\n",
    "        [ input_dim, input_dim ],\n",
    "    )"
   ]
  },
  {
   "cell_type": "code",
   "execution_count": null,
   "id": "6aee8112",
   "metadata": {},
   "outputs": [],
   "source": [
    "def preprocessing(\n",
    "    img_tensor,\n",
    "    preprocessor,\n",
    "):\n",
    "    return preprocessor( img_tensor )"
   ]
  },
  {
   "cell_type": "code",
   "execution_count": null,
   "id": "295408d5",
   "metadata": {},
   "outputs": [],
   "source": [
    "# Determines if preprocessing should be done in the IDP or in the model\n",
    "preprocessing_in_ds = False"
   ]
  },
  {
   "cell_type": "code",
   "execution_count": null,
   "id": "add21141",
   "metadata": {},
   "outputs": [],
   "source": [
    "def encode_label(\n",
    "    label,\n",
    "    classes,\n",
    "):\n",
    "    one_hot = label == classes\n",
    "    label_encoded = tf.argmax( one_hot )\n",
    "    return label_encoded"
   ]
  },
  {
   "cell_type": "code",
   "execution_count": null,
   "id": "8d2307d5",
   "metadata": {},
   "outputs": [],
   "source": [
    "def data_augmentation(\n",
    "    img_tensor,\n",
    "    augmentation_func,\n",
    "):\n",
    "    return augmentation_func(img_tensor, training = True)\n",
    "    "
   ]
  },
  {
   "cell_type": "code",
   "execution_count": null,
   "id": "c4dbab8c",
   "metadata": {},
   "outputs": [],
   "source": [
    "# Augmentation function selection\n",
    "augmentation_functions = [\n",
    "    tf.keras.Sequential( [\n",
    "        tf.keras.layers.RandomFlip(\"horizontal_and_vertical\"),\n",
    "        tf.keras.layers.RandomRotation(0.2),\n",
    "        \n",
    "    ] )\n",
    "]\n",
    "\n",
    "# set augmentation_func to None if no augmentation is desired\n",
    "augmentation_func = augmentation_functions[0]\n",
    "\n",
    "# Determines if data augmentation should be done in the IDP or in the model\n",
    "# Data augmentation will\n",
    "data_augmentation_in_ds = True"
   ]
  },
  {
   "cell_type": "code",
   "execution_count": null,
   "id": "10ccc6ae",
   "metadata": {},
   "outputs": [],
   "source": [
    "def make_idp(\n",
    "    filenames,\n",
    "    labels,\n",
    "    input_dim,\n",
    "    is_training = False,\n",
    "    batch_size = 32,\n",
    "    augmentation_func = None,\n",
    "):\n",
    "    ds = tf.data.Dataset.from_tensor_slices( (\n",
    "        filenames,\n",
    "        labels,\n",
    "    ) )\n",
    "    \n",
    "    # image loading\n",
    "    # (img_tensor, label)\n",
    "    ds = ds.map(\n",
    "        lambda filename, label: (\n",
    "            load_image(filename),\n",
    "            label,\n",
    "        ),\n",
    "        num_parallel_calls = AUTOTUNE,\n",
    "    )\n",
    "\n",
    "    # if isTraining, shuffle\n",
    "    # use a buffersize equal to the length of the dataset\n",
    "    if ( is_training ):\n",
    "        # ds = ds.shuffle( buffer_size = len(filenames) )\n",
    "        \n",
    "        # if isTraining and augmentation_func exists, use data augmentation\n",
    "        if ( augmentation_func ):\n",
    "            ds = ds.map(\n",
    "                lambda img_tensor, label: (\n",
    "                    data_augmentation(img_tensor, augmentation_func),\n",
    "                    label,\n",
    "                ),\n",
    "                num_parallel_calls = AUTOTUNE,\n",
    "            )\n",
    "    \n",
    "    # image resizing\n",
    "    # (img_tensor_resized, label)\n",
    "    ds = ds.map(\n",
    "        lambda img_tensor, label: (\n",
    "            resize( img_tensor, input_dim ),\n",
    "            label,\n",
    "        ),\n",
    "        num_parallel_calls = AUTOTUNE,\n",
    "    )\n",
    "    \n",
    "    # image preprocessing\n",
    "    # (img_tensor_resized_preprocessed, label)\n",
    "    if ( preprocessing_in_ds ):\n",
    "        ds = ds.map(\n",
    "            lambda img_tensor_resized, label: (\n",
    "                preprocessing(img_tensor_resized, model['base']['preprocessor']),\n",
    "                label,\n",
    "            ),\n",
    "            num_parallel_calls = AUTOTUNE,\n",
    "        )\n",
    "    \n",
    "    # label encoding\n",
    "    # (img_tensor_resized_preprocessed, label_encoded)\n",
    "    ds = ds.map(\n",
    "        lambda img_tensor_resized_preprocessed, label: (\n",
    "            img_tensor_resized_preprocessed,\n",
    "            encode_label( label, ds_classes ),\n",
    "        ),\n",
    "        num_parallel_calls = AUTOTUNE,\n",
    "    )\n",
    "    \n",
    "    # Batch\n",
    "    ds = ds.batch( batch_size )\n",
    "    \n",
    "    # Prefetch\n",
    "    ds = ds.prefetch( buffer_size = AUTOTUNE )\n",
    "    \n",
    "    return ds\n"
   ]
  },
  {
   "cell_type": "code",
   "execution_count": null,
   "id": "e11c0c6d",
   "metadata": {},
   "outputs": [],
   "source": [
    "# IDP creation\n",
    "ds_idp_train = make_idp(\n",
    "    ds_df_train[ ds_col_filename ].values,\n",
    "    ds_df_train[ ds_col_label ].values,\n",
    "    input_dim = model['base']['input_dim'],\n",
    "    is_training = True,\n",
    "    batch_size = batch_size,\n",
    "    augmentation_func = augmentation_func if ( augmentation_func and data_augmentation_in_ds ) else None,\n",
    ")\n",
    "\n",
    "ds_idp_val = make_idp(\n",
    "    ds_df_val[ ds_col_filename ].values,\n",
    "    ds_df_val[ ds_col_label ].values,\n",
    "    input_dim = model['base']['input_dim'],\n",
    "    is_training = False,\n",
    "    batch_size = batch_size,\n",
    "    # turned off by is_training = False anyway...\n",
    "    augmentation_func = None,\n",
    ")\n",
    "\n",
    "ds_idp_test = make_idp(\n",
    "    ds_df_test[ ds_col_filename ].values,\n",
    "    ds_df_test[ ds_col_label ].values,\n",
    "    input_dim = model['base']['input_dim'],\n",
    "    is_training = False,\n",
    "    batch_size = batch_size,\n",
    "    # turned off by is_training = False anyway...\n",
    "    augmentation_func = None,\n",
    ")"
   ]
  },
  {
   "cell_type": "code",
   "execution_count": null,
   "id": "7829410a",
   "metadata": {},
   "outputs": [],
   "source": [
    "# def save_label_mapping(\n",
    "#     label_mapping,\n",
    "#     file_path = './label_mapping.json',\n",
    "# ):\n",
    "#     with open( file_path, 'w' ) as f:\n",
    "#         json.dump( label_mapping, f, indent = 3 )"
   ]
  },
  {
   "cell_type": "markdown",
   "id": "1de845ab",
   "metadata": {},
   "source": [
    "---"
   ]
  },
  {
   "cell_type": "markdown",
   "id": "c1aa7788",
   "metadata": {},
   "source": [
    "## Model Building"
   ]
  },
  {
   "cell_type": "code",
   "execution_count": null,
   "id": "9a0c6376",
   "metadata": {},
   "outputs": [],
   "source": [
    "# return a name that accurately describes the model building function or\n",
    "# the tfhub model (by url) that was passed\n",
    "def get_model_name( model_handle ):\n",
    "\n",
    "    if callable(model_handle):\n",
    "        return f'keras.applications/{model_handle.__name__}'\n",
    "    else:\n",
    "        split = model_handle.split('/')\n",
    "        return f'tfhub/{split[-5]}.{split[-4]}.{split[-3]}'\n",
    "    "
   ]
  },
  {
   "cell_type": "code",
   "execution_count": null,
   "id": "aa5396f3",
   "metadata": {},
   "outputs": [],
   "source": [
    "# Initialize full model\n",
    "model[\"model\"] = tf.keras.Sequential( name = \"full_model\" )"
   ]
  },
  {
   "cell_type": "code",
   "execution_count": null,
   "id": "979580f7",
   "metadata": {},
   "outputs": [],
   "source": [
    "# Input is assumed to be resized and preprocessed correctly from input dataset pipeline (idp)"
   ]
  },
  {
   "cell_type": "code",
   "execution_count": null,
   "id": "481821a9",
   "metadata": {},
   "outputs": [],
   "source": [
    "# generate base_model layer\n",
    "def gen_base_model_layer(\n",
    "    name,\n",
    "    source,\n",
    "    input_dim,\n",
    "    trainable = False,\n",
    "):\n",
    "    # If model_handle is a model building function, use that function\n",
    "    if callable( source ):\n",
    "        base_model = source(\n",
    "            include_top = False,\n",
    "            input_shape = ( input_dim, input_dim ) + (3,),\n",
    "            weights = 'imagenet',\n",
    "            # pooling = 'avg',\n",
    "        )\n",
    "\n",
    "    # otherwise build a layer from the tfhub url that was passed as a string\n",
    "    else:\n",
    "        base_model = hub.KerasLayer(\n",
    "            source,\n",
    "            input_shape = ( input_dim, input_dim ) + (3,),\n",
    "            name = name,\n",
    "        )\n",
    "    \n",
    "    base_model.trainable = trainable\n",
    "\n",
    "    return base_model\n"
   ]
  },
  {
   "cell_type": "code",
   "execution_count": null,
   "id": "6ab9826b",
   "metadata": {},
   "outputs": [],
   "source": [
    "# Add base model to full_model\n",
    "model[\"model\"].add( gen_base_model_layer(\n",
    "    name = get_model_name( model['base']['source'] ),\n",
    "    source = model['base']['source'],\n",
    "    input_dim = model['base']['input_dim'],\n",
    "    trainable = True,\n",
    ") )"
   ]
  },
  {
   "cell_type": "code",
   "execution_count": null,
   "id": "38c49a2e",
   "metadata": {},
   "outputs": [],
   "source": [
    "# generate classifier\n",
    "def gen_classifier_model_layer(\n",
    "    num_classes,\n",
    "    dropout,\n",
    "):\n",
    "    model = tf.keras.Sequential()\n",
    "    model.add(\n",
    "        layers.Dense(\n",
    "            num_classes,\n",
    "            # activation = 'softmax',\n",
    "        )\n",
    "    )\n",
    "\n",
    "    model.add(\n",
    "        layers.Dropout(dropout)\n",
    "    )\n",
    "\n",
    "    model.add(\n",
    "        layers.Activation(\"softmax\", dtype=\"float32\")\n",
    "    )\n",
    "\n",
    "    return model"
   ]
  },
  {
   "cell_type": "code",
   "execution_count": null,
   "id": "1f1d45ad",
   "metadata": {},
   "outputs": [],
   "source": [
    "# Add classifier model to full_model\n",
    "# TODO allow selection between different classification models\n",
    "model['model'].add( gen_classifier_model_layer(\n",
    "    num_classes = len( ds_classes ),\n",
    "    dropout = classifier_dropout,\n",
    ") )"
   ]
  },
  {
   "cell_type": "markdown",
   "id": "a65bf126",
   "metadata": {},
   "source": [
    "---"
   ]
  },
  {
   "cell_type": "markdown",
   "id": "34d60b33",
   "metadata": {},
   "source": [
    "## Run Results Logging"
   ]
  },
  {
   "cell_type": "code",
   "execution_count": null,
   "id": "c3401105",
   "metadata": {},
   "outputs": [],
   "source": [
    "class RunLogging():\n",
    "\n",
    "    hdf_key = \"runs\"\n",
    "\n",
    "    def __init__(\n",
    "        self,\n",
    "        data_dir = \"./\",\n",
    "        hdf_filename = \"runs.h5\",\n",
    "    ):\n",
    "        self.data_dir = data_dir\n",
    "        self.filename =  os.path.join( data_dir, hdf_filename )\n",
    "        self.df = self.load_metadata()\n",
    "\n",
    "    def load_metadata(self):\n",
    "        if ( os.path.exists(self.filename) ):\n",
    "            return pd.read_hdf( self.filename, self.hdf_key )\n",
    "        else: return pd.DataFrame()\n",
    "\n",
    "    def save_df(self):\n",
    "        self.df.to_hdf(self.filename, self.hdf_key)\n",
    "\n",
    "    def add_run(self, params, log_dir, time, scores):\n",
    "\n",
    "        cols = {\n",
    "            **params,\n",
    "            'time': time,\n",
    "            'log_dir': log_dir,\n",
    "            'scores.loss': scores[0],\n",
    "            'scores.accuracy': scores[1],\n",
    "            'scores.top3': scores[2],\n",
    "            'scores.top10': scores[3],\n",
    "        }\n",
    "\n",
    "        new_run = pd.DataFrame([cols])\n",
    "\n",
    "        self.df = pd.concat([self.df, new_run])\n",
    "        self.save_df()"
   ]
  },
  {
   "cell_type": "markdown",
   "id": "6bb6dd65",
   "metadata": {},
   "source": [
    "---"
   ]
  },
  {
   "cell_type": "markdown",
   "id": "b4286d70",
   "metadata": {},
   "source": [
    "## Build and run all models"
   ]
  },
  {
   "cell_type": "markdown",
   "id": "4f5b6575",
   "metadata": {},
   "source": [
    "* Note regarding `thawed_base_model_layers` and full model architecture ([reference](https://stackoverflow.com/questions/64227483/what-is-the-right-way-to-gradually-unfreeze-layers-in-neural-network-while-learn))\n",
    "![image](https://i.stack.imgur.com/JLJqv.png)\n",
    "* [Another great reference](https://towardsdatascience.com/transfer-learning-from-pre-trained-models-f2393f124751)"
   ]
  },
  {
   "cell_type": "markdown",
   "id": "7a02943f",
   "metadata": {},
   "source": [
    "# Training Run"
   ]
  },
  {
   "cell_type": "code",
   "execution_count": null,
   "id": "ed107505",
   "metadata": {},
   "outputs": [],
   "source": [
    "## Training\n",
    "max_epochs = 20\n",
    "\n",
    "### Optimizer\n",
    "learning_rate = 0.0001\n",
    "\n",
    "### Loss\n",
    "label_smoothing = 0.1\n",
    "\n",
    "# TODO: allow loading of model weights from previous run\n",
    "load_weights = None"
   ]
  },
  {
   "cell_type": "code",
   "execution_count": null,
   "id": "03b3f0ef",
   "metadata": {},
   "outputs": [],
   "source": [
    "# Run Logging\n",
    "run_logs = RunLogging(\n",
    "    data_dir = runs_dir,\n",
    ")\n",
    "\n",
    "base_model_id = get_model_name( model['base']['source'] )\n",
    "run_log_dir = os.path.join( run_logs.data_dir, 'gbif', base_model_id )"
   ]
  },
  {
   "cell_type": "code",
   "execution_count": null,
   "id": "b3ef2fdd",
   "metadata": {},
   "outputs": [],
   "source": [
    "# Compile model\n",
    "# Sparse vs non-sparse CCE https://www.kaggle.com/general/197993\n",
    "model[\"model\"].compile(\n",
    "    optimizer = tf.keras.optimizers.Adam( learning_rate = learning_rate ),\n",
    "    loss = tf.keras.losses.SparseCategoricalCrossentropy( from_logits = False ),\n",
    "    # loss = tf.keras.losses.CategoricalCrossentropy(\n",
    "        # from_logits=True,\n",
    "    #     label_smoothing = label_smoothing,\n",
    "    # ),\n",
    "    metrics = [\n",
    "        'accuracy',\n",
    "        # tf.keras.metrics.AUC(),\n",
    "        tf.keras.metrics.SparseCategoricalCrossentropy(),\n",
    "        tf.keras.metrics.SparseTopKCategoricalAccuracy(\n",
    "            k = 3,\n",
    "            name=\"Top3\",\n",
    "        ),\n",
    "        tf.keras.metrics.SparseTopKCategoricalAccuracy(\n",
    "            k = 10,\n",
    "            name=\"Top10\",\n",
    "        ),\n",
    "        # tf.keras.metrics.CategoricalCrossentropy(),            \n",
    "        # tf.keras.metrics.TopKCategoricalAccuracy( k=3, name=\"Top3\" ),\n",
    "        # tf.keras.metrics.TopKCategoricalAccuracy( k=10, name=\"Top10\" ),\n",
    "    ],\n",
    ")"
   ]
  },
  {
   "cell_type": "code",
   "execution_count": null,
   "id": "f9f6e27a",
   "metadata": {},
   "outputs": [],
   "source": [
    "# Tensorboard logs\n",
    "tensorboard_callback = tf.keras.callbacks.TensorBoard(\n",
    "    log_dir = run_path,\n",
    "    histogram_freq = 1,\n",
    ")\n",
    "\n",
    "# Early stopping\n",
    "early_stopping_callback = tf.keras.callbacks.EarlyStopping(\n",
    "    # monitor='val_sparse_categorical_accuracy',\n",
    "    monitor = 'val_loss',\n",
    "    patience = 5,\n",
    "    min_delta = 0.01,\n",
    ")\n",
    "\n",
    "# Model Checkpoints for saving best model weights\n",
    "model_checkpoint_callback = tf.keras.callbacks.ModelCheckpoint(\n",
    "    os.path.join(run_log_dir, 'best_model' ),\n",
    "    save_best_only = True,\n",
    "    monitor = 'val_loss',\n",
    "    # mode = 'min', # should be chosen correctly based on monitor value\n",
    ")\n"
   ]
  },
  {
   "cell_type": "code",
   "execution_count": null,
   "id": "8158dd4e",
   "metadata": {},
   "outputs": [],
   "source": [
    "# Train\n",
    "history = model[\"model\"].fit(\n",
    "    ds_idp_train,\n",
    "    validation_data = ds_idp_val,\n",
    "    epochs = max_epochs,\n",
    "    callbacks = [\n",
    "        tensorboard_callback,\n",
    "        early_stopping_callback,\n",
    "        model_checkpoint_callback,\n",
    "    ],\n",
    "    # validation_freq=2,\n",
    ")\n"
   ]
  },
  {
   "cell_type": "code",
   "execution_count": null,
   "id": "1eac5a41",
   "metadata": {},
   "outputs": [],
   "source": []
  }
 ],
 "metadata": {
  "kernelspec": {
   "display_name": "Python [conda env:.conda-fungi]",
   "language": "python",
   "name": "conda-env-.conda-fungi-py"
  },
  "language_info": {
   "codemirror_mode": {
    "name": "ipython",
    "version": 3
   },
   "file_extension": ".py",
   "mimetype": "text/x-python",
   "name": "python",
   "nbconvert_exporter": "python",
   "pygments_lexer": "ipython3",
   "version": "3.10.9"
  }
 },
 "nbformat": 4,
 "nbformat_minor": 5
}
