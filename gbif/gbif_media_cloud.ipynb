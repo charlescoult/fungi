{
 "cells": [
  {
   "cell_type": "code",
   "execution_count": 1,
   "id": "01ea19d1",
   "metadata": {},
   "outputs": [],
   "source": [
    "import pandas as pd"
   ]
  },
  {
   "cell_type": "code",
   "execution_count": 5,
   "id": "a4c037bd",
   "metadata": {},
   "outputs": [
    {
     "name": "stdout",
     "output_type": "stream",
     "text": [
      "['/media', '/media_merged', '/obs', '/obs2']\n"
     ]
    }
   ],
   "source": [
    "# pd.read_hdf('clean_data.h5')\n",
    "with pd.HDFStore('clean_data.h5') as hdf:\n",
    "    print( hdf.keys() )"
   ]
  },
  {
   "cell_type": "code",
   "execution_count": 11,
   "id": "18f34211",
   "metadata": {},
   "outputs": [],
   "source": [
    "media_df = pd.read_hdf('clean_data.h5', '/media')"
   ]
  },
  {
   "cell_type": "code",
   "execution_count": 12,
   "id": "c509b793",
   "metadata": {},
   "outputs": [
    {
     "data": {
      "text/plain": [
       "['gbifID', 'format', 'identifier']"
      ]
     },
     "execution_count": 12,
     "metadata": {},
     "output_type": "execute_result"
    }
   ],
   "source": [
    "media_df.columns.tolist()"
   ]
  },
  {
   "cell_type": "markdown",
   "id": "bf7c538f",
   "metadata": {},
   "source": [
    "# AWS Rekognition\n",
    "* Uses [boto3](https://boto3.amazonaws.com/v1/documentation/api/latest/index.html)"
   ]
  },
  {
   "cell_type": "markdown",
   "id": "f770c7a9",
   "metadata": {},
   "source": [
    "## Label detection"
   ]
  },
  {
   "cell_type": "markdown",
   "id": "fa5f9960",
   "metadata": {},
   "source": [
    "## Image properties"
   ]
  },
  {
   "cell_type": "markdown",
   "id": "359e9276",
   "metadata": {},
   "source": [
    "## Label detection"
   ]
  },
  {
   "cell_type": "code",
   "execution_count": null,
   "id": "b89e115c",
   "metadata": {},
   "outputs": [],
   "source": []
  }
 ],
 "metadata": {
  "kernelspec": {
   "display_name": "Python [conda env:.conda-fungi] *",
   "language": "python",
   "name": "conda-env-.conda-fungi-py"
  },
  "language_info": {
   "codemirror_mode": {
    "name": "ipython",
    "version": 3
   },
   "file_extension": ".py",
   "mimetype": "text/x-python",
   "name": "python",
   "nbconvert_exporter": "python",
   "pygments_lexer": "ipython3",
   "version": "3.10.6"
  }
 },
 "nbformat": 4,
 "nbformat_minor": 5
}
