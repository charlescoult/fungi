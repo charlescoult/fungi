{
 "cells": [
  {
   "cell_type": "code",
   "execution_count": 1,
   "id": "2f4c85d6",
   "metadata": {},
   "outputs": [],
   "source": [
    "import pandas as pd"
   ]
  },
  {
   "cell_type": "code",
   "execution_count": 2,
   "id": "94835edb",
   "metadata": {},
   "outputs": [
    {
     "name": "stdout",
     "output_type": "stream",
     "text": [
      "citations.txt  meta.xml        occurrence.trimmed.txt\t     rights.txt\n",
      "dataset        multimedia.txt  occurrence.trimmed.txt.fixed  verbatim.txt\n",
      "metadata.xml   occurrence.csv  occurrence.txt\n"
     ]
    }
   ],
   "source": [
    "!ls fungi"
   ]
  },
  {
   "cell_type": "code",
   "execution_count": 3,
   "id": "2f1bde4f",
   "metadata": {},
   "outputs": [],
   "source": [
    "obs = pd.read_csv(\n",
    "    'fungi/occurrence.txt',\n",
    "    delimiter = '\\t',\n",
    "    low_memory=False,\n",
    ")"
   ]
  },
  {
   "cell_type": "code",
   "execution_count": 4,
   "id": "31b3bdda",
   "metadata": {},
   "outputs": [
    {
     "data": {
      "text/plain": [
       "(1426881, 257)"
      ]
     },
     "execution_count": 4,
     "metadata": {},
     "output_type": "execute_result"
    }
   ],
   "source": [
    "obs.shape"
   ]
  },
  {
   "cell_type": "code",
   "execution_count": 5,
   "id": "3566ea91",
   "metadata": {},
   "outputs": [
    {
     "data": {
      "text/html": [
       "<div>\n",
       "<style scoped>\n",
       "    .dataframe tbody tr th:only-of-type {\n",
       "        vertical-align: middle;\n",
       "    }\n",
       "\n",
       "    .dataframe tbody tr th {\n",
       "        vertical-align: top;\n",
       "    }\n",
       "\n",
       "    .dataframe thead th {\n",
       "        text-align: right;\n",
       "    }\n",
       "</style>\n",
       "<table border=\"1\" class=\"dataframe\">\n",
       "  <thead>\n",
       "    <tr style=\"text-align: right;\">\n",
       "      <th></th>\n",
       "      <th>gbifID</th>\n",
       "      <th>abstract</th>\n",
       "      <th>accessRights</th>\n",
       "      <th>accrualMethod</th>\n",
       "      <th>accrualPeriodicity</th>\n",
       "      <th>accrualPolicy</th>\n",
       "      <th>alternative</th>\n",
       "      <th>audience</th>\n",
       "      <th>available</th>\n",
       "      <th>bibliographicCitation</th>\n",
       "      <th>...</th>\n",
       "      <th>relativeOrganismQuantity</th>\n",
       "      <th>level0Gid</th>\n",
       "      <th>level0Name</th>\n",
       "      <th>level1Gid</th>\n",
       "      <th>level1Name</th>\n",
       "      <th>level2Gid</th>\n",
       "      <th>level2Name</th>\n",
       "      <th>level3Gid</th>\n",
       "      <th>level3Name</th>\n",
       "      <th>iucnRedListCategory</th>\n",
       "    </tr>\n",
       "  </thead>\n",
       "  <tbody>\n",
       "    <tr>\n",
       "      <th>0</th>\n",
       "      <td>2862378302</td>\n",
       "      <td>NaN</td>\n",
       "      <td>NaN</td>\n",
       "      <td>NaN</td>\n",
       "      <td>NaN</td>\n",
       "      <td>NaN</td>\n",
       "      <td>NaN</td>\n",
       "      <td>NaN</td>\n",
       "      <td>NaN</td>\n",
       "      <td>NaN</td>\n",
       "      <td>...</td>\n",
       "      <td>NaN</td>\n",
       "      <td>CAN</td>\n",
       "      <td>Canada</td>\n",
       "      <td>CAN.9_1</td>\n",
       "      <td>Ontario</td>\n",
       "      <td>CAN.9.35_1</td>\n",
       "      <td>Ottawa</td>\n",
       "      <td>CAN.9.35.1_1</td>\n",
       "      <td>Ottawa</td>\n",
       "      <td>NE</td>\n",
       "    </tr>\n",
       "    <tr>\n",
       "      <th>1</th>\n",
       "      <td>1572388850</td>\n",
       "      <td>NaN</td>\n",
       "      <td>NaN</td>\n",
       "      <td>NaN</td>\n",
       "      <td>NaN</td>\n",
       "      <td>NaN</td>\n",
       "      <td>NaN</td>\n",
       "      <td>NaN</td>\n",
       "      <td>NaN</td>\n",
       "      <td>NaN</td>\n",
       "      <td>...</td>\n",
       "      <td>NaN</td>\n",
       "      <td>USA</td>\n",
       "      <td>United States</td>\n",
       "      <td>USA.20_1</td>\n",
       "      <td>Maine</td>\n",
       "      <td>USA.20.3_1</td>\n",
       "      <td>Cumberland</td>\n",
       "      <td>NaN</td>\n",
       "      <td>NaN</td>\n",
       "      <td>NE</td>\n",
       "    </tr>\n",
       "    <tr>\n",
       "      <th>2</th>\n",
       "      <td>1944424565</td>\n",
       "      <td>NaN</td>\n",
       "      <td>NaN</td>\n",
       "      <td>NaN</td>\n",
       "      <td>NaN</td>\n",
       "      <td>NaN</td>\n",
       "      <td>NaN</td>\n",
       "      <td>NaN</td>\n",
       "      <td>NaN</td>\n",
       "      <td>NaN</td>\n",
       "      <td>...</td>\n",
       "      <td>NaN</td>\n",
       "      <td>MEX</td>\n",
       "      <td>México</td>\n",
       "      <td>MEX.19_1</td>\n",
       "      <td>Nuevo León</td>\n",
       "      <td>MEX.19.26_2</td>\n",
       "      <td>Higueras</td>\n",
       "      <td>NaN</td>\n",
       "      <td>NaN</td>\n",
       "      <td>NE</td>\n",
       "    </tr>\n",
       "    <tr>\n",
       "      <th>3</th>\n",
       "      <td>1838337501</td>\n",
       "      <td>NaN</td>\n",
       "      <td>NaN</td>\n",
       "      <td>NaN</td>\n",
       "      <td>NaN</td>\n",
       "      <td>NaN</td>\n",
       "      <td>NaN</td>\n",
       "      <td>NaN</td>\n",
       "      <td>NaN</td>\n",
       "      <td>NaN</td>\n",
       "      <td>...</td>\n",
       "      <td>NaN</td>\n",
       "      <td>ZAF</td>\n",
       "      <td>South Africa</td>\n",
       "      <td>ZAF.9_1</td>\n",
       "      <td>Western Cape</td>\n",
       "      <td>ZAF.9.3_1</td>\n",
       "      <td>City of Cape Town</td>\n",
       "      <td>ZAF.9.3.1_1</td>\n",
       "      <td>City of Cape Town</td>\n",
       "      <td>NE</td>\n",
       "    </tr>\n",
       "    <tr>\n",
       "      <th>4</th>\n",
       "      <td>1841319995</td>\n",
       "      <td>NaN</td>\n",
       "      <td>NaN</td>\n",
       "      <td>NaN</td>\n",
       "      <td>NaN</td>\n",
       "      <td>NaN</td>\n",
       "      <td>NaN</td>\n",
       "      <td>NaN</td>\n",
       "      <td>NaN</td>\n",
       "      <td>NaN</td>\n",
       "      <td>...</td>\n",
       "      <td>NaN</td>\n",
       "      <td>MEX</td>\n",
       "      <td>México</td>\n",
       "      <td>MEX.19_1</td>\n",
       "      <td>Nuevo León</td>\n",
       "      <td>MEX.19.24_2</td>\n",
       "      <td>Guadalupe</td>\n",
       "      <td>NaN</td>\n",
       "      <td>NaN</td>\n",
       "      <td>NE</td>\n",
       "    </tr>\n",
       "  </tbody>\n",
       "</table>\n",
       "<p>5 rows × 257 columns</p>\n",
       "</div>"
      ],
      "text/plain": [
       "       gbifID  abstract  accessRights  accrualMethod  accrualPeriodicity  \\\n",
       "0  2862378302       NaN           NaN            NaN                 NaN   \n",
       "1  1572388850       NaN           NaN            NaN                 NaN   \n",
       "2  1944424565       NaN           NaN            NaN                 NaN   \n",
       "3  1838337501       NaN           NaN            NaN                 NaN   \n",
       "4  1841319995       NaN           NaN            NaN                 NaN   \n",
       "\n",
       "   accrualPolicy  alternative  audience  available  bibliographicCitation  \\\n",
       "0            NaN          NaN       NaN        NaN                    NaN   \n",
       "1            NaN          NaN       NaN        NaN                    NaN   \n",
       "2            NaN          NaN       NaN        NaN                    NaN   \n",
       "3            NaN          NaN       NaN        NaN                    NaN   \n",
       "4            NaN          NaN       NaN        NaN                    NaN   \n",
       "\n",
       "   ...  relativeOrganismQuantity  level0Gid     level0Name  level1Gid  \\\n",
       "0  ...                       NaN        CAN         Canada    CAN.9_1   \n",
       "1  ...                       NaN        USA  United States   USA.20_1   \n",
       "2  ...                       NaN        MEX         México   MEX.19_1   \n",
       "3  ...                       NaN        ZAF   South Africa    ZAF.9_1   \n",
       "4  ...                       NaN        MEX         México   MEX.19_1   \n",
       "\n",
       "     level1Name    level2Gid         level2Name     level3Gid  \\\n",
       "0       Ontario   CAN.9.35_1             Ottawa  CAN.9.35.1_1   \n",
       "1         Maine   USA.20.3_1         Cumberland           NaN   \n",
       "2    Nuevo León  MEX.19.26_2           Higueras           NaN   \n",
       "3  Western Cape    ZAF.9.3_1  City of Cape Town   ZAF.9.3.1_1   \n",
       "4    Nuevo León  MEX.19.24_2          Guadalupe           NaN   \n",
       "\n",
       "          level3Name  iucnRedListCategory  \n",
       "0             Ottawa                   NE  \n",
       "1                NaN                   NE  \n",
       "2                NaN                   NE  \n",
       "3  City of Cape Town                   NE  \n",
       "4                NaN                   NE  \n",
       "\n",
       "[5 rows x 257 columns]"
      ]
     },
     "execution_count": 5,
     "metadata": {},
     "output_type": "execute_result"
    }
   ],
   "source": [
    "obs.head()"
   ]
  },
  {
   "cell_type": "code",
   "execution_count": 6,
   "id": "7f6842ed",
   "metadata": {},
   "outputs": [
    {
     "name": "stdout",
     "output_type": "stream",
     "text": [
      "<class 'pandas.core.frame.DataFrame'>\n",
      "RangeIndex: 1426881 entries, 0 to 1426880\n",
      "Columns: 257 entries, gbifID to iucnRedListCategory\n",
      "dtypes: bool(2), float64(186), int64(11), object(58)\n",
      "memory usage: 2.7+ GB\n"
     ]
    }
   ],
   "source": [
    "obs.info()"
   ]
  },
  {
   "cell_type": "code",
   "execution_count": 7,
   "id": "95e7d418",
   "metadata": {},
   "outputs": [],
   "source": [
    "# Lets look for columns that have too many NaN values or\n",
    "# are otherwise useless to us..."
   ]
  },
  {
   "cell_type": "code",
   "execution_count": 8,
   "id": "d227fbad",
   "metadata": {},
   "outputs": [
    {
     "data": {
      "text/plain": [
       "gbifID                       0\n",
       "abstract               1426881\n",
       "accessRights           1426881\n",
       "accrualMethod          1426881\n",
       "accrualPeriodicity     1426881\n",
       "                        ...   \n",
       "level2Gid                14696\n",
       "level2Name               14751\n",
       "level3Gid               971834\n",
       "level3Name             1050693\n",
       "iucnRedListCategory      41249\n",
       "Length: 257, dtype: int64"
      ]
     },
     "execution_count": 8,
     "metadata": {},
     "output_type": "execute_result"
    }
   ],
   "source": [
    "na_counts = obs.isna().sum()\n",
    "na_counts"
   ]
  },
  {
   "cell_type": "code",
   "execution_count": 9,
   "id": "30c9996d",
   "metadata": {},
   "outputs": [
    {
     "data": {
      "text/plain": [
       "gbifID                   0.0\n",
       "abstract               100.0\n",
       "accessRights           100.0\n",
       "accrualMethod          100.0\n",
       "accrualPeriodicity     100.0\n",
       "                       ...  \n",
       "level2Gid                1.0\n",
       "level2Name               1.0\n",
       "level3Gid               68.0\n",
       "level3Name              74.0\n",
       "iucnRedListCategory      3.0\n",
       "Length: 257, dtype: float64"
      ]
     },
     "execution_count": 9,
     "metadata": {},
     "output_type": "execute_result"
    }
   ],
   "source": [
    "na_counts_rate = (100. * na_counts / len(obs)).round(0)\n",
    "na_counts_rate"
   ]
  },
  {
   "cell_type": "code",
   "execution_count": 10,
   "id": "d92e8bd9",
   "metadata": {},
   "outputs": [
    {
     "data": {
      "text/plain": [
       "(184,)"
      ]
     },
     "execution_count": 10,
     "metadata": {},
     "output_type": "execute_result"
    }
   ],
   "source": [
    "na_counts_rate[ na_counts_rate > 25 ].shape"
   ]
  },
  {
   "cell_type": "code",
   "execution_count": 11,
   "id": "3659eddc",
   "metadata": {},
   "outputs": [
    {
     "data": {
      "text/plain": [
       "(184,)"
      ]
     },
     "execution_count": 11,
     "metadata": {},
     "output_type": "execute_result"
    }
   ],
   "source": [
    "na_counts_rate[ na_counts_rate > 50 ].shape"
   ]
  },
  {
   "cell_type": "code",
   "execution_count": 12,
   "id": "85c73aea",
   "metadata": {},
   "outputs": [
    {
     "data": {
      "text/plain": [
       "(182,)"
      ]
     },
     "execution_count": 12,
     "metadata": {},
     "output_type": "execute_result"
    }
   ],
   "source": [
    "na_counts_rate[ na_counts_rate > 75 ].shape"
   ]
  },
  {
   "cell_type": "code",
   "execution_count": 13,
   "id": "80800388",
   "metadata": {},
   "outputs": [
    {
     "data": {
      "text/plain": [
       "(181,)"
      ]
     },
     "execution_count": 13,
     "metadata": {},
     "output_type": "execute_result"
    }
   ],
   "source": [
    "na_counts_rate[ na_counts_rate > 90 ].shape"
   ]
  },
  {
   "cell_type": "code",
   "execution_count": 14,
   "id": "7848a73c",
   "metadata": {
    "scrolled": true
   },
   "outputs": [
    {
     "data": {
      "text/plain": [
       "[<matplotlib.lines.Line2D at 0x7f3aeef5cc40>]"
      ]
     },
     "execution_count": 14,
     "metadata": {},
     "output_type": "execute_result"
    },
    {
     "data": {
      "image/png": "[encoded data removed]",
      "text/plain": [
       "<Figure size 640x480 with 1 Axes>"
      ]
     },
     "metadata": {},
     "output_type": "display_data"
    }
   ],
   "source": [
    "# Plotting each column's rate of NaN values to better identify\n",
    "# the distribution of column NaN counts\n",
    "import matplotlib.pyplot as pp\n",
    "pp.plot(na_counts_rate, len(na_counts_rate) * [1], \"x\")"
   ]
  },
  {
   "cell_type": "code",
   "execution_count": 15,
   "id": "51335e07",
   "metadata": {},
   "outputs": [
    {
     "name": "stdout",
     "output_type": "stream",
     "text": [
      "184\n"
     ]
    },
    {
     "data": {
      "text/plain": [
       "['abstract',\n",
       " 'accessRights',\n",
       " 'accrualMethod',\n",
       " 'accrualPeriodicity',\n",
       " 'accrualPolicy',\n",
       " 'alternative',\n",
       " 'audience',\n",
       " 'available',\n",
       " 'bibliographicCitation',\n",
       " 'conformsTo',\n",
       " 'contributor',\n",
       " 'coverage',\n",
       " 'created',\n",
       " 'creator',\n",
       " 'date',\n",
       " 'dateAccepted',\n",
       " 'dateCopyrighted',\n",
       " 'dateSubmitted',\n",
       " 'description',\n",
       " 'educationLevel',\n",
       " 'extent',\n",
       " 'format',\n",
       " 'hasFormat',\n",
       " 'hasPart',\n",
       " 'hasVersion',\n",
       " 'instructionalMethod',\n",
       " 'isFormatOf',\n",
       " 'isPartOf',\n",
       " 'isReferencedBy',\n",
       " 'isReplacedBy',\n",
       " 'isRequiredBy',\n",
       " 'isVersionOf',\n",
       " 'issued',\n",
       " 'language',\n",
       " 'mediator',\n",
       " 'medium',\n",
       " 'provenance',\n",
       " 'relation',\n",
       " 'replaces',\n",
       " 'requires',\n",
       " 'rights',\n",
       " 'source',\n",
       " 'spatial',\n",
       " 'subject',\n",
       " 'tableOfContents',\n",
       " 'temporal',\n",
       " 'title',\n",
       " 'type',\n",
       " 'valid',\n",
       " 'institutionID',\n",
       " 'collectionID',\n",
       " 'datasetID',\n",
       " 'ownerInstitutionCode',\n",
       " 'informationWithheld',\n",
       " 'dataGeneralizations',\n",
       " 'dynamicProperties',\n",
       " 'recordNumber',\n",
       " 'recordedByID',\n",
       " 'individualCount',\n",
       " 'organismQuantity',\n",
       " 'organismQuantityType',\n",
       " 'sex',\n",
       " 'lifeStage',\n",
       " 'reproductiveCondition',\n",
       " 'behavior',\n",
       " 'establishmentMeans',\n",
       " 'degreeOfEstablishment',\n",
       " 'pathway',\n",
       " 'georeferenceVerificationStatus',\n",
       " 'preparations',\n",
       " 'disposition',\n",
       " 'associatedOccurrences',\n",
       " 'associatedReferences',\n",
       " 'associatedSequences',\n",
       " 'associatedTaxa',\n",
       " 'otherCatalogNumbers',\n",
       " 'occurrenceRemarks',\n",
       " 'organismID',\n",
       " 'organismName',\n",
       " 'organismScope',\n",
       " 'associatedOrganisms',\n",
       " 'previousIdentifications',\n",
       " 'organismRemarks',\n",
       " 'materialSampleID',\n",
       " 'eventID',\n",
       " 'parentEventID',\n",
       " 'fieldNumber',\n",
       " 'startDayOfYear',\n",
       " 'endDayOfYear',\n",
       " 'habitat',\n",
       " 'samplingProtocol',\n",
       " 'sampleSizeValue',\n",
       " 'sampleSizeUnit',\n",
       " 'samplingEffort',\n",
       " 'fieldNotes',\n",
       " 'eventRemarks',\n",
       " 'locationID',\n",
       " 'higherGeographyID',\n",
       " 'higherGeography',\n",
       " 'continent',\n",
       " 'waterBody',\n",
       " 'islandGroup',\n",
       " 'island',\n",
       " 'county',\n",
       " 'municipality',\n",
       " 'locality',\n",
       " 'verbatimElevation',\n",
       " 'verticalDatum',\n",
       " 'verbatimDepth',\n",
       " 'minimumDistanceAboveSurfaceInMeters',\n",
       " 'maximumDistanceAboveSurfaceInMeters',\n",
       " 'locationAccordingTo',\n",
       " 'locationRemarks',\n",
       " 'coordinatePrecision',\n",
       " 'pointRadiusSpatialFit',\n",
       " 'verbatimCoordinateSystem',\n",
       " 'verbatimSRS',\n",
       " 'footprintWKT',\n",
       " 'footprintSRS',\n",
       " 'footprintSpatialFit',\n",
       " 'georeferencedBy',\n",
       " 'georeferencedDate',\n",
       " 'georeferenceProtocol',\n",
       " 'georeferenceSources',\n",
       " 'georeferenceRemarks',\n",
       " 'geologicalContextID',\n",
       " 'earliestEonOrLowestEonothem',\n",
       " 'latestEonOrHighestEonothem',\n",
       " 'earliestEraOrLowestErathem',\n",
       " 'latestEraOrHighestErathem',\n",
       " 'earliestPeriodOrLowestSystem',\n",
       " 'latestPeriodOrHighestSystem',\n",
       " 'earliestEpochOrLowestSeries',\n",
       " 'latestEpochOrHighestSeries',\n",
       " 'earliestAgeOrLowestStage',\n",
       " 'latestAgeOrHighestStage',\n",
       " 'lowestBiostratigraphicZone',\n",
       " 'highestBiostratigraphicZone',\n",
       " 'lithostratigraphicTerms',\n",
       " 'group',\n",
       " 'formation',\n",
       " 'member',\n",
       " 'bed',\n",
       " 'verbatimIdentification',\n",
       " 'identificationQualifier',\n",
       " 'typeStatus',\n",
       " 'identifiedByID',\n",
       " 'identificationReferences',\n",
       " 'identificationVerificationStatus',\n",
       " 'identificationRemarks',\n",
       " 'scientificNameID',\n",
       " 'parentNameUsageID',\n",
       " 'originalNameUsageID',\n",
       " 'nameAccordingToID',\n",
       " 'namePublishedInID',\n",
       " 'taxonConceptID',\n",
       " 'acceptedNameUsage',\n",
       " 'parentNameUsage',\n",
       " 'originalNameUsage',\n",
       " 'nameAccordingTo',\n",
       " 'namePublishedIn',\n",
       " 'namePublishedInYear',\n",
       " 'higherClassification',\n",
       " 'subfamily',\n",
       " 'subgenus',\n",
       " 'infragenericEpithet',\n",
       " 'infraspecificEpithet',\n",
       " 'cultivarEpithet',\n",
       " 'verbatimTaxonRank',\n",
       " 'vernacularName',\n",
       " 'nomenclaturalCode',\n",
       " 'nomenclaturalStatus',\n",
       " 'taxonRemarks',\n",
       " 'elevation',\n",
       " 'elevationAccuracy',\n",
       " 'depth',\n",
       " 'depthAccuracy',\n",
       " 'distanceAboveSurface',\n",
       " 'distanceAboveSurfaceAccuracy',\n",
       " 'subgenusKey',\n",
       " 'typifiedName',\n",
       " 'relativeOrganismQuantity',\n",
       " 'level3Gid',\n",
       " 'level3Name']"
      ]
     },
     "execution_count": 15,
     "metadata": {},
     "output_type": "execute_result"
    }
   ],
   "source": [
    "# List of columns we can effectively get rid of\n",
    "drop_columns = na_counts_rate[ na_counts_rate > 50 ].keys().tolist()\n",
    "print(len(drop_columns))\n",
    "drop_columns"
   ]
  },
  {
   "cell_type": "code",
   "execution_count": 16,
   "id": "1fd66c5f",
   "metadata": {},
   "outputs": [
    {
     "name": "stdout",
     "output_type": "stream",
     "text": [
      "(1426881, 73)\n"
     ]
    },
    {
     "data": {
      "text/plain": [
       "['gbifID',\n",
       " 'identifier',\n",
       " 'license',\n",
       " 'modified',\n",
       " 'publisher',\n",
       " 'references',\n",
       " 'rightsHolder',\n",
       " 'institutionCode',\n",
       " 'collectionCode',\n",
       " 'datasetName',\n",
       " 'basisOfRecord',\n",
       " 'occurrenceID',\n",
       " 'catalogNumber',\n",
       " 'recordedBy',\n",
       " 'occurrenceStatus',\n",
       " 'eventDate',\n",
       " 'eventTime',\n",
       " 'year',\n",
       " 'month',\n",
       " 'day',\n",
       " 'verbatimEventDate',\n",
       " 'countryCode',\n",
       " 'stateProvince',\n",
       " 'verbatimLocality',\n",
       " 'decimalLatitude',\n",
       " 'decimalLongitude',\n",
       " 'coordinateUncertaintyInMeters',\n",
       " 'identificationID',\n",
       " 'identifiedBy',\n",
       " 'dateIdentified',\n",
       " 'taxonID',\n",
       " 'acceptedNameUsageID',\n",
       " 'scientificName',\n",
       " 'kingdom',\n",
       " 'phylum',\n",
       " 'class',\n",
       " 'order',\n",
       " 'family',\n",
       " 'genus',\n",
       " 'genericName',\n",
       " 'specificEpithet',\n",
       " 'taxonRank',\n",
       " 'taxonomicStatus',\n",
       " 'datasetKey',\n",
       " 'publishingCountry',\n",
       " 'lastInterpreted',\n",
       " 'issue',\n",
       " 'mediaType',\n",
       " 'hasCoordinate',\n",
       " 'hasGeospatialIssues',\n",
       " 'taxonKey',\n",
       " 'acceptedTaxonKey',\n",
       " 'kingdomKey',\n",
       " 'phylumKey',\n",
       " 'classKey',\n",
       " 'orderKey',\n",
       " 'familyKey',\n",
       " 'genusKey',\n",
       " 'speciesKey',\n",
       " 'species',\n",
       " 'acceptedScientificName',\n",
       " 'verbatimScientificName',\n",
       " 'protocol',\n",
       " 'lastParsed',\n",
       " 'lastCrawled',\n",
       " 'repatriated',\n",
       " 'level0Gid',\n",
       " 'level0Name',\n",
       " 'level1Gid',\n",
       " 'level1Name',\n",
       " 'level2Gid',\n",
       " 'level2Name',\n",
       " 'iucnRedListCategory']"
      ]
     },
     "execution_count": 16,
     "metadata": {},
     "output_type": "execute_result"
    }
   ],
   "source": [
    "obs = obs.drop( drop_columns, axis=1)\n",
    "print(obs.shape)\n",
    "obs.columns.tolist()"
   ]
  },
  {
   "cell_type": "code",
   "execution_count": 17,
   "id": "2eb9b38e",
   "metadata": {},
   "outputs": [],
   "source": [
    "# Now lets look at the distribution of values within each of these\n",
    "# columns to see if there are any with only one value that we\n",
    "# can get rid of"
   ]
  },
  {
   "cell_type": "code",
   "execution_count": 18,
   "id": "136f9f63",
   "metadata": {},
   "outputs": [
    {
     "data": {
      "text/plain": [
       "['publisher',\n",
       " 'institutionCode',\n",
       " 'collectionCode',\n",
       " 'datasetName',\n",
       " 'basisOfRecord',\n",
       " 'occurrenceStatus',\n",
       " 'kingdom',\n",
       " 'datasetKey',\n",
       " 'kingdomKey',\n",
       " 'protocol',\n",
       " 'lastCrawled']"
      ]
     },
     "execution_count": 18,
     "metadata": {},
     "output_type": "execute_result"
    }
   ],
   "source": [
    "one_val_cols = []\n",
    "for col in obs.columns:\n",
    "    vc = obs[col].value_counts()\n",
    "    if ( len(vc) == 1 ):\n",
    "        one_val_cols.append(col)\n",
    "one_val_cols"
   ]
  },
  {
   "cell_type": "code",
   "execution_count": 19,
   "id": "d97cc617",
   "metadata": {},
   "outputs": [
    {
     "data": {
      "text/plain": [
       "(1426881, 62)"
      ]
     },
     "execution_count": 19,
     "metadata": {},
     "output_type": "execute_result"
    }
   ],
   "source": [
    "# The above list makes sense because our download/export\n",
    "# query was based on the kingdom \"Fungi\" and the\n",
    "# \"iNaturalist Research-grade Observations\" dataset\n",
    "obs = obs.drop( one_val_cols, axis=1 )\n",
    "obs.shape"
   ]
  },
  {
   "cell_type": "code",
   "execution_count": 23,
   "id": "a0a0466e",
   "metadata": {},
   "outputs": [
    {
     "name": "stdout",
     "output_type": "stream",
     "text": [
      "<class 'pandas.core.frame.DataFrame'>\n",
      "RangeIndex: 1426881 entries, 0 to 1426880\n",
      "Data columns (total 62 columns):\n",
      " #   Column                         Non-Null Count    Dtype  \n",
      "---  ------                         --------------    -----  \n",
      " 0   gbifID                         1426881 non-null  int64  \n",
      " 1   identifier                     1426881 non-null  int64  \n",
      " 2   license                        1426881 non-null  object \n",
      " 3   modified                       1426881 non-null  object \n",
      " 4   references                     1426881 non-null  object \n",
      " 5   rightsHolder                   1426881 non-null  object \n",
      " 6   occurrenceID                   1426878 non-null  object \n",
      " 7   catalogNumber                  1426881 non-null  int64  \n",
      " 8   recordedBy                     1426881 non-null  object \n",
      " 9   eventDate                      1426881 non-null  object \n",
      " 10  eventTime                      1361145 non-null  object \n",
      " 11  year                           1426881 non-null  int64  \n",
      " 12  month                          1426881 non-null  int64  \n",
      " 13  day                            1426881 non-null  int64  \n",
      " 14  verbatimEventDate              1426881 non-null  object \n",
      " 15  countryCode                    1423219 non-null  object \n",
      " 16  stateProvince                  1422890 non-null  object \n",
      " 17  verbatimLocality               1422649 non-null  object \n",
      " 18  decimalLatitude                1423300 non-null  float64\n",
      " 19  decimalLongitude               1423300 non-null  float64\n",
      " 20  coordinateUncertaintyInMeters  1119505 non-null  float64\n",
      " 21  identificationID               1421622 non-null  float64\n",
      " 22  identifiedBy                   1421622 non-null  object \n",
      " 23  dateIdentified                 1421622 non-null  object \n",
      " 24  taxonID                        1426881 non-null  int64  \n",
      " 25  acceptedNameUsageID            1426881 non-null  int64  \n",
      " 26  scientificName                 1426881 non-null  object \n",
      " 27  phylum                         1426880 non-null  object \n",
      " 28  class                          1426633 non-null  object \n",
      " 29  order                          1426545 non-null  object \n",
      " 30  family                         1411110 non-null  object \n",
      " 31  genus                          1423473 non-null  object \n",
      " 32  genericName                    1426881 non-null  object \n",
      " 33  specificEpithet                1396684 non-null  object \n",
      " 34  taxonRank                      1426881 non-null  object \n",
      " 35  taxonomicStatus                1426881 non-null  object \n",
      " 36  publishingCountry              1426881 non-null  object \n",
      " 37  lastInterpreted                1426881 non-null  object \n",
      " 38  issue                          1302145 non-null  object \n",
      " 39  mediaType                      1387575 non-null  object \n",
      " 40  hasCoordinate                  1426881 non-null  bool   \n",
      " 41  hasGeospatialIssues            1426881 non-null  bool   \n",
      " 42  taxonKey                       1426881 non-null  int64  \n",
      " 43  acceptedTaxonKey               1426881 non-null  int64  \n",
      " 44  phylumKey                      1426880 non-null  float64\n",
      " 45  classKey                       1426633 non-null  float64\n",
      " 46  orderKey                       1426545 non-null  float64\n",
      " 47  familyKey                      1411110 non-null  float64\n",
      " 48  genusKey                       1423473 non-null  float64\n",
      " 49  speciesKey                     1396684 non-null  float64\n",
      " 50  species                        1396684 non-null  object \n",
      " 51  acceptedScientificName         1426881 non-null  object \n",
      " 52  verbatimScientificName         1426881 non-null  object \n",
      " 53  lastParsed                     1426881 non-null  object \n",
      " 54  repatriated                    1423295 non-null  object \n",
      " 55  level0Gid                      1414680 non-null  object \n",
      " 56  level0Name                     1414680 non-null  object \n",
      " 57  level1Gid                      1414629 non-null  object \n",
      " 58  level1Name                     1414629 non-null  object \n",
      " 59  level2Gid                      1412185 non-null  object \n",
      " 60  level2Name                     1412130 non-null  object \n",
      " 61  iucnRedListCategory            1385632 non-null  object \n",
      "dtypes: bool(2), float64(10), int64(10), object(40)\n",
      "memory usage: 655.9+ MB\n"
     ]
    }
   ],
   "source": [
    "obs.info()"
   ]
  },
  {
   "cell_type": "code",
   "execution_count": 25,
   "id": "e6dd375e",
   "metadata": {},
   "outputs": [
    {
     "data": {
      "text/plain": [
       "<AxesSubplot: >"
      ]
     },
     "execution_count": 25,
     "metadata": {},
     "output_type": "execute_result"
    },
    {
     "data": {
      "image/png": "[encoded data removed]",
      "text/plain": [
       "<Figure size 640x480 with 1 Axes>"
      ]
     },
     "metadata": {},
     "output_type": "display_data"
    }
   ],
   "source": [
    "obs['month'].hist()"
   ]
  },
  {
   "cell_type": "code",
   "execution_count": 28,
   "id": "0f592e1c",
   "metadata": {},
   "outputs": [
    {
     "data": {
      "text/plain": [
       "<AxesSubplot: >"
      ]
     },
     "execution_count": 28,
     "metadata": {},
     "output_type": "execute_result"
    },
    {
     "data": {
      "image/png": "[encoded data removed]",
      "text/plain": [
       "<Figure size 640x480 with 1 Axes>"
      ]
     },
     "metadata": {},
     "output_type": "display_data"
    }
   ],
   "source": [
    "obs['day'].hist()"
   ]
  },
  {
   "cell_type": "code",
   "execution_count": 42,
   "id": "d1853b4c",
   "metadata": {},
   "outputs": [
    {
     "data": {
      "text/plain": [
       "<AxesSubplot: xlabel='month', ylabel='Count'>"
      ]
     },
     "execution_count": 42,
     "metadata": {},
     "output_type": "execute_result"
    },
    {
     "data": {
      "image/png": "[encoded data removed]",
      "text/plain": [
       "<Figure size 640x480 with 1 Axes>"
      ]
     },
     "metadata": {},
     "output_type": "display_data"
    }
   ],
   "source": [
    "# histogram with seaborn\n",
    "import seaborn as sns\n",
    "\n",
    "# add a month_name column\n",
    "obs['month_name'] = pd.to_datetime(\n",
    "    '2010-' + obs['month'].astype(int).astype(str) + '-1',\n",
    "    format = '%Y-%m'\n",
    ").dt.month_name()\n",
    "\n",
    "sns.histplot(\n",
    "    data=obs,\n",
    "    x='month',\n",
    "    bins=12,\n",
    "    discrete=True,\n",
    ")"
   ]
  },
  {
   "cell_type": "markdown",
   "id": "a883c137",
   "metadata": {},
   "source": [
    "It looks like mushrooms are mostly found in the summer/fall months, especially October."
   ]
  },
  {
   "cell_type": "markdown",
   "id": "d6a3d64e",
   "metadata": {},
   "source": [
    "I'd like to try making a grid graph similar to [this example from iNaturalist's API documentation](https://pyinaturalist.readthedocs.io/en/stable/examples/Data%20Visualizations%20-%20Seaborn.html):\n",
    "![example](https://pyinaturalist.readthedocs.io/en/stable/_images/examples_Data_Visualizations_-_Seaborn_14_1.png)"
   ]
  },
  {
   "cell_type": "code",
   "execution_count": 58,
   "id": "9098da62",
   "metadata": {},
   "outputs": [
    {
     "name": "stdout",
     "output_type": "stream",
     "text": [
      "0    2015-08-27T00:00:00\n",
      "1    2015-07-02T00:00:00\n",
      "2    2017-12-02T09:20:47\n",
      "3    2014-06-16T00:00:00\n",
      "4    2018-04-30T13:55:00\n",
      "Name: eventDate, dtype: object\n",
      "\n",
      "0               NaN\n",
      "1               NaN\n",
      "2    09:20:47+06:00\n",
      "3               NaN\n",
      "4    13:55:00-05:00\n",
      "Name: eventTime, dtype: object\n",
      "\n",
      "0    2015\n",
      "1    2015\n",
      "2    2017\n",
      "3    2014\n",
      "4    2018\n",
      "Name: year, dtype: int64\n",
      "\n",
      "0     8\n",
      "1     7\n",
      "2    12\n",
      "3     6\n",
      "4     4\n",
      "Name: month, dtype: int64\n",
      "\n",
      "0    27\n",
      "1     2\n",
      "2     2\n",
      "3    16\n",
      "4    30\n",
      "Name: day, dtype: int64\n",
      "\n",
      "0                            2015-08-27\n",
      "1                            2015-07-02\n",
      "2    2017-12-02 9:20:47 a. m. GMT-06:00\n",
      "3                            2014-06-16\n",
      "4                2018/04/30 1:55 PM CDT\n",
      "Name: verbatimEventDate, dtype: object\n",
      "\n"
     ]
    }
   ],
   "source": [
    "# Look at relevant time columns\n",
    "cols = [\n",
    "    'eventDate',\n",
    "    'eventTime',\n",
    "    'year',\n",
    "    'month',\n",
    "    'day',\n",
    "    'verbatimEventDate',\n",
    "]\n",
    "for col in cols:\n",
    "    print(obs[col].head())\n",
    "    print()"
   ]
  },
  {
   "cell_type": "code",
   "execution_count": 80,
   "id": "db798c6c",
   "metadata": {},
   "outputs": [],
   "source": [
    "# lets just pull what we need from eventDate to get\n",
    "# fractional (float) values for time_of_month and time_of_day\n",
    "\n",
    "times_df = pd.DataFrame()\n",
    "\n",
    "times_df['time'] = pd.to_datetime(obs['eventDate'])\n",
    "\n",
    "times_df['time_of_month_in_minutes'] = (\n",
    "    ( times_df['time'].dt.day * 24 * 60 ) +\n",
    "    ( times_df['time'].dt.hour * 60 ) +\n",
    "    ( times_df['time'].dt.minute )\n",
    ")\n",
    "times_df['time_of_day_in_minutes'] =  (\n",
    "    ( times_df['time'].dt.hour * 60 ) +\n",
    "    ( times_df['time'].dt.minute )\n",
    ")"
   ]
  },
  {
   "cell_type": "code",
   "execution_count": 85,
   "id": "50676d79",
   "metadata": {},
   "outputs": [
    {
     "data": {
      "text/plain": [
       "<seaborn.axisgrid.JointGrid at 0x7f3a42c8d7b0>"
      ]
     },
     "execution_count": 85,
     "metadata": {},
     "output_type": "execute_result"
    },
    {
     "data": {
      "image/png": "[encoded data removed]",
      "text/plain": [
       "<Figure size 600x600 with 3 Axes>"
      ]
     },
     "metadata": {},
     "output_type": "display_data"
    }
   ],
   "source": [
    "import matplotlib as mpl\n",
    "from matplotlib import pyplot as plt\n",
    "import numpy as np\n",
    "\n",
    "PLOT_COLOR = '#fa7b23'\n",
    "\n",
    "def get_colormap(color):\n",
    "    \"\"\"Make a colormap (gradient) based on the given color; copied from seaborn.axisgrid\"\"\"\n",
    "    color_rgb = mpl.colors.colorConverter.to_rgb(color)\n",
    "    colors = [sns.set_hls_values(color_rgb, l=l) for l in np.linspace(1, 0, 12)]\n",
    "    return sns.blend_palette(colors, as_cmap=True)\n",
    "\n",
    "grid = sns.JointGrid(\n",
    "    data=times_df,\n",
    "    x='time_of_month_in_minutes',\n",
    "    y='time_of_day_in_minutes',\n",
    "    # dropna=True\n",
    ")\n",
    "\n",
    "grid.ax_marg_x.set_title(\n",
    "    'Observation times of Fungi'\n",
    ")\n",
    "\n",
    "# Format X axis labels & ticks\n",
    "xaxis = grid.ax_joint.get_xaxis()\n",
    "xaxis.label.set_text('Time of Month')\n",
    "# xaxis.set_major_locator(dates.DayLocator(interval=30))\n",
    "# xaxis.set_major_formatter(dates.DateFormatter('%b %d'))\n",
    "# xaxis.set_minor_locator(dates.DayLocator(interval=7))\n",
    "# xaxis.set_minor_formatter(dates.DateFormatter('%d'))\n",
    "\n",
    "# Format Y axis labels & ticks\n",
    "yaxis = grid.ax_joint.get_yaxis()\n",
    "yaxis.label.set_text('Time of Day')\n",
    "# yaxis.set_major_locator(dates.HourLocator(interval=2))\n",
    "# yaxis.set_major_formatter(dates.DateFormatter('%H:%M'))\n",
    "# yaxis.set_minor_locator(dates.HourLocator())\n",
    "# yaxis.set_minor_formatter(dates.DateFormatter('%H:%M'))\n",
    "\n",
    "# Generate a joint plot with marginal plots\n",
    "# Using the hexbin plotting function, because hexagons are the bestagons.\n",
    "# Also because it looks just a little like butterfly scales.\n",
    "grid.plot_joint(\n",
    "    plt.hexbin,\n",
    "    gridsize=20,\n",
    "    cmap=get_colormap(PLOT_COLOR),\n",
    ")\n"
   ]
  },
  {
   "cell_type": "markdown",
   "id": "7b74a4bd",
   "metadata": {},
   "source": [
    "This yeilds some questions:\n",
    "* Why do we have this weird pattern aroud 12:00?\n",
    "  * rounding/binning? It tends to go away when bins are decreased and becomes more apparent when bins are increased.\n",
    "* Why are there a bunch of observations at 0:00?\n",
    "  * It is likely a default time for when the actual time is unknown."
   ]
  },
  {
   "cell_type": "code",
   "execution_count": 86,
   "id": "3f3778ad",
   "metadata": {},
   "outputs": [
    {
     "name": "stdout",
     "output_type": "stream",
     "text": [
      "<class 'pandas.core.frame.DataFrame'>\n",
      "RangeIndex: 1426881 entries, 0 to 1426880\n",
      "Data columns (total 3 columns):\n",
      " #   Column                    Non-Null Count    Dtype         \n",
      "---  ------                    --------------    -----         \n",
      " 0   time                      1426881 non-null  datetime64[ns]\n",
      " 1   time_of_month_in_minutes  1426881 non-null  int64         \n",
      " 2   time_of_day_in_minutes    1426881 non-null  int64         \n",
      "dtypes: datetime64[ns](1), int64(2)\n",
      "memory usage: 32.7 MB\n"
     ]
    }
   ],
   "source": [
    "times_df.info()"
   ]
  },
  {
   "cell_type": "code",
   "execution_count": 88,
   "id": "cc36fac8",
   "metadata": {},
   "outputs": [
    {
     "data": {
      "text/plain": [
       "<seaborn.axisgrid.JointGrid at 0x7f3a42bc6110>"
      ]
     },
     "execution_count": 88,
     "metadata": {},
     "output_type": "execute_result"
    },
    {
     "data": {
      "image/png": "[encoded data removed]",
      "text/plain": [
       "<Figure size 600x600 with 3 Axes>"
      ]
     },
     "metadata": {},
     "output_type": "display_data"
    }
   ],
   "source": [
    "sns.jointplot(\n",
    "    data=times_df,\n",
    "    x='time_of_month_in_minutes',\n",
    "    y='time_of_day_in_minutes',\n",
    "    bins=24,\n",
    "    kind='hist',\n",
    ")"
   ]
  },
  {
   "cell_type": "markdown",
   "id": "8576c6b6",
   "metadata": {},
   "source": [
    "It's not perfect and doesn't tell us anything very interesting. There are still some issues that could be ironed out but it works..."
   ]
  },
  {
   "cell_type": "code",
   "execution_count": 95,
   "id": "76334944",
   "metadata": {},
   "outputs": [
    {
     "name": "stderr",
     "output_type": "stream",
     "text": [
      "/tmp/ipykernel_5839/3423314498.py:2: PerformanceWarning: \n",
      "your performance may suffer as PyTables will pickle object types that it cannot\n",
      "map directly to c-types [inferred_type->mixed,key->block3_values] [items->Index(['license', 'modified', 'references', 'rightsHolder', 'occurrenceID',\n",
      "       'recordedBy', 'eventDate', 'eventTime', 'verbatimEventDate',\n",
      "       'countryCode', 'stateProvince', 'verbatimLocality', 'identifiedBy',\n",
      "       'dateIdentified', 'scientificName', 'phylum', 'class', 'order',\n",
      "       'family', 'genus', 'genericName', 'specificEpithet', 'taxonRank',\n",
      "       'taxonomicStatus', 'publishingCountry', 'lastInterpreted', 'issue',\n",
      "       'mediaType', 'species', 'acceptedScientificName',\n",
      "       'verbatimScientificName', 'lastParsed', 'repatriated', 'level0Gid',\n",
      "       'level0Name', 'level1Gid', 'level1Name', 'level2Gid', 'level2Name',\n",
      "       'iucnRedListCategory', 'month_name'],\n",
      "      dtype='object')]\n",
      "\n",
      "  obs.to_hdf( 'clean_data.h5', 'obs' )\n"
     ]
    }
   ],
   "source": [
    "# save the cleaned observations df\n",
    "obs.to_hdf( 'clean_data.h5', 'obs' )"
   ]
  },
  {
   "cell_type": "code",
   "execution_count": 96,
   "id": "e8737e7b",
   "metadata": {},
   "outputs": [
    {
     "name": "stdout",
     "output_type": "stream",
     "text": [
      "-rw-r--r-- 1 charlescoult charlescoult 761M Nov 27 11:51 clean_data.h5\n"
     ]
    }
   ],
   "source": [
    "!ls -lah 'clean_data.h5'"
   ]
  }
 ],
 "metadata": {
  "kernelspec": {
   "display_name": "Python [conda env:.conda-fungi] *",
   "language": "python",
   "name": "conda-env-.conda-fungi-py"
  },
  "language_info": {
   "codemirror_mode": {
    "name": "ipython",
    "version": 3
   },
   "file_extension": ".py",
   "mimetype": "text/x-python",
   "name": "python",
   "nbconvert_exporter": "python",
   "pygments_lexer": "ipython3",
   "version": "3.10.8"
  }
 },
 "nbformat": 4,
 "nbformat_minor": 5
}
