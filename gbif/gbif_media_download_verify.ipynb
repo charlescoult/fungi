{
 "cells": [
  {
   "cell_type": "code",
   "execution_count": 2,
   "id": "2ad4fdcb",
   "metadata": {},
   "outputs": [],
   "source": [
    "import pandas as pd"
   ]
  },
  {
   "cell_type": "code",
   "execution_count": 3,
   "id": "ff9583fb",
   "metadata": {},
   "outputs": [],
   "source": [
    "media = pd.read_hdf('/mnt/gbif/clean_data.h5', 'media_merged_filtered-by-species_350pt')"
   ]
  },
  {
   "cell_type": "code",
   "execution_count": 4,
   "id": "a4955550",
   "metadata": {},
   "outputs": [],
   "source": [
    "from parallel_download import download"
   ]
  },
  {
   "cell_type": "code",
   "execution_count": 5,
   "id": "00c0d366",
   "metadata": {},
   "outputs": [],
   "source": [
    "import mimetypes as mt"
   ]
  },
  {
   "cell_type": "code",
   "execution_count": 6,
   "id": "99364bf0",
   "metadata": {},
   "outputs": [],
   "source": [
    "mt.add_type('image/pjpeg', '.jpg')"
   ]
  },
  {
   "cell_type": "code",
   "execution_count": 7,
   "id": "ffc5f612",
   "metadata": {},
   "outputs": [],
   "source": [
    "media['extension'] = media['format'].map(lambda x: mt.guess_extension(x, strict=False))"
   ]
  },
  {
   "cell_type": "code",
   "execution_count": 8,
   "id": "a0f8e58e",
   "metadata": {},
   "outputs": [
    {
     "data": {
      "text/plain": [
       ".jpg    663805\n",
       ".png      1991\n",
       ".gif         7\n",
       "Name: extension, dtype: int64"
      ]
     },
     "execution_count": 8,
     "metadata": {},
     "output_type": "execute_result"
    }
   ],
   "source": [
    "media['extension'].value_counts(dropna=False)"
   ]
  },
  {
   "cell_type": "code",
   "execution_count": null,
   "id": "f94489fb",
   "metadata": {},
   "outputs": [],
   "source": []
  },
  {
   "cell_type": "code",
   "execution_count": 9,
   "id": "5fd78a1a",
   "metadata": {},
   "outputs": [
    {
     "data": {
      "text/plain": [
       "665803"
      ]
     },
     "execution_count": 9,
     "metadata": {},
     "output_type": "execute_result"
    }
   ],
   "source": [
    "len(media)"
   ]
  },
  {
   "cell_type": "code",
   "execution_count": 19,
   "id": "1295c634",
   "metadata": {},
   "outputs": [],
   "source": [
    "from os import path\n"
   ]
  },
  {
   "cell_type": "code",
   "execution_count": 20,
   "id": "6b0deb43",
   "metadata": {},
   "outputs": [
    {
     "name": "stdout",
     "output_type": "stream",
     "text": [
      "/mnt/gbif/media/309250.jpg\n"
     ]
    }
   ],
   "source": [
    "for index, row in media.iterrows():\n",
    "    ext = row['extension']\n",
    "    filename = f'/mnt/gbif/media/{index}{ext}'\n",
    "    if not path.isfile(filename):\n",
    "        print(filename)"
   ]
  },
  {
   "cell_type": "code",
   "execution_count": null,
   "id": "db748c2b",
   "metadata": {},
   "outputs": [],
   "source": []
  }
 ],
 "metadata": {
  "kernelspec": {
   "display_name": "Python [conda env:.conda-fungi] *",
   "language": "python",
   "name": "conda-env-.conda-fungi-py"
  },
  "language_info": {
   "codemirror_mode": {
    "name": "ipython",
    "version": 3
   },
   "file_extension": ".py",
   "mimetype": "text/x-python",
   "name": "python",
   "nbconvert_exporter": "python",
   "pygments_lexer": "ipython3",
   "version": "3.10.9"
  }
 },
 "nbformat": 4,
 "nbformat_minor": 5
}
