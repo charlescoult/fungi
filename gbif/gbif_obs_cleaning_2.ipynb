{
 "cells": [
  {
   "cell_type": "code",
   "execution_count": 1,
   "id": "06b27cb6",
   "metadata": {},
   "outputs": [],
   "source": [
    "import pandas as pd"
   ]
  },
  {
   "cell_type": "code",
   "execution_count": 2,
   "id": "3d1df824",
   "metadata": {},
   "outputs": [],
   "source": [
    "obs = pd.read_hdf( 'clean_data.h5', 'obs' )"
   ]
  },
  {
   "cell_type": "code",
   "execution_count": 3,
   "id": "e5e6d5d4",
   "metadata": {},
   "outputs": [
    {
     "data": {
      "text/plain": [
       "(1426881, 63)"
      ]
     },
     "execution_count": 3,
     "metadata": {},
     "output_type": "execute_result"
    }
   ],
   "source": [
    "obs.shape"
   ]
  },
  {
   "cell_type": "code",
   "execution_count": 4,
   "id": "6b702184",
   "metadata": {},
   "outputs": [
    {
     "data": {
      "text/plain": [
       "['gbifID',\n",
       " 'identifier',\n",
       " 'license',\n",
       " 'modified',\n",
       " 'references',\n",
       " 'rightsHolder',\n",
       " 'occurrenceID',\n",
       " 'catalogNumber',\n",
       " 'recordedBy',\n",
       " 'eventDate',\n",
       " 'eventTime',\n",
       " 'year',\n",
       " 'month',\n",
       " 'day',\n",
       " 'verbatimEventDate',\n",
       " 'countryCode',\n",
       " 'stateProvince',\n",
       " 'verbatimLocality',\n",
       " 'decimalLatitude',\n",
       " 'decimalLongitude',\n",
       " 'coordinateUncertaintyInMeters',\n",
       " 'identificationID',\n",
       " 'identifiedBy',\n",
       " 'dateIdentified',\n",
       " 'taxonID',\n",
       " 'acceptedNameUsageID',\n",
       " 'scientificName',\n",
       " 'phylum',\n",
       " 'class',\n",
       " 'order',\n",
       " 'family',\n",
       " 'genus',\n",
       " 'genericName',\n",
       " 'specificEpithet',\n",
       " 'taxonRank',\n",
       " 'taxonomicStatus',\n",
       " 'publishingCountry',\n",
       " 'lastInterpreted',\n",
       " 'issue',\n",
       " 'mediaType',\n",
       " 'hasCoordinate',\n",
       " 'hasGeospatialIssues',\n",
       " 'taxonKey',\n",
       " 'acceptedTaxonKey',\n",
       " 'phylumKey',\n",
       " 'classKey',\n",
       " 'orderKey',\n",
       " 'familyKey',\n",
       " 'genusKey',\n",
       " 'speciesKey',\n",
       " 'species',\n",
       " 'acceptedScientificName',\n",
       " 'verbatimScientificName',\n",
       " 'lastParsed',\n",
       " 'repatriated',\n",
       " 'level0Gid',\n",
       " 'level0Name',\n",
       " 'level1Gid',\n",
       " 'level1Name',\n",
       " 'level2Gid',\n",
       " 'level2Name',\n",
       " 'iucnRedListCategory',\n",
       " 'month_name']"
      ]
     },
     "execution_count": 4,
     "metadata": {},
     "output_type": "execute_result"
    }
   ],
   "source": [
    "obs.columns.tolist()"
   ]
  },
  {
   "cell_type": "code",
   "execution_count": 5,
   "id": "1d4fc032",
   "metadata": {},
   "outputs": [
    {
     "data": {
      "text/plain": [
       "[]"
      ]
     },
     "execution_count": 5,
     "metadata": {},
     "output_type": "execute_result"
    }
   ],
   "source": [
    "nan_cols = []\n",
    "for col in obs.columns:\n",
    "    if ( obs[ col ].isnull().all() ):\n",
    "        nan_cols.append( col )\n",
    "nan_cols"
   ]
  },
  {
   "cell_type": "code",
   "execution_count": 7,
   "id": "9f0f2419",
   "metadata": {},
   "outputs": [
    {
     "data": {
      "text/plain": [
       "0     1897201\n",
       "1     6999380\n",
       "2     9174531\n",
       "3    10944119\n",
       "4    12071576\n",
       "Name: identifier, dtype: int64"
      ]
     },
     "execution_count": 7,
     "metadata": {},
     "output_type": "execute_result"
    }
   ],
   "source": [
    "obs['identifier'].head() # iNaturalist identifiers"
   ]
  },
  {
   "cell_type": "code",
   "execution_count": 9,
   "id": "797b9c97",
   "metadata": {},
   "outputs": [
    {
     "data": {
      "text/plain": [
       "0    CC_BY_NC_4_0\n",
       "1    CC_BY_NC_4_0\n",
       "2    CC_BY_NC_4_0\n",
       "3    CC_BY_NC_4_0\n",
       "4    CC_BY_NC_4_0\n",
       "Name: license, dtype: object"
      ]
     },
     "execution_count": 9,
     "metadata": {},
     "output_type": "execute_result"
    }
   ],
   "source": [
    "obs['license'].head() # unnecessary"
   ]
  },
  {
   "cell_type": "code",
   "execution_count": 10,
   "id": "b38309dd",
   "metadata": {},
   "outputs": [],
   "source": [
    "obs = obs.drop('license', axis=1 )"
   ]
  },
  {
   "cell_type": "code",
   "execution_count": 12,
   "id": "ffa9494a",
   "metadata": {},
   "outputs": [
    {
     "data": {
      "text/plain": [
       "0    2020-09-08T19:04:31Z\n",
       "1    2017-07-10T23:00:52Z\n",
       "2    2021-07-31T14:56:10Z\n",
       "3    2018-04-15T04:35:07Z\n",
       "4    2021-07-31T14:56:10Z\n",
       "Name: modified, dtype: object"
      ]
     },
     "execution_count": 12,
     "metadata": {},
     "output_type": "execute_result"
    }
   ],
   "source": [
    "obs['modified'].head() # timestamp redundant/unnecessary"
   ]
  },
  {
   "cell_type": "code",
   "execution_count": 13,
   "id": "dfd3cdff",
   "metadata": {},
   "outputs": [],
   "source": [
    "obs = obs.drop('modified', axis=1 )"
   ]
  },
  {
   "cell_type": "code",
   "execution_count": 16,
   "id": "1a622b6e",
   "metadata": {},
   "outputs": [
    {
     "data": {
      "text/plain": [
       "0     https://www.inaturalist.org/observations/1897201\n",
       "1     https://www.inaturalist.org/observations/6999380\n",
       "2     https://www.inaturalist.org/observations/9174531\n",
       "3    https://www.inaturalist.org/observations/10944119\n",
       "4    https://www.inaturalist.org/observations/12071576\n",
       "Name: references, dtype: object"
      ]
     },
     "execution_count": 16,
     "metadata": {},
     "output_type": "execute_result"
    }
   ],
   "source": [
    "obs['references'].head() # iNaturalist URL - /observations/$identifier\n",
    "# this url should be able to be recreated easily from 'identifier' column\n",
    "# How can I verify this with an assert statement?"
   ]
  },
  {
   "cell_type": "code",
   "execution_count": 42,
   "id": "b8f2aafa",
   "metadata": {},
   "outputs": [
    {
     "data": {
      "text/plain": [
       "True"
      ]
     },
     "execution_count": 42,
     "metadata": {},
     "output_type": "execute_result"
    }
   ],
   "source": [
    "obs['references'].equals(\n",
    "    'https://www.inaturalist.org/observations/' +  obs['identifier'].astype(str)\n",
    ")"
   ]
  },
  {
   "cell_type": "code",
   "execution_count": 43,
   "id": "4bc3dc2f",
   "metadata": {},
   "outputs": [],
   "source": [
    "# We've verififed that we can get rid of the 'references' column without data-loss\n",
    "obs = obs.drop('references', axis=1)"
   ]
  },
  {
   "cell_type": "code",
   "execution_count": 44,
   "id": "02d7e85c",
   "metadata": {},
   "outputs": [
    {
     "data": {
      "text/plain": [
       "0              Mike Leveille\n",
       "1          Django Grootmyers\n",
       "2    Carlos G Velazco-Macias\n",
       "3                     Nikola\n",
       "4    Carlos G Velazco-Macias\n",
       "Name: rightsHolder, dtype: object"
      ]
     },
     "execution_count": 44,
     "metadata": {},
     "output_type": "execute_result"
    }
   ],
   "source": [
    "obs['rightsHolder'].head()"
   ]
  },
  {
   "cell_type": "code",
   "execution_count": 45,
   "id": "5985a114",
   "metadata": {},
   "outputs": [],
   "source": [
    "obs = obs.drop('rightsHolder', axis=1)"
   ]
  },
  {
   "cell_type": "code",
   "execution_count": 47,
   "id": "463aa42f",
   "metadata": {},
   "outputs": [
    {
     "data": {
      "text/plain": [
       "0           http://inaturalist.ca/observations/1897201\n",
       "1     https://www.inaturalist.org/observations/6999380\n",
       "2     https://www.inaturalist.org/observations/9174531\n",
       "3    https://www.inaturalist.org/observations/10944119\n",
       "4    https://www.inaturalist.org/observations/12071576\n",
       "Name: occurrenceID, dtype: object"
      ]
     },
     "execution_count": 47,
     "metadata": {},
     "output_type": "execute_result"
    }
   ],
   "source": [
    "obs['occurrenceID'].head()"
   ]
  },
  {
   "cell_type": "code",
   "execution_count": 49,
   "id": "b9a20619",
   "metadata": {},
   "outputs": [],
   "source": [
    "# occurrenceID is similar to 'references' but uses the regional endpoints\n",
    "obs = obs.drop('occurrenceID', axis=1)"
   ]
  },
  {
   "cell_type": "code",
   "execution_count": 50,
   "id": "c2b47f7e",
   "metadata": {},
   "outputs": [
    {
     "data": {
      "text/plain": [
       "0     1897201\n",
       "1     6999380\n",
       "2     9174531\n",
       "3    10944119\n",
       "4    12071576\n",
       "Name: catalogNumber, dtype: int64"
      ]
     },
     "execution_count": 50,
     "metadata": {},
     "output_type": "execute_result"
    }
   ],
   "source": [
    "obs['catalogNumber'].head()"
   ]
  },
  {
   "cell_type": "code",
   "execution_count": 51,
   "id": "077a6bc1",
   "metadata": {},
   "outputs": [
    {
     "data": {
      "text/plain": [
       "True"
      ]
     },
     "execution_count": 51,
     "metadata": {},
     "output_type": "execute_result"
    }
   ],
   "source": [
    "obs['catalogNumber'].equals( obs['identifier'])"
   ]
  },
  {
   "cell_type": "code",
   "execution_count": 52,
   "id": "ceb487d2",
   "metadata": {},
   "outputs": [],
   "source": [
    "obs = obs.drop( 'catalogNumber', axis=1 )"
   ]
  },
  {
   "cell_type": "code",
   "execution_count": 53,
   "id": "38ae7e0f",
   "metadata": {},
   "outputs": [
    {
     "data": {
      "text/plain": [
       "0              Mike Leveille\n",
       "1          Django Grootmyers\n",
       "2    Carlos G Velazco-Macias\n",
       "3                     Nikola\n",
       "4    Carlos G Velazco-Macias\n",
       "Name: recordedBy, dtype: object"
      ]
     },
     "execution_count": 53,
     "metadata": {},
     "output_type": "execute_result"
    }
   ],
   "source": [
    "obs['recordedBy'].head()"
   ]
  },
  {
   "cell_type": "code",
   "execution_count": 54,
   "id": "03d054b6",
   "metadata": {
    "scrolled": true
   },
   "outputs": [
    {
     "data": {
      "text/html": [
       "<div>\n",
       "<style scoped>\n",
       "    .dataframe tbody tr th:only-of-type {\n",
       "        vertical-align: middle;\n",
       "    }\n",
       "\n",
       "    .dataframe tbody tr th {\n",
       "        vertical-align: top;\n",
       "    }\n",
       "\n",
       "    .dataframe thead th {\n",
       "        text-align: right;\n",
       "    }\n",
       "</style>\n",
       "<table border=\"1\" class=\"dataframe\">\n",
       "  <thead>\n",
       "    <tr style=\"text-align: right;\">\n",
       "      <th></th>\n",
       "      <th>gbifID</th>\n",
       "      <th>identifier</th>\n",
       "      <th>eventDate</th>\n",
       "      <th>eventTime</th>\n",
       "      <th>year</th>\n",
       "      <th>month</th>\n",
       "      <th>day</th>\n",
       "      <th>verbatimEventDate</th>\n",
       "      <th>countryCode</th>\n",
       "      <th>stateProvince</th>\n",
       "      <th>...</th>\n",
       "      <th>lastParsed</th>\n",
       "      <th>repatriated</th>\n",
       "      <th>level0Gid</th>\n",
       "      <th>level0Name</th>\n",
       "      <th>level1Gid</th>\n",
       "      <th>level1Name</th>\n",
       "      <th>level2Gid</th>\n",
       "      <th>level2Name</th>\n",
       "      <th>iucnRedListCategory</th>\n",
       "      <th>month_name</th>\n",
       "    </tr>\n",
       "  </thead>\n",
       "  <tbody>\n",
       "    <tr>\n",
       "      <th>0</th>\n",
       "      <td>2862378302</td>\n",
       "      <td>1897201</td>\n",
       "      <td>2015-08-27T00:00:00</td>\n",
       "      <td>NaN</td>\n",
       "      <td>2015</td>\n",
       "      <td>8</td>\n",
       "      <td>27</td>\n",
       "      <td>2015-08-27</td>\n",
       "      <td>CA</td>\n",
       "      <td>Ontario</td>\n",
       "      <td>...</td>\n",
       "      <td>2022-11-25T04:48:22.297Z</td>\n",
       "      <td>False</td>\n",
       "      <td>CAN</td>\n",
       "      <td>Canada</td>\n",
       "      <td>CAN.9_1</td>\n",
       "      <td>Ontario</td>\n",
       "      <td>CAN.9.35_1</td>\n",
       "      <td>Ottawa</td>\n",
       "      <td>NE</td>\n",
       "      <td>August</td>\n",
       "    </tr>\n",
       "    <tr>\n",
       "      <th>1</th>\n",
       "      <td>1572388850</td>\n",
       "      <td>6999380</td>\n",
       "      <td>2015-07-02T00:00:00</td>\n",
       "      <td>NaN</td>\n",
       "      <td>2015</td>\n",
       "      <td>7</td>\n",
       "      <td>2</td>\n",
       "      <td>2015-07-02</td>\n",
       "      <td>US</td>\n",
       "      <td>Maine</td>\n",
       "      <td>...</td>\n",
       "      <td>2022-11-25T04:49:53.527Z</td>\n",
       "      <td>False</td>\n",
       "      <td>USA</td>\n",
       "      <td>United States</td>\n",
       "      <td>USA.20_1</td>\n",
       "      <td>Maine</td>\n",
       "      <td>USA.20.3_1</td>\n",
       "      <td>Cumberland</td>\n",
       "      <td>NE</td>\n",
       "      <td>July</td>\n",
       "    </tr>\n",
       "    <tr>\n",
       "      <th>2</th>\n",
       "      <td>1944424565</td>\n",
       "      <td>9174531</td>\n",
       "      <td>2017-12-02T09:20:47</td>\n",
       "      <td>09:20:47+06:00</td>\n",
       "      <td>2017</td>\n",
       "      <td>12</td>\n",
       "      <td>2</td>\n",
       "      <td>2017-12-02 9:20:47 a. m. GMT-06:00</td>\n",
       "      <td>MX</td>\n",
       "      <td>Nuevo León</td>\n",
       "      <td>...</td>\n",
       "      <td>2022-11-25T04:50:34.751Z</td>\n",
       "      <td>False</td>\n",
       "      <td>MEX</td>\n",
       "      <td>México</td>\n",
       "      <td>MEX.19_1</td>\n",
       "      <td>Nuevo León</td>\n",
       "      <td>MEX.19.26_2</td>\n",
       "      <td>Higueras</td>\n",
       "      <td>NE</td>\n",
       "      <td>December</td>\n",
       "    </tr>\n",
       "    <tr>\n",
       "      <th>3</th>\n",
       "      <td>1838337501</td>\n",
       "      <td>10944119</td>\n",
       "      <td>2014-06-16T00:00:00</td>\n",
       "      <td>NaN</td>\n",
       "      <td>2014</td>\n",
       "      <td>6</td>\n",
       "      <td>16</td>\n",
       "      <td>2014-06-16</td>\n",
       "      <td>ZA</td>\n",
       "      <td>Western Cape</td>\n",
       "      <td>...</td>\n",
       "      <td>2022-11-25T04:51:08.182Z</td>\n",
       "      <td>True</td>\n",
       "      <td>ZAF</td>\n",
       "      <td>South Africa</td>\n",
       "      <td>ZAF.9_1</td>\n",
       "      <td>Western Cape</td>\n",
       "      <td>ZAF.9.3_1</td>\n",
       "      <td>City of Cape Town</td>\n",
       "      <td>NE</td>\n",
       "      <td>June</td>\n",
       "    </tr>\n",
       "    <tr>\n",
       "      <th>4</th>\n",
       "      <td>1841319995</td>\n",
       "      <td>12071576</td>\n",
       "      <td>2018-04-30T13:55:00</td>\n",
       "      <td>13:55:00-05:00</td>\n",
       "      <td>2018</td>\n",
       "      <td>4</td>\n",
       "      <td>30</td>\n",
       "      <td>2018/04/30 1:55 PM CDT</td>\n",
       "      <td>MX</td>\n",
       "      <td>Nuevo León</td>\n",
       "      <td>...</td>\n",
       "      <td>2022-11-25T04:51:24.861Z</td>\n",
       "      <td>False</td>\n",
       "      <td>MEX</td>\n",
       "      <td>México</td>\n",
       "      <td>MEX.19_1</td>\n",
       "      <td>Nuevo León</td>\n",
       "      <td>MEX.19.24_2</td>\n",
       "      <td>Guadalupe</td>\n",
       "      <td>NE</td>\n",
       "      <td>April</td>\n",
       "    </tr>\n",
       "    <tr>\n",
       "      <th>...</th>\n",
       "      <td>...</td>\n",
       "      <td>...</td>\n",
       "      <td>...</td>\n",
       "      <td>...</td>\n",
       "      <td>...</td>\n",
       "      <td>...</td>\n",
       "      <td>...</td>\n",
       "      <td>...</td>\n",
       "      <td>...</td>\n",
       "      <td>...</td>\n",
       "      <td>...</td>\n",
       "      <td>...</td>\n",
       "      <td>...</td>\n",
       "      <td>...</td>\n",
       "      <td>...</td>\n",
       "      <td>...</td>\n",
       "      <td>...</td>\n",
       "      <td>...</td>\n",
       "      <td>...</td>\n",
       "      <td>...</td>\n",
       "      <td>...</td>\n",
       "    </tr>\n",
       "    <tr>\n",
       "      <th>1426876</th>\n",
       "      <td>1990456034</td>\n",
       "      <td>17624326</td>\n",
       "      <td>2018-10-18T13:14:34</td>\n",
       "      <td>13:14:34-04:00</td>\n",
       "      <td>2018</td>\n",
       "      <td>10</td>\n",
       "      <td>18</td>\n",
       "      <td>2018-10-18 1:14:34 PM EDT</td>\n",
       "      <td>US</td>\n",
       "      <td>Ohio</td>\n",
       "      <td>...</td>\n",
       "      <td>2022-11-25T05:39:07.446Z</td>\n",
       "      <td>False</td>\n",
       "      <td>USA</td>\n",
       "      <td>United States</td>\n",
       "      <td>USA.36_1</td>\n",
       "      <td>Ohio</td>\n",
       "      <td>USA.36.78_1</td>\n",
       "      <td>Summit</td>\n",
       "      <td>NE</td>\n",
       "      <td>October</td>\n",
       "    </tr>\n",
       "    <tr>\n",
       "      <th>1426877</th>\n",
       "      <td>2238782188</td>\n",
       "      <td>20383014</td>\n",
       "      <td>2019-02-14T11:10:00</td>\n",
       "      <td>11:10:00+01:00</td>\n",
       "      <td>2019</td>\n",
       "      <td>2</td>\n",
       "      <td>14</td>\n",
       "      <td>2019/02/14 11:10 AM CET</td>\n",
       "      <td>DE</td>\n",
       "      <td>Berlin</td>\n",
       "      <td>...</td>\n",
       "      <td>2022-11-25T05:40:28.526Z</td>\n",
       "      <td>True</td>\n",
       "      <td>DEU</td>\n",
       "      <td>Germany</td>\n",
       "      <td>DEU.3_1</td>\n",
       "      <td>Berlin</td>\n",
       "      <td>DEU.3.1_1</td>\n",
       "      <td>Berlin</td>\n",
       "      <td>NE</td>\n",
       "      <td>February</td>\n",
       "    </tr>\n",
       "    <tr>\n",
       "      <th>1426878</th>\n",
       "      <td>2235490854</td>\n",
       "      <td>21757469</td>\n",
       "      <td>2019-03-29T18:48:12</td>\n",
       "      <td>18:48:12-05:00</td>\n",
       "      <td>2019</td>\n",
       "      <td>3</td>\n",
       "      <td>29</td>\n",
       "      <td>Fri Mar 29 2019 18:48:12 GMT-0500 (CDT)</td>\n",
       "      <td>US</td>\n",
       "      <td>Wisconsin</td>\n",
       "      <td>...</td>\n",
       "      <td>2022-11-25T05:41:05.628Z</td>\n",
       "      <td>False</td>\n",
       "      <td>USA</td>\n",
       "      <td>United States</td>\n",
       "      <td>USA.50_1</td>\n",
       "      <td>Wisconsin</td>\n",
       "      <td>USA.50.10_1</td>\n",
       "      <td>Clark</td>\n",
       "      <td>NE</td>\n",
       "      <td>March</td>\n",
       "    </tr>\n",
       "    <tr>\n",
       "      <th>1426879</th>\n",
       "      <td>2294422105</td>\n",
       "      <td>26516917</td>\n",
       "      <td>2019-06-06T13:06:30</td>\n",
       "      <td>13:06:30-07:00</td>\n",
       "      <td>2019</td>\n",
       "      <td>6</td>\n",
       "      <td>6</td>\n",
       "      <td>Thu Jun 06 2019 13:06:30 GMT-0700 (PDT)</td>\n",
       "      <td>US</td>\n",
       "      <td>Oregon</td>\n",
       "      <td>...</td>\n",
       "      <td>2022-11-25T05:43:04.458Z</td>\n",
       "      <td>False</td>\n",
       "      <td>USA</td>\n",
       "      <td>United States</td>\n",
       "      <td>USA.38_1</td>\n",
       "      <td>Oregon</td>\n",
       "      <td>USA.38.15_1</td>\n",
       "      <td>Jackson</td>\n",
       "      <td>NE</td>\n",
       "      <td>June</td>\n",
       "    </tr>\n",
       "    <tr>\n",
       "      <th>1426880</th>\n",
       "      <td>2634260411</td>\n",
       "      <td>30231608</td>\n",
       "      <td>2019-08-05T14:12:00</td>\n",
       "      <td>14:12:00+05:00</td>\n",
       "      <td>2019</td>\n",
       "      <td>8</td>\n",
       "      <td>5</td>\n",
       "      <td>2019/08/05 2:12 PM +05</td>\n",
       "      <td>RU</td>\n",
       "      <td>Khanty-Mansiy</td>\n",
       "      <td>...</td>\n",
       "      <td>2022-11-25T05:44:49.655Z</td>\n",
       "      <td>True</td>\n",
       "      <td>RUS</td>\n",
       "      <td>Russia</td>\n",
       "      <td>RUS.30_1</td>\n",
       "      <td>Khanty-Mansiy</td>\n",
       "      <td>RUS.30.13_1</td>\n",
       "      <td>Nizhnevartovskiy rayon</td>\n",
       "      <td>NE</td>\n",
       "      <td>August</td>\n",
       "    </tr>\n",
       "  </tbody>\n",
       "</table>\n",
       "<p>1426881 rows × 56 columns</p>\n",
       "</div>"
      ],
      "text/plain": [
       "             gbifID  identifier            eventDate       eventTime  year  \\\n",
       "0        2862378302     1897201  2015-08-27T00:00:00             NaN  2015   \n",
       "1        1572388850     6999380  2015-07-02T00:00:00             NaN  2015   \n",
       "2        1944424565     9174531  2017-12-02T09:20:47  09:20:47+06:00  2017   \n",
       "3        1838337501    10944119  2014-06-16T00:00:00             NaN  2014   \n",
       "4        1841319995    12071576  2018-04-30T13:55:00  13:55:00-05:00  2018   \n",
       "...             ...         ...                  ...             ...   ...   \n",
       "1426876  1990456034    17624326  2018-10-18T13:14:34  13:14:34-04:00  2018   \n",
       "1426877  2238782188    20383014  2019-02-14T11:10:00  11:10:00+01:00  2019   \n",
       "1426878  2235490854    21757469  2019-03-29T18:48:12  18:48:12-05:00  2019   \n",
       "1426879  2294422105    26516917  2019-06-06T13:06:30  13:06:30-07:00  2019   \n",
       "1426880  2634260411    30231608  2019-08-05T14:12:00  14:12:00+05:00  2019   \n",
       "\n",
       "         month  day                        verbatimEventDate countryCode  \\\n",
       "0            8   27                               2015-08-27          CA   \n",
       "1            7    2                               2015-07-02          US   \n",
       "2           12    2       2017-12-02 9:20:47 a. m. GMT-06:00          MX   \n",
       "3            6   16                               2014-06-16          ZA   \n",
       "4            4   30                   2018/04/30 1:55 PM CDT          MX   \n",
       "...        ...  ...                                      ...         ...   \n",
       "1426876     10   18                2018-10-18 1:14:34 PM EDT          US   \n",
       "1426877      2   14                  2019/02/14 11:10 AM CET          DE   \n",
       "1426878      3   29  Fri Mar 29 2019 18:48:12 GMT-0500 (CDT)          US   \n",
       "1426879      6    6  Thu Jun 06 2019 13:06:30 GMT-0700 (PDT)          US   \n",
       "1426880      8    5                   2019/08/05 2:12 PM +05          RU   \n",
       "\n",
       "         stateProvince  ...                lastParsed  repatriated  level0Gid  \\\n",
       "0              Ontario  ...  2022-11-25T04:48:22.297Z        False        CAN   \n",
       "1                Maine  ...  2022-11-25T04:49:53.527Z        False        USA   \n",
       "2           Nuevo León  ...  2022-11-25T04:50:34.751Z        False        MEX   \n",
       "3         Western Cape  ...  2022-11-25T04:51:08.182Z         True        ZAF   \n",
       "4           Nuevo León  ...  2022-11-25T04:51:24.861Z        False        MEX   \n",
       "...                ...  ...                       ...          ...        ...   \n",
       "1426876           Ohio  ...  2022-11-25T05:39:07.446Z        False        USA   \n",
       "1426877         Berlin  ...  2022-11-25T05:40:28.526Z         True        DEU   \n",
       "1426878      Wisconsin  ...  2022-11-25T05:41:05.628Z        False        USA   \n",
       "1426879         Oregon  ...  2022-11-25T05:43:04.458Z        False        USA   \n",
       "1426880  Khanty-Mansiy  ...  2022-11-25T05:44:49.655Z         True        RUS   \n",
       "\n",
       "            level0Name  level1Gid     level1Name    level2Gid  \\\n",
       "0               Canada    CAN.9_1        Ontario   CAN.9.35_1   \n",
       "1        United States   USA.20_1          Maine   USA.20.3_1   \n",
       "2               México   MEX.19_1     Nuevo León  MEX.19.26_2   \n",
       "3         South Africa    ZAF.9_1   Western Cape    ZAF.9.3_1   \n",
       "4               México   MEX.19_1     Nuevo León  MEX.19.24_2   \n",
       "...                ...        ...            ...          ...   \n",
       "1426876  United States   USA.36_1           Ohio  USA.36.78_1   \n",
       "1426877        Germany    DEU.3_1         Berlin    DEU.3.1_1   \n",
       "1426878  United States   USA.50_1      Wisconsin  USA.50.10_1   \n",
       "1426879  United States   USA.38_1         Oregon  USA.38.15_1   \n",
       "1426880         Russia   RUS.30_1  Khanty-Mansiy  RUS.30.13_1   \n",
       "\n",
       "                     level2Name  iucnRedListCategory month_name  \n",
       "0                        Ottawa                   NE     August  \n",
       "1                    Cumberland                   NE       July  \n",
       "2                      Higueras                   NE   December  \n",
       "3             City of Cape Town                   NE       June  \n",
       "4                     Guadalupe                   NE      April  \n",
       "...                         ...                  ...        ...  \n",
       "1426876                  Summit                   NE    October  \n",
       "1426877                  Berlin                   NE   February  \n",
       "1426878                   Clark                   NE      March  \n",
       "1426879                 Jackson                   NE       June  \n",
       "1426880  Nizhnevartovskiy rayon                   NE     August  \n",
       "\n",
       "[1426881 rows x 56 columns]"
      ]
     },
     "execution_count": 54,
     "metadata": {},
     "output_type": "execute_result"
    }
   ],
   "source": [
    "obs.drop( 'recordedBy', axis=1 )"
   ]
  },
  {
   "cell_type": "markdown",
   "id": "5091f6ce",
   "metadata": {},
   "source": [
    "## Time"
   ]
  },
  {
   "cell_type": "code",
   "execution_count": 55,
   "id": "8b9c6295",
   "metadata": {},
   "outputs": [
    {
     "data": {
      "text/plain": [
       "0    2015-08-27T00:00:00\n",
       "1    2015-07-02T00:00:00\n",
       "2    2017-12-02T09:20:47\n",
       "3    2014-06-16T00:00:00\n",
       "4    2018-04-30T13:55:00\n",
       "Name: eventDate, dtype: object"
      ]
     },
     "execution_count": 55,
     "metadata": {},
     "output_type": "execute_result"
    }
   ],
   "source": [
    "obs['eventDate'].head()"
   ]
  },
  {
   "cell_type": "code",
   "execution_count": 56,
   "id": "59a30fda",
   "metadata": {},
   "outputs": [
    {
     "data": {
      "text/plain": [
       "0               NaN\n",
       "1               NaN\n",
       "2    09:20:47+06:00\n",
       "3               NaN\n",
       "4    13:55:00-05:00\n",
       "Name: eventTime, dtype: object"
      ]
     },
     "execution_count": 56,
     "metadata": {},
     "output_type": "execute_result"
    }
   ],
   "source": [
    "obs['eventTime'].head()"
   ]
  },
  {
   "cell_type": "code",
   "execution_count": 57,
   "id": "3347d745",
   "metadata": {},
   "outputs": [
    {
     "data": {
      "text/plain": [
       "0    2015\n",
       "1    2015\n",
       "2    2017\n",
       "3    2014\n",
       "4    2018\n",
       "Name: year, dtype: int64"
      ]
     },
     "execution_count": 57,
     "metadata": {},
     "output_type": "execute_result"
    }
   ],
   "source": [
    "obs['year'].head()"
   ]
  },
  {
   "cell_type": "code",
   "execution_count": 58,
   "id": "b49a55ad",
   "metadata": {},
   "outputs": [
    {
     "data": {
      "text/plain": [
       "0     8\n",
       "1     7\n",
       "2    12\n",
       "3     6\n",
       "4     4\n",
       "Name: month, dtype: int64"
      ]
     },
     "execution_count": 58,
     "metadata": {},
     "output_type": "execute_result"
    }
   ],
   "source": [
    "obs['month'].head()"
   ]
  },
  {
   "cell_type": "code",
   "execution_count": 59,
   "id": "14ef2870",
   "metadata": {},
   "outputs": [
    {
     "data": {
      "text/plain": [
       "0    27\n",
       "1     2\n",
       "2     2\n",
       "3    16\n",
       "4    30\n",
       "Name: day, dtype: int64"
      ]
     },
     "execution_count": 59,
     "metadata": {},
     "output_type": "execute_result"
    }
   ],
   "source": [
    "obs['day'].head()"
   ]
  },
  {
   "cell_type": "code",
   "execution_count": 60,
   "id": "d2b343bf",
   "metadata": {},
   "outputs": [
    {
     "data": {
      "text/plain": [
       "0                            2015-08-27\n",
       "1                            2015-07-02\n",
       "2    2017-12-02 9:20:47 a. m. GMT-06:00\n",
       "3                            2014-06-16\n",
       "4                2018/04/30 1:55 PM CDT\n",
       "Name: verbatimEventDate, dtype: object"
      ]
     },
     "execution_count": 60,
     "metadata": {},
     "output_type": "execute_result"
    }
   ],
   "source": [
    "obs['verbatimEventDate'].head()"
   ]
  },
  {
   "cell_type": "code",
   "execution_count": 61,
   "id": "af8c40e2",
   "metadata": {},
   "outputs": [],
   "source": [
    "obs = obs.drop( 'verbatimEventDate', axis=1 )"
   ]
  },
  {
   "cell_type": "markdown",
   "id": "f3cbd8fa",
   "metadata": {},
   "source": [
    "## Location"
   ]
  },
  {
   "cell_type": "code",
   "execution_count": 62,
   "id": "67cfd837",
   "metadata": {},
   "outputs": [
    {
     "data": {
      "text/plain": [
       "0    CA\n",
       "1    US\n",
       "2    MX\n",
       "3    ZA\n",
       "4    MX\n",
       "Name: countryCode, dtype: object"
      ]
     },
     "execution_count": 62,
     "metadata": {},
     "output_type": "execute_result"
    }
   ],
   "source": [
    "obs['countryCode'].head()"
   ]
  },
  {
   "cell_type": "code",
   "execution_count": 63,
   "id": "0ca3792b",
   "metadata": {},
   "outputs": [
    {
     "data": {
      "text/plain": [
       "0         Ontario\n",
       "1           Maine\n",
       "2      Nuevo León\n",
       "3    Western Cape\n",
       "4      Nuevo León\n",
       "Name: stateProvince, dtype: object"
      ]
     },
     "execution_count": 63,
     "metadata": {},
     "output_type": "execute_result"
    }
   ],
   "source": [
    "obs['stateProvince'].head()"
   ]
  },
  {
   "cell_type": "code",
   "execution_count": 64,
   "id": "527444fa",
   "metadata": {},
   "outputs": [
    {
     "data": {
      "text/plain": [
       "0                Macoun Marsh, Ottawa\n",
       "1                   Casco, Maine, USA\n",
       "2    Unnamed Road, Nuevo León, México\n",
       "3                          Wedderwill\n",
       "4             Guadalupe, N.L., México\n",
       "Name: verbatimLocality, dtype: object"
      ]
     },
     "execution_count": 64,
     "metadata": {},
     "output_type": "execute_result"
    }
   ],
   "source": [
    "obs['verbatimLocality'].head()"
   ]
  },
  {
   "cell_type": "code",
   "execution_count": 65,
   "id": "19ad6c83",
   "metadata": {},
   "outputs": [],
   "source": [
    "obs = obs.drop( 'verbatimLocality', axis=1 )"
   ]
  },
  {
   "cell_type": "code",
   "execution_count": 66,
   "id": "9c7ebfba",
   "metadata": {},
   "outputs": [
    {
     "data": {
      "text/plain": [
       "0    45.445945\n",
       "1    43.970350\n",
       "2    25.933413\n",
       "3   -34.110000\n",
       "4    25.627567\n",
       "Name: decimalLatitude, dtype: float64"
      ]
     },
     "execution_count": 66,
     "metadata": {},
     "output_type": "execute_result"
    }
   ],
   "source": [
    "obs['decimalLatitude'].head()"
   ]
  },
  {
   "cell_type": "code",
   "execution_count": 71,
   "id": "ab13f527",
   "metadata": {},
   "outputs": [
    {
     "data": {
      "text/html": [
       "<div>\n",
       "<style scoped>\n",
       "    .dataframe tbody tr th:only-of-type {\n",
       "        vertical-align: middle;\n",
       "    }\n",
       "\n",
       "    .dataframe tbody tr th {\n",
       "        vertical-align: top;\n",
       "    }\n",
       "\n",
       "    .dataframe thead th {\n",
       "        text-align: right;\n",
       "    }\n",
       "</style>\n",
       "<table border=\"1\" class=\"dataframe\">\n",
       "  <thead>\n",
       "    <tr style=\"text-align: right;\">\n",
       "      <th></th>\n",
       "      <th>gbifID</th>\n",
       "      <th>identifier</th>\n",
       "      <th>recordedBy</th>\n",
       "      <th>eventDate</th>\n",
       "      <th>eventTime</th>\n",
       "      <th>year</th>\n",
       "      <th>month</th>\n",
       "      <th>day</th>\n",
       "      <th>countryCode</th>\n",
       "      <th>stateProvince</th>\n",
       "      <th>...</th>\n",
       "      <th>lastParsed</th>\n",
       "      <th>repatriated</th>\n",
       "      <th>level0Gid</th>\n",
       "      <th>level0Name</th>\n",
       "      <th>level1Gid</th>\n",
       "      <th>level1Name</th>\n",
       "      <th>level2Gid</th>\n",
       "      <th>level2Name</th>\n",
       "      <th>iucnRedListCategory</th>\n",
       "      <th>month_name</th>\n",
       "    </tr>\n",
       "  </thead>\n",
       "  <tbody>\n",
       "    <tr>\n",
       "      <th>150</th>\n",
       "      <td>2898287431</td>\n",
       "      <td>55652540</td>\n",
       "      <td>roalan</td>\n",
       "      <td>2020-08-05T12:05:29</td>\n",
       "      <td>12:05:29-04:00</td>\n",
       "      <td>2020</td>\n",
       "      <td>8</td>\n",
       "      <td>5</td>\n",
       "      <td>NaN</td>\n",
       "      <td>NaN</td>\n",
       "      <td>...</td>\n",
       "      <td>2022-11-25T05:04:26.111Z</td>\n",
       "      <td>NaN</td>\n",
       "      <td>NaN</td>\n",
       "      <td>NaN</td>\n",
       "      <td>NaN</td>\n",
       "      <td>NaN</td>\n",
       "      <td>NaN</td>\n",
       "      <td>NaN</td>\n",
       "      <td>NE</td>\n",
       "      <td>August</td>\n",
       "    </tr>\n",
       "    <tr>\n",
       "      <th>348</th>\n",
       "      <td>2460155327</td>\n",
       "      <td>35703317</td>\n",
       "      <td>stephaniemartin</td>\n",
       "      <td>2019-11-15T09:25:04</td>\n",
       "      <td>09:25:04Z</td>\n",
       "      <td>2019</td>\n",
       "      <td>11</td>\n",
       "      <td>15</td>\n",
       "      <td>NaN</td>\n",
       "      <td>NaN</td>\n",
       "      <td>...</td>\n",
       "      <td>2022-11-25T04:58:03.270Z</td>\n",
       "      <td>NaN</td>\n",
       "      <td>NaN</td>\n",
       "      <td>NaN</td>\n",
       "      <td>NaN</td>\n",
       "      <td>NaN</td>\n",
       "      <td>NaN</td>\n",
       "      <td>NaN</td>\n",
       "      <td>NE</td>\n",
       "      <td>November</td>\n",
       "    </tr>\n",
       "    <tr>\n",
       "      <th>466</th>\n",
       "      <td>3044775457</td>\n",
       "      <td>38350939</td>\n",
       "      <td>mattsteiger</td>\n",
       "      <td>2020-02-05T17:44:00</td>\n",
       "      <td>17:44:00Z</td>\n",
       "      <td>2020</td>\n",
       "      <td>2</td>\n",
       "      <td>5</td>\n",
       "      <td>NaN</td>\n",
       "      <td>NaN</td>\n",
       "      <td>...</td>\n",
       "      <td>2022-11-25T05:44:50.866Z</td>\n",
       "      <td>NaN</td>\n",
       "      <td>NaN</td>\n",
       "      <td>NaN</td>\n",
       "      <td>NaN</td>\n",
       "      <td>NaN</td>\n",
       "      <td>NaN</td>\n",
       "      <td>NaN</td>\n",
       "      <td>NE</td>\n",
       "      <td>February</td>\n",
       "    </tr>\n",
       "    <tr>\n",
       "      <th>601</th>\n",
       "      <td>2988552421</td>\n",
       "      <td>65247874</td>\n",
       "      <td>jdcohenesq</td>\n",
       "      <td>2020-11-02T00:00:00</td>\n",
       "      <td>NaN</td>\n",
       "      <td>2020</td>\n",
       "      <td>11</td>\n",
       "      <td>2</td>\n",
       "      <td>NaN</td>\n",
       "      <td>NaN</td>\n",
       "      <td>...</td>\n",
       "      <td>2022-11-25T05:07:07.098Z</td>\n",
       "      <td>NaN</td>\n",
       "      <td>NaN</td>\n",
       "      <td>NaN</td>\n",
       "      <td>NaN</td>\n",
       "      <td>NaN</td>\n",
       "      <td>NaN</td>\n",
       "      <td>NaN</td>\n",
       "      <td>LC</td>\n",
       "      <td>November</td>\n",
       "    </tr>\n",
       "    <tr>\n",
       "      <th>741</th>\n",
       "      <td>1144979010</td>\n",
       "      <td>2125594</td>\n",
       "      <td>kevinhintsa</td>\n",
       "      <td>2007-01-09T16:08:03</td>\n",
       "      <td>16:08:03-08:00</td>\n",
       "      <td>2007</td>\n",
       "      <td>1</td>\n",
       "      <td>9</td>\n",
       "      <td>NaN</td>\n",
       "      <td>NaN</td>\n",
       "      <td>...</td>\n",
       "      <td>2022-11-25T04:48:23.470Z</td>\n",
       "      <td>NaN</td>\n",
       "      <td>NaN</td>\n",
       "      <td>NaN</td>\n",
       "      <td>NaN</td>\n",
       "      <td>NaN</td>\n",
       "      <td>NaN</td>\n",
       "      <td>NaN</td>\n",
       "      <td>NE</td>\n",
       "      <td>January</td>\n",
       "    </tr>\n",
       "    <tr>\n",
       "      <th>...</th>\n",
       "      <td>...</td>\n",
       "      <td>...</td>\n",
       "      <td>...</td>\n",
       "      <td>...</td>\n",
       "      <td>...</td>\n",
       "      <td>...</td>\n",
       "      <td>...</td>\n",
       "      <td>...</td>\n",
       "      <td>...</td>\n",
       "      <td>...</td>\n",
       "      <td>...</td>\n",
       "      <td>...</td>\n",
       "      <td>...</td>\n",
       "      <td>...</td>\n",
       "      <td>...</td>\n",
       "      <td>...</td>\n",
       "      <td>...</td>\n",
       "      <td>...</td>\n",
       "      <td>...</td>\n",
       "      <td>...</td>\n",
       "      <td>...</td>\n",
       "    </tr>\n",
       "    <tr>\n",
       "      <th>1424722</th>\n",
       "      <td>3391550963</td>\n",
       "      <td>97905668</td>\n",
       "      <td>Alison Lake</td>\n",
       "      <td>2021-10-11T12:19:24</td>\n",
       "      <td>12:19:24-04:00</td>\n",
       "      <td>2021</td>\n",
       "      <td>10</td>\n",
       "      <td>11</td>\n",
       "      <td>NaN</td>\n",
       "      <td>NaN</td>\n",
       "      <td>...</td>\n",
       "      <td>2022-11-25T06:00:47.669Z</td>\n",
       "      <td>NaN</td>\n",
       "      <td>NaN</td>\n",
       "      <td>NaN</td>\n",
       "      <td>NaN</td>\n",
       "      <td>NaN</td>\n",
       "      <td>NaN</td>\n",
       "      <td>NaN</td>\n",
       "      <td>LC</td>\n",
       "      <td>October</td>\n",
       "    </tr>\n",
       "    <tr>\n",
       "      <th>1424858</th>\n",
       "      <td>2251830059</td>\n",
       "      <td>21533322</td>\n",
       "      <td>samanthaeff</td>\n",
       "      <td>2019-03-17T12:33:37</td>\n",
       "      <td>12:33:37-04:00</td>\n",
       "      <td>2019</td>\n",
       "      <td>3</td>\n",
       "      <td>17</td>\n",
       "      <td>NaN</td>\n",
       "      <td>NaN</td>\n",
       "      <td>...</td>\n",
       "      <td>2022-11-25T04:53:59.090Z</td>\n",
       "      <td>NaN</td>\n",
       "      <td>NaN</td>\n",
       "      <td>NaN</td>\n",
       "      <td>NaN</td>\n",
       "      <td>NaN</td>\n",
       "      <td>NaN</td>\n",
       "      <td>NaN</td>\n",
       "      <td>NE</td>\n",
       "      <td>March</td>\n",
       "    </tr>\n",
       "    <tr>\n",
       "      <th>1425009</th>\n",
       "      <td>2814269209</td>\n",
       "      <td>52299195</td>\n",
       "      <td>Виктория Билоус</td>\n",
       "      <td>2020-07-07T00:00:00</td>\n",
       "      <td>NaN</td>\n",
       "      <td>2020</td>\n",
       "      <td>7</td>\n",
       "      <td>7</td>\n",
       "      <td>NaN</td>\n",
       "      <td>NaN</td>\n",
       "      <td>...</td>\n",
       "      <td>2022-11-25T05:03:10.181Z</td>\n",
       "      <td>NaN</td>\n",
       "      <td>NaN</td>\n",
       "      <td>NaN</td>\n",
       "      <td>NaN</td>\n",
       "      <td>NaN</td>\n",
       "      <td>NaN</td>\n",
       "      <td>NaN</td>\n",
       "      <td>LC</td>\n",
       "      <td>July</td>\n",
       "    </tr>\n",
       "    <tr>\n",
       "      <th>1425434</th>\n",
       "      <td>3966415072</td>\n",
       "      <td>141810007</td>\n",
       "      <td>mamahen90</td>\n",
       "      <td>2017-10-01T12:29:00</td>\n",
       "      <td>12:29:00-05:00</td>\n",
       "      <td>2017</td>\n",
       "      <td>10</td>\n",
       "      <td>1</td>\n",
       "      <td>NaN</td>\n",
       "      <td>NaN</td>\n",
       "      <td>...</td>\n",
       "      <td>2022-11-25T06:12:19.876Z</td>\n",
       "      <td>NaN</td>\n",
       "      <td>NaN</td>\n",
       "      <td>NaN</td>\n",
       "      <td>NaN</td>\n",
       "      <td>NaN</td>\n",
       "      <td>NaN</td>\n",
       "      <td>NaN</td>\n",
       "      <td>NaN</td>\n",
       "      <td>October</td>\n",
       "    </tr>\n",
       "    <tr>\n",
       "      <th>1426742</th>\n",
       "      <td>2265909511</td>\n",
       "      <td>7996628</td>\n",
       "      <td>D.J. McNeil</td>\n",
       "      <td>2017-05-26T09:45:00</td>\n",
       "      <td>09:45:00-04:00</td>\n",
       "      <td>2017</td>\n",
       "      <td>5</td>\n",
       "      <td>26</td>\n",
       "      <td>NaN</td>\n",
       "      <td>NaN</td>\n",
       "      <td>...</td>\n",
       "      <td>2022-11-25T05:40:21.662Z</td>\n",
       "      <td>NaN</td>\n",
       "      <td>NaN</td>\n",
       "      <td>NaN</td>\n",
       "      <td>NaN</td>\n",
       "      <td>NaN</td>\n",
       "      <td>NaN</td>\n",
       "      <td>NaN</td>\n",
       "      <td>NE</td>\n",
       "      <td>May</td>\n",
       "    </tr>\n",
       "  </tbody>\n",
       "</table>\n",
       "<p>3581 rows × 55 columns</p>\n",
       "</div>"
      ],
      "text/plain": [
       "             gbifID  identifier       recordedBy            eventDate  \\\n",
       "150      2898287431    55652540           roalan  2020-08-05T12:05:29   \n",
       "348      2460155327    35703317  stephaniemartin  2019-11-15T09:25:04   \n",
       "466      3044775457    38350939      mattsteiger  2020-02-05T17:44:00   \n",
       "601      2988552421    65247874       jdcohenesq  2020-11-02T00:00:00   \n",
       "741      1144979010     2125594      kevinhintsa  2007-01-09T16:08:03   \n",
       "...             ...         ...              ...                  ...   \n",
       "1424722  3391550963    97905668      Alison Lake  2021-10-11T12:19:24   \n",
       "1424858  2251830059    21533322      samanthaeff  2019-03-17T12:33:37   \n",
       "1425009  2814269209    52299195  Виктория Билоус  2020-07-07T00:00:00   \n",
       "1425434  3966415072   141810007        mamahen90  2017-10-01T12:29:00   \n",
       "1426742  2265909511     7996628      D.J. McNeil  2017-05-26T09:45:00   \n",
       "\n",
       "              eventTime  year  month  day countryCode stateProvince  ...  \\\n",
       "150      12:05:29-04:00  2020      8    5         NaN           NaN  ...   \n",
       "348           09:25:04Z  2019     11   15         NaN           NaN  ...   \n",
       "466           17:44:00Z  2020      2    5         NaN           NaN  ...   \n",
       "601                 NaN  2020     11    2         NaN           NaN  ...   \n",
       "741      16:08:03-08:00  2007      1    9         NaN           NaN  ...   \n",
       "...                 ...   ...    ...  ...         ...           ...  ...   \n",
       "1424722  12:19:24-04:00  2021     10   11         NaN           NaN  ...   \n",
       "1424858  12:33:37-04:00  2019      3   17         NaN           NaN  ...   \n",
       "1425009             NaN  2020      7    7         NaN           NaN  ...   \n",
       "1425434  12:29:00-05:00  2017     10    1         NaN           NaN  ...   \n",
       "1426742  09:45:00-04:00  2017      5   26         NaN           NaN  ...   \n",
       "\n",
       "                       lastParsed  repatriated  level0Gid  level0Name  \\\n",
       "150      2022-11-25T05:04:26.111Z          NaN        NaN         NaN   \n",
       "348      2022-11-25T04:58:03.270Z          NaN        NaN         NaN   \n",
       "466      2022-11-25T05:44:50.866Z          NaN        NaN         NaN   \n",
       "601      2022-11-25T05:07:07.098Z          NaN        NaN         NaN   \n",
       "741      2022-11-25T04:48:23.470Z          NaN        NaN         NaN   \n",
       "...                           ...          ...        ...         ...   \n",
       "1424722  2022-11-25T06:00:47.669Z          NaN        NaN         NaN   \n",
       "1424858  2022-11-25T04:53:59.090Z          NaN        NaN         NaN   \n",
       "1425009  2022-11-25T05:03:10.181Z          NaN        NaN         NaN   \n",
       "1425434  2022-11-25T06:12:19.876Z          NaN        NaN         NaN   \n",
       "1426742  2022-11-25T05:40:21.662Z          NaN        NaN         NaN   \n",
       "\n",
       "        level1Gid level1Name  level2Gid  level2Name iucnRedListCategory  \\\n",
       "150           NaN        NaN        NaN         NaN                  NE   \n",
       "348           NaN        NaN        NaN         NaN                  NE   \n",
       "466           NaN        NaN        NaN         NaN                  NE   \n",
       "601           NaN        NaN        NaN         NaN                  LC   \n",
       "741           NaN        NaN        NaN         NaN                  NE   \n",
       "...           ...        ...        ...         ...                 ...   \n",
       "1424722       NaN        NaN        NaN         NaN                  LC   \n",
       "1424858       NaN        NaN        NaN         NaN                  NE   \n",
       "1425009       NaN        NaN        NaN         NaN                  LC   \n",
       "1425434       NaN        NaN        NaN         NaN                 NaN   \n",
       "1426742       NaN        NaN        NaN         NaN                  NE   \n",
       "\n",
       "        month_name  \n",
       "150         August  \n",
       "348       November  \n",
       "466       February  \n",
       "601       November  \n",
       "741        January  \n",
       "...            ...  \n",
       "1424722    October  \n",
       "1424858      March  \n",
       "1425009       July  \n",
       "1425434    October  \n",
       "1426742        May  \n",
       "\n",
       "[3581 rows x 55 columns]"
      ]
     },
     "execution_count": 71,
     "metadata": {},
     "output_type": "execute_result"
    }
   ],
   "source": [
    "obs[ obs['decimalLatitude'].isnull() ]"
   ]
  },
  {
   "cell_type": "code",
   "execution_count": 72,
   "id": "b6e7691d",
   "metadata": {},
   "outputs": [],
   "source": [
    "# Should I or can I impute the lat and long for these missing values?"
   ]
  },
  {
   "cell_type": "code",
   "execution_count": null,
   "id": "7f92a10d",
   "metadata": {},
   "outputs": [],
   "source": []
  }
 ],
 "metadata": {
  "kernelspec": {
   "display_name": "Python [conda env:.conda-fungi] *",
   "language": "python",
   "name": "conda-env-.conda-fungi-py"
  },
  "language_info": {
   "codemirror_mode": {
    "name": "ipython",
    "version": 3
   },
   "file_extension": ".py",
   "mimetype": "text/x-python",
   "name": "python",
   "nbconvert_exporter": "python",
   "pygments_lexer": "ipython3",
   "version": "3.10.6"
  }
 },
 "nbformat": 4,
 "nbformat_minor": 5
}
