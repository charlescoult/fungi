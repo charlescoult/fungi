{
 "cells": [
  {
   "cell_type": "code",
   "execution_count": 1,
   "id": "b9bb33c3",
   "metadata": {},
   "outputs": [],
   "source": [
    "import pandas as pd"
   ]
  },
  {
   "cell_type": "code",
   "execution_count": 2,
   "id": "3ae48dae",
   "metadata": {},
   "outputs": [],
   "source": [
    "obs = pd.read_hdf( 'clean_data.h5', 'obs' )"
   ]
  },
  {
   "cell_type": "code",
   "execution_count": 3,
   "id": "ad6b1f6d",
   "metadata": {},
   "outputs": [],
   "source": [
    "media = pd.read_hdf( 'clean_data.h5', 'media' )"
   ]
  },
  {
   "cell_type": "code",
   "execution_count": 4,
   "id": "60c92444",
   "metadata": {},
   "outputs": [
    {
     "data": {
      "text/plain": [
       "(1426881, 63)"
      ]
     },
     "execution_count": 4,
     "metadata": {},
     "output_type": "execute_result"
    }
   ],
   "source": [
    "obs.shape"
   ]
  },
  {
   "cell_type": "code",
   "execution_count": 5,
   "id": "0712f8bb",
   "metadata": {},
   "outputs": [
    {
     "data": {
      "text/plain": [
       "(2803519, 3)"
      ]
     },
     "execution_count": 5,
     "metadata": {},
     "output_type": "execute_result"
    }
   ],
   "source": [
    "media.shape"
   ]
  },
  {
   "cell_type": "code",
   "execution_count": 6,
   "id": "9eeaf20d",
   "metadata": {},
   "outputs": [
    {
     "data": {
      "text/plain": [
       "['gbifID',\n",
       " 'identifier',\n",
       " 'license',\n",
       " 'modified',\n",
       " 'references',\n",
       " 'rightsHolder',\n",
       " 'occurrenceID',\n",
       " 'catalogNumber',\n",
       " 'recordedBy',\n",
       " 'eventDate',\n",
       " 'eventTime',\n",
       " 'year',\n",
       " 'month',\n",
       " 'day',\n",
       " 'verbatimEventDate',\n",
       " 'countryCode',\n",
       " 'stateProvince',\n",
       " 'verbatimLocality',\n",
       " 'decimalLatitude',\n",
       " 'decimalLongitude',\n",
       " 'coordinateUncertaintyInMeters',\n",
       " 'identificationID',\n",
       " 'identifiedBy',\n",
       " 'dateIdentified',\n",
       " 'taxonID',\n",
       " 'acceptedNameUsageID',\n",
       " 'scientificName',\n",
       " 'phylum',\n",
       " 'class',\n",
       " 'order',\n",
       " 'family',\n",
       " 'genus',\n",
       " 'genericName',\n",
       " 'specificEpithet',\n",
       " 'taxonRank',\n",
       " 'taxonomicStatus',\n",
       " 'publishingCountry',\n",
       " 'lastInterpreted',\n",
       " 'issue',\n",
       " 'mediaType',\n",
       " 'hasCoordinate',\n",
       " 'hasGeospatialIssues',\n",
       " 'taxonKey',\n",
       " 'acceptedTaxonKey',\n",
       " 'phylumKey',\n",
       " 'classKey',\n",
       " 'orderKey',\n",
       " 'familyKey',\n",
       " 'genusKey',\n",
       " 'speciesKey',\n",
       " 'species',\n",
       " 'acceptedScientificName',\n",
       " 'verbatimScientificName',\n",
       " 'lastParsed',\n",
       " 'repatriated',\n",
       " 'level0Gid',\n",
       " 'level0Name',\n",
       " 'level1Gid',\n",
       " 'level1Name',\n",
       " 'level2Gid',\n",
       " 'level2Name',\n",
       " 'iucnRedListCategory',\n",
       " 'month_name']"
      ]
     },
     "execution_count": 6,
     "metadata": {},
     "output_type": "execute_result"
    }
   ],
   "source": [
    "obs.columns.tolist()"
   ]
  }
 ],
 "metadata": {
  "kernelspec": {
   "display_name": "Python [conda env:.conda-fungi] *",
   "language": "python",
   "name": "conda-env-.conda-fungi-py"
  },
  "language_info": {
   "codemirror_mode": {
    "name": "ipython",
    "version": 3
   },
   "file_extension": ".py",
   "mimetype": "text/x-python",
   "name": "python",
   "nbconvert_exporter": "python",
   "pygments_lexer": "ipython3",
   "version": "3.10.6"
  }
 },
 "nbformat": 4,
 "nbformat_minor": 5
}
