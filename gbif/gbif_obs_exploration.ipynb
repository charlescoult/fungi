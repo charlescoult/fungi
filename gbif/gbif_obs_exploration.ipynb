{
 "cells": [
  {
   "cell_type": "code",
   "execution_count": 1,
   "id": "9cba9dee",
   "metadata": {},
   "outputs": [],
   "source": [
    "import pandas as pd"
   ]
  },
  {
   "cell_type": "code",
   "execution_count": 2,
   "id": "8a395d90",
   "metadata": {},
   "outputs": [],
   "source": [
    "obs = pd.read_hdf(\n",
    "    'clean_data.h5',\n",
    "    'obs',\n",
    ")"
   ]
  },
  {
   "cell_type": "code",
   "execution_count": 3,
   "id": "99da4bdd",
   "metadata": {},
   "outputs": [
    {
     "data": {
      "text/plain": [
       "(1426881, 63)"
      ]
     },
     "execution_count": 3,
     "metadata": {},
     "output_type": "execute_result"
    }
   ],
   "source": [
    "obs.shape"
   ]
  },
  {
   "cell_type": "code",
   "execution_count": 4,
   "id": "31ad4be9",
   "metadata": {},
   "outputs": [
    {
     "data": {
      "text/plain": [
       "['gbifID',\n",
       " 'identifier',\n",
       " 'license',\n",
       " 'modified',\n",
       " 'references',\n",
       " 'rightsHolder',\n",
       " 'occurrenceID',\n",
       " 'catalogNumber',\n",
       " 'recordedBy',\n",
       " 'eventDate',\n",
       " 'eventTime',\n",
       " 'year',\n",
       " 'month',\n",
       " 'day',\n",
       " 'verbatimEventDate',\n",
       " 'countryCode',\n",
       " 'stateProvince',\n",
       " 'verbatimLocality',\n",
       " 'decimalLatitude',\n",
       " 'decimalLongitude',\n",
       " 'coordinateUncertaintyInMeters',\n",
       " 'identificationID',\n",
       " 'identifiedBy',\n",
       " 'dateIdentified',\n",
       " 'taxonID',\n",
       " 'acceptedNameUsageID',\n",
       " 'scientificName',\n",
       " 'phylum',\n",
       " 'class',\n",
       " 'order',\n",
       " 'family',\n",
       " 'genus',\n",
       " 'genericName',\n",
       " 'specificEpithet',\n",
       " 'taxonRank',\n",
       " 'taxonomicStatus',\n",
       " 'publishingCountry',\n",
       " 'lastInterpreted',\n",
       " 'issue',\n",
       " 'mediaType',\n",
       " 'hasCoordinate',\n",
       " 'hasGeospatialIssues',\n",
       " 'taxonKey',\n",
       " 'acceptedTaxonKey',\n",
       " 'phylumKey',\n",
       " 'classKey',\n",
       " 'orderKey',\n",
       " 'familyKey',\n",
       " 'genusKey',\n",
       " 'speciesKey',\n",
       " 'species',\n",
       " 'acceptedScientificName',\n",
       " 'verbatimScientificName',\n",
       " 'lastParsed',\n",
       " 'repatriated',\n",
       " 'level0Gid',\n",
       " 'level0Name',\n",
       " 'level1Gid',\n",
       " 'level1Name',\n",
       " 'level2Gid',\n",
       " 'level2Name',\n",
       " 'iucnRedListCategory',\n",
       " 'month_name']"
      ]
     },
     "execution_count": 4,
     "metadata": {},
     "output_type": "execute_result"
    }
   ],
   "source": [
    "obs.columns.tolist()"
   ]
  },
  {
   "cell_type": "code",
   "execution_count": 33,
   "id": "8a942465",
   "metadata": {},
   "outputs": [
    {
     "data": {
      "text/plain": [
       "Amanita muscaria (L.) Lam.                                         30491\n",
       "Trametes versicolor (L.) Lloyd                                     24549\n",
       "Xanthoria parietina (L.) Beltr., 1858                              21646\n",
       "Cerioporus squamosus (Huds.) Quél.                                 20033\n",
       "Coprinus comatus (O.F.Müll.) Pers.                                 20009\n",
       "                                                                   ...  \n",
       "Wallemia mellicola S.Jančič, H.D.T.Nguyen, Seifert & Gunde-Cim.        1\n",
       "Baorangia rufomaculata (Both) Raspé & Vadthanarat                      1\n",
       "Pseudocercospora musicola U.Braun                                      1\n",
       "Gymnopilus crociphyllus (Sacc.) Pegler                                 1\n",
       "Lachnella Fr.                                                          1\n",
       "Name: scientificName, Length: 12924, dtype: int64"
      ]
     },
     "execution_count": 33,
     "metadata": {},
     "output_type": "execute_result"
    }
   ],
   "source": [
    "# Number of unique species within observations\n",
    "taxon_vc = obs[\"scientificName\"].value_counts()\n",
    "taxon_vc"
   ]
  },
  {
   "cell_type": "code",
   "execution_count": 34,
   "id": "123278ef",
   "metadata": {},
   "outputs": [
    {
     "data": {
      "text/plain": [
       "<AxesSubplot: >"
      ]
     },
     "execution_count": 34,
     "metadata": {},
     "output_type": "execute_result"
    },
    {
     "data": {
      "image/png": "[encoded data removed]",
      "text/plain": [
       "<Figure size 640x480 with 1 Axes>"
      ]
     },
     "metadata": {},
     "output_type": "display_data"
    }
   ],
   "source": [
    "# Distribution of observations per species\n",
    "\n",
    "# obs['taxonID'].hist() # <-- not a very good depction as taxonID is not a numerical value\n",
    "taxon_vc.sort_values().hist( bins = 200 )\n",
    "# x axis is essetially meaningless? but this does show the distribution of value counts"
   ]
  },
  {
   "cell_type": "code",
   "execution_count": 35,
   "id": "0b3231c7",
   "metadata": {},
   "outputs": [
    {
     "data": {
      "text/plain": [
       "[<matplotlib.lines.Line2D at 0x7f6035fcda20>]"
      ]
     },
     "execution_count": 35,
     "metadata": {},
     "output_type": "execute_result"
    },
    {
     "data": {
      "image/png": "[encoded data removed]",
      "text/plain": [
       "<Figure size 640x480 with 1 Axes>"
      ]
     },
     "metadata": {},
     "output_type": "display_data"
    }
   ],
   "source": [
    "# plot counts on a 1D line graph\n",
    "import matplotlib.pyplot as pp\n",
    "pp.plot(taxon_vc, len(taxon_vc) * [1], \"x\")  # is there a way to do a 1-dimensional plot within pandas?"
   ]
  },
  {
   "cell_type": "code",
   "execution_count": 36,
   "id": "b567742e",
   "metadata": {},
   "outputs": [
    {
     "data": {
      "text/plain": [
       "(32,)"
      ]
     },
     "execution_count": 36,
     "metadata": {},
     "output_type": "execute_result"
    }
   ],
   "source": [
    "taxon_vc[ taxon_vc > 5000 ].shape"
   ]
  },
  {
   "cell_type": "code",
   "execution_count": 37,
   "id": "f7bf6d1f",
   "metadata": {},
   "outputs": [
    {
     "data": {
      "text/plain": [
       "(9,)"
      ]
     },
     "execution_count": 37,
     "metadata": {},
     "output_type": "execute_result"
    }
   ],
   "source": [
    "taxon_vc[ taxon_vc > 10000 ].shape"
   ]
  },
  {
   "cell_type": "code",
   "execution_count": 38,
   "id": "6b1f536c",
   "metadata": {},
   "outputs": [
    {
     "data": {
      "text/plain": [
       "(12892,)"
      ]
     },
     "execution_count": 38,
     "metadata": {},
     "output_type": "execute_result"
    }
   ],
   "source": [
    "taxon_vc[ taxon_vc < 5000 ].shape # note the '<' (less than)"
   ]
  },
  {
   "cell_type": "code",
   "execution_count": 39,
   "id": "85498806",
   "metadata": {},
   "outputs": [
    {
     "data": {
      "text/plain": [
       "(109,)"
      ]
     },
     "execution_count": 39,
     "metadata": {},
     "output_type": "execute_result"
    }
   ],
   "source": [
    "taxon_vc[ taxon_vc > 2500 ].shape"
   ]
  },
  {
   "cell_type": "code",
   "execution_count": 40,
   "id": "63056286",
   "metadata": {},
   "outputs": [
    {
     "data": {
      "text/plain": [
       "(304,)"
      ]
     },
     "execution_count": 40,
     "metadata": {},
     "output_type": "execute_result"
    }
   ],
   "source": [
    "taxon_vc[ taxon_vc > 1000 ].shape"
   ]
  },
  {
   "cell_type": "markdown",
   "id": "a738c5dc",
   "metadata": {},
   "source": [
    "* First of all, how would I better show this distribution? a histogram sorted by value? there would be too many indiviual items in the x dimension. Also, I \n",
    "* It looks like there are only 32 species with more than 5000 observations, which is OK.\n",
    "  * How many observations per species do we need? Assume one observation equates to 1-4 images of the species (actual data is in the 'multimedia.txt' TSV file which I have yet to explore)\n",
    "    * This should answer the question of: \"How many species can we effectively include in our model?\""
   ]
  }
 ],
 "metadata": {
  "kernelspec": {
   "display_name": "Python [conda env:.conda-fungi] *",
   "language": "python",
   "name": "conda-env-.conda-fungi-py"
  },
  "language_info": {
   "codemirror_mode": {
    "name": "ipython",
    "version": 3
   },
   "file_extension": ".py",
   "mimetype": "text/x-python",
   "name": "python",
   "nbconvert_exporter": "python",
   "pygments_lexer": "ipython3",
   "version": "3.10.6"
  }
 },
 "nbformat": 4,
 "nbformat_minor": 5
}
