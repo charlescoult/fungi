{
 "cells": [
  {
   "cell_type": "code",
   "execution_count": 2,
   "id": "0f573ab3-5c47-4e9d-9ed2-04700ed75189",
   "metadata": {},
   "outputs": [],
   "source": [
    "import pandas as pd"
   ]
  },
  {
   "cell_type": "code",
   "execution_count": 3,
   "id": "3eaee749-aa8a-49e2-8497-519994206dff",
   "metadata": {},
   "outputs": [],
   "source": [
    "media = pd.read_hdf(\"clean_data.h5\", 'media_merged')"
   ]
  },
  {
   "cell_type": "code",
   "execution_count": 4,
   "id": "fa9e9a73-f6c2-467c-85d2-a7eb8ebd6fa5",
   "metadata": {},
   "outputs": [
    {
     "data": {
      "text/plain": [
       "['gbifID',\n",
       " 'format',\n",
       " 'identifier_media',\n",
       " 'identifier_obs',\n",
       " 'eventDate',\n",
       " 'decimalLatitude',\n",
       " 'decimalLongitude',\n",
       " 'taxonID',\n",
       " 'taxonRank',\n",
       " 'taxonomicStatus',\n",
       " 'taxonKey',\n",
       " 'acceptedTaxonKey',\n",
       " 'phylumKey',\n",
       " 'classKey',\n",
       " 'orderKey',\n",
       " 'familyKey',\n",
       " 'genusKey',\n",
       " 'speciesKey',\n",
       " 'species',\n",
       " 'acceptedScientificName',\n",
       " 'verbatimScientificName']"
      ]
     },
     "execution_count": 4,
     "metadata": {},
     "output_type": "execute_result"
    }
   ],
   "source": [
    "media.columns.tolist()"
   ]
  },
  {
   "cell_type": "code",
   "execution_count": 5,
   "id": "29770353-a74e-4662-9540-20fbb5159859",
   "metadata": {},
   "outputs": [],
   "source": [
    "vcs = media['taxonID'].value_counts()"
   ]
  },
  {
   "cell_type": "code",
   "execution_count": 6,
   "id": "c6d0bcb1-c9ac-43e3-99b6-bf01e4525747",
   "metadata": {},
   "outputs": [
    {
     "data": {
      "text/plain": [
       "(2803519, 21)"
      ]
     },
     "execution_count": 6,
     "metadata": {},
     "output_type": "execute_result"
    }
   ],
   "source": [
    "media.shape"
   ]
  },
  {
   "cell_type": "code",
   "execution_count": 7,
   "id": "f694cc46-a47d-4d81-a8c0-fd60f7a73d00",
   "metadata": {},
   "outputs": [
    {
     "data": {
      "text/plain": [
       "(13149,)"
      ]
     },
     "execution_count": 7,
     "metadata": {},
     "output_type": "execute_result"
    }
   ],
   "source": [
    "vcs.shape"
   ]
  },
  {
   "cell_type": "code",
   "execution_count": 8,
   "id": "75082526-11ba-4ecb-bc39-d521352fb4a8",
   "metadata": {},
   "outputs": [
    {
     "data": {
      "text/plain": [
       "48715     48118\n",
       "54134     43873\n",
       "940028    34638\n",
       "54573     33455\n",
       "47392     32911\n",
       "Name: taxonID, dtype: int64"
      ]
     },
     "execution_count": 8,
     "metadata": {},
     "output_type": "execute_result"
    }
   ],
   "source": [
    "vcs.head()"
   ]
  },
  {
   "cell_type": "code",
   "execution_count": 9,
   "id": "1ab02e91-463f-42f6-bdbe-300517b19d22",
   "metadata": {},
   "outputs": [],
   "source": [
    "media['media_count_per_taxonID'] = media['taxonID'].map( vcs )\n"
   ]
  },
  {
   "cell_type": "code",
   "execution_count": 10,
   "id": "6c7dd581-a6e8-4b82-991a-7e32fb2d329e",
   "metadata": {},
   "outputs": [
    {
     "data": {
      "text/plain": [
       "<AxesSubplot: >"
      ]
     },
     "execution_count": 10,
     "metadata": {},
     "output_type": "execute_result"
    },
    {
     "data": {
      "image/png": "[encoded data removed]",
      "text/plain": [
       "<Figure size 640x480 with 1 Axes>"
      ]
     },
     "metadata": {},
     "output_type": "display_data"
    }
   ],
   "source": [
    "media['media_count_per_taxonID'].hist(bins=120)"
   ]
  },
  {
   "cell_type": "code",
   "execution_count": 11,
   "id": "3b8bc5b4-c5d6-4d7c-afcd-b3bdbc575115",
   "metadata": {},
   "outputs": [
    {
     "data": {
      "text/plain": [
       "(2779030, 22)"
      ]
     },
     "execution_count": 11,
     "metadata": {},
     "output_type": "execute_result"
    }
   ],
   "source": [
    "media[ media['media_count_per_taxonID'] > 10 ].shape"
   ]
  },
  {
   "cell_type": "code",
   "execution_count": 12,
   "id": "2608556b-c16f-4e2f-a2cb-36895808c65f",
   "metadata": {},
   "outputs": [
    {
     "data": {
      "text/plain": [
       "(7355,)"
      ]
     },
     "execution_count": 12,
     "metadata": {},
     "output_type": "execute_result"
    }
   ],
   "source": [
    "media[ media['media_count_per_taxonID'] > 10 ]['taxonID'].value_counts().shape"
   ]
  },
  {
   "cell_type": "code",
   "execution_count": 13,
   "id": "a31cb941-2f89-442a-8b4b-7067f0ac13e7",
   "metadata": {},
   "outputs": [
    {
     "data": {
      "text/plain": [
       "(3637,)"
      ]
     },
     "execution_count": 13,
     "metadata": {},
     "output_type": "execute_result"
    }
   ],
   "source": [
    "media[ media['media_count_per_taxonID'] > 50 ]['taxonID'].value_counts().shape"
   ]
  },
  {
   "cell_type": "code",
   "execution_count": 14,
   "id": "69d411fd-e2f5-4e4e-bffe-b0190fb37005",
   "metadata": {},
   "outputs": [
    {
     "data": {
      "text/plain": [
       "(2507,)"
      ]
     },
     "execution_count": 14,
     "metadata": {},
     "output_type": "execute_result"
    }
   ],
   "source": [
    "media[ media['media_count_per_taxonID'] > 100 ]['taxonID'].value_counts().shape"
   ]
  },
  {
   "cell_type": "code",
   "execution_count": 15,
   "id": "1a29eb86",
   "metadata": {},
   "outputs": [
    {
     "data": {
      "text/plain": [
       "(1702,)"
      ]
     },
     "execution_count": 15,
     "metadata": {},
     "output_type": "execute_result"
    }
   ],
   "source": [
    "media[ media['media_count_per_taxonID'] > 200]['taxonID'].value_counts().shape"
   ]
  },
  {
   "cell_type": "code",
   "execution_count": 16,
   "id": "efd2486e",
   "metadata": {},
   "outputs": [
    {
     "data": {
      "text/plain": [
       "(1310,)"
      ]
     },
     "execution_count": 16,
     "metadata": {},
     "output_type": "execute_result"
    }
   ],
   "source": [
    "media[ media['media_count_per_taxonID'] > 300]['taxonID'].value_counts().shape"
   ]
  },
  {
   "cell_type": "code",
   "execution_count": 17,
   "id": "3a81d554-8396-4f56-902d-6b99def73ff8",
   "metadata": {},
   "outputs": [],
   "source": [
    "# media[ media['media_count_per_taxonID'] > 100 ].to_hdf( 'clean_data.h5' , 'media_merged_filtered-by-species' )"
   ]
  },
  {
   "cell_type": "code",
   "execution_count": 32,
   "id": "0587f0eb-9ebd-4361-addb-efbd7a9089c3",
   "metadata": {},
   "outputs": [],
   "source": [
    "# I downloaded 8,927 images and they totaled 13836428 bytes\n",
    "bpi = 14150122597/8927\n",
    "gpi = bpi/(1024**3)"
   ]
  },
  {
   "cell_type": "code",
   "execution_count": 33,
   "id": "9257ad78-2d9b-4555-a2d1-5b4a6565bd44",
   "metadata": {},
   "outputs": [
    {
     "data": {
      "text/plain": [
       "3851.5337190798837"
      ]
     },
     "execution_count": 33,
     "metadata": {},
     "output_type": "execute_result"
    }
   ],
   "source": [
    "gpi*media[ media['media_count_per_taxonID'] > 100 ].shape[0]"
   ]
  },
  {
   "cell_type": "code",
   "execution_count": 37,
   "id": "2b10b39a",
   "metadata": {},
   "outputs": [
    {
     "data": {
      "text/plain": [
       "3332.1537484791593"
      ]
     },
     "execution_count": 37,
     "metadata": {},
     "output_type": "execute_result"
    }
   ],
   "source": [
    "gpi*media[ media['media_count_per_taxonID'] > 500 ].shape[0]"
   ]
  },
  {
   "cell_type": "code",
   "execution_count": 50,
   "id": "e3436e44-556b-493e-96be-cdf63cee4c1c",
   "metadata": {},
   "outputs": [
    {
     "data": {
      "text/plain": [
       "(2609029, 22)"
      ]
     },
     "execution_count": 50,
     "metadata": {},
     "output_type": "execute_result"
    }
   ],
   "source": [
    "media[ media['media_count_per_taxonID'] > 100 ].shape"
   ]
  },
  {
   "cell_type": "code",
   "execution_count": 69,
   "id": "5a9eed82-4e22-46bc-b3d0-21ba5028e705",
   "metadata": {},
   "outputs": [
    {
     "data": {
      "text/plain": [
       "48118    48118\n",
       "43873    43873\n",
       "34638    34638\n",
       "33455    33455\n",
       "32911    32911\n",
       "         ...  \n",
       "290        290\n",
       "133        266\n",
       "264        264\n",
       "253        253\n",
       "206        206\n",
       "Name: media_count_per_taxonID, Length: 1126, dtype: int64"
      ]
     },
     "execution_count": 69,
     "metadata": {},
     "output_type": "execute_result"
    }
   ],
   "source": [
    "media[ media['media_count_per_taxonID'] > 100 ]['media_count_per_taxonID'].value_counts()"
   ]
  },
  {
   "cell_type": "code",
   "execution_count": 70,
   "id": "0c6adaee-b8ca-49cb-a2a2-0acf856c07d7",
   "metadata": {},
   "outputs": [],
   "source": [
    "# Only use taxonIDs with more than 100 images\n",
    "limit = media[\n",
    "    ( media['media_count_per_taxonID'] > 100 )\n",
    "]"
   ]
  },
  {
   "cell_type": "code",
   "execution_count": 91,
   "id": "b594100c-d43b-43ef-9ad9-77890524ea8b",
   "metadata": {},
   "outputs": [],
   "source": [
    "# limit number of images per taxonID to 4000\n",
    "limit2 = limit.groupby(by='taxonID').head(350)"
   ]
  },
  {
   "cell_type": "code",
   "execution_count": 92,
   "id": "617ef251-8a09-4566-9299-5e2aa080712a",
   "metadata": {},
   "outputs": [
    {
     "name": "stdout",
     "output_type": "stream",
     "text": [
      "48715     48118\n",
      "54134     43873\n",
      "940028    34638\n",
      "54573     33455\n",
      "47392     32911\n",
      "          ...  \n",
      "559228      101\n",
      "350940      101\n",
      "118362      101\n",
      "463481      101\n",
      "475193      101\n",
      "Name: taxonID, Length: 2507, dtype: int64\n",
      "2609029\n",
      "\n",
      "147221     350\n",
      "119998     350\n",
      "194373     350\n",
      "1111865    350\n",
      "123789     350\n",
      "          ... \n",
      "203657     101\n",
      "1218680    101\n",
      "332680     101\n",
      "559228     101\n",
      "1074029    101\n",
      "Name: taxonID, Length: 2507, dtype: int64\n",
      "665803\n",
      "\n",
      "1943226\n",
      "0.7448081259349743\n"
     ]
    }
   ],
   "source": [
    "# verifying that this did what we wanted and kept all taxonIDs but limited the number of rows for each taxonID\n",
    "print(limit['taxonID'].value_counts())\n",
    "print(limit.shape[0])\n",
    "print()\n",
    "print(limit2['taxonID'].value_counts())\n",
    "print(limit2.shape[0])\n",
    "print()\n",
    "print(limit.shape[0] - limit2.shape[0])\n",
    "print((limit.shape[0] - limit2.shape[0])/limit.shape[0])"
   ]
  },
  {
   "cell_type": "code",
   "execution_count": 93,
   "id": "b38f0d11-3eac-49ae-ad78-5d668645922b",
   "metadata": {},
   "outputs": [
    {
     "data": {
      "text/plain": [
       "982.8801077966339"
      ]
     },
     "execution_count": 93,
     "metadata": {},
     "output_type": "execute_result"
    }
   ],
   "source": [
    "gpi*limit2.shape[0]"
   ]
  },
  {
   "cell_type": "code",
   "execution_count": 94,
   "id": "bc90f61e-9312-41f0-9fcd-4620d2499d41",
   "metadata": {},
   "outputs": [
    {
     "name": "stderr",
     "output_type": "stream",
     "text": [
      "/home/charlescoult/.conda/envs/fungi/lib/python3.10/site-packages/tables/path.py:137: NaturalNameWarning: object name is not a valid Python identifier: 'media_merged_filtered-by-species_350pt'; it does not match the pattern ``^[a-zA-Z_][a-zA-Z0-9_]*$``; you will not be able to use natural naming to access this object; using ``getattr()`` will still work, though\n",
      "  check_attribute_name(name)\n",
      "/tmp/ipykernel_1850/2114062110.py:1: PerformanceWarning: \n",
      "your performance may suffer as PyTables will pickle object types that it cannot\n",
      "map directly to c-types [inferred_type->mixed,key->block3_values] [items->Index(['format', 'identifier_media', 'taxonRank', 'taxonomicStatus', 'species',\n",
      "       'acceptedScientificName', 'verbatimScientificName'],\n",
      "      dtype='object')]\n",
      "\n",
      "  limit2.to_hdf( 'clean_data.h5' , 'media_merged_filtered-by-species_350pt' )\n"
     ]
    }
   ],
   "source": [
    "limit2.to_hdf( 'clean_data.h5' , 'media_merged_filtered-by-species_350pt' )"
   ]
  },
  {
   "cell_type": "code",
   "execution_count": null,
   "id": "f8e3f975-a403-406f-b7f5-f620b21efaaf",
   "metadata": {},
   "outputs": [],
   "source": []
  }
 ],
 "metadata": {
  "kernelspec": {
   "display_name": "Python [conda env:.conda-fungi] *",
   "language": "python",
   "name": "conda-env-.conda-fungi-py"
  },
  "language_info": {
   "codemirror_mode": {
    "name": "ipython",
    "version": 3
   },
   "file_extension": ".py",
   "mimetype": "text/x-python",
   "name": "python",
   "nbconvert_exporter": "python",
   "pygments_lexer": "ipython3",
   "version": "3.10.8"
  }
 },
 "nbformat": 4,
 "nbformat_minor": 5
}
