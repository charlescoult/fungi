{
 "cells": [
  {
   "cell_type": "code",
   "execution_count": 1,
   "id": "a385f05f",
   "metadata": {},
   "outputs": [],
   "source": [
    "import pandas as pd"
   ]
  },
  {
   "cell_type": "code",
   "execution_count": 5,
   "id": "8b4bb647",
   "metadata": {},
   "outputs": [
    {
     "name": "stdout",
     "output_type": "stream",
     "text": [
      "['/media', '/media_merged', '/obs', '/obs2']\n"
     ]
    }
   ],
   "source": [
    "# pd.read_hdf('clean_data.h5')\n",
    "with pd.HDFStore('clean_data.h5') as hdf:\n",
    "    print( hdf.keys() )"
   ]
  },
  {
   "cell_type": "code",
   "execution_count": 11,
   "id": "777ba980",
   "metadata": {},
   "outputs": [],
   "source": [
    "media_df = pd.read_hdf('clean_data.h5', '/media')"
   ]
  },
  {
   "cell_type": "code",
   "execution_count": 12,
   "id": "5f8409bb",
   "metadata": {},
   "outputs": [
    {
     "data": {
      "text/plain": [
       "['gbifID', 'format', 'identifier']"
      ]
     },
     "execution_count": 12,
     "metadata": {},
     "output_type": "execute_result"
    }
   ],
   "source": [
    "media_df.columns.tolist()"
   ]
  },
  {
   "cell_type": "markdown",
   "id": "dbb3a57c",
   "metadata": {},
   "source": [
    "# AWS Rekognition"
   ]
  },
  {
   "cell_type": "markdown",
   "id": "10d4c238",
   "metadata": {},
   "source": [
    "## Label detection"
   ]
  },
  {
   "cell_type": "markdown",
   "id": "758f148f",
   "metadata": {},
   "source": [
    "## Image properties"
   ]
  },
  {
   "cell_type": "markdown",
   "id": "12d73bff",
   "metadata": {},
   "source": [
    "## Label detection"
   ]
  },
  {
   "cell_type": "code",
   "execution_count": null,
   "id": "5a8acc5b",
   "metadata": {},
   "outputs": [],
   "source": []
  }
 ],
 "metadata": {
  "kernelspec": {
   "display_name": "Python [conda env:.conda-fungi] *",
   "language": "python",
   "name": "conda-env-.conda-fungi-py"
  },
  "language_info": {
   "codemirror_mode": {
    "name": "ipython",
    "version": 3
   },
   "file_extension": ".py",
   "mimetype": "text/x-python",
   "name": "python",
   "nbconvert_exporter": "python",
   "pygments_lexer": "ipython3",
   "version": "3.10.6"
  }
 },
 "nbformat": 4,
 "nbformat_minor": 5
}
