{
 "cells": [
  {
   "cell_type": "code",
   "execution_count": 1,
   "id": "2ad4fdcb",
   "metadata": {},
   "outputs": [],
   "source": [
    "import pandas as pd"
   ]
  },
  {
   "cell_type": "code",
   "execution_count": 2,
   "id": "ff9583fb",
   "metadata": {},
   "outputs": [],
   "source": [
    "media = pd.read_hdf('/mnt/gbif/clean_data.h5', 'media_merged_filtered-by-species_350pt')"
   ]
  },
  {
   "cell_type": "code",
   "execution_count": 3,
   "id": "a4955550",
   "metadata": {},
   "outputs": [],
   "source": [
    "from parallel_download import download"
   ]
  },
  {
   "cell_type": "code",
   "execution_count": 4,
   "id": "00c0d366",
   "metadata": {},
   "outputs": [],
   "source": [
    "import mimetypes as mt"
   ]
  },
  {
   "cell_type": "code",
   "execution_count": 5,
   "id": "99364bf0",
   "metadata": {},
   "outputs": [],
   "source": [
    "mt.add_type('image/pjpeg', '.jpg')"
   ]
  },
  {
   "cell_type": "code",
   "execution_count": 6,
   "id": "ffc5f612",
   "metadata": {},
   "outputs": [],
   "source": [
    "media['extension'] = media['format'].map(lambda x: mt.guess_extension(x, strict=False))"
   ]
  },
  {
   "cell_type": "code",
   "execution_count": 7,
   "id": "a0f8e58e",
   "metadata": {},
   "outputs": [
    {
     "data": {
      "text/plain": [
       ".jpg    663805\n",
       ".png      1991\n",
       ".gif         7\n",
       "Name: extension, dtype: int64"
      ]
     },
     "execution_count": 7,
     "metadata": {},
     "output_type": "execute_result"
    }
   ],
   "source": [
    "media['extension'].value_counts(dropna=False)"
   ]
  },
  {
   "cell_type": "code",
   "execution_count": null,
   "id": "f94489fb",
   "metadata": {},
   "outputs": [],
   "source": []
  },
  {
   "cell_type": "code",
   "execution_count": 8,
   "id": "5fd78a1a",
   "metadata": {},
   "outputs": [
    {
     "data": {
      "text/plain": [
       "665803"
      ]
     },
     "execution_count": 8,
     "metadata": {},
     "output_type": "execute_result"
    }
   ],
   "source": [
    "len(media)"
   ]
  },
  {
   "cell_type": "code",
   "execution_count": 9,
   "id": "db748c2b",
   "metadata": {},
   "outputs": [
    {
     "name": "stdout",
     "output_type": "stream",
     "text": [
      "/mnt/gbif/media/232.jpg - 232\n",
      "/mnt/gbif/media/576025.jpg - 576025\n"
     ]
    },
    {
     "data": {
      "text/plain": [
       "[232, 576025]"
      ]
     },
     "execution_count": 9,
     "metadata": {},
     "output_type": "execute_result"
    }
   ],
   "source": [
    "import os\n",
    "import io\n",
    "import sys\n",
    "import PIL\n",
    "\n",
    "\n",
    "errors = []\n",
    "\n",
    "for index, row in media.iterrows():\n",
    "    ext = row['extension']\n",
    "    filename = f'/mnt/gbif/media/{index}{ext}'\n",
    "        \n",
    "    try:\n",
    "        PIL.Image.open(filename).verify()\n",
    "    except PIL.Image.UnidentifiedImageError as err:\n",
    "        print(f'{filename} - {index}')\n",
    "        errors.append(index)\n",
    "        # os.rename(filename, f'{stem}.uie{extension}')\n",
    "        \n",
    "errors"
   ]
  },
  {
   "cell_type": "code",
   "execution_count": 10,
   "id": "3302208e",
   "metadata": {},
   "outputs": [],
   "source": [
    "with open('errors.4.txt', 'w') as err_file:\n",
    "    for error in errors:\n",
    "        err_file.write(f'{error}\\n')"
   ]
  },
  {
   "cell_type": "code",
   "execution_count": 11,
   "id": "4376ee5b",
   "metadata": {},
   "outputs": [],
   "source": [
    "errors_df = media[media.index.isin(errors)]"
   ]
  },
  {
   "cell_type": "code",
   "execution_count": 12,
   "id": "db34dea8",
   "metadata": {},
   "outputs": [
    {
     "data": {
      "text/plain": [
       "[232, 576025]"
      ]
     },
     "execution_count": 12,
     "metadata": {},
     "output_type": "execute_result"
    }
   ],
   "source": [
    "errors"
   ]
  },
  {
   "cell_type": "code",
   "execution_count": null,
   "id": "b88f7295",
   "metadata": {},
   "outputs": [],
   "source": []
  },
  {
   "cell_type": "code",
   "execution_count": null,
   "id": "a747cba6",
   "metadata": {},
   "outputs": [],
   "source": []
  },
  {
   "cell_type": "code",
   "execution_count": null,
   "id": "ae3a899c",
   "metadata": {},
   "outputs": [],
   "source": []
  },
  {
   "cell_type": "code",
   "execution_count": null,
   "id": "0e72aa96",
   "metadata": {},
   "outputs": [],
   "source": []
  },
  {
   "cell_type": "code",
   "execution_count": null,
   "id": "765d0468",
   "metadata": {},
   "outputs": [],
   "source": []
  },
  {
   "cell_type": "code",
   "execution_count": null,
   "id": "a74f775b",
   "metadata": {},
   "outputs": [],
   "source": []
  },
  {
   "cell_type": "code",
   "execution_count": null,
   "id": "21a2ab3a",
   "metadata": {},
   "outputs": [],
   "source": []
  }
 ],
 "metadata": {
  "kernelspec": {
   "display_name": "Python [conda env:.conda-fungi] *",
   "language": "python",
   "name": "conda-env-.conda-fungi-py"
  },
  "language_info": {
   "codemirror_mode": {
    "name": "ipython",
    "version": 3
   },
   "file_extension": ".py",
   "mimetype": "text/x-python",
   "name": "python",
   "nbconvert_exporter": "python",
   "pygments_lexer": "ipython3",
   "version": "3.10.9"
  }
 },
 "nbformat": 4,
 "nbformat_minor": 5
}
