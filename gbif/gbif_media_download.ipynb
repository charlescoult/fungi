{
 "cells": [
  {
   "cell_type": "code",
   "execution_count": 2,
   "id": "2ad4fdcb",
   "metadata": {},
   "outputs": [],
   "source": [
    "import pandas as pd"
   ]
  },
  {
   "cell_type": "code",
   "execution_count": 3,
   "id": "ff9583fb",
   "metadata": {},
   "outputs": [],
   "source": [
    "media = pd.read_hdf('clean_data.h5', 'media_merged')"
   ]
  },
  {
   "cell_type": "code",
   "execution_count": 4,
   "id": "8c968f05",
   "metadata": {},
   "outputs": [
    {
     "data": {
      "text/html": [
       "<div>\n",
       "<style scoped>\n",
       "    .dataframe tbody tr th:only-of-type {\n",
       "        vertical-align: middle;\n",
       "    }\n",
       "\n",
       "    .dataframe tbody tr th {\n",
       "        vertical-align: top;\n",
       "    }\n",
       "\n",
       "    .dataframe thead th {\n",
       "        text-align: right;\n",
       "    }\n",
       "</style>\n",
       "<table border=\"1\" class=\"dataframe\">\n",
       "  <thead>\n",
       "    <tr style=\"text-align: right;\">\n",
       "      <th></th>\n",
       "      <th>gbifID</th>\n",
       "      <th>format</th>\n",
       "      <th>identifier_media</th>\n",
       "      <th>identifier_obs</th>\n",
       "      <th>eventDate</th>\n",
       "      <th>decimalLatitude</th>\n",
       "      <th>decimalLongitude</th>\n",
       "      <th>taxonID</th>\n",
       "      <th>taxonRank</th>\n",
       "      <th>taxonomicStatus</th>\n",
       "      <th>...</th>\n",
       "      <th>acceptedTaxonKey</th>\n",
       "      <th>phylumKey</th>\n",
       "      <th>classKey</th>\n",
       "      <th>orderKey</th>\n",
       "      <th>familyKey</th>\n",
       "      <th>genusKey</th>\n",
       "      <th>speciesKey</th>\n",
       "      <th>species</th>\n",
       "      <th>acceptedScientificName</th>\n",
       "      <th>verbatimScientificName</th>\n",
       "    </tr>\n",
       "  </thead>\n",
       "  <tbody>\n",
       "    <tr>\n",
       "      <th>0</th>\n",
       "      <td>891021265</td>\n",
       "      <td>image/jpeg</td>\n",
       "      <td>https://inaturalist-open-data.s3.amazonaws.com...</td>\n",
       "      <td>119647</td>\n",
       "      <td>2012-08-31</td>\n",
       "      <td>38.036174</td>\n",
       "      <td>-122.755828</td>\n",
       "      <td>147221</td>\n",
       "      <td>SPECIES</td>\n",
       "      <td>ACCEPTED</td>\n",
       "      <td>...</td>\n",
       "      <td>2608086</td>\n",
       "      <td>95.0</td>\n",
       "      <td>180.0</td>\n",
       "      <td>1048.0</td>\n",
       "      <td>4812.0</td>\n",
       "      <td>8360956.0</td>\n",
       "      <td>2608086.0</td>\n",
       "      <td>Niebla homalea</td>\n",
       "      <td>Niebla homalea (Ach.) Rundel &amp; Bowler</td>\n",
       "      <td>Niebla homalea</td>\n",
       "    </tr>\n",
       "    <tr>\n",
       "      <th>1</th>\n",
       "      <td>891023450</td>\n",
       "      <td>image/jpeg</td>\n",
       "      <td>https://inaturalist-open-data.s3.amazonaws.com...</td>\n",
       "      <td>240501</td>\n",
       "      <td>2013-04-18</td>\n",
       "      <td>38.612044</td>\n",
       "      <td>-122.781814</td>\n",
       "      <td>203092</td>\n",
       "      <td>SPECIES</td>\n",
       "      <td>ACCEPTED</td>\n",
       "      <td>...</td>\n",
       "      <td>2609427</td>\n",
       "      <td>95.0</td>\n",
       "      <td>180.0</td>\n",
       "      <td>10861608.0</td>\n",
       "      <td>8369.0</td>\n",
       "      <td>2609402.0</td>\n",
       "      <td>2609427.0</td>\n",
       "      <td>Physconia isidiigera</td>\n",
       "      <td>Physconia isidiigera Essl.</td>\n",
       "      <td>Physconia isidiigera</td>\n",
       "    </tr>\n",
       "    <tr>\n",
       "      <th>2</th>\n",
       "      <td>891023450</td>\n",
       "      <td>image/jpeg</td>\n",
       "      <td>https://inaturalist-open-data.s3.amazonaws.com...</td>\n",
       "      <td>240501</td>\n",
       "      <td>2013-04-18</td>\n",
       "      <td>38.612044</td>\n",
       "      <td>-122.781814</td>\n",
       "      <td>203092</td>\n",
       "      <td>SPECIES</td>\n",
       "      <td>ACCEPTED</td>\n",
       "      <td>...</td>\n",
       "      <td>2609427</td>\n",
       "      <td>95.0</td>\n",
       "      <td>180.0</td>\n",
       "      <td>10861608.0</td>\n",
       "      <td>8369.0</td>\n",
       "      <td>2609402.0</td>\n",
       "      <td>2609427.0</td>\n",
       "      <td>Physconia isidiigera</td>\n",
       "      <td>Physconia isidiigera Essl.</td>\n",
       "      <td>Physconia isidiigera</td>\n",
       "    </tr>\n",
       "    <tr>\n",
       "      <th>3</th>\n",
       "      <td>891023450</td>\n",
       "      <td>image/jpeg</td>\n",
       "      <td>https://inaturalist-open-data.s3.amazonaws.com...</td>\n",
       "      <td>240501</td>\n",
       "      <td>2013-04-18</td>\n",
       "      <td>38.612044</td>\n",
       "      <td>-122.781814</td>\n",
       "      <td>203092</td>\n",
       "      <td>SPECIES</td>\n",
       "      <td>ACCEPTED</td>\n",
       "      <td>...</td>\n",
       "      <td>2609427</td>\n",
       "      <td>95.0</td>\n",
       "      <td>180.0</td>\n",
       "      <td>10861608.0</td>\n",
       "      <td>8369.0</td>\n",
       "      <td>2609402.0</td>\n",
       "      <td>2609427.0</td>\n",
       "      <td>Physconia isidiigera</td>\n",
       "      <td>Physconia isidiigera Essl.</td>\n",
       "      <td>Physconia isidiigera</td>\n",
       "    </tr>\n",
       "    <tr>\n",
       "      <th>4</th>\n",
       "      <td>891023450</td>\n",
       "      <td>image/jpeg</td>\n",
       "      <td>https://inaturalist-open-data.s3.amazonaws.com...</td>\n",
       "      <td>240501</td>\n",
       "      <td>2013-04-18</td>\n",
       "      <td>38.612044</td>\n",
       "      <td>-122.781814</td>\n",
       "      <td>203092</td>\n",
       "      <td>SPECIES</td>\n",
       "      <td>ACCEPTED</td>\n",
       "      <td>...</td>\n",
       "      <td>2609427</td>\n",
       "      <td>95.0</td>\n",
       "      <td>180.0</td>\n",
       "      <td>10861608.0</td>\n",
       "      <td>8369.0</td>\n",
       "      <td>2609402.0</td>\n",
       "      <td>2609427.0</td>\n",
       "      <td>Physconia isidiigera</td>\n",
       "      <td>Physconia isidiigera Essl.</td>\n",
       "      <td>Physconia isidiigera</td>\n",
       "    </tr>\n",
       "  </tbody>\n",
       "</table>\n",
       "<p>5 rows × 21 columns</p>\n",
       "</div>"
      ],
      "text/plain": [
       "      gbifID      format                                   identifier_media  \\\n",
       "0  891021265  image/jpeg  https://inaturalist-open-data.s3.amazonaws.com...   \n",
       "1  891023450  image/jpeg  https://inaturalist-open-data.s3.amazonaws.com...   \n",
       "2  891023450  image/jpeg  https://inaturalist-open-data.s3.amazonaws.com...   \n",
       "3  891023450  image/jpeg  https://inaturalist-open-data.s3.amazonaws.com...   \n",
       "4  891023450  image/jpeg  https://inaturalist-open-data.s3.amazonaws.com...   \n",
       "\n",
       "   identifier_obs  eventDate  decimalLatitude  decimalLongitude  taxonID  \\\n",
       "0          119647 2012-08-31        38.036174       -122.755828   147221   \n",
       "1          240501 2013-04-18        38.612044       -122.781814   203092   \n",
       "2          240501 2013-04-18        38.612044       -122.781814   203092   \n",
       "3          240501 2013-04-18        38.612044       -122.781814   203092   \n",
       "4          240501 2013-04-18        38.612044       -122.781814   203092   \n",
       "\n",
       "  taxonRank taxonomicStatus  ...  acceptedTaxonKey  phylumKey  classKey  \\\n",
       "0   SPECIES        ACCEPTED  ...           2608086       95.0     180.0   \n",
       "1   SPECIES        ACCEPTED  ...           2609427       95.0     180.0   \n",
       "2   SPECIES        ACCEPTED  ...           2609427       95.0     180.0   \n",
       "3   SPECIES        ACCEPTED  ...           2609427       95.0     180.0   \n",
       "4   SPECIES        ACCEPTED  ...           2609427       95.0     180.0   \n",
       "\n",
       "     orderKey  familyKey   genusKey  speciesKey               species  \\\n",
       "0      1048.0     4812.0  8360956.0   2608086.0        Niebla homalea   \n",
       "1  10861608.0     8369.0  2609402.0   2609427.0  Physconia isidiigera   \n",
       "2  10861608.0     8369.0  2609402.0   2609427.0  Physconia isidiigera   \n",
       "3  10861608.0     8369.0  2609402.0   2609427.0  Physconia isidiigera   \n",
       "4  10861608.0     8369.0  2609402.0   2609427.0  Physconia isidiigera   \n",
       "\n",
       "                  acceptedScientificName verbatimScientificName  \n",
       "0  Niebla homalea (Ach.) Rundel & Bowler         Niebla homalea  \n",
       "1             Physconia isidiigera Essl.   Physconia isidiigera  \n",
       "2             Physconia isidiigera Essl.   Physconia isidiigera  \n",
       "3             Physconia isidiigera Essl.   Physconia isidiigera  \n",
       "4             Physconia isidiigera Essl.   Physconia isidiigera  \n",
       "\n",
       "[5 rows x 21 columns]"
      ]
     },
     "execution_count": 4,
     "metadata": {},
     "output_type": "execute_result"
    }
   ],
   "source": [
    "media.head()"
   ]
  },
  {
   "cell_type": "code",
   "execution_count": 5,
   "id": "8d722921",
   "metadata": {},
   "outputs": [
    {
     "data": {
      "text/plain": [
       "Int64Index([      0,       1,       2,       3,       4,       5,       6,\n",
       "                  7,       8,       9,\n",
       "            ...\n",
       "            2803509, 2803510, 2803511, 2803512, 2803513, 2803514, 2803515,\n",
       "            2803516, 2803517, 2803518],\n",
       "           dtype='int64', length=2803519)"
      ]
     },
     "execution_count": 5,
     "metadata": {},
     "output_type": "execute_result"
    }
   ],
   "source": [
    "media.index"
   ]
  },
  {
   "cell_type": "code",
   "execution_count": 6,
   "id": "aef08169",
   "metadata": {},
   "outputs": [
    {
     "data": {
      "text/plain": [
       "['gbifID',\n",
       " 'format',\n",
       " 'identifier_media',\n",
       " 'identifier_obs',\n",
       " 'eventDate',\n",
       " 'decimalLatitude',\n",
       " 'decimalLongitude',\n",
       " 'taxonID',\n",
       " 'taxonRank',\n",
       " 'taxonomicStatus',\n",
       " 'taxonKey',\n",
       " 'acceptedTaxonKey',\n",
       " 'phylumKey',\n",
       " 'classKey',\n",
       " 'orderKey',\n",
       " 'familyKey',\n",
       " 'genusKey',\n",
       " 'speciesKey',\n",
       " 'species',\n",
       " 'acceptedScientificName',\n",
       " 'verbatimScientificName']"
      ]
     },
     "execution_count": 6,
     "metadata": {},
     "output_type": "execute_result"
    }
   ],
   "source": [
    "media.columns.tolist()"
   ]
  },
  {
   "cell_type": "code",
   "execution_count": 7,
   "id": "c0a2ce87",
   "metadata": {},
   "outputs": [
    {
     "data": {
      "text/plain": [
       "0          https://inaturalist-open-data.s3.amazonaws.com...\n",
       "1          https://inaturalist-open-data.s3.amazonaws.com...\n",
       "2          https://inaturalist-open-data.s3.amazonaws.com...\n",
       "3          https://inaturalist-open-data.s3.amazonaws.com...\n",
       "4          https://inaturalist-open-data.s3.amazonaws.com...\n",
       "                                 ...                        \n",
       "2803514    https://inaturalist-open-data.s3.amazonaws.com...\n",
       "2803515    https://inaturalist-open-data.s3.amazonaws.com...\n",
       "2803516    https://inaturalist-open-data.s3.amazonaws.com...\n",
       "2803517    https://inaturalist-open-data.s3.amazonaws.com...\n",
       "2803518    https://inaturalist-open-data.s3.amazonaws.com...\n",
       "Name: identifier_media, Length: 2803519, dtype: object"
      ]
     },
     "execution_count": 7,
     "metadata": {},
     "output_type": "execute_result"
    }
   ],
   "source": [
    "media['identifier_media']"
   ]
  },
  {
   "cell_type": "code",
   "execution_count": 8,
   "id": "a4955550",
   "metadata": {},
   "outputs": [],
   "source": [
    "from parallel_download import download_parallel\n",
    "from parallel_download import download_sequential"
   ]
  },
  {
   "cell_type": "code",
   "execution_count": 9,
   "id": "898ea376",
   "metadata": {},
   "outputs": [],
   "source": [
    "# download_sequential( zip ( media['identifier_media'].to_numpy(), media.index.to_numpy() ) )"
   ]
  },
  {
   "cell_type": "code",
   "execution_count": 17,
   "id": "1989b863",
   "metadata": {},
   "outputs": [
    {
     "data": {
      "text/plain": [
       "0    https://inaturalist-open-data.s3.amazonaws.com/photos/170720/original.jpg\n",
       "1    https://inaturalist-open-data.s3.amazonaws.com/photos/300990/original.jpg\n",
       "2    https://inaturalist-open-data.s3.amazonaws.com/photos/300991/original.jpg\n",
       "3    https://inaturalist-open-data.s3.amazonaws.com/photos/300989/original.jpg\n",
       "4    https://inaturalist-open-data.s3.amazonaws.com/photos/305038/original.jpg\n",
       "Name: identifier_media, dtype: object"
      ]
     },
     "execution_count": 17,
     "metadata": {},
     "output_type": "execute_result"
    }
   ],
   "source": [
    "pd.set_option('display.max_colwidth', None)\n",
    "\n",
    "media['identifier_media'].head()"
   ]
  },
  {
   "cell_type": "code",
   "execution_count": null,
   "id": "72fd1c2f",
   "metadata": {},
   "outputs": [],
   "source": []
  }
 ],
 "metadata": {
  "kernelspec": {
   "display_name": "Python [conda env:.conda-fungi] *",
   "language": "python",
   "name": "conda-env-.conda-fungi-py"
  },
  "language_info": {
   "codemirror_mode": {
    "name": "ipython",
    "version": 3
   },
   "file_extension": ".py",
   "mimetype": "text/x-python",
   "name": "python",
   "nbconvert_exporter": "python",
   "pygments_lexer": "ipython3",
   "version": "3.10.6"
  }
 },
 "nbformat": 4,
 "nbformat_minor": 5
}
