{
 "cells": [
  {
   "cell_type": "code",
   "execution_count": 1,
   "id": "2ad4fdcb",
   "metadata": {},
   "outputs": [],
   "source": [
    "import pandas as pd"
   ]
  },
  {
   "cell_type": "code",
   "execution_count": 2,
   "id": "ff9583fb",
   "metadata": {},
   "outputs": [],
   "source": [
    "media = pd.read_hdf('clean_data.h5', 'media_merged_filtered-by-species_350pt')"
   ]
  },
  {
   "cell_type": "code",
   "execution_count": 4,
   "id": "a4955550",
   "metadata": {},
   "outputs": [],
   "source": [
    "from parallel_download import download"
   ]
  },
  {
   "cell_type": "code",
   "execution_count": 5,
   "id": "d0f16681",
   "metadata": {},
   "outputs": [],
   "source": [
    "import os\n",
    "if not os.path.exists('/mnt/media'):\n",
    "   os.makedirs('/mnt/media')"
   ]
  },
  {
   "cell_type": "code",
   "execution_count": 6,
   "id": "2f263263",
   "metadata": {},
   "outputs": [
    {
     "data": {
      "text/plain": [
       "image/jpeg     663784\n",
       "image/png        1991\n",
       "image/pjpeg        21\n",
       "image/gif           7\n",
       "Name: format, dtype: int64"
      ]
     },
     "execution_count": 6,
     "metadata": {},
     "output_type": "execute_result"
    }
   ],
   "source": [
    "media['format'].value_counts()"
   ]
  },
  {
   "cell_type": "code",
   "execution_count": 7,
   "id": "e0fd7e23",
   "metadata": {},
   "outputs": [
    {
     "data": {
      "text/plain": [
       "['gbifID',\n",
       " 'format',\n",
       " 'identifier_media',\n",
       " 'identifier_obs',\n",
       " 'eventDate',\n",
       " 'decimalLatitude',\n",
       " 'decimalLongitude',\n",
       " 'taxonID',\n",
       " 'taxonRank',\n",
       " 'taxonomicStatus',\n",
       " 'taxonKey',\n",
       " 'acceptedTaxonKey',\n",
       " 'phylumKey',\n",
       " 'classKey',\n",
       " 'orderKey',\n",
       " 'familyKey',\n",
       " 'genusKey',\n",
       " 'speciesKey',\n",
       " 'species',\n",
       " 'acceptedScientificName',\n",
       " 'verbatimScientificName',\n",
       " 'media_count_per_taxonID']"
      ]
     },
     "execution_count": 7,
     "metadata": {},
     "output_type": "execute_result"
    }
   ],
   "source": [
    "media.columns.tolist()"
   ]
  },
  {
   "cell_type": "code",
   "execution_count": 8,
   "id": "00c0d366",
   "metadata": {},
   "outputs": [],
   "source": [
    "import mimetypes as mt"
   ]
  },
  {
   "cell_type": "code",
   "execution_count": 9,
   "id": "99364bf0",
   "metadata": {},
   "outputs": [],
   "source": [
    "mt.add_type('image/pjpeg', '.jpg')"
   ]
  },
  {
   "cell_type": "code",
   "execution_count": 10,
   "id": "ffc5f612",
   "metadata": {},
   "outputs": [],
   "source": [
    "media['extension'] = media['format'].map(lambda x: mt.guess_extension(x, strict=False))"
   ]
  },
  {
   "cell_type": "code",
   "execution_count": 12,
   "id": "a0f8e58e",
   "metadata": {},
   "outputs": [
    {
     "data": {
      "text/plain": [
       ".jpg    663805\n",
       ".png      1991\n",
       ".gif         7\n",
       "Name: extension, dtype: int64"
      ]
     },
     "execution_count": 12,
     "metadata": {},
     "output_type": "execute_result"
    }
   ],
   "source": [
    "media['extension'].value_counts(dropna=False)"
   ]
  },
  {
   "cell_type": "code",
   "execution_count": null,
   "id": "898ea376",
   "metadata": {},
   "outputs": [
    {
     "name": "stdout",
     "output_type": "stream",
     "text": [
      "Exception in request: HTTPSConnectionPool(host='inaturalist-open-data.s3.amazonaws.com', port=443): Max retries exceeded with url: /photos/1406958/original.JPG (Caused by NewConnectionError('<urllib3.connection.HTTPSConnection object at 0x7fb766e2cf40>: Failed to establish a new connection: [Errno -3] Temporary failure in name resolution'))\n",
      "Exception in request: HTTPSConnectionPool(host='inaturalist-open-data.s3.amazonaws.com', port=443): Max retries exceeded with url: /photos/1612919/original.jpg (Caused by NewConnectionError('<urllib3.connection.HTTPSConnection object at 0x7fb76a301c60>: Failed to establish a new connection: [Errno -3] Temporary failure in name resolution'))\n",
      "Exception in request: HTTPSConnectionPool(host='inaturalist-open-data.s3.amazonaws.com', port=443): Max retries exceeded with url: /photos/3613672/original.JPG (Caused by NewConnectionError('<urllib3.connection.HTTPSConnection object at 0x7fb766e2d930>: Failed to establish a new connection: [Errno -3] Temporary failure in name resolution'))\n",
      "Exception in request: HTTPSConnectionPool(host='inaturalist-open-data.s3.amazonaws.com', port=443): Max retries exceeded with url: /photos/4778189/original.jpg (Caused by NewConnectionError('<urllib3.connection.HTTPSConnection object at 0x7fb766e2e2f0>: Failed to establish a new connection: [Errno -3] Temporary failure in name resolution'))\n",
      "Exception in request: HTTPSConnectionPool(host='inaturalist-open-data.s3.amazonaws.com', port=443): Max retries exceeded with url: /photos/5349088/original.jpeg (Caused by NewConnectionError('<urllib3.connection.HTTPSConnection object at 0x7fb766e2cbb0>: Failed to establish a new connection: [Errno -3] Temporary failure in name resolution'))\n",
      "Exception in request: HTTPSConnectionPool(host='inaturalist-open-data.s3.amazonaws.com', port=443): Max retries exceeded with url: /photos/15443745/original.jpg (Caused by NewConnectionError('<urllib3.connection.HTTPSConnection object at 0x7fb7bc6e5060>: Failed to establish a new connection: [Errno -3] Temporary failure in name resolution'))\n",
      "Exception in request: HTTPSConnectionPool(host='inaturalist-open-data.s3.amazonaws.com', port=443): Max retries exceeded with url: /photos/23182401/original.jpeg (Caused by NewConnectionError('<urllib3.connection.HTTPSConnection object at 0x7fb7bc5e5210>: Failed to establish a new connection: [Errno -3] Temporary failure in name resolution'))\n",
      "Exception in request: HTTPSConnectionPool(host='inaturalist-open-data.s3.amazonaws.com', port=443): Max retries exceeded with url: /photos/24397360/original.jpg (Caused by NewConnectionError('<urllib3.connection.HTTPSConnection object at 0x7fb7bc4671c0>: Failed to establish a new connection: [Errno -3] Temporary failure in name resolution'))\n",
      "Exception in request: ('Connection aborted.', RemoteDisconnected('Remote end closed connection without response'))\n",
      "Exception in request: HTTPSConnectionPool(host='inaturalist-open-data.s3.amazonaws.com', port=443): Max retries exceeded with url: /photos/40270985/original.jpeg (Caused by NewConnectionError('<urllib3.connection.HTTPSConnection object at 0x7fb7a46d2aa0>: Failed to establish a new connection: [Errno -3] Temporary failure in name resolution'))\n",
      "Exception in request: HTTPSConnectionPool(host='inaturalist-open-data.s3.amazonaws.com', port=443): Max retries exceeded with url: /photos/53861788/original.jpg (Caused by NewConnectionError('<urllib3.connection.HTTPSConnection object at 0x7fb7a4313e20>: Failed to establish a new connection: [Errno -3] Temporary failure in name resolution'))\n",
      "Exception in request: HTTPSConnectionPool(host='inaturalist-open-data.s3.amazonaws.com', port=443): Max retries exceeded with url: /photos/57658531/original.jpg (Caused by NewConnectionError('<urllib3.connection.HTTPSConnection object at 0x7fb7817c98d0>: Failed to establish a new connection: [Errno -3] Temporary failure in name resolution'))\n",
      "Exception in request: ('Connection aborted.', RemoteDisconnected('Remote end closed connection without response'))\n",
      "Exception in request: HTTPSConnectionPool(host='inaturalist-open-data.s3.amazonaws.com', port=443): Max retries exceeded with url: /photos/67301610/original.jpeg (Caused by NewConnectionError('<urllib3.connection.HTTPSConnection object at 0x7fb78150b3d0>: Failed to establish a new connection: [Errno -3] Temporary failure in name resolution'))\n",
      "Exception in request: HTTPSConnectionPool(host='inaturalist-open-data.s3.amazonaws.com', port=443): Max retries exceeded with url: /photos/71591294/original.jpg (Caused by NewConnectionError('<urllib3.connection.HTTPSConnection object at 0x7fb7815c5b40>: Failed to establish a new connection: [Errno -3] Temporary failure in name resolution'))\n",
      "Exception in request: HTTPSConnectionPool(host='inaturalist-open-data.s3.amazonaws.com', port=443): Max retries exceeded with url: /photos/78168809/original.jpeg (Caused by NewConnectionError('<urllib3.connection.HTTPSConnection object at 0x7fb78133fe80>: Failed to establish a new connection: [Errno -3] Temporary failure in name resolution'))\n",
      "Exception in request: HTTPSConnectionPool(host='inaturalist-open-data.s3.amazonaws.com', port=443): Max retries exceeded with url: /photos/92449046/original.jpeg (Caused by NewConnectionError('<urllib3.connection.HTTPSConnection object at 0x7fb76a0e68f0>: Failed to establish a new connection: [Errno -3] Temporary failure in name resolution'))\n",
      "Exception in request: HTTPSConnectionPool(host='inaturalist-open-data.s3.amazonaws.com', port=443): Max retries exceeded with url: /photos/94751982/original.jpeg (Caused by NewConnectionError('<urllib3.connection.HTTPSConnection object at 0x7fb78107da50>: Failed to establish a new connection: [Errno -3] Temporary failure in name resolution'))\n",
      "Exception in request: HTTPSConnectionPool(host='inaturalist-open-data.s3.amazonaws.com', port=443): Max retries exceeded with url: /photos/96409289/original.jpg (Caused by NewConnectionError('<urllib3.connection.HTTPSConnection object at 0x7fb7810f5120>: Failed to establish a new connection: [Errno -3] Temporary failure in name resolution'))\n",
      "Exception in request: HTTPSConnectionPool(host='inaturalist-open-data.s3.amazonaws.com', port=443): Max retries exceeded with url: /photos/97131569/original.jpg (Caused by NewConnectionError('<urllib3.connection.HTTPSConnection object at 0x7fb780f3d990>: Failed to establish a new connection: [Errno -3] Temporary failure in name resolution'))\n",
      "Exception in request: HTTPSConnectionPool(host='inaturalist-open-data.s3.amazonaws.com', port=443): Max retries exceeded with url: /photos/105343816/original.jpeg (Caused by NewConnectionError('<urllib3.connection.HTTPSConnection object at 0x7fb780db5ff0>: Failed to establish a new connection: [Errno -3] Temporary failure in name resolution'))\n",
      "Exception in request: HTTPSConnectionPool(host='inaturalist-open-data.s3.amazonaws.com', port=443): Max retries exceeded with url: /photos/114652215/original.jpeg (Caused by NewConnectionError('<urllib3.connection.HTTPSConnection object at 0x7fb780973a90>: Failed to establish a new connection: [Errno -3] Temporary failure in name resolution'))\n",
      "Exception in request: ('Connection aborted.', ConnectionResetError(104, 'Connection reset by peer'))\n",
      "Exception in request: HTTPSConnectionPool(host='inaturalist-open-data.s3.amazonaws.com', port=443): Max retries exceeded with url: /photos/121707300/original.jpeg (Caused by NewConnectionError('<urllib3.connection.HTTPSConnection object at 0x7fb78086f9d0>: Failed to establish a new connection: [Errno -3] Temporary failure in name resolution'))\n",
      "Exception in request: HTTPSConnectionPool(host='inaturalist-open-data.s3.amazonaws.com', port=443): Max retries exceeded with url: /photos/153667211/original.jpeg (Caused by NewConnectionError('<urllib3.connection.HTTPSConnection object at 0x7fb78036f040>: Failed to establish a new connection: [Errno -3] Temporary failure in name resolution'))\n",
      "Exception in request: HTTPSConnectionPool(host='inaturalist-open-data.s3.amazonaws.com', port=443): Max retries exceeded with url: /photos/164014546/original.jpg (Caused by NewConnectionError('<urllib3.connection.HTTPSConnection object at 0x7fb7801e71f0>: Failed to establish a new connection: [Errno -3] Temporary failure in name resolution'))\n"
     ]
    },
    {
     "name": "stdout",
     "output_type": "stream",
     "text": [
      "Exception in request: HTTPSConnectionPool(host='inaturalist-open-data.s3.amazonaws.com', port=443): Max retries exceeded with url: /photos/166394901/original.jpg (Caused by NewConnectionError('<urllib3.connection.HTTPSConnection object at 0x7fb76bf2a350>: Failed to establish a new connection: [Errno -3] Temporary failure in name resolution'))\n",
      "Exception in request: HTTPSConnectionPool(host='inaturalist-open-data.s3.amazonaws.com', port=443): Max retries exceeded with url: /photos/176702011/original.jpg (Caused by NewConnectionError('<urllib3.connection.HTTPSConnection object at 0x7fb76bb0f760>: Failed to establish a new connection: [Errno -3] Temporary failure in name resolution'))\n",
      "Exception in request: HTTPSConnectionPool(host='inaturalist-open-data.s3.amazonaws.com', port=443): Max retries exceeded with url: /photos/187533854/original.jpeg (Caused by NewConnectionError('<urllib3.connection.HTTPSConnection object at 0x7fb76ba873a0>: Failed to establish a new connection: [Errno -3] Temporary failure in name resolution'))\n",
      "Exception in request: HTTPSConnectionPool(host='inaturalist-open-data.s3.amazonaws.com', port=443): Max retries exceeded with url: /photos/200292068/original.jpg (Caused by NewConnectionError('<urllib3.connection.HTTPSConnection object at 0x7fb76b8f5c00>: Failed to establish a new connection: [Errno -3] Temporary failure in name resolution'))\n",
      "Exception in request: HTTPSConnectionPool(host='inaturalist-open-data.s3.amazonaws.com', port=443): Max retries exceeded with url: /photos/220743133/original.jpg (Caused by NewConnectionError('<urllib3.connection.HTTPSConnection object at 0x7fb76b529de0>: Failed to establish a new connection: [Errno -3] Temporary failure in name resolution'))\n",
      "Exception in request: HTTPSConnectionPool(host='inaturalist-open-data.s3.amazonaws.com', port=443): Max retries exceeded with url: /photos/229976463/original.png (Caused by NewConnectionError('<urllib3.connection.HTTPSConnection object at 0x7fb76b4a1660>: Failed to establish a new connection: [Errno -3] Temporary failure in name resolution'))\n",
      "Exception in request: HTTPSConnectionPool(host='inaturalist-open-data.s3.amazonaws.com', port=443): Max retries exceeded with url: /photos/239630875/original.jpg (Caused by NewConnectionError('<urllib3.connection.HTTPSConnection object at 0x7fb76b2967a0>: Failed to establish a new connection: [Errno -3] Temporary failure in name resolution'))\n",
      "Exception in request: HTTPSConnectionPool(host='inaturalist-open-data.s3.amazonaws.com', port=443): Max retries exceeded with url: /photos/1539187/original.jpg (Caused by NewConnectionError('<urllib3.connection.HTTPSConnection object at 0x7fb76b192bf0>: Failed to establish a new connection: [Errno -3] Temporary failure in name resolution'))\n",
      "Exception in request: HTTPSConnectionPool(host='inaturalist-open-data.s3.amazonaws.com', port=443): Max retries exceeded with url: /photos/24511089/original.jpeg (Caused by NewConnectionError('<urllib3.connection.HTTPSConnection object at 0x7fb76ae42b90>: Failed to establish a new connection: [Errno -3] Temporary failure in name resolution'))\n",
      "Exception in request: HTTPSConnectionPool(host='inaturalist-open-data.s3.amazonaws.com', port=443): Max retries exceeded with url: /photos/34121100/original.jpg (Caused by NewConnectionError('<urllib3.connection.HTTPSConnection object at 0x7fb76aebd570>: Failed to establish a new connection: [Errno -3] Temporary failure in name resolution'))\n",
      "Exception in request: HTTPSConnectionPool(host='inaturalist-open-data.s3.amazonaws.com', port=443): Max retries exceeded with url: /photos/24567957/original.jpeg (Caused by NewConnectionError('<urllib3.connection.HTTPSConnection object at 0x7fb76ac35ab0>: Failed to establish a new connection: [Errno -3] Temporary failure in name resolution'))\n",
      "Exception in request: HTTPSConnectionPool(host='inaturalist-open-data.s3.amazonaws.com', port=443): Max retries exceeded with url: /photos/58772319/original.jpeg (Caused by NewConnectionError('<urllib3.connection.HTTPSConnection object at 0x7fb76ab6fa30>: Failed to establish a new connection: [Errno -3] Temporary failure in name resolution'))\n",
      "Exception in request: HTTPSConnectionPool(host='inaturalist-open-data.s3.amazonaws.com', port=443): Max retries exceeded with url: /photos/64396994/original.jpeg (Caused by NewConnectionError('<urllib3.connection.HTTPSConnection object at 0x7fb76abec190>: Failed to establish a new connection: [Errno -3] Temporary failure in name resolution'))\n",
      "Exception in request: HTTPSConnectionPool(host='inaturalist-open-data.s3.amazonaws.com', port=443): Max retries exceeded with url: /photos/111091623/original.jpg (Caused by NewConnectionError('<urllib3.connection.HTTPSConnection object at 0x7fb76a54c070>: Failed to establish a new connection: [Errno -3] Temporary failure in name resolution'))\n",
      "Exception in request: HTTPSConnectionPool(host='inaturalist-open-data.s3.amazonaws.com', port=443): Max retries exceeded with url: /photos/147115954/original.jpg (Caused by NewConnectionError('<urllib3.connection.HTTPSConnection object at 0x7fb76a3f4b50>: Failed to establish a new connection: [Errno -3] Temporary failure in name resolution'))\n",
      "Exception in request: HTTPSConnectionPool(host='inaturalist-open-data.s3.amazonaws.com', port=443): Max retries exceeded with url: /photos/173219126/original.jpg (Caused by NewConnectionError('<urllib3.connection.HTTPSConnection object at 0x7fb769e23550>: Failed to establish a new connection: [Errno -3] Temporary failure in name resolution'))\n",
      "Exception in request: HTTPSConnectionPool(host='inaturalist-open-data.s3.amazonaws.com', port=443): Max retries exceeded with url: /photos/169813860/original.jpeg (Caused by NewConnectionError('<urllib3.connection.HTTPSConnection object at 0x7fb769c171f0>: Failed to establish a new connection: [Errno -3] Temporary failure in name resolution'))\n",
      "Exception in request: HTTPSConnectionPool(host='inaturalist-open-data.s3.amazonaws.com', port=443): Max retries exceeded with url: /photos/193836762/original.jpeg (Caused by NewConnectionError('<urllib3.connection.HTTPSConnection object at 0x7fb769b12230>: Failed to establish a new connection: [Errno -3] Temporary failure in name resolution'))\n",
      "Exception in request: HTTPSConnectionPool(host='inaturalist-open-data.s3.amazonaws.com', port=443): Max retries exceeded with url: /photos/208341841/original.jpg (Caused by NewConnectionError('<urllib3.connection.HTTPSConnection object at 0x7fb769bccf70>: Failed to establish a new connection: [Errno -3] Temporary failure in name resolution'))\n",
      "Exception in request: HTTPSConnectionPool(host='inaturalist-open-data.s3.amazonaws.com', port=443): Max retries exceeded with url: /photos/31293081/original.jpeg (Caused by NewConnectionError('<urllib3.connection.HTTPSConnection object at 0x7fb76952e320>: Failed to establish a new connection: [Errno -3] Temporary failure in name resolution'))\n",
      "Exception in request: ('Connection aborted.', RemoteDisconnected('Remote end closed connection without response'))\n",
      "Exception in request: HTTPSConnectionPool(host='inaturalist-open-data.s3.amazonaws.com', port=443): Max retries exceeded with url: /photos/46342581/original.jpg (Caused by NewConnectionError('<urllib3.connection.HTTPSConnection object at 0x7fb76952e950>: Failed to establish a new connection: [Errno -3] Temporary failure in name resolution'))\n",
      "Exception in request: HTTPSConnectionPool(host='inaturalist-open-data.s3.amazonaws.com', port=443): Max retries exceeded with url: /photos/30329333/original.jpeg (Caused by NewConnectionError('<urllib3.connection.HTTPSConnection object at 0x7fb769360700>: Failed to establish a new connection: [Errno -3] Temporary failure in name resolution'))\n",
      "Exception in request: HTTPSConnectionPool(host='inaturalist-open-data.s3.amazonaws.com', port=443): Max retries exceeded with url: /photos/68671282/original.jpg (Caused by NewConnectionError('<urllib3.connection.HTTPSConnection object at 0x7fb76925f340>: Failed to establish a new connection: [Errno -3] Temporary failure in name resolution'))\n",
      "Exception in request: HTTPSConnectionPool(host='inaturalist-open-data.s3.amazonaws.com', port=443): Max retries exceeded with url: /photos/85030954/original.jpg (Caused by NewConnectionError('<urllib3.connection.HTTPSConnection object at 0x7fb76911a7d0>: Failed to establish a new connection: [Errno -3] Temporary failure in name resolution'))\n"
     ]
    },
    {
     "name": "stdout",
     "output_type": "stream",
     "text": [
      "Exception in request: HTTPSConnectionPool(host='inaturalist-open-data.s3.amazonaws.com', port=443): Max retries exceeded with url: /photos/90403398/original.jpg (Caused by NewConnectionError('<urllib3.connection.HTTPSConnection object at 0x7fb769196b00>: Failed to establish a new connection: [Errno -3] Temporary failure in name resolution'))\n",
      "Exception in request: HTTPSConnectionPool(host='inaturalist-open-data.s3.amazonaws.com', port=443): Max retries exceeded with url: /photos/100128027/original.jpeg (Caused by NewConnectionError('<urllib3.connection.HTTPSConnection object at 0x7fb769053100>: Failed to establish a new connection: [Errno -3] Temporary failure in name resolution'))\n",
      "Exception in request: HTTPSConnectionPool(host='inaturalist-open-data.s3.amazonaws.com', port=443): Max retries exceeded with url: /photos/164044063/original.jpeg (Caused by NewConnectionError('<urllib3.connection.HTTPSConnection object at 0x7fb768c3ec20>: Failed to establish a new connection: [Errno -3] Temporary failure in name resolution'))\n",
      "Exception in request: HTTPSConnectionPool(host='inaturalist-open-data.s3.amazonaws.com', port=443): Max retries exceeded with url: /photos/167005952/original.jpeg (Caused by NewConnectionError('<urllib3.connection.HTTPSConnection object at 0x7fb768cf98a0>: Failed to establish a new connection: [Errno -3] Temporary failure in name resolution'))\n",
      "Exception in request: HTTPSConnectionPool(host='inaturalist-open-data.s3.amazonaws.com', port=443): Max retries exceeded with url: /photos/170477898/original.jpg (Caused by NewConnectionError('<urllib3.connection.HTTPSConnection object at 0x7fb768bb7b80>: Failed to establish a new connection: [Errno -3] Temporary failure in name resolution'))\n",
      "Exception in request: HTTPSConnectionPool(host='inaturalist-open-data.s3.amazonaws.com', port=443): Max retries exceeded with url: /photos/174234744/original.jpeg (Caused by NewConnectionError('<urllib3.connection.HTTPSConnection object at 0x7fb768bf5210>: Failed to establish a new connection: [Errno -3] Temporary failure in name resolution'))\n",
      "Exception in request: HTTPSConnectionPool(host='inaturalist-open-data.s3.amazonaws.com', port=443): Max retries exceeded with url: /photos/176170031/original.jpeg (Caused by NewConnectionError('<urllib3.connection.HTTPSConnection object at 0x7fb768bf7430>: Failed to establish a new connection: [Errno -3] Temporary failure in name resolution'))\n",
      "Exception in request: HTTPSConnectionPool(host='inaturalist-open-data.s3.amazonaws.com', port=443): Max retries exceeded with url: /photos/176170065/original.jpeg (Caused by NewConnectionError('<urllib3.connection.HTTPSConnection object at 0x7fb768a71570>: Failed to establish a new connection: [Errno -3] Temporary failure in name resolution'))\n",
      "Exception in request: HTTPSConnectionPool(host='inaturalist-open-data.s3.amazonaws.com', port=443): Max retries exceeded with url: /photos/146352216/original.jpeg (Caused by NewConnectionError('<urllib3.connection.HTTPSConnection object at 0x7fb768bf7130>: Failed to establish a new connection: [Errno -3] Temporary failure in name resolution'))\n",
      "Exception in request: HTTPSConnectionPool(host='inaturalist-open-data.s3.amazonaws.com', port=443): Max retries exceeded with url: /photos/187337471/original.jpg (Caused by NewConnectionError('<urllib3.connection.HTTPSConnection object at 0x7fb768ab1150>: Failed to establish a new connection: [Errno -3] Temporary failure in name resolution'))\n",
      "Exception in request: HTTPSConnectionPool(host='inaturalist-open-data.s3.amazonaws.com', port=443): Max retries exceeded with url: /photos/191441898/original.jpg (Caused by NewConnectionError('<urllib3.connection.HTTPSConnection object at 0x7fb7689a8250>: Failed to establish a new connection: [Errno -3] Temporary failure in name resolution'))\n",
      "Exception in request: HTTPSConnectionPool(host='inaturalist-open-data.s3.amazonaws.com', port=443): Max retries exceeded with url: /photos/200463192/original.jpeg (Caused by NewConnectionError('<urllib3.connection.HTTPSConnection object at 0x7fb7689eac20>: Failed to establish a new connection: [Errno -3] Temporary failure in name resolution'))\n",
      "Exception in request: HTTPSConnectionPool(host='inaturalist-open-data.s3.amazonaws.com', port=443): Max retries exceeded with url: /photos/59714033/original.jpeg (Caused by NewConnectionError('<urllib3.connection.HTTPSConnection object at 0x7fb76882b040>: Failed to establish a new connection: [Errno -3] Temporary failure in name resolution'))\n",
      "Exception in request: HTTPSConnectionPool(host='inaturalist-open-data.s3.amazonaws.com', port=443): Max retries exceeded with url: /photos/236225993/original.jpg (Caused by NewConnectionError('<urllib3.connection.HTTPSConnection object at 0x7fb7687ded10>: Failed to establish a new connection: [Errno -3] Temporary failure in name resolution'))\n",
      "Exception in request: HTTPSConnectionPool(host='inaturalist-open-data.s3.amazonaws.com', port=443): Max retries exceeded with url: /photos/102805916/original.jpeg (Caused by NewConnectionError('<urllib3.connection.HTTPSConnection object at 0x7fb768183a60>: Failed to establish a new connection: [Errno -3] Temporary failure in name resolution'))\n",
      "Exception in request: HTTPSConnectionPool(host='inaturalist-open-data.s3.amazonaws.com', port=443): Max retries exceeded with url: /photos/115066739/original.jpg (Caused by NewConnectionError('<urllib3.connection.HTTPSConnection object at 0x7fb7680b49a0>: Failed to establish a new connection: [Errno -3] Temporary failure in name resolution'))\n",
      "Exception in request: HTTPSConnectionPool(host='inaturalist-open-data.s3.amazonaws.com', port=443): Max retries exceeded with url: /photos/165675993/original.jpg (Caused by NewConnectionError('<urllib3.connection.HTTPSConnection object at 0x7fb767efdbd0>: Failed to establish a new connection: [Errno -3] Temporary failure in name resolution'))\n",
      "Exception in request: HTTPSConnectionPool(host='inaturalist-open-data.s3.amazonaws.com', port=443): Max retries exceeded with url: /photos/164066012/original.jpeg (Caused by NewConnectionError('<urllib3.connection.HTTPSConnection object at 0x7fb767df8490>: Failed to establish a new connection: [Errno -3] Temporary failure in name resolution'))\n",
      "Exception in request: HTTPSConnectionPool(host='inaturalist-open-data.s3.amazonaws.com', port=443): Max retries exceeded with url: /photos/185466785/original.jpeg (Caused by NewConnectionError('<urllib3.connection.HTTPSConnection object at 0x7fb767c39090>: Failed to establish a new connection: [Errno -3] Temporary failure in name resolution'))\n",
      "Exception in request: HTTPSConnectionPool(host='inaturalist-open-data.s3.amazonaws.com', port=443): Max retries exceeded with url: /photos/38477614/original.jpeg (Caused by NewConnectionError('<urllib3.connection.HTTPSConnection object at 0x7fb7677e2a40>: Failed to establish a new connection: [Errno -3] Temporary failure in name resolution'))\n",
      "Exception in request: HTTPSConnectionPool(host='inaturalist-open-data.s3.amazonaws.com', port=443): Max retries exceeded with url: /photos/53654366/original.jpeg (Caused by NewConnectionError('<urllib3.connection.HTTPSConnection object at 0x7fb7676dabf0>: Failed to establish a new connection: [Errno -3] Temporary failure in name resolution'))\n",
      "Exception in request: HTTPSConnectionPool(host='inaturalist-open-data.s3.amazonaws.com', port=443): Max retries exceeded with url: /photos/107957355/original.jpg (Caused by NewConnectionError('<urllib3.connection.HTTPSConnection object at 0x7fb7676d8d30>: Failed to establish a new connection: [Errno -3] Temporary failure in name resolution'))\n",
      "Exception in request: HTTPSConnectionPool(host='inaturalist-open-data.s3.amazonaws.com', port=443): Max retries exceeded with url: /photos/136154929/original.jpg (Caused by NewConnectionError('<urllib3.connection.HTTPSConnection object at 0x7fb76730eec0>: Failed to establish a new connection: [Errno -3] Temporary failure in name resolution'))\n",
      "Exception in request: HTTPSConnectionPool(host='inaturalist-open-data.s3.amazonaws.com', port=443): Max retries exceeded with url: /photos/170653873/original.jpg (Caused by NewConnectionError('<urllib3.connection.HTTPSConnection object at 0x7fb76724bfa0>: Failed to establish a new connection: [Errno -3] Temporary failure in name resolution'))\n"
     ]
    },
    {
     "name": "stdout",
     "output_type": "stream",
     "text": [
      "Exception in request: HTTPSConnectionPool(host='inaturalist-open-data.s3.amazonaws.com', port=443): Max retries exceeded with url: /photos/195117324/original.jpeg (Caused by NewConnectionError('<urllib3.connection.HTTPSConnection object at 0x7fb7671c3e50>: Failed to establish a new connection: [Errno -3] Temporary failure in name resolution'))\n",
      "Exception in request: HTTPSConnectionPool(host='inaturalist-open-data.s3.amazonaws.com', port=443): Max retries exceeded with url: /photos/207778355/original.jpg (Caused by NewConnectionError('<urllib3.connection.HTTPSConnection object at 0x7fb767038190>: Failed to establish a new connection: [Errno -3] Temporary failure in name resolution'))\n",
      "Exception in request: HTTPSConnectionPool(host='inaturalist-open-data.s3.amazonaws.com', port=443): Max retries exceeded with url: /photos/232363155/original.jpg (Caused by NewConnectionError('<urllib3.connection.HTTPSConnection object at 0x7fb766f3a5f0>: Failed to establish a new connection: [Errno -3] Temporary failure in name resolution'))\n"
     ]
    }
   ],
   "source": [
    "# download_sequential( zip ( media['identifier_media'].to_numpy(), media.index.to_numpy() ) )\n",
    "download( zip (\n",
    "    media['identifier_media'].to_numpy(),\n",
    "    media.index.to_numpy(),\n",
    "    media['extension'],\n",
    "), parallel=True )"
   ]
  },
  {
   "cell_type": "code",
   "execution_count": null,
   "id": "6906b5ce",
   "metadata": {},
   "outputs": [],
   "source": [
    "print('done')"
   ]
  },
  {
   "cell_type": "code",
   "execution_count": null,
   "id": "5fd78a1a",
   "metadata": {},
   "outputs": [],
   "source": []
  }
 ],
 "metadata": {
  "kernelspec": {
   "display_name": "Python [conda env:.conda-fungi] *",
   "language": "python",
   "name": "conda-env-.conda-fungi-py"
  },
  "language_info": {
   "codemirror_mode": {
    "name": "ipython",
    "version": 3
   },
   "file_extension": ".py",
   "mimetype": "text/x-python",
   "name": "python",
   "nbconvert_exporter": "python",
   "pygments_lexer": "ipython3",
   "version": "3.10.8"
  }
 },
 "nbformat": 4,
 "nbformat_minor": 5
}
