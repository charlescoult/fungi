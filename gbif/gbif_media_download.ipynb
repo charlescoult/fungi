{
 "cells": [
  {
   "cell_type": "code",
   "execution_count": 1,
   "id": "2ad4fdcb",
   "metadata": {},
   "outputs": [],
   "source": [
    "import pandas as pd"
   ]
  },
  {
   "cell_type": "code",
   "execution_count": 2,
   "id": "ff9583fb",
   "metadata": {},
   "outputs": [],
   "source": [
    "media = pd.read_hdf('clean_data.h5', 'media_merged_filtered-by-species_350pt')"
   ]
  },
  {
   "cell_type": "code",
   "execution_count": 3,
   "id": "8c968f05",
   "metadata": {},
   "outputs": [
    {
     "data": {
      "text/html": [
       "<div>\n",
       "<style scoped>\n",
       "    .dataframe tbody tr th:only-of-type {\n",
       "        vertical-align: middle;\n",
       "    }\n",
       "\n",
       "    .dataframe tbody tr th {\n",
       "        vertical-align: top;\n",
       "    }\n",
       "\n",
       "    .dataframe thead th {\n",
       "        text-align: right;\n",
       "    }\n",
       "</style>\n",
       "<table border=\"1\" class=\"dataframe\">\n",
       "  <thead>\n",
       "    <tr style=\"text-align: right;\">\n",
       "      <th></th>\n",
       "      <th>gbifID</th>\n",
       "      <th>format</th>\n",
       "      <th>identifier_media</th>\n",
       "      <th>identifier_obs</th>\n",
       "      <th>eventDate</th>\n",
       "      <th>decimalLatitude</th>\n",
       "      <th>decimalLongitude</th>\n",
       "      <th>taxonID</th>\n",
       "      <th>taxonRank</th>\n",
       "      <th>taxonomicStatus</th>\n",
       "      <th>...</th>\n",
       "      <th>phylumKey</th>\n",
       "      <th>classKey</th>\n",
       "      <th>orderKey</th>\n",
       "      <th>familyKey</th>\n",
       "      <th>genusKey</th>\n",
       "      <th>speciesKey</th>\n",
       "      <th>species</th>\n",
       "      <th>acceptedScientificName</th>\n",
       "      <th>verbatimScientificName</th>\n",
       "      <th>media_count_per_taxonID</th>\n",
       "    </tr>\n",
       "  </thead>\n",
       "  <tbody>\n",
       "    <tr>\n",
       "      <th>0</th>\n",
       "      <td>891021265</td>\n",
       "      <td>image/jpeg</td>\n",
       "      <td>https://inaturalist-open-data.s3.amazonaws.com...</td>\n",
       "      <td>119647</td>\n",
       "      <td>2012-08-31 00:00:00</td>\n",
       "      <td>38.036174</td>\n",
       "      <td>-122.755828</td>\n",
       "      <td>147221</td>\n",
       "      <td>SPECIES</td>\n",
       "      <td>ACCEPTED</td>\n",
       "      <td>...</td>\n",
       "      <td>95.0</td>\n",
       "      <td>180.0</td>\n",
       "      <td>1048.0</td>\n",
       "      <td>4812.0</td>\n",
       "      <td>8360956.0</td>\n",
       "      <td>2608086.0</td>\n",
       "      <td>Niebla homalea</td>\n",
       "      <td>Niebla homalea (Ach.) Rundel &amp; Bowler</td>\n",
       "      <td>Niebla homalea</td>\n",
       "      <td>865</td>\n",
       "    </tr>\n",
       "    <tr>\n",
       "      <th>5</th>\n",
       "      <td>891026285</td>\n",
       "      <td>image/jpeg</td>\n",
       "      <td>https://inaturalist-open-data.s3.amazonaws.com...</td>\n",
       "      <td>344410</td>\n",
       "      <td>2013-07-23 09:36:00</td>\n",
       "      <td>38.582730</td>\n",
       "      <td>-122.696660</td>\n",
       "      <td>54134</td>\n",
       "      <td>SPECIES</td>\n",
       "      <td>ACCEPTED</td>\n",
       "      <td>...</td>\n",
       "      <td>34.0</td>\n",
       "      <td>186.0</td>\n",
       "      <td>1145.0</td>\n",
       "      <td>3286.0</td>\n",
       "      <td>2519084.0</td>\n",
       "      <td>2548311.0</td>\n",
       "      <td>Trametes versicolor</td>\n",
       "      <td>Trametes versicolor (L.) Lloyd</td>\n",
       "      <td>Trametes versicolor</td>\n",
       "      <td>43873</td>\n",
       "    </tr>\n",
       "    <tr>\n",
       "      <th>6</th>\n",
       "      <td>891026330</td>\n",
       "      <td>image/jpeg</td>\n",
       "      <td>https://inaturalist-open-data.s3.amazonaws.com...</td>\n",
       "      <td>345889</td>\n",
       "      <td>2013-07-25 19:33:13</td>\n",
       "      <td>43.627681</td>\n",
       "      <td>-72.529947</td>\n",
       "      <td>63274</td>\n",
       "      <td>SPECIES</td>\n",
       "      <td>ACCEPTED</td>\n",
       "      <td>...</td>\n",
       "      <td>34.0</td>\n",
       "      <td>186.0</td>\n",
       "      <td>1145.0</td>\n",
       "      <td>3290.0</td>\n",
       "      <td>2519220.0</td>\n",
       "      <td>7241318.0</td>\n",
       "      <td>Ganoderma tsugae</td>\n",
       "      <td>Ganoderma tsugae Murrill</td>\n",
       "      <td>Ganoderma tsugae</td>\n",
       "      <td>6970</td>\n",
       "    </tr>\n",
       "    <tr>\n",
       "      <th>7</th>\n",
       "      <td>891027410</td>\n",
       "      <td>image/jpeg</td>\n",
       "      <td>https://inaturalist-open-data.s3.amazonaws.com...</td>\n",
       "      <td>381407</td>\n",
       "      <td>2013-08-19 11:10:07</td>\n",
       "      <td>40.499055</td>\n",
       "      <td>-121.402420</td>\n",
       "      <td>54608</td>\n",
       "      <td>SPECIES</td>\n",
       "      <td>ACCEPTED</td>\n",
       "      <td>...</td>\n",
       "      <td>95.0</td>\n",
       "      <td>180.0</td>\n",
       "      <td>1048.0</td>\n",
       "      <td>8305.0</td>\n",
       "      <td>2605402.0</td>\n",
       "      <td>2605405.0</td>\n",
       "      <td>Letharia columbiana</td>\n",
       "      <td>Letharia columbiana (Nutt.) J.W.Thomson</td>\n",
       "      <td>Letharia columbiana</td>\n",
       "      <td>2011</td>\n",
       "    </tr>\n",
       "    <tr>\n",
       "      <th>8</th>\n",
       "      <td>891027410</td>\n",
       "      <td>image/jpeg</td>\n",
       "      <td>https://inaturalist-open-data.s3.amazonaws.com...</td>\n",
       "      <td>381407</td>\n",
       "      <td>2013-08-19 11:10:07</td>\n",
       "      <td>40.499055</td>\n",
       "      <td>-121.402420</td>\n",
       "      <td>54608</td>\n",
       "      <td>SPECIES</td>\n",
       "      <td>ACCEPTED</td>\n",
       "      <td>...</td>\n",
       "      <td>95.0</td>\n",
       "      <td>180.0</td>\n",
       "      <td>1048.0</td>\n",
       "      <td>8305.0</td>\n",
       "      <td>2605402.0</td>\n",
       "      <td>2605405.0</td>\n",
       "      <td>Letharia columbiana</td>\n",
       "      <td>Letharia columbiana (Nutt.) J.W.Thomson</td>\n",
       "      <td>Letharia columbiana</td>\n",
       "      <td>2011</td>\n",
       "    </tr>\n",
       "  </tbody>\n",
       "</table>\n",
       "<p>5 rows × 22 columns</p>\n",
       "</div>"
      ],
      "text/plain": [
       "      gbifID      format                                   identifier_media  \\\n",
       "0  891021265  image/jpeg  https://inaturalist-open-data.s3.amazonaws.com...   \n",
       "5  891026285  image/jpeg  https://inaturalist-open-data.s3.amazonaws.com...   \n",
       "6  891026330  image/jpeg  https://inaturalist-open-data.s3.amazonaws.com...   \n",
       "7  891027410  image/jpeg  https://inaturalist-open-data.s3.amazonaws.com...   \n",
       "8  891027410  image/jpeg  https://inaturalist-open-data.s3.amazonaws.com...   \n",
       "\n",
       "   identifier_obs           eventDate  decimalLatitude  decimalLongitude  \\\n",
       "0          119647 2012-08-31 00:00:00        38.036174       -122.755828   \n",
       "5          344410 2013-07-23 09:36:00        38.582730       -122.696660   \n",
       "6          345889 2013-07-25 19:33:13        43.627681        -72.529947   \n",
       "7          381407 2013-08-19 11:10:07        40.499055       -121.402420   \n",
       "8          381407 2013-08-19 11:10:07        40.499055       -121.402420   \n",
       "\n",
       "   taxonID taxonRank taxonomicStatus  ...  phylumKey  classKey  orderKey  \\\n",
       "0   147221   SPECIES        ACCEPTED  ...       95.0     180.0    1048.0   \n",
       "5    54134   SPECIES        ACCEPTED  ...       34.0     186.0    1145.0   \n",
       "6    63274   SPECIES        ACCEPTED  ...       34.0     186.0    1145.0   \n",
       "7    54608   SPECIES        ACCEPTED  ...       95.0     180.0    1048.0   \n",
       "8    54608   SPECIES        ACCEPTED  ...       95.0     180.0    1048.0   \n",
       "\n",
       "   familyKey   genusKey  speciesKey              species  \\\n",
       "0     4812.0  8360956.0   2608086.0       Niebla homalea   \n",
       "5     3286.0  2519084.0   2548311.0  Trametes versicolor   \n",
       "6     3290.0  2519220.0   7241318.0     Ganoderma tsugae   \n",
       "7     8305.0  2605402.0   2605405.0  Letharia columbiana   \n",
       "8     8305.0  2605402.0   2605405.0  Letharia columbiana   \n",
       "\n",
       "                    acceptedScientificName verbatimScientificName  \\\n",
       "0    Niebla homalea (Ach.) Rundel & Bowler         Niebla homalea   \n",
       "5           Trametes versicolor (L.) Lloyd    Trametes versicolor   \n",
       "6                 Ganoderma tsugae Murrill       Ganoderma tsugae   \n",
       "7  Letharia columbiana (Nutt.) J.W.Thomson    Letharia columbiana   \n",
       "8  Letharia columbiana (Nutt.) J.W.Thomson    Letharia columbiana   \n",
       "\n",
       "  media_count_per_taxonID  \n",
       "0                     865  \n",
       "5                   43873  \n",
       "6                    6970  \n",
       "7                    2011  \n",
       "8                    2011  \n",
       "\n",
       "[5 rows x 22 columns]"
      ]
     },
     "execution_count": 3,
     "metadata": {},
     "output_type": "execute_result"
    }
   ],
   "source": [
    "media.head()"
   ]
  },
  {
   "cell_type": "code",
   "execution_count": 4,
   "id": "8d722921",
   "metadata": {},
   "outputs": [
    {
     "data": {
      "text/plain": [
       "Int64Index([      0,       5,       6,       7,       8,       9,      11,\n",
       "                 12,      13,      14,\n",
       "            ...\n",
       "            2803438, 2803439, 2803440, 2803448, 2803449, 2803458, 2803459,\n",
       "            2803460, 2803483, 2803517],\n",
       "           dtype='int64', length=665803)"
      ]
     },
     "execution_count": 4,
     "metadata": {},
     "output_type": "execute_result"
    }
   ],
   "source": [
    "media.index"
   ]
  },
  {
   "cell_type": "code",
   "execution_count": 5,
   "id": "aef08169",
   "metadata": {},
   "outputs": [
    {
     "data": {
      "text/plain": [
       "['gbifID',\n",
       " 'format',\n",
       " 'identifier_media',\n",
       " 'identifier_obs',\n",
       " 'eventDate',\n",
       " 'decimalLatitude',\n",
       " 'decimalLongitude',\n",
       " 'taxonID',\n",
       " 'taxonRank',\n",
       " 'taxonomicStatus',\n",
       " 'taxonKey',\n",
       " 'acceptedTaxonKey',\n",
       " 'phylumKey',\n",
       " 'classKey',\n",
       " 'orderKey',\n",
       " 'familyKey',\n",
       " 'genusKey',\n",
       " 'speciesKey',\n",
       " 'species',\n",
       " 'acceptedScientificName',\n",
       " 'verbatimScientificName',\n",
       " 'media_count_per_taxonID']"
      ]
     },
     "execution_count": 5,
     "metadata": {},
     "output_type": "execute_result"
    }
   ],
   "source": [
    "media.columns.tolist()"
   ]
  },
  {
   "cell_type": "code",
   "execution_count": 6,
   "id": "c0a2ce87",
   "metadata": {},
   "outputs": [
    {
     "data": {
      "text/plain": [
       "0          https://inaturalist-open-data.s3.amazonaws.com...\n",
       "5          https://inaturalist-open-data.s3.amazonaws.com...\n",
       "6          https://inaturalist-open-data.s3.amazonaws.com...\n",
       "7          https://inaturalist-open-data.s3.amazonaws.com...\n",
       "8          https://inaturalist-open-data.s3.amazonaws.com...\n",
       "                                 ...                        \n",
       "2803458    https://inaturalist-open-data.s3.amazonaws.com...\n",
       "2803459    https://inaturalist-open-data.s3.amazonaws.com...\n",
       "2803460    https://inaturalist-open-data.s3.amazonaws.com...\n",
       "2803483    https://inaturalist-open-data.s3.amazonaws.com...\n",
       "2803517    https://inaturalist-open-data.s3.amazonaws.com...\n",
       "Name: identifier_media, Length: 665803, dtype: object"
      ]
     },
     "execution_count": 6,
     "metadata": {},
     "output_type": "execute_result"
    }
   ],
   "source": [
    "media['identifier_media']"
   ]
  },
  {
   "cell_type": "code",
   "execution_count": 7,
   "id": "a4955550",
   "metadata": {},
   "outputs": [],
   "source": [
    "from parallel_download import download_parallel\n",
    "from parallel_download import download_sequential"
   ]
  },
  {
   "cell_type": "code",
   "execution_count": 8,
   "id": "d0f16681",
   "metadata": {},
   "outputs": [],
   "source": [
    "import os\n",
    "if not os.path.exists('/mnt/media'):\n",
    "   os.makedirs('/mnt/media')"
   ]
  },
  {
   "cell_type": "code",
   "execution_count": 9,
   "id": "2f263263",
   "metadata": {},
   "outputs": [
    {
     "data": {
      "text/plain": [
       "image/jpeg     663784\n",
       "image/png        1991\n",
       "image/pjpeg        21\n",
       "image/gif           7\n",
       "Name: format, dtype: int64"
      ]
     },
     "execution_count": 9,
     "metadata": {},
     "output_type": "execute_result"
    }
   ],
   "source": [
    "media['format'].value_counts()"
   ]
  },
  {
   "cell_type": "code",
   "execution_count": 10,
   "id": "e0fd7e23",
   "metadata": {},
   "outputs": [
    {
     "data": {
      "text/plain": [
       "['gbifID',\n",
       " 'format',\n",
       " 'identifier_media',\n",
       " 'identifier_obs',\n",
       " 'eventDate',\n",
       " 'decimalLatitude',\n",
       " 'decimalLongitude',\n",
       " 'taxonID',\n",
       " 'taxonRank',\n",
       " 'taxonomicStatus',\n",
       " 'taxonKey',\n",
       " 'acceptedTaxonKey',\n",
       " 'phylumKey',\n",
       " 'classKey',\n",
       " 'orderKey',\n",
       " 'familyKey',\n",
       " 'genusKey',\n",
       " 'speciesKey',\n",
       " 'species',\n",
       " 'acceptedScientificName',\n",
       " 'verbatimScientificName',\n",
       " 'media_count_per_taxonID']"
      ]
     },
     "execution_count": 10,
     "metadata": {},
     "output_type": "execute_result"
    }
   ],
   "source": [
    "media.columns.tolist()"
   ]
  },
  {
   "cell_type": "code",
   "execution_count": 11,
   "id": "00c0d366",
   "metadata": {},
   "outputs": [],
   "source": [
    "import mimetypes as mt"
   ]
  },
  {
   "cell_type": "code",
   "execution_count": 12,
   "id": "99364bf0",
   "metadata": {},
   "outputs": [],
   "source": [
    "mt.add_type('image/pjpeg', '.jpg')"
   ]
  },
  {
   "cell_type": "code",
   "execution_count": 13,
   "id": "ffc5f612",
   "metadata": {},
   "outputs": [],
   "source": [
    "media['extension'] = media['format'].map(lambda x: mt.guess_extension(x, strict=False))"
   ]
  },
  {
   "cell_type": "code",
   "execution_count": 14,
   "id": "a9a6d754",
   "metadata": {},
   "outputs": [
    {
     "data": {
      "text/plain": [
       "0          .jpg\n",
       "5          .jpg\n",
       "6          .jpg\n",
       "7          .jpg\n",
       "8          .jpg\n",
       "           ... \n",
       "2803458    .jpg\n",
       "2803459    .jpg\n",
       "2803460    .jpg\n",
       "2803483    .jpg\n",
       "2803517    .jpg\n",
       "Name: extension, Length: 665803, dtype: object"
      ]
     },
     "execution_count": 14,
     "metadata": {},
     "output_type": "execute_result"
    }
   ],
   "source": [
    "media['extension']"
   ]
  },
  {
   "cell_type": "code",
   "execution_count": 15,
   "id": "a0f8e58e",
   "metadata": {},
   "outputs": [
    {
     "data": {
      "text/plain": [
       ".jpg    663805\n",
       ".png      1991\n",
       ".gif         7\n",
       "Name: extension, dtype: int64"
      ]
     },
     "execution_count": 15,
     "metadata": {},
     "output_type": "execute_result"
    }
   ],
   "source": [
    "media['extension'].value_counts(dropna=False)"
   ]
  },
  {
   "cell_type": "code",
   "execution_count": 16,
   "id": "898ea376",
   "metadata": {},
   "outputs": [
    {
     "name": "stdout",
     "output_type": "stream",
     "text": [
      "Exception in saving file: write() argument must be str, not bytes\n",
      "Exception in saving file: write() argument must be str, not bytes\n",
      "Exception in saving file: write() argument must be str, not bytes\n",
      "Exception in saving file: write() argument must be str, not bytes\n",
      "Exception in saving file: write() argument must be str, not bytes\n",
      "Exception in saving file: write() argument must be str, not bytes\n",
      "Exception in saving file: write() argument must be str, not bytes\n",
      "Exception in saving file: write() argument must be str, not bytes\n",
      "Exception in saving file: write() argument must be str, not bytes\n",
      "Exception in saving file: write() argument must be str, not bytes\n",
      "Exception in saving file: write() argument must be str, not bytes\n",
      "Exception in saving file: write() argument must be str, not bytes\n",
      "Exception in saving file: write() argument must be str, not bytes\n",
      "Exception in saving file: write() argument must be str, not bytes\n",
      "Exception in saving file: write() argument must be str, not bytes\n",
      "Exception in saving file: write() argument must be str, not bytes\n",
      "Exception in saving file: write() argument must be str, not bytes\n",
      "Exception in saving file: write() argument must be str, not bytes\n",
      "Exception in saving file: write() argument must be str, not bytes\n",
      "Exception in saving file: write() argument must be str, not bytes\n",
      "Exception in saving file: write() argument must be str, not bytes\n",
      "Exception in saving file: write() argument must be str, not bytes\n",
      "Exception in saving file: write() argument must be str, not bytes\n",
      "Exception in saving file: write() argument must be str, not bytes\n",
      "Exception in saving file: write() argument must be str, not bytes\n",
      "Exception in saving file: write() argument must be str, not bytes\n",
      "Exception in saving file: write() argument must be str, not bytes\n",
      "Exception in saving file: write() argument must be str, not bytes\n",
      "Exception in saving file: write() argument must be str, not bytes\n",
      "Exception in saving file: write() argument must be str, not bytes\n",
      "Exception in saving file: write() argument must be str, not bytes\n",
      "Exception in saving file: write() argument must be str, not bytes\n",
      "Exception in saving file: write() argument must be str, not bytes\n",
      "Exception in saving file: write() argument must be str, not bytes\n",
      "Exception in saving file: write() argument must be str, not bytes\n",
      "Exception in saving file: write() argument must be str, not bytes\n",
      "Exception in saving file: write() argument must be str, not bytes\n",
      "Exception in saving file: write() argument must be str, not bytes\n",
      "Exception in saving file: write() argument must be str, not bytes\n",
      "Exception in saving file: write() argument must be str, not bytes\n",
      "Exception in saving file: write() argument must be str, not bytes\n",
      "Exception in saving file: write() argument must be str, not bytes\n",
      "Exception in saving file: write() argument must be str, not bytes\n",
      "Exception in saving file: write() argument must be str, not bytes\n",
      "Exception in saving file: write() argument must be str, not bytes\n",
      "Exception in saving file: write() argument must be str, not bytes\n",
      "Exception in saving file: write() argument must be str, not bytes\n",
      "Exception in saving file: write() argument must be str, not bytes\n",
      "Exception in saving file: write() argument must be str, not bytes\n",
      "Exception in saving file: write() argument must be str, not bytes\n",
      "Exception in saving file: write() argument must be str, not bytes\n",
      "Exception in saving file: write() argument must be str, not bytes\n",
      "Exception in saving file: write() argument must be str, not bytes\n",
      "Exception in saving file: write() argument must be str, not bytes\n",
      "Exception in saving file: write() argument must be str, not bytes\n",
      "Exception in saving file: write() argument must be str, not bytes\n"
     ]
    },
    {
     "ename": "KeyboardInterrupt",
     "evalue": "",
     "output_type": "error",
     "traceback": [
      "\u001b[0;31m---------------------------------------------------------------------------\u001b[0m",
      "\u001b[0;31mIndexError\u001b[0m                                Traceback (most recent call last)",
      "File \u001b[0;32m~/.conda/envs/fungi/lib/python3.10/multiprocessing/pool.py:856\u001b[0m, in \u001b[0;36mIMapIterator.next\u001b[0;34m(self, timeout)\u001b[0m\n\u001b[1;32m    855\u001b[0m \u001b[38;5;28;01mtry\u001b[39;00m:\n\u001b[0;32m--> 856\u001b[0m     item \u001b[38;5;241m=\u001b[39m \u001b[38;5;28;43mself\u001b[39;49m\u001b[38;5;241;43m.\u001b[39;49m\u001b[43m_items\u001b[49m\u001b[38;5;241;43m.\u001b[39;49m\u001b[43mpopleft\u001b[49m\u001b[43m(\u001b[49m\u001b[43m)\u001b[49m\n\u001b[1;32m    857\u001b[0m \u001b[38;5;28;01mexcept\u001b[39;00m \u001b[38;5;167;01mIndexError\u001b[39;00m:\n",
      "\u001b[0;31mIndexError\u001b[0m: pop from an empty deque",
      "\nDuring handling of the above exception, another exception occurred:\n",
      "\u001b[0;31mKeyboardInterrupt\u001b[0m                         Traceback (most recent call last)",
      "Cell \u001b[0;32mIn[16], line 2\u001b[0m\n\u001b[1;32m      1\u001b[0m \u001b[38;5;66;03m# download_sequential( zip ( media['identifier_media'].to_numpy(), media.index.to_numpy() ) )\u001b[39;00m\n\u001b[0;32m----> 2\u001b[0m \u001b[43mdownload_parallel\u001b[49m\u001b[43m(\u001b[49m\u001b[43m \u001b[49m\u001b[38;5;28;43mzip\u001b[39;49m\u001b[43m \u001b[49m\u001b[43m(\u001b[49m\n\u001b[1;32m      3\u001b[0m \u001b[43m    \u001b[49m\u001b[43mmedia\u001b[49m\u001b[43m[\u001b[49m\u001b[38;5;124;43m'\u001b[39;49m\u001b[38;5;124;43midentifier_media\u001b[39;49m\u001b[38;5;124;43m'\u001b[39;49m\u001b[43m]\u001b[49m\u001b[38;5;241;43m.\u001b[39;49m\u001b[43mto_numpy\u001b[49m\u001b[43m(\u001b[49m\u001b[43m)\u001b[49m\u001b[43m,\u001b[49m\n\u001b[1;32m      4\u001b[0m \u001b[43m    \u001b[49m\u001b[43mmedia\u001b[49m\u001b[38;5;241;43m.\u001b[39;49m\u001b[43mindex\u001b[49m\u001b[38;5;241;43m.\u001b[39;49m\u001b[43mto_numpy\u001b[49m\u001b[43m(\u001b[49m\u001b[43m)\u001b[49m\u001b[43m,\u001b[49m\n\u001b[1;32m      5\u001b[0m \u001b[43m    \u001b[49m\u001b[43mmedia\u001b[49m\u001b[43m[\u001b[49m\u001b[38;5;124;43m'\u001b[39;49m\u001b[38;5;124;43mextension\u001b[39;49m\u001b[38;5;124;43m'\u001b[39;49m\u001b[43m]\u001b[49m\u001b[43m,\u001b[49m\n\u001b[1;32m      6\u001b[0m \u001b[43m)\u001b[49m\u001b[43m \u001b[49m\u001b[43m)\u001b[49m\n",
      "File \u001b[0;32m~/github/charlescoult/fungi/gbif/parallel_download.py:61\u001b[0m, in \u001b[0;36mdownload_parallel\u001b[0;34m(args)\u001b[0m\n\u001b[1;32m     59\u001b[0m results \u001b[38;5;241m=\u001b[39m ThreadPool(cpus \u001b[38;5;241m-\u001b[39m \u001b[38;5;241m1\u001b[39m)\u001b[38;5;241m.\u001b[39mimap_unordered( download_image, args, chunksize\u001b[38;5;241m=\u001b[39m\u001b[38;5;241m4\u001b[39m )\n\u001b[1;32m     60\u001b[0m errors \u001b[38;5;241m=\u001b[39m []\n\u001b[0;32m---> 61\u001b[0m \u001b[38;5;28;01mfor\u001b[39;00m result \u001b[38;5;129;01min\u001b[39;00m results:\n\u001b[1;32m     62\u001b[0m     \u001b[38;5;28;01mif\u001b[39;00m (result):\n\u001b[1;32m     63\u001b[0m         \u001b[38;5;28;01mwith\u001b[39;00m \u001b[38;5;28mopen\u001b[39m(\u001b[38;5;124m'\u001b[39m\u001b[38;5;124merrors.txt\u001b[39m\u001b[38;5;124m'\u001b[39m,\u001b[38;5;124m'\u001b[39m\u001b[38;5;124ma\u001b[39m\u001b[38;5;124m'\u001b[39m) \u001b[38;5;28;01mas\u001b[39;00m f:\n",
      "File \u001b[0;32m~/.conda/envs/fungi/lib/python3.10/multiprocessing/pool.py:451\u001b[0m, in \u001b[0;36m<genexpr>\u001b[0;34m(.0)\u001b[0m\n\u001b[1;32m    443\u001b[0m result \u001b[38;5;241m=\u001b[39m IMapUnorderedIterator(\u001b[38;5;28mself\u001b[39m)\n\u001b[1;32m    444\u001b[0m \u001b[38;5;28mself\u001b[39m\u001b[38;5;241m.\u001b[39m_taskqueue\u001b[38;5;241m.\u001b[39mput(\n\u001b[1;32m    445\u001b[0m     (\n\u001b[1;32m    446\u001b[0m         \u001b[38;5;28mself\u001b[39m\u001b[38;5;241m.\u001b[39m_guarded_task_generation(result\u001b[38;5;241m.\u001b[39m_job,\n\u001b[0;32m   (...)\u001b[0m\n\u001b[1;32m    449\u001b[0m         result\u001b[38;5;241m.\u001b[39m_set_length\n\u001b[1;32m    450\u001b[0m     ))\n\u001b[0;32m--> 451\u001b[0m \u001b[38;5;28;01mreturn\u001b[39;00m (item \u001b[38;5;28;01mfor\u001b[39;00m chunk \u001b[38;5;129;01min\u001b[39;00m result \u001b[38;5;28;01mfor\u001b[39;00m item \u001b[38;5;129;01min\u001b[39;00m chunk)\n",
      "File \u001b[0;32m~/.conda/envs/fungi/lib/python3.10/multiprocessing/pool.py:861\u001b[0m, in \u001b[0;36mIMapIterator.next\u001b[0;34m(self, timeout)\u001b[0m\n\u001b[1;32m    859\u001b[0m     \u001b[38;5;28mself\u001b[39m\u001b[38;5;241m.\u001b[39m_pool \u001b[38;5;241m=\u001b[39m \u001b[38;5;28;01mNone\u001b[39;00m\n\u001b[1;32m    860\u001b[0m     \u001b[38;5;28;01mraise\u001b[39;00m \u001b[38;5;167;01mStopIteration\u001b[39;00m \u001b[38;5;28;01mfrom\u001b[39;00m \u001b[38;5;28mNone\u001b[39m\n\u001b[0;32m--> 861\u001b[0m \u001b[38;5;28;43mself\u001b[39;49m\u001b[38;5;241;43m.\u001b[39;49m\u001b[43m_cond\u001b[49m\u001b[38;5;241;43m.\u001b[39;49m\u001b[43mwait\u001b[49m\u001b[43m(\u001b[49m\u001b[43mtimeout\u001b[49m\u001b[43m)\u001b[49m\n\u001b[1;32m    862\u001b[0m \u001b[38;5;28;01mtry\u001b[39;00m:\n\u001b[1;32m    863\u001b[0m     item \u001b[38;5;241m=\u001b[39m \u001b[38;5;28mself\u001b[39m\u001b[38;5;241m.\u001b[39m_items\u001b[38;5;241m.\u001b[39mpopleft()\n",
      "File \u001b[0;32m~/.conda/envs/fungi/lib/python3.10/threading.py:320\u001b[0m, in \u001b[0;36mCondition.wait\u001b[0;34m(self, timeout)\u001b[0m\n\u001b[1;32m    318\u001b[0m \u001b[38;5;28;01mtry\u001b[39;00m:    \u001b[38;5;66;03m# restore state no matter what (e.g., KeyboardInterrupt)\u001b[39;00m\n\u001b[1;32m    319\u001b[0m     \u001b[38;5;28;01mif\u001b[39;00m timeout \u001b[38;5;129;01mis\u001b[39;00m \u001b[38;5;28;01mNone\u001b[39;00m:\n\u001b[0;32m--> 320\u001b[0m         \u001b[43mwaiter\u001b[49m\u001b[38;5;241;43m.\u001b[39;49m\u001b[43macquire\u001b[49m\u001b[43m(\u001b[49m\u001b[43m)\u001b[49m\n\u001b[1;32m    321\u001b[0m         gotit \u001b[38;5;241m=\u001b[39m \u001b[38;5;28;01mTrue\u001b[39;00m\n\u001b[1;32m    322\u001b[0m     \u001b[38;5;28;01melse\u001b[39;00m:\n",
      "\u001b[0;31mKeyboardInterrupt\u001b[0m: "
     ]
    },
    {
     "name": "stdout",
     "output_type": "stream",
     "text": [
      "Exception in saving file: write() argument must be str, not bytes\n",
      "Exception in saving file: write() argument must be str, not bytes\n",
      "Exception in saving file: write() argument must be str, not bytes\n",
      "Exception in saving file: write() argument must be str, not bytes\n",
      "Exception in saving file: write() argument must be str, not bytes\n",
      "Exception in saving file: write() argument must be str, not bytes\n",
      "Exception in saving file: write() argument must be str, not bytes\n",
      "Exception in saving file: write() argument must be str, not bytes\n",
      "Exception in saving file: write() argument must be str, not bytes\n",
      "Exception in saving file: write() argument must be str, not bytes\n",
      "Exception in saving file: write() argument must be str, not bytes\n",
      "Exception in saving file: write() argument must be str, not bytes\n",
      "Exception in saving file: write() argument must be str, not bytes\n",
      "Exception in saving file: write() argument must be str, not bytes\n",
      "Exception in saving file: write() argument must be str, not bytes\n",
      "Exception in saving file: write() argument must be str, not bytes\n",
      "Exception in saving file: write() argument must be str, not bytes\n",
      "Exception in saving file: write() argument must be str, not bytes\n",
      "Exception in saving file: write() argument must be str, not bytes\n",
      "Exception in saving file: write() argument must be str, not bytes\n",
      "Exception in saving file: write() argument must be str, not bytes\n",
      "Exception in saving file: write() argument must be str, not bytes\n",
      "Exception in saving file: write() argument must be str, not bytes\n",
      "Exception in saving file: write() argument must be str, not bytes\n",
      "Exception in saving file: write() argument must be str, not bytes\n"
     ]
    }
   ],
   "source": [
    "# download_sequential( zip ( media['identifier_media'].to_numpy(), media.index.to_numpy() ) )\n",
    "download_parallel( zip (\n",
    "    media['identifier_media'].to_numpy(),\n",
    "    media.index.to_numpy(),\n",
    "    media['extension'],\n",
    ") )"
   ]
  },
  {
   "cell_type": "code",
   "execution_count": null,
   "id": "6906b5ce",
   "metadata": {},
   "outputs": [],
   "source": []
  }
 ],
 "metadata": {
  "kernelspec": {
   "display_name": "Python [conda env:.conda-fungi] *",
   "language": "python",
   "name": "conda-env-.conda-fungi-py"
  },
  "language_info": {
   "codemirror_mode": {
    "name": "ipython",
    "version": 3
   },
   "file_extension": ".py",
   "mimetype": "text/x-python",
   "name": "python",
   "nbconvert_exporter": "python",
   "pygments_lexer": "ipython3",
   "version": "3.10.8"
  }
 },
 "nbformat": 4,
 "nbformat_minor": 5
}
