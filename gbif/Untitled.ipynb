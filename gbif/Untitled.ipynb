{
 "cells": [
  {
   "cell_type": "code",
   "execution_count": 1,
   "id": "73b778b3",
   "metadata": {},
   "outputs": [],
   "source": [
    "import pandas as pd\n"
   ]
  },
  {
   "cell_type": "code",
   "execution_count": 4,
   "id": "929aa5de",
   "metadata": {},
   "outputs": [],
   "source": [
    "hdf = pd.HDFStore( 'clean_data.h5')\n",
    "hdf.keys()"
   ]
  },
  {
   "cell_type": "code",
   "execution_count": 5,
   "id": "34b34e54",
   "metadata": {},
   "outputs": [
    {
     "data": {
      "text/plain": [
       "['/media', '/obs']"
      ]
     },
     "execution_count": 5,
     "metadata": {},
     "output_type": "execute_result"
    }
   ],
   "source": [
    "obs = hdf.read()"
   ]
  },
  {
   "cell_type": "code",
   "execution_count": 9,
   "id": "4aaadcb6",
   "metadata": {},
   "outputs": [
    {
     "data": {
      "text/html": [
       "<div>\n",
       "<style scoped>\n",
       "    .dataframe tbody tr th:only-of-type {\n",
       "        vertical-align: middle;\n",
       "    }\n",
       "\n",
       "    .dataframe tbody tr th {\n",
       "        vertical-align: top;\n",
       "    }\n",
       "\n",
       "    .dataframe thead th {\n",
       "        text-align: right;\n",
       "    }\n",
       "</style>\n",
       "<table border=\"1\" class=\"dataframe\">\n",
       "  <thead>\n",
       "    <tr style=\"text-align: right;\">\n",
       "      <th></th>\n",
       "      <th>gbifID</th>\n",
       "      <th>format</th>\n",
       "      <th>identifier</th>\n",
       "    </tr>\n",
       "  </thead>\n",
       "  <tbody>\n",
       "    <tr>\n",
       "      <th>0</th>\n",
       "      <td>891021265</td>\n",
       "      <td>image/jpeg</td>\n",
       "      <td>https://inaturalist-open-data.s3.amazonaws.com...</td>\n",
       "    </tr>\n",
       "    <tr>\n",
       "      <th>1</th>\n",
       "      <td>891023450</td>\n",
       "      <td>image/jpeg</td>\n",
       "      <td>https://inaturalist-open-data.s3.amazonaws.com...</td>\n",
       "    </tr>\n",
       "    <tr>\n",
       "      <th>2</th>\n",
       "      <td>891023450</td>\n",
       "      <td>image/jpeg</td>\n",
       "      <td>https://inaturalist-open-data.s3.amazonaws.com...</td>\n",
       "    </tr>\n",
       "    <tr>\n",
       "      <th>3</th>\n",
       "      <td>891023450</td>\n",
       "      <td>image/jpeg</td>\n",
       "      <td>https://inaturalist-open-data.s3.amazonaws.com...</td>\n",
       "    </tr>\n",
       "    <tr>\n",
       "      <th>4</th>\n",
       "      <td>891023450</td>\n",
       "      <td>image/jpeg</td>\n",
       "      <td>https://inaturalist-open-data.s3.amazonaws.com...</td>\n",
       "    </tr>\n",
       "  </tbody>\n",
       "</table>\n",
       "</div>"
      ],
      "text/plain": [
       "      gbifID      format                                         identifier\n",
       "0  891021265  image/jpeg  https://inaturalist-open-data.s3.amazonaws.com...\n",
       "1  891023450  image/jpeg  https://inaturalist-open-data.s3.amazonaws.com...\n",
       "2  891023450  image/jpeg  https://inaturalist-open-data.s3.amazonaws.com...\n",
       "3  891023450  image/jpeg  https://inaturalist-open-data.s3.amazonaws.com...\n",
       "4  891023450  image/jpeg  https://inaturalist-open-data.s3.amazonaws.com..."
      ]
     },
     "execution_count": 9,
     "metadata": {},
     "output_type": "execute_result"
    }
   ],
   "source": [
    "media = hdf.get('media')\n",
    "media.head()"
   ]
  },
  {
   "cell_type": "code",
   "execution_count": 10,
   "id": "4ba84105",
   "metadata": {},
   "outputs": [
    {
     "data": {
      "text/html": [
       "<div>\n",
       "<style scoped>\n",
       "    .dataframe tbody tr th:only-of-type {\n",
       "        vertical-align: middle;\n",
       "    }\n",
       "\n",
       "    .dataframe tbody tr th {\n",
       "        vertical-align: top;\n",
       "    }\n",
       "\n",
       "    .dataframe thead th {\n",
       "        text-align: right;\n",
       "    }\n",
       "</style>\n",
       "<table border=\"1\" class=\"dataframe\">\n",
       "  <thead>\n",
       "    <tr style=\"text-align: right;\">\n",
       "      <th></th>\n",
       "      <th>gbifID</th>\n",
       "      <th>identifier</th>\n",
       "      <th>license</th>\n",
       "      <th>modified</th>\n",
       "      <th>references</th>\n",
       "      <th>rightsHolder</th>\n",
       "      <th>occurrenceID</th>\n",
       "      <th>catalogNumber</th>\n",
       "      <th>recordedBy</th>\n",
       "      <th>eventDate</th>\n",
       "      <th>...</th>\n",
       "      <th>lastParsed</th>\n",
       "      <th>repatriated</th>\n",
       "      <th>level0Gid</th>\n",
       "      <th>level0Name</th>\n",
       "      <th>level1Gid</th>\n",
       "      <th>level1Name</th>\n",
       "      <th>level2Gid</th>\n",
       "      <th>level2Name</th>\n",
       "      <th>iucnRedListCategory</th>\n",
       "      <th>month_name</th>\n",
       "    </tr>\n",
       "  </thead>\n",
       "  <tbody>\n",
       "    <tr>\n",
       "      <th>0</th>\n",
       "      <td>2862378302</td>\n",
       "      <td>1897201</td>\n",
       "      <td>CC_BY_NC_4_0</td>\n",
       "      <td>2020-09-08T19:04:31Z</td>\n",
       "      <td>https://www.inaturalist.org/observations/1897201</td>\n",
       "      <td>Mike Leveille</td>\n",
       "      <td>http://inaturalist.ca/observations/1897201</td>\n",
       "      <td>1897201</td>\n",
       "      <td>Mike Leveille</td>\n",
       "      <td>2015-08-27T00:00:00</td>\n",
       "      <td>...</td>\n",
       "      <td>2022-11-25T04:48:22.297Z</td>\n",
       "      <td>False</td>\n",
       "      <td>CAN</td>\n",
       "      <td>Canada</td>\n",
       "      <td>CAN.9_1</td>\n",
       "      <td>Ontario</td>\n",
       "      <td>CAN.9.35_1</td>\n",
       "      <td>Ottawa</td>\n",
       "      <td>NE</td>\n",
       "      <td>August</td>\n",
       "    </tr>\n",
       "    <tr>\n",
       "      <th>1</th>\n",
       "      <td>1572388850</td>\n",
       "      <td>6999380</td>\n",
       "      <td>CC_BY_NC_4_0</td>\n",
       "      <td>2017-07-10T23:00:52Z</td>\n",
       "      <td>https://www.inaturalist.org/observations/6999380</td>\n",
       "      <td>Django Grootmyers</td>\n",
       "      <td>https://www.inaturalist.org/observations/6999380</td>\n",
       "      <td>6999380</td>\n",
       "      <td>Django Grootmyers</td>\n",
       "      <td>2015-07-02T00:00:00</td>\n",
       "      <td>...</td>\n",
       "      <td>2022-11-25T04:49:53.527Z</td>\n",
       "      <td>False</td>\n",
       "      <td>USA</td>\n",
       "      <td>United States</td>\n",
       "      <td>USA.20_1</td>\n",
       "      <td>Maine</td>\n",
       "      <td>USA.20.3_1</td>\n",
       "      <td>Cumberland</td>\n",
       "      <td>NE</td>\n",
       "      <td>July</td>\n",
       "    </tr>\n",
       "    <tr>\n",
       "      <th>2</th>\n",
       "      <td>1944424565</td>\n",
       "      <td>9174531</td>\n",
       "      <td>CC_BY_NC_4_0</td>\n",
       "      <td>2021-07-31T14:56:10Z</td>\n",
       "      <td>https://www.inaturalist.org/observations/9174531</td>\n",
       "      <td>Carlos G Velazco-Macias</td>\n",
       "      <td>https://www.inaturalist.org/observations/9174531</td>\n",
       "      <td>9174531</td>\n",
       "      <td>Carlos G Velazco-Macias</td>\n",
       "      <td>2017-12-02T09:20:47</td>\n",
       "      <td>...</td>\n",
       "      <td>2022-11-25T04:50:34.751Z</td>\n",
       "      <td>False</td>\n",
       "      <td>MEX</td>\n",
       "      <td>México</td>\n",
       "      <td>MEX.19_1</td>\n",
       "      <td>Nuevo León</td>\n",
       "      <td>MEX.19.26_2</td>\n",
       "      <td>Higueras</td>\n",
       "      <td>NE</td>\n",
       "      <td>December</td>\n",
       "    </tr>\n",
       "    <tr>\n",
       "      <th>3</th>\n",
       "      <td>1838337501</td>\n",
       "      <td>10944119</td>\n",
       "      <td>CC_BY_NC_4_0</td>\n",
       "      <td>2018-04-15T04:35:07Z</td>\n",
       "      <td>https://www.inaturalist.org/observations/10944119</td>\n",
       "      <td>Nikola</td>\n",
       "      <td>https://www.inaturalist.org/observations/10944119</td>\n",
       "      <td>10944119</td>\n",
       "      <td>Nikola</td>\n",
       "      <td>2014-06-16T00:00:00</td>\n",
       "      <td>...</td>\n",
       "      <td>2022-11-25T04:51:08.182Z</td>\n",
       "      <td>True</td>\n",
       "      <td>ZAF</td>\n",
       "      <td>South Africa</td>\n",
       "      <td>ZAF.9_1</td>\n",
       "      <td>Western Cape</td>\n",
       "      <td>ZAF.9.3_1</td>\n",
       "      <td>City of Cape Town</td>\n",
       "      <td>NE</td>\n",
       "      <td>June</td>\n",
       "    </tr>\n",
       "    <tr>\n",
       "      <th>4</th>\n",
       "      <td>1841319995</td>\n",
       "      <td>12071576</td>\n",
       "      <td>CC_BY_NC_4_0</td>\n",
       "      <td>2021-07-31T14:56:10Z</td>\n",
       "      <td>https://www.inaturalist.org/observations/12071576</td>\n",
       "      <td>Carlos G Velazco-Macias</td>\n",
       "      <td>https://www.inaturalist.org/observations/12071576</td>\n",
       "      <td>12071576</td>\n",
       "      <td>Carlos G Velazco-Macias</td>\n",
       "      <td>2018-04-30T13:55:00</td>\n",
       "      <td>...</td>\n",
       "      <td>2022-11-25T04:51:24.861Z</td>\n",
       "      <td>False</td>\n",
       "      <td>MEX</td>\n",
       "      <td>México</td>\n",
       "      <td>MEX.19_1</td>\n",
       "      <td>Nuevo León</td>\n",
       "      <td>MEX.19.24_2</td>\n",
       "      <td>Guadalupe</td>\n",
       "      <td>NE</td>\n",
       "      <td>April</td>\n",
       "    </tr>\n",
       "  </tbody>\n",
       "</table>\n",
       "<p>5 rows × 63 columns</p>\n",
       "</div>"
      ],
      "text/plain": [
       "       gbifID  identifier       license              modified  \\\n",
       "0  2862378302     1897201  CC_BY_NC_4_0  2020-09-08T19:04:31Z   \n",
       "1  1572388850     6999380  CC_BY_NC_4_0  2017-07-10T23:00:52Z   \n",
       "2  1944424565     9174531  CC_BY_NC_4_0  2021-07-31T14:56:10Z   \n",
       "3  1838337501    10944119  CC_BY_NC_4_0  2018-04-15T04:35:07Z   \n",
       "4  1841319995    12071576  CC_BY_NC_4_0  2021-07-31T14:56:10Z   \n",
       "\n",
       "                                          references             rightsHolder  \\\n",
       "0   https://www.inaturalist.org/observations/1897201            Mike Leveille   \n",
       "1   https://www.inaturalist.org/observations/6999380        Django Grootmyers   \n",
       "2   https://www.inaturalist.org/observations/9174531  Carlos G Velazco-Macias   \n",
       "3  https://www.inaturalist.org/observations/10944119                   Nikola   \n",
       "4  https://www.inaturalist.org/observations/12071576  Carlos G Velazco-Macias   \n",
       "\n",
       "                                        occurrenceID  catalogNumber  \\\n",
       "0         http://inaturalist.ca/observations/1897201        1897201   \n",
       "1   https://www.inaturalist.org/observations/6999380        6999380   \n",
       "2   https://www.inaturalist.org/observations/9174531        9174531   \n",
       "3  https://www.inaturalist.org/observations/10944119       10944119   \n",
       "4  https://www.inaturalist.org/observations/12071576       12071576   \n",
       "\n",
       "                recordedBy            eventDate  ...  \\\n",
       "0            Mike Leveille  2015-08-27T00:00:00  ...   \n",
       "1        Django Grootmyers  2015-07-02T00:00:00  ...   \n",
       "2  Carlos G Velazco-Macias  2017-12-02T09:20:47  ...   \n",
       "3                   Nikola  2014-06-16T00:00:00  ...   \n",
       "4  Carlos G Velazco-Macias  2018-04-30T13:55:00  ...   \n",
       "\n",
       "                 lastParsed  repatriated  level0Gid     level0Name level1Gid  \\\n",
       "0  2022-11-25T04:48:22.297Z        False        CAN         Canada   CAN.9_1   \n",
       "1  2022-11-25T04:49:53.527Z        False        USA  United States  USA.20_1   \n",
       "2  2022-11-25T04:50:34.751Z        False        MEX         México  MEX.19_1   \n",
       "3  2022-11-25T04:51:08.182Z         True        ZAF   South Africa   ZAF.9_1   \n",
       "4  2022-11-25T04:51:24.861Z        False        MEX         México  MEX.19_1   \n",
       "\n",
       "     level1Name    level2Gid         level2Name  iucnRedListCategory  \\\n",
       "0       Ontario   CAN.9.35_1             Ottawa                   NE   \n",
       "1         Maine   USA.20.3_1         Cumberland                   NE   \n",
       "2    Nuevo León  MEX.19.26_2           Higueras                   NE   \n",
       "3  Western Cape    ZAF.9.3_1  City of Cape Town                   NE   \n",
       "4    Nuevo León  MEX.19.24_2          Guadalupe                   NE   \n",
       "\n",
       "   month_name  \n",
       "0      August  \n",
       "1        July  \n",
       "2    December  \n",
       "3        June  \n",
       "4       April  \n",
       "\n",
       "[5 rows x 63 columns]"
      ]
     },
     "execution_count": 10,
     "metadata": {},
     "output_type": "execute_result"
    }
   ],
   "source": [
    "obs = hdf.get('obs')\n",
    "obs.head()"
   ]
  },
  {
   "cell_type": "code",
   "execution_count": 12,
   "id": "6640b3a5",
   "metadata": {},
   "outputs": [
    {
     "data": {
      "text/html": [
       "<div>\n",
       "<style scoped>\n",
       "    .dataframe tbody tr th:only-of-type {\n",
       "        vertical-align: middle;\n",
       "    }\n",
       "\n",
       "    .dataframe tbody tr th {\n",
       "        vertical-align: top;\n",
       "    }\n",
       "\n",
       "    .dataframe thead th {\n",
       "        text-align: right;\n",
       "    }\n",
       "</style>\n",
       "<table border=\"1\" class=\"dataframe\">\n",
       "  <thead>\n",
       "    <tr style=\"text-align: right;\">\n",
       "      <th></th>\n",
       "      <th>gbifID</th>\n",
       "      <th>identifier</th>\n",
       "      <th>license</th>\n",
       "      <th>modified</th>\n",
       "      <th>references</th>\n",
       "      <th>rightsHolder</th>\n",
       "      <th>occurrenceID</th>\n",
       "      <th>catalogNumber</th>\n",
       "      <th>recordedBy</th>\n",
       "      <th>eventDate</th>\n",
       "      <th>...</th>\n",
       "      <th>lastParsed</th>\n",
       "      <th>repatriated</th>\n",
       "      <th>level0Gid</th>\n",
       "      <th>level0Name</th>\n",
       "      <th>level1Gid</th>\n",
       "      <th>level1Name</th>\n",
       "      <th>level2Gid</th>\n",
       "      <th>level2Name</th>\n",
       "      <th>iucnRedListCategory</th>\n",
       "      <th>month_name</th>\n",
       "    </tr>\n",
       "  </thead>\n",
       "  <tbody>\n",
       "  </tbody>\n",
       "</table>\n",
       "<p>0 rows × 63 columns</p>\n",
       "</div>"
      ],
      "text/plain": [
       "Empty DataFrame\n",
       "Columns: [gbifID, identifier, license, modified, references, rightsHolder, occurrenceID, catalogNumber, recordedBy, eventDate, eventTime, year, month, day, verbatimEventDate, countryCode, stateProvince, verbatimLocality, decimalLatitude, decimalLongitude, coordinateUncertaintyInMeters, identificationID, identifiedBy, dateIdentified, taxonID, acceptedNameUsageID, scientificName, phylum, class, order, family, genus, genericName, specificEpithet, taxonRank, taxonomicStatus, publishingCountry, lastInterpreted, issue, mediaType, hasCoordinate, hasGeospatialIssues, taxonKey, acceptedTaxonKey, phylumKey, classKey, orderKey, familyKey, genusKey, speciesKey, species, acceptedScientificName, verbatimScientificName, lastParsed, repatriated, level0Gid, level0Name, level1Gid, level1Name, level2Gid, level2Name, iucnRedListCategory, month_name]\n",
       "Index: []\n",
       "\n",
       "[0 rows x 63 columns]"
      ]
     },
     "execution_count": 12,
     "metadata": {},
     "output_type": "execute_result"
    }
   ],
   "source": [
    "obs[ obs['identifier'] != obs['catalogNumber']]"
   ]
  },
  {
   "cell_type": "code",
   "execution_count": 13,
   "id": "cc156f5c",
   "metadata": {},
   "outputs": [
    {
     "data": {
      "text/plain": [
       "0          2015-08-27T00:00:00\n",
       "1          2015-07-02T00:00:00\n",
       "2          2017-12-02T09:20:47\n",
       "3          2014-06-16T00:00:00\n",
       "4          2018-04-30T13:55:00\n",
       "                  ...         \n",
       "1426876    2018-10-18T13:14:34\n",
       "1426877    2019-02-14T11:10:00\n",
       "1426878    2019-03-29T18:48:12\n",
       "1426879    2019-06-06T13:06:30\n",
       "1426880    2019-08-05T14:12:00\n",
       "Name: eventDate, Length: 1426881, dtype: object"
      ]
     },
     "execution_count": 13,
     "metadata": {},
     "output_type": "execute_result"
    }
   ],
   "source": [
    "obs['eventDate']"
   ]
  },
  {
   "cell_type": "code",
   "execution_count": 19,
   "id": "77b2c6cc",
   "metadata": {},
   "outputs": [
    {
     "data": {
      "text/plain": [
       "13675996.0     1\n",
       "167605003.0    1\n",
       "218189260.0    1\n",
       "216135111.0    1\n",
       "208653016.0    1\n",
       "              ..\n",
       "79281959.0     1\n",
       "79596601.0     1\n",
       "77892542.0     1\n",
       "37030848.0     1\n",
       "66224789.0     1\n",
       "Name: identificationID, Length: 1421622, dtype: int64"
      ]
     },
     "execution_count": 19,
     "metadata": {},
     "output_type": "execute_result"
    }
   ],
   "source": [
    "obs['identificationID'].value_counts()"
   ]
  },
  {
   "cell_type": "code",
   "execution_count": 24,
   "id": "5c67dff4",
   "metadata": {},
   "outputs": [
    {
     "data": {
      "text/plain": [
       "12924"
      ]
     },
     "execution_count": 24,
     "metadata": {},
     "output_type": "execute_result"
    }
   ],
   "source": [
    "len(obs['scientificName'].value_counts())"
   ]
  },
  {
   "cell_type": "code",
   "execution_count": 25,
   "id": "7639ef32",
   "metadata": {},
   "outputs": [
    {
     "data": {
      "text/plain": [
       "13248"
      ]
     },
     "execution_count": 25,
     "metadata": {},
     "output_type": "execute_result"
    }
   ],
   "source": [
    "len(obs['taxonID'].value_counts())"
   ]
  },
  {
   "cell_type": "code",
   "execution_count": 36,
   "id": "aa58f585",
   "metadata": {},
   "outputs": [
    {
     "data": {
      "text/plain": [
       "True     1423300\n",
       "False       3581\n",
       "Name: hasCoordinate, dtype: int64"
      ]
     },
     "execution_count": 36,
     "metadata": {},
     "output_type": "execute_result"
    }
   ],
   "source": [
    "obs['hasCoordinate'].value_counts()"
   ]
  },
  {
   "cell_type": "code",
   "execution_count": 37,
   "id": "70b41032",
   "metadata": {},
   "outputs": [
    {
     "data": {
      "text/plain": [
       "False    1426459\n",
       "True         422\n",
       "Name: hasGeospatialIssues, dtype: int64"
      ]
     },
     "execution_count": 37,
     "metadata": {},
     "output_type": "execute_result"
    }
   ],
   "source": [
    "obs['hasGeospatialIssues'].value_counts()"
   ]
  },
  {
   "cell_type": "code",
   "execution_count": 45,
   "id": "399acb57",
   "metadata": {},
   "outputs": [
    {
     "data": {
      "text/plain": [
       "October      220295\n",
       "September    183293\n",
       "August       152020\n",
       "May          126097\n",
       "July         123167\n",
       "November     113577\n",
       "June         108872\n",
       "April        103231\n",
       "January       83321\n",
       "December      80299\n",
       "March         72673\n",
       "February      60036\n",
       "Name: month_name, dtype: int64"
      ]
     },
     "execution_count": 45,
     "metadata": {},
     "output_type": "execute_result"
    }
   ],
   "source": [
    "obs['month_name'].value_counts()"
   ]
  },
  {
   "cell_type": "code",
   "execution_count": null,
   "id": "d55c61b6",
   "metadata": {},
   "outputs": [],
   "source": []
  }
 ],
 "metadata": {
  "kernelspec": {
   "display_name": "Python [conda env:.conda-fungi] *",
   "language": "python",
   "name": "conda-env-.conda-fungi-py"
  },
  "language_info": {
   "codemirror_mode": {
    "name": "ipython",
    "version": 3
   },
   "file_extension": ".py",
   "mimetype": "text/x-python",
   "name": "python",
   "nbconvert_exporter": "python",
   "pygments_lexer": "ipython3",
   "version": "3.10.6"
  }
 },
 "nbformat": 4,
 "nbformat_minor": 5
}
