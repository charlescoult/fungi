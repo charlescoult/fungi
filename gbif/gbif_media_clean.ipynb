{
 "cells": [
  {
   "cell_type": "code",
   "execution_count": 1,
   "id": "c4077f89",
   "metadata": {},
   "outputs": [],
   "source": [
    "import pandas as pd"
   ]
  },
  {
   "cell_type": "code",
   "execution_count": 2,
   "id": "ae1cfcdc",
   "metadata": {},
   "outputs": [
    {
     "data": {
      "text/plain": [
       "(1426881, 63)"
      ]
     },
     "execution_count": 2,
     "metadata": {},
     "output_type": "execute_result"
    }
   ],
   "source": [
    "# import observations\n",
    "obs = pd.read_hdf(\n",
    "    'clean_data.h5',\n",
    "    'obs',\n",
    ")\n",
    "obs.shape"
   ]
  },
  {
   "cell_type": "code",
   "execution_count": 3,
   "id": "36a9dfbf",
   "metadata": {},
   "outputs": [
    {
     "data": {
      "text/plain": [
       "(2803568, 15)"
      ]
     },
     "execution_count": 3,
     "metadata": {},
     "output_type": "execute_result"
    }
   ],
   "source": [
    "media = pd.read_csv(\n",
    "    'fungi/multimedia.txt',\n",
    "    delimiter='\\t',\n",
    ")\n",
    "media.shape"
   ]
  },
  {
   "cell_type": "markdown",
   "id": "8dc7662e",
   "metadata": {},
   "source": [
    "# Reduce 'media' columns"
   ]
  },
  {
   "cell_type": "code",
   "execution_count": 4,
   "id": "3b50b1fd",
   "metadata": {},
   "outputs": [
    {
     "data": {
      "text/plain": [
       "['gbifID',\n",
       " 'type',\n",
       " 'format',\n",
       " 'identifier',\n",
       " 'references',\n",
       " 'title',\n",
       " 'description',\n",
       " 'source',\n",
       " 'audience',\n",
       " 'created',\n",
       " 'creator',\n",
       " 'contributor',\n",
       " 'publisher',\n",
       " 'license',\n",
       " 'rightsHolder']"
      ]
     },
     "execution_count": 4,
     "metadata": {},
     "output_type": "execute_result"
    }
   ],
   "source": [
    "media.columns.tolist()"
   ]
  },
  {
   "cell_type": "code",
   "execution_count": 5,
   "id": "b6733ea1",
   "metadata": {},
   "outputs": [
    {
     "data": {
      "text/plain": [
       "'Number of observations with media: 1387575'"
      ]
     },
     "execution_count": 5,
     "metadata": {},
     "output_type": "execute_result"
    }
   ],
   "source": [
    "f\"Number of observations with media: {len(media['gbifID'].value_counts())}\""
   ]
  },
  {
   "cell_type": "code",
   "execution_count": 6,
   "id": "c8c80d58",
   "metadata": {},
   "outputs": [
    {
     "data": {
      "text/html": [
       "<div>\n",
       "<style scoped>\n",
       "    .dataframe tbody tr th:only-of-type {\n",
       "        vertical-align: middle;\n",
       "    }\n",
       "\n",
       "    .dataframe tbody tr th {\n",
       "        vertical-align: top;\n",
       "    }\n",
       "\n",
       "    .dataframe thead th {\n",
       "        text-align: right;\n",
       "    }\n",
       "</style>\n",
       "<table border=\"1\" class=\"dataframe\">\n",
       "  <thead>\n",
       "    <tr style=\"text-align: right;\">\n",
       "      <th></th>\n",
       "      <th>gbifID</th>\n",
       "      <th>type</th>\n",
       "      <th>format</th>\n",
       "      <th>identifier</th>\n",
       "      <th>references</th>\n",
       "      <th>title</th>\n",
       "      <th>description</th>\n",
       "      <th>source</th>\n",
       "      <th>audience</th>\n",
       "      <th>created</th>\n",
       "      <th>creator</th>\n",
       "      <th>contributor</th>\n",
       "      <th>publisher</th>\n",
       "      <th>license</th>\n",
       "      <th>rightsHolder</th>\n",
       "    </tr>\n",
       "  </thead>\n",
       "  <tbody>\n",
       "    <tr>\n",
       "      <th>0</th>\n",
       "      <td>891021265</td>\n",
       "      <td>StillImage</td>\n",
       "      <td>image/jpeg</td>\n",
       "      <td>https://inaturalist-open-data.s3.amazonaws.com...</td>\n",
       "      <td>https://www.inaturalist.org/photos/170720</td>\n",
       "      <td>NaN</td>\n",
       "      <td>NaN</td>\n",
       "      <td>NaN</td>\n",
       "      <td>NaN</td>\n",
       "      <td>2012-08-31</td>\n",
       "      <td>kirsten</td>\n",
       "      <td>NaN</td>\n",
       "      <td>iNaturalist</td>\n",
       "      <td>http://creativecommons.org/licenses/by-nc/4.0/</td>\n",
       "      <td>kirsten</td>\n",
       "    </tr>\n",
       "    <tr>\n",
       "      <th>1</th>\n",
       "      <td>891023450</td>\n",
       "      <td>StillImage</td>\n",
       "      <td>image/jpeg</td>\n",
       "      <td>https://inaturalist-open-data.s3.amazonaws.com...</td>\n",
       "      <td>http://www.flickr.com/photos/loarie/8662398374/</td>\n",
       "      <td>NaN</td>\n",
       "      <td>NaN</td>\n",
       "      <td>NaN</td>\n",
       "      <td>NaN</td>\n",
       "      <td>2013-04-18</td>\n",
       "      <td>Don Loarie</td>\n",
       "      <td>NaN</td>\n",
       "      <td>iNaturalist</td>\n",
       "      <td>http://creativecommons.org/licenses/by/4.0/</td>\n",
       "      <td>Don Loarie</td>\n",
       "    </tr>\n",
       "    <tr>\n",
       "      <th>2</th>\n",
       "      <td>891023450</td>\n",
       "      <td>StillImage</td>\n",
       "      <td>image/jpeg</td>\n",
       "      <td>https://inaturalist-open-data.s3.amazonaws.com...</td>\n",
       "      <td>http://www.flickr.com/photos/loarie/8662397760/</td>\n",
       "      <td>NaN</td>\n",
       "      <td>NaN</td>\n",
       "      <td>NaN</td>\n",
       "      <td>NaN</td>\n",
       "      <td>2013-04-18</td>\n",
       "      <td>Don Loarie</td>\n",
       "      <td>NaN</td>\n",
       "      <td>iNaturalist</td>\n",
       "      <td>http://creativecommons.org/licenses/by/4.0/</td>\n",
       "      <td>Don Loarie</td>\n",
       "    </tr>\n",
       "    <tr>\n",
       "      <th>3</th>\n",
       "      <td>891023450</td>\n",
       "      <td>StillImage</td>\n",
       "      <td>image/jpeg</td>\n",
       "      <td>https://inaturalist-open-data.s3.amazonaws.com...</td>\n",
       "      <td>http://www.flickr.com/photos/loarie/8661298161/</td>\n",
       "      <td>NaN</td>\n",
       "      <td>NaN</td>\n",
       "      <td>NaN</td>\n",
       "      <td>NaN</td>\n",
       "      <td>2013-04-18</td>\n",
       "      <td>Don Loarie</td>\n",
       "      <td>NaN</td>\n",
       "      <td>iNaturalist</td>\n",
       "      <td>http://creativecommons.org/licenses/by/4.0/</td>\n",
       "      <td>Don Loarie</td>\n",
       "    </tr>\n",
       "    <tr>\n",
       "      <th>4</th>\n",
       "      <td>891023450</td>\n",
       "      <td>StillImage</td>\n",
       "      <td>image/jpeg</td>\n",
       "      <td>https://inaturalist-open-data.s3.amazonaws.com...</td>\n",
       "      <td>http://www.flickr.com/photos/loarie/8677081358/</td>\n",
       "      <td>NaN</td>\n",
       "      <td>NaN</td>\n",
       "      <td>NaN</td>\n",
       "      <td>NaN</td>\n",
       "      <td>2013-04-18</td>\n",
       "      <td>Don Loarie</td>\n",
       "      <td>NaN</td>\n",
       "      <td>iNaturalist</td>\n",
       "      <td>http://creativecommons.org/licenses/by/4.0/</td>\n",
       "      <td>Don Loarie</td>\n",
       "    </tr>\n",
       "  </tbody>\n",
       "</table>\n",
       "</div>"
      ],
      "text/plain": [
       "      gbifID        type      format  \\\n",
       "0  891021265  StillImage  image/jpeg   \n",
       "1  891023450  StillImage  image/jpeg   \n",
       "2  891023450  StillImage  image/jpeg   \n",
       "3  891023450  StillImage  image/jpeg   \n",
       "4  891023450  StillImage  image/jpeg   \n",
       "\n",
       "                                          identifier  \\\n",
       "0  https://inaturalist-open-data.s3.amazonaws.com...   \n",
       "1  https://inaturalist-open-data.s3.amazonaws.com...   \n",
       "2  https://inaturalist-open-data.s3.amazonaws.com...   \n",
       "3  https://inaturalist-open-data.s3.amazonaws.com...   \n",
       "4  https://inaturalist-open-data.s3.amazonaws.com...   \n",
       "\n",
       "                                        references  title  description  \\\n",
       "0        https://www.inaturalist.org/photos/170720    NaN          NaN   \n",
       "1  http://www.flickr.com/photos/loarie/8662398374/    NaN          NaN   \n",
       "2  http://www.flickr.com/photos/loarie/8662397760/    NaN          NaN   \n",
       "3  http://www.flickr.com/photos/loarie/8661298161/    NaN          NaN   \n",
       "4  http://www.flickr.com/photos/loarie/8677081358/    NaN          NaN   \n",
       "\n",
       "   source  audience     created     creator  contributor    publisher  \\\n",
       "0     NaN       NaN  2012-08-31     kirsten          NaN  iNaturalist   \n",
       "1     NaN       NaN  2013-04-18  Don Loarie          NaN  iNaturalist   \n",
       "2     NaN       NaN  2013-04-18  Don Loarie          NaN  iNaturalist   \n",
       "3     NaN       NaN  2013-04-18  Don Loarie          NaN  iNaturalist   \n",
       "4     NaN       NaN  2013-04-18  Don Loarie          NaN  iNaturalist   \n",
       "\n",
       "                                          license rightsHolder  \n",
       "0  http://creativecommons.org/licenses/by-nc/4.0/      kirsten  \n",
       "1     http://creativecommons.org/licenses/by/4.0/   Don Loarie  \n",
       "2     http://creativecommons.org/licenses/by/4.0/   Don Loarie  \n",
       "3     http://creativecommons.org/licenses/by/4.0/   Don Loarie  \n",
       "4     http://creativecommons.org/licenses/by/4.0/   Don Loarie  "
      ]
     },
     "execution_count": 6,
     "metadata": {},
     "output_type": "execute_result"
    }
   ],
   "source": [
    "media.head()"
   ]
  },
  {
   "cell_type": "markdown",
   "id": "b3cb7a7d",
   "metadata": {},
   "source": [
    "## Remove columns with all NaN"
   ]
  },
  {
   "cell_type": "code",
   "execution_count": 7,
   "id": "2709abe0",
   "metadata": {},
   "outputs": [
    {
     "data": {
      "text/plain": [
       "['title', 'description', 'source', 'audience', 'contributor']"
      ]
     },
     "execution_count": 7,
     "metadata": {},
     "output_type": "execute_result"
    }
   ],
   "source": [
    "nan_cols = []\n",
    "for col in media.columns:\n",
    "    if ( media[ col ].isnull().all() ):\n",
    "        nan_cols.append( col )\n",
    "nan_cols"
   ]
  },
  {
   "cell_type": "code",
   "execution_count": 8,
   "id": "4c98e0fc",
   "metadata": {},
   "outputs": [
    {
     "data": {
      "text/plain": [
       "['gbifID',\n",
       " 'type',\n",
       " 'format',\n",
       " 'identifier',\n",
       " 'references',\n",
       " 'created',\n",
       " 'creator',\n",
       " 'publisher',\n",
       " 'license',\n",
       " 'rightsHolder']"
      ]
     },
     "execution_count": 8,
     "metadata": {},
     "output_type": "execute_result"
    }
   ],
   "source": [
    "media = media.drop( nan_cols, axis = 1 )\n",
    "media.columns.tolist()"
   ]
  },
  {
   "cell_type": "markdown",
   "id": "59258269",
   "metadata": {},
   "source": [
    "## Type"
   ]
  },
  {
   "cell_type": "code",
   "execution_count": 9,
   "id": "3fb492ae",
   "metadata": {},
   "outputs": [
    {
     "data": {
      "text/plain": [
       "StillImage    2803519\n",
       "Sound               1\n",
       "Name: type, dtype: int64"
      ]
     },
     "execution_count": 9,
     "metadata": {},
     "output_type": "execute_result"
    }
   ],
   "source": [
    "media['type'].value_counts()"
   ]
  },
  {
   "cell_type": "code",
   "execution_count": 10,
   "id": "be9e00b8",
   "metadata": {},
   "outputs": [
    {
     "data": {
      "text/plain": [
       "StillImage    2803519\n",
       "Name: type, dtype: int64"
      ]
     },
     "execution_count": 10,
     "metadata": {},
     "output_type": "execute_result"
    }
   ],
   "source": [
    "# Remove that 'Sound' media-type datapoint,\n",
    "# or better said, only keep 'StillImage' media-types\n",
    "media = media[ media['type'] == 'StillImage' ]\n",
    "media['type'].value_counts()"
   ]
  },
  {
   "cell_type": "code",
   "execution_count": 11,
   "id": "79331df0",
   "metadata": {},
   "outputs": [],
   "source": [
    "# Drop the now unnecesssary 'type' column\n",
    "media = media.drop( 'type', axis=1 )"
   ]
  },
  {
   "cell_type": "markdown",
   "id": "1c0b4e1e",
   "metadata": {},
   "source": [
    "## Format"
   ]
  },
  {
   "cell_type": "code",
   "execution_count": 12,
   "id": "8f1a0467",
   "metadata": {},
   "outputs": [
    {
     "data": {
      "text/plain": [
       "image/jpeg     2796151\n",
       "image/png         7252\n",
       "image/pjpeg         77\n",
       "image/gif           39\n",
       "Name: format, dtype: int64"
      ]
     },
     "execution_count": 12,
     "metadata": {},
     "output_type": "execute_result"
    }
   ],
   "source": [
    "media['format'].value_counts()"
   ]
  },
  {
   "cell_type": "markdown",
   "id": "c1950c34",
   "metadata": {},
   "source": [
    "All formats listed above should be acceptable... gifs may need to be converted before use but that should be trivial.\n",
    "\n",
    "We should keep this column for future use."
   ]
  },
  {
   "cell_type": "markdown",
   "id": "97973526",
   "metadata": {},
   "source": [
    "## Identifier"
   ]
  },
  {
   "cell_type": "code",
   "execution_count": 13,
   "id": "886388fe",
   "metadata": {},
   "outputs": [
    {
     "data": {
      "text/plain": [
       "https://inaturalist-open-data.s3.amazonaws.com/photos/23611710/original.jpg     5\n",
       "https://inaturalist-open-data.s3.amazonaws.com/photos/57294691/original.jpeg    5\n",
       "https://inaturalist-open-data.s3.amazonaws.com/photos/14131733/original.jpeg    4\n",
       "https://inaturalist-open-data.s3.amazonaws.com/photos/23611704/original.jpg     4\n",
       "https://inaturalist-open-data.s3.amazonaws.com/photos/14131737/original.jpeg    4\n",
       "                                                                               ..\n",
       "https://inaturalist-open-data.s3.amazonaws.com/photos/170591197/original.jpg    1\n",
       "https://inaturalist-open-data.s3.amazonaws.com/photos/60310042/original.jpeg    1\n",
       "https://inaturalist-open-data.s3.amazonaws.com/photos/114746908/original.jpg    1\n",
       "https://inaturalist-open-data.s3.amazonaws.com/photos/115333554/original.jpg    1\n",
       "https://inaturalist-open-data.s3.amazonaws.com/photos/243535450/original.jpg    1\n",
       "Name: identifier, Length: 2802842, dtype: int64"
      ]
     },
     "execution_count": 13,
     "metadata": {},
     "output_type": "execute_result"
    }
   ],
   "source": [
    "media['identifier'].value_counts()"
   ]
  },
  {
   "cell_type": "markdown",
   "id": "37a96f52",
   "metadata": {},
   "source": [
    "Looks like URLs for each image, but why is the same URL used for multiple rows?\n",
    "\n",
    "Let's look at one of these 'identifier' values and see what rows it is used in and why that might be."
   ]
  },
  {
   "cell_type": "code",
   "execution_count": 14,
   "id": "b95579af",
   "metadata": {},
   "outputs": [
    {
     "data": {
      "text/html": [
       "<div>\n",
       "<style scoped>\n",
       "    .dataframe tbody tr th:only-of-type {\n",
       "        vertical-align: middle;\n",
       "    }\n",
       "\n",
       "    .dataframe tbody tr th {\n",
       "        vertical-align: top;\n",
       "    }\n",
       "\n",
       "    .dataframe thead th {\n",
       "        text-align: right;\n",
       "    }\n",
       "</style>\n",
       "<table border=\"1\" class=\"dataframe\">\n",
       "  <thead>\n",
       "    <tr style=\"text-align: right;\">\n",
       "      <th></th>\n",
       "      <th>gbifID</th>\n",
       "      <th>format</th>\n",
       "      <th>identifier</th>\n",
       "      <th>references</th>\n",
       "      <th>created</th>\n",
       "      <th>creator</th>\n",
       "      <th>publisher</th>\n",
       "      <th>license</th>\n",
       "      <th>rightsHolder</th>\n",
       "    </tr>\n",
       "  </thead>\n",
       "  <tbody>\n",
       "    <tr>\n",
       "      <th>39191</th>\n",
       "      <td>1898835220</td>\n",
       "      <td>image/jpeg</td>\n",
       "      <td>https://inaturalist-open-data.s3.amazonaws.com...</td>\n",
       "      <td>https://www.inaturalist.org/photos/23611710</td>\n",
       "      <td>2018-08-22T17:32:54Z</td>\n",
       "      <td>Spencer Hardy</td>\n",
       "      <td>iNaturalist</td>\n",
       "      <td>http://creativecommons.org/licenses/by-nc/4.0/</td>\n",
       "      <td>Spencer Hardy</td>\n",
       "    </tr>\n",
       "    <tr>\n",
       "      <th>39197</th>\n",
       "      <td>1898835445</td>\n",
       "      <td>image/jpeg</td>\n",
       "      <td>https://inaturalist-open-data.s3.amazonaws.com...</td>\n",
       "      <td>https://www.inaturalist.org/photos/23611710</td>\n",
       "      <td>2018-08-22T17:32:54Z</td>\n",
       "      <td>Spencer Hardy</td>\n",
       "      <td>iNaturalist</td>\n",
       "      <td>http://creativecommons.org/licenses/by-nc/4.0/</td>\n",
       "      <td>Spencer Hardy</td>\n",
       "    </tr>\n",
       "    <tr>\n",
       "      <th>1721422</th>\n",
       "      <td>1898835473</td>\n",
       "      <td>image/jpeg</td>\n",
       "      <td>https://inaturalist-open-data.s3.amazonaws.com...</td>\n",
       "      <td>https://www.inaturalist.org/photos/23611710</td>\n",
       "      <td>2018-08-22T17:32:54Z</td>\n",
       "      <td>Spencer Hardy</td>\n",
       "      <td>iNaturalist</td>\n",
       "      <td>http://creativecommons.org/licenses/by-nc/4.0/</td>\n",
       "      <td>Spencer Hardy</td>\n",
       "    </tr>\n",
       "    <tr>\n",
       "      <th>2281623</th>\n",
       "      <td>1898835509</td>\n",
       "      <td>image/jpeg</td>\n",
       "      <td>https://inaturalist-open-data.s3.amazonaws.com...</td>\n",
       "      <td>https://www.inaturalist.org/photos/23611710</td>\n",
       "      <td>2018-08-22T17:32:54Z</td>\n",
       "      <td>Spencer Hardy</td>\n",
       "      <td>iNaturalist</td>\n",
       "      <td>http://creativecommons.org/licenses/by-nc/4.0/</td>\n",
       "      <td>Spencer Hardy</td>\n",
       "    </tr>\n",
       "    <tr>\n",
       "      <th>2281625</th>\n",
       "      <td>1898835514</td>\n",
       "      <td>image/jpeg</td>\n",
       "      <td>https://inaturalist-open-data.s3.amazonaws.com...</td>\n",
       "      <td>https://www.inaturalist.org/photos/23611710</td>\n",
       "      <td>2018-08-22T17:32:54Z</td>\n",
       "      <td>Spencer Hardy</td>\n",
       "      <td>iNaturalist</td>\n",
       "      <td>http://creativecommons.org/licenses/by-nc/4.0/</td>\n",
       "      <td>Spencer Hardy</td>\n",
       "    </tr>\n",
       "  </tbody>\n",
       "</table>\n",
       "</div>"
      ],
      "text/plain": [
       "             gbifID      format  \\\n",
       "39191    1898835220  image/jpeg   \n",
       "39197    1898835445  image/jpeg   \n",
       "1721422  1898835473  image/jpeg   \n",
       "2281623  1898835509  image/jpeg   \n",
       "2281625  1898835514  image/jpeg   \n",
       "\n",
       "                                                identifier  \\\n",
       "39191    https://inaturalist-open-data.s3.amazonaws.com...   \n",
       "39197    https://inaturalist-open-data.s3.amazonaws.com...   \n",
       "1721422  https://inaturalist-open-data.s3.amazonaws.com...   \n",
       "2281623  https://inaturalist-open-data.s3.amazonaws.com...   \n",
       "2281625  https://inaturalist-open-data.s3.amazonaws.com...   \n",
       "\n",
       "                                          references               created  \\\n",
       "39191    https://www.inaturalist.org/photos/23611710  2018-08-22T17:32:54Z   \n",
       "39197    https://www.inaturalist.org/photos/23611710  2018-08-22T17:32:54Z   \n",
       "1721422  https://www.inaturalist.org/photos/23611710  2018-08-22T17:32:54Z   \n",
       "2281623  https://www.inaturalist.org/photos/23611710  2018-08-22T17:32:54Z   \n",
       "2281625  https://www.inaturalist.org/photos/23611710  2018-08-22T17:32:54Z   \n",
       "\n",
       "               creator    publisher  \\\n",
       "39191    Spencer Hardy  iNaturalist   \n",
       "39197    Spencer Hardy  iNaturalist   \n",
       "1721422  Spencer Hardy  iNaturalist   \n",
       "2281623  Spencer Hardy  iNaturalist   \n",
       "2281625  Spencer Hardy  iNaturalist   \n",
       "\n",
       "                                                license   rightsHolder  \n",
       "39191    http://creativecommons.org/licenses/by-nc/4.0/  Spencer Hardy  \n",
       "39197    http://creativecommons.org/licenses/by-nc/4.0/  Spencer Hardy  \n",
       "1721422  http://creativecommons.org/licenses/by-nc/4.0/  Spencer Hardy  \n",
       "2281623  http://creativecommons.org/licenses/by-nc/4.0/  Spencer Hardy  \n",
       "2281625  http://creativecommons.org/licenses/by-nc/4.0/  Spencer Hardy  "
      ]
     },
     "execution_count": 14,
     "metadata": {},
     "output_type": "execute_result"
    }
   ],
   "source": [
    "media[ media['identifier'] == 'https://inaturalist-open-data.s3.amazonaws.com/photos/23611710/original.jpg']"
   ]
  },
  {
   "cell_type": "markdown",
   "id": "50b1b135",
   "metadata": {},
   "source": [
    "Let's take a look at the image:\n",
    "![sample](https://inaturalist-open-data.s3.amazonaws.com/photos/23611710/original.jpg)\n",
    "\n",
    "Oh, it looks like the same image has multiple observations (of different species) within it! This will make things a bit more complicated. We will need to identify each individual mushroom and where they are in the image (using a pre-trained model provided by an API most likely). There will also likely be other images that have multiple individual mushrooms of the same species within the image that will need to be identified and separated out from each other.\n",
    "\n",
    "Those are some tasty looking chanterelles..."
   ]
  },
  {
   "cell_type": "markdown",
   "id": "edb46e68",
   "metadata": {},
   "source": [
    "## References"
   ]
  },
  {
   "cell_type": "code",
   "execution_count": 15,
   "id": "e39083ec",
   "metadata": {},
   "outputs": [
    {
     "data": {
      "text/plain": [
       "https://www.inaturalist.org/photos/23611710     5\n",
       "https://www.inaturalist.org/photos/57294691     5\n",
       "https://www.inaturalist.org/photos/23611704     4\n",
       "https://www.inaturalist.org/photos/14131737     4\n",
       "https://www.inaturalist.org/photos/75896078     4\n",
       "                                               ..\n",
       "https://www.inaturalist.org/photos/115333554    1\n",
       "https://www.inaturalist.org/photos/115333588    1\n",
       "https://www.inaturalist.org/photos/115793758    1\n",
       "https://www.inaturalist.org/photos/115793779    1\n",
       "https://www.inaturalist.org/photos/243535450    1\n",
       "Name: references, Length: 2802837, dtype: int64"
      ]
     },
     "execution_count": 15,
     "metadata": {},
     "output_type": "execute_result"
    }
   ],
   "source": [
    "media['references'].value_counts()"
   ]
  },
  {
   "cell_type": "markdown",
   "id": "af7bc467",
   "metadata": {},
   "source": [
    "It looks like these are the URLs for the images (1-1 relationship between 'identifier' and 'references') on iNaturalist's website - unnecessary and redundant for our purposes"
   ]
  },
  {
   "cell_type": "code",
   "execution_count": 16,
   "id": "ee7f1b8c",
   "metadata": {},
   "outputs": [],
   "source": [
    "media = media.drop( 'references', axis=1 )"
   ]
  },
  {
   "cell_type": "markdown",
   "id": "ea35402d",
   "metadata": {},
   "source": [
    "## Created"
   ]
  },
  {
   "cell_type": "code",
   "execution_count": 17,
   "id": "10c98add",
   "metadata": {},
   "outputs": [
    {
     "data": {
      "text/plain": [
       "2016-10-04                   109\n",
       "2015-08-23                   105\n",
       "2017-10-13                    92\n",
       "2021-10-10                    89\n",
       "2018-09-02                    89\n",
       "                            ... \n",
       "2010-05-01T14:57:55-07:00      1\n",
       "2010-05-01T15:00:59-07:00      1\n",
       "2010-05-01T14:58:53-07:00      1\n",
       "2010-05-01T14:57:36-07:00      1\n",
       "2022-10-07T12:34Z              1\n",
       "Name: created, Length: 2195959, dtype: int64"
      ]
     },
     "execution_count": 17,
     "metadata": {},
     "output_type": "execute_result"
    }
   ],
   "source": [
    "media['created'].value_counts()"
   ]
  },
  {
   "cell_type": "markdown",
   "id": "ac8373db",
   "metadata": {},
   "source": [
    "Timestamp of when the media was created - may need to be parsed and may be redundant to timestamp in observations column - also, it's not really necessary for our purposes. All we care about in terms of timestamps is when the observation was made which is in the 'observations' dataset."
   ]
  },
  {
   "cell_type": "code",
   "execution_count": 18,
   "id": "7f0547f8",
   "metadata": {},
   "outputs": [],
   "source": [
    "media = media.drop( 'created', axis=1 )"
   ]
  },
  {
   "cell_type": "markdown",
   "id": "37ea4537",
   "metadata": {},
   "source": [
    "## Creator"
   ]
  },
  {
   "cell_type": "code",
   "execution_count": 19,
   "id": "16273b0a",
   "metadata": {},
   "outputs": [
    {
     "data": {
      "text/plain": [
       "Reiner Richter     44681\n",
       "Damon Tighe        17817\n",
       "John Plischke      13530\n",
       "huafang            12248\n",
       "Stephen Russell    12238\n",
       "                   ...  \n",
       "stana20                1\n",
       "leila_sdr              1\n",
       "karensturm10           1\n",
       "lbrva                  1\n",
       "laraamorim             1\n",
       "Name: creator, Length: 142184, dtype: int64"
      ]
     },
     "execution_count": 19,
     "metadata": {},
     "output_type": "execute_result"
    }
   ],
   "source": [
    "media['creator'].value_counts()"
   ]
  },
  {
   "cell_type": "markdown",
   "id": "0683ee5f",
   "metadata": {},
   "source": [
    "Shows who has contributed the most images - unnecessary for our purposes"
   ]
  },
  {
   "cell_type": "code",
   "execution_count": 20,
   "id": "1e1e0c3c",
   "metadata": {},
   "outputs": [],
   "source": [
    "media = media.drop( 'creator', axis=1 )"
   ]
  },
  {
   "cell_type": "markdown",
   "id": "07d193da",
   "metadata": {},
   "source": [
    "## Publisher"
   ]
  },
  {
   "cell_type": "code",
   "execution_count": 21,
   "id": "a061df8c",
   "metadata": {},
   "outputs": [
    {
     "data": {
      "text/plain": [
       "iNaturalist    2803519\n",
       "Name: publisher, dtype: int64"
      ]
     },
     "execution_count": 21,
     "metadata": {},
     "output_type": "execute_result"
    }
   ],
   "source": [
    "media['publisher'].value_counts()"
   ]
  },
  {
   "cell_type": "markdown",
   "id": "9a20ff5c",
   "metadata": {},
   "source": [
    "All are the same publisher, iNaturalist, so we can get rid of this column:"
   ]
  },
  {
   "cell_type": "code",
   "execution_count": 22,
   "id": "9bffb477",
   "metadata": {},
   "outputs": [],
   "source": [
    "media = media.drop( 'publisher', axis=1 )"
   ]
  },
  {
   "cell_type": "markdown",
   "id": "a4b6693c",
   "metadata": {},
   "source": [
    "## License"
   ]
  },
  {
   "cell_type": "code",
   "execution_count": 23,
   "id": "ddfab3c8",
   "metadata": {},
   "outputs": [
    {
     "data": {
      "text/plain": [
       "http://creativecommons.org/licenses/by-nc/4.0/       2322273\n",
       "http://creativecommons.org/licenses/by/4.0/           248770\n",
       "http://creativecommons.org/publicdomain/zero/1.0/      88658\n",
       "http://creativecommons.org/licenses/by-nc-sa/4.0/      77292\n",
       "http://creativecommons.org/licenses/by-sa/4.0/         43114\n",
       "http://creativecommons.org/licenses/by-nc-nd/4.0/      22932\n",
       "http://creativecommons.org/licenses/by-nd/4.0/           480\n",
       "Name: license, dtype: int64"
      ]
     },
     "execution_count": 23,
     "metadata": {},
     "output_type": "execute_result"
    }
   ],
   "source": [
    "media['license'].value_counts()"
   ]
  },
  {
   "cell_type": "markdown",
   "id": "f1b60c7a",
   "metadata": {},
   "source": [
    "Column not necessary for our purposes"
   ]
  },
  {
   "cell_type": "code",
   "execution_count": 24,
   "id": "c45d0f16",
   "metadata": {},
   "outputs": [],
   "source": [
    "media = media.drop( 'license', axis=1 )"
   ]
  },
  {
   "cell_type": "markdown",
   "id": "181fd5f1",
   "metadata": {},
   "source": [
    "## Rights Holder"
   ]
  },
  {
   "cell_type": "code",
   "execution_count": 25,
   "id": "4b184631",
   "metadata": {},
   "outputs": [
    {
     "data": {
      "text/plain": [
       "Reiner Richter     44681\n",
       "Damon Tighe        17817\n",
       "John Plischke      13530\n",
       "huafang            12248\n",
       "Stephen Russell    12238\n",
       "                   ...  \n",
       "stana20                1\n",
       "leila_sdr              1\n",
       "karensturm10           1\n",
       "lbrva                  1\n",
       "laraamorim             1\n",
       "Name: rightsHolder, Length: 142184, dtype: int64"
      ]
     },
     "execution_count": 25,
     "metadata": {},
     "output_type": "execute_result"
    }
   ],
   "source": [
    "media['rightsHolder'].value_counts()"
   ]
  },
  {
   "cell_type": "markdown",
   "id": "02aa01dc",
   "metadata": {},
   "source": [
    "Again, columns is not necessary for our purposes"
   ]
  },
  {
   "cell_type": "code",
   "execution_count": 26,
   "id": "b14200ab",
   "metadata": {},
   "outputs": [],
   "source": [
    "media = media.drop( 'rightsHolder', axis=1 )"
   ]
  },
  {
   "cell_type": "code",
   "execution_count": 27,
   "id": "f711a68a",
   "metadata": {},
   "outputs": [
    {
     "data": {
      "text/plain": [
       "Index(['gbifID', 'format', 'identifier'], dtype='object')"
      ]
     },
     "execution_count": 27,
     "metadata": {},
     "output_type": "execute_result"
    }
   ],
   "source": [
    "media.columns"
   ]
  },
  {
   "cell_type": "markdown",
   "id": "fce16490",
   "metadata": {},
   "source": [
    "# Save cleaned data"
   ]
  },
  {
   "cell_type": "code",
   "execution_count": 30,
   "id": "661a388b",
   "metadata": {},
   "outputs": [],
   "source": [
    "media.to_hdf( 'clean_data.h5', 'media' )"
   ]
  }
 ],
 "metadata": {
  "kernelspec": {
   "display_name": "Python [conda env:.conda-fungi] *",
   "language": "python",
   "name": "conda-env-.conda-fungi-py"
  },
  "language_info": {
   "codemirror_mode": {
    "name": "ipython",
    "version": 3
   },
   "file_extension": ".py",
   "mimetype": "text/x-python",
   "name": "python",
   "nbconvert_exporter": "python",
   "pygments_lexer": "ipython3",
   "version": "3.10.6"
  }
 },
 "nbformat": 4,
 "nbformat_minor": 5
}
