{
 "cells": [
  {
   "cell_type": "code",
   "execution_count": 1,
   "id": "2ad4fdcb",
   "metadata": {},
   "outputs": [],
   "source": [
    "import pandas as pd"
   ]
  },
  {
   "cell_type": "code",
   "execution_count": 2,
   "id": "ff9583fb",
   "metadata": {},
   "outputs": [],
   "source": [
    "media = pd.read_hdf('/mnt/gbif/clean_data.h5', 'media_merged_filtered-by-species_350pt')"
   ]
  },
  {
   "cell_type": "code",
   "execution_count": 3,
   "id": "a4955550",
   "metadata": {},
   "outputs": [],
   "source": [
    "from parallel_download import download"
   ]
  },
  {
   "cell_type": "code",
   "execution_count": 4,
   "id": "e0fd7e23",
   "metadata": {},
   "outputs": [
    {
     "data": {
      "text/plain": [
       "['gbifID',\n",
       " 'format',\n",
       " 'identifier_media',\n",
       " 'identifier_obs',\n",
       " 'eventDate',\n",
       " 'decimalLatitude',\n",
       " 'decimalLongitude',\n",
       " 'taxonID',\n",
       " 'taxonRank',\n",
       " 'taxonomicStatus',\n",
       " 'taxonKey',\n",
       " 'acceptedTaxonKey',\n",
       " 'phylumKey',\n",
       " 'classKey',\n",
       " 'orderKey',\n",
       " 'familyKey',\n",
       " 'genusKey',\n",
       " 'speciesKey',\n",
       " 'species',\n",
       " 'acceptedScientificName',\n",
       " 'verbatimScientificName',\n",
       " 'media_count_per_taxonID']"
      ]
     },
     "execution_count": 4,
     "metadata": {},
     "output_type": "execute_result"
    }
   ],
   "source": [
    "media.columns.tolist()"
   ]
  },
  {
   "cell_type": "code",
   "execution_count": 5,
   "id": "00c0d366",
   "metadata": {},
   "outputs": [],
   "source": [
    "import mimetypes as mt"
   ]
  },
  {
   "cell_type": "code",
   "execution_count": 6,
   "id": "99364bf0",
   "metadata": {},
   "outputs": [],
   "source": [
    "mt.add_type('image/pjpeg', '.jpg')"
   ]
  },
  {
   "cell_type": "code",
   "execution_count": 7,
   "id": "ffc5f612",
   "metadata": {},
   "outputs": [],
   "source": [
    "media['extension'] = media['format'].map(lambda x: mt.guess_extension(x, strict=False))"
   ]
  },
  {
   "cell_type": "code",
   "execution_count": 8,
   "id": "a0f8e58e",
   "metadata": {},
   "outputs": [
    {
     "data": {
      "text/plain": [
       ".jpg    663805\n",
       ".png      1991\n",
       ".gif         7\n",
       "Name: extension, dtype: int64"
      ]
     },
     "execution_count": 8,
     "metadata": {},
     "output_type": "execute_result"
    }
   ],
   "source": [
    "media['extension'].value_counts(dropna=False)"
   ]
  },
  {
   "cell_type": "code",
   "execution_count": null,
   "id": "aff66d29",
   "metadata": {},
   "outputs": [],
   "source": []
  },
  {
   "cell_type": "code",
   "execution_count": 9,
   "id": "11650230",
   "metadata": {},
   "outputs": [],
   "source": [
    "errors_df = pd.read_csv('errors.txt', delim_whitespace=True, header=None)\n",
    "errors_df.columns = ['index']"
   ]
  },
  {
   "cell_type": "code",
   "execution_count": 10,
   "id": "9b5647cf",
   "metadata": {},
   "outputs": [
    {
     "data": {
      "text/html": [
       "<div>\n",
       "<style scoped>\n",
       "    .dataframe tbody tr th:only-of-type {\n",
       "        vertical-align: middle;\n",
       "    }\n",
       "\n",
       "    .dataframe tbody tr th {\n",
       "        vertical-align: top;\n",
       "    }\n",
       "\n",
       "    .dataframe thead th {\n",
       "        text-align: right;\n",
       "    }\n",
       "</style>\n",
       "<table border=\"1\" class=\"dataframe\">\n",
       "  <thead>\n",
       "    <tr style=\"text-align: right;\">\n",
       "      <th></th>\n",
       "      <th>index</th>\n",
       "    </tr>\n",
       "  </thead>\n",
       "  <tbody>\n",
       "    <tr>\n",
       "      <th>0</th>\n",
       "      <td>309250</td>\n",
       "    </tr>\n",
       "  </tbody>\n",
       "</table>\n",
       "</div>"
      ],
      "text/plain": [
       "    index\n",
       "0  309250"
      ]
     },
     "execution_count": 10,
     "metadata": {},
     "output_type": "execute_result"
    }
   ],
   "source": [
    "errors_df"
   ]
  },
  {
   "cell_type": "code",
   "execution_count": null,
   "id": "719a11ef",
   "metadata": {},
   "outputs": [],
   "source": []
  },
  {
   "cell_type": "code",
   "execution_count": 11,
   "id": "36ac5146",
   "metadata": {
    "scrolled": true
   },
   "outputs": [
    {
     "data": {
      "text/html": [
       "<div>\n",
       "<style scoped>\n",
       "    .dataframe tbody tr th:only-of-type {\n",
       "        vertical-align: middle;\n",
       "    }\n",
       "\n",
       "    .dataframe tbody tr th {\n",
       "        vertical-align: top;\n",
       "    }\n",
       "\n",
       "    .dataframe thead th {\n",
       "        text-align: right;\n",
       "    }\n",
       "</style>\n",
       "<table border=\"1\" class=\"dataframe\">\n",
       "  <thead>\n",
       "    <tr style=\"text-align: right;\">\n",
       "      <th></th>\n",
       "      <th>gbifID</th>\n",
       "      <th>format</th>\n",
       "      <th>identifier_media</th>\n",
       "      <th>identifier_obs</th>\n",
       "      <th>eventDate</th>\n",
       "      <th>decimalLatitude</th>\n",
       "      <th>decimalLongitude</th>\n",
       "      <th>taxonID</th>\n",
       "      <th>taxonRank</th>\n",
       "      <th>taxonomicStatus</th>\n",
       "      <th>...</th>\n",
       "      <th>classKey</th>\n",
       "      <th>orderKey</th>\n",
       "      <th>familyKey</th>\n",
       "      <th>genusKey</th>\n",
       "      <th>speciesKey</th>\n",
       "      <th>species</th>\n",
       "      <th>acceptedScientificName</th>\n",
       "      <th>verbatimScientificName</th>\n",
       "      <th>media_count_per_taxonID</th>\n",
       "      <th>extension</th>\n",
       "    </tr>\n",
       "  </thead>\n",
       "  <tbody>\n",
       "    <tr>\n",
       "      <th>0</th>\n",
       "      <td>891021265</td>\n",
       "      <td>image/jpeg</td>\n",
       "      <td>https://inaturalist-open-data.s3.amazonaws.com...</td>\n",
       "      <td>119647</td>\n",
       "      <td>2012-08-31 00:00:00</td>\n",
       "      <td>38.036174</td>\n",
       "      <td>-122.755828</td>\n",
       "      <td>147221</td>\n",
       "      <td>SPECIES</td>\n",
       "      <td>ACCEPTED</td>\n",
       "      <td>...</td>\n",
       "      <td>180.0</td>\n",
       "      <td>1048.0</td>\n",
       "      <td>4812.0</td>\n",
       "      <td>8360956.0</td>\n",
       "      <td>2608086.0</td>\n",
       "      <td>Niebla homalea</td>\n",
       "      <td>Niebla homalea (Ach.) Rundel &amp; Bowler</td>\n",
       "      <td>Niebla homalea</td>\n",
       "      <td>865</td>\n",
       "      <td>.jpg</td>\n",
       "    </tr>\n",
       "    <tr>\n",
       "      <th>5</th>\n",
       "      <td>891026285</td>\n",
       "      <td>image/jpeg</td>\n",
       "      <td>https://inaturalist-open-data.s3.amazonaws.com...</td>\n",
       "      <td>344410</td>\n",
       "      <td>2013-07-23 09:36:00</td>\n",
       "      <td>38.582730</td>\n",
       "      <td>-122.696660</td>\n",
       "      <td>54134</td>\n",
       "      <td>SPECIES</td>\n",
       "      <td>ACCEPTED</td>\n",
       "      <td>...</td>\n",
       "      <td>186.0</td>\n",
       "      <td>1145.0</td>\n",
       "      <td>3286.0</td>\n",
       "      <td>2519084.0</td>\n",
       "      <td>2548311.0</td>\n",
       "      <td>Trametes versicolor</td>\n",
       "      <td>Trametes versicolor (L.) Lloyd</td>\n",
       "      <td>Trametes versicolor</td>\n",
       "      <td>43873</td>\n",
       "      <td>.jpg</td>\n",
       "    </tr>\n",
       "    <tr>\n",
       "      <th>6</th>\n",
       "      <td>891026330</td>\n",
       "      <td>image/jpeg</td>\n",
       "      <td>https://inaturalist-open-data.s3.amazonaws.com...</td>\n",
       "      <td>345889</td>\n",
       "      <td>2013-07-25 19:33:13</td>\n",
       "      <td>43.627681</td>\n",
       "      <td>-72.529947</td>\n",
       "      <td>63274</td>\n",
       "      <td>SPECIES</td>\n",
       "      <td>ACCEPTED</td>\n",
       "      <td>...</td>\n",
       "      <td>186.0</td>\n",
       "      <td>1145.0</td>\n",
       "      <td>3290.0</td>\n",
       "      <td>2519220.0</td>\n",
       "      <td>7241318.0</td>\n",
       "      <td>Ganoderma tsugae</td>\n",
       "      <td>Ganoderma tsugae Murrill</td>\n",
       "      <td>Ganoderma tsugae</td>\n",
       "      <td>6970</td>\n",
       "      <td>.jpg</td>\n",
       "    </tr>\n",
       "    <tr>\n",
       "      <th>7</th>\n",
       "      <td>891027410</td>\n",
       "      <td>image/jpeg</td>\n",
       "      <td>https://inaturalist-open-data.s3.amazonaws.com...</td>\n",
       "      <td>381407</td>\n",
       "      <td>2013-08-19 11:10:07</td>\n",
       "      <td>40.499055</td>\n",
       "      <td>-121.402420</td>\n",
       "      <td>54608</td>\n",
       "      <td>SPECIES</td>\n",
       "      <td>ACCEPTED</td>\n",
       "      <td>...</td>\n",
       "      <td>180.0</td>\n",
       "      <td>1048.0</td>\n",
       "      <td>8305.0</td>\n",
       "      <td>2605402.0</td>\n",
       "      <td>2605405.0</td>\n",
       "      <td>Letharia columbiana</td>\n",
       "      <td>Letharia columbiana (Nutt.) J.W.Thomson</td>\n",
       "      <td>Letharia columbiana</td>\n",
       "      <td>2011</td>\n",
       "      <td>.jpg</td>\n",
       "    </tr>\n",
       "    <tr>\n",
       "      <th>8</th>\n",
       "      <td>891027410</td>\n",
       "      <td>image/jpeg</td>\n",
       "      <td>https://inaturalist-open-data.s3.amazonaws.com...</td>\n",
       "      <td>381407</td>\n",
       "      <td>2013-08-19 11:10:07</td>\n",
       "      <td>40.499055</td>\n",
       "      <td>-121.402420</td>\n",
       "      <td>54608</td>\n",
       "      <td>SPECIES</td>\n",
       "      <td>ACCEPTED</td>\n",
       "      <td>...</td>\n",
       "      <td>180.0</td>\n",
       "      <td>1048.0</td>\n",
       "      <td>8305.0</td>\n",
       "      <td>2605402.0</td>\n",
       "      <td>2605405.0</td>\n",
       "      <td>Letharia columbiana</td>\n",
       "      <td>Letharia columbiana (Nutt.) J.W.Thomson</td>\n",
       "      <td>Letharia columbiana</td>\n",
       "      <td>2011</td>\n",
       "      <td>.jpg</td>\n",
       "    </tr>\n",
       "  </tbody>\n",
       "</table>\n",
       "<p>5 rows × 23 columns</p>\n",
       "</div>"
      ],
      "text/plain": [
       "      gbifID      format                                   identifier_media  \\\n",
       "0  891021265  image/jpeg  https://inaturalist-open-data.s3.amazonaws.com...   \n",
       "5  891026285  image/jpeg  https://inaturalist-open-data.s3.amazonaws.com...   \n",
       "6  891026330  image/jpeg  https://inaturalist-open-data.s3.amazonaws.com...   \n",
       "7  891027410  image/jpeg  https://inaturalist-open-data.s3.amazonaws.com...   \n",
       "8  891027410  image/jpeg  https://inaturalist-open-data.s3.amazonaws.com...   \n",
       "\n",
       "   identifier_obs           eventDate  decimalLatitude  decimalLongitude  \\\n",
       "0          119647 2012-08-31 00:00:00        38.036174       -122.755828   \n",
       "5          344410 2013-07-23 09:36:00        38.582730       -122.696660   \n",
       "6          345889 2013-07-25 19:33:13        43.627681        -72.529947   \n",
       "7          381407 2013-08-19 11:10:07        40.499055       -121.402420   \n",
       "8          381407 2013-08-19 11:10:07        40.499055       -121.402420   \n",
       "\n",
       "   taxonID taxonRank taxonomicStatus  ...  classKey  orderKey  familyKey  \\\n",
       "0   147221   SPECIES        ACCEPTED  ...     180.0    1048.0     4812.0   \n",
       "5    54134   SPECIES        ACCEPTED  ...     186.0    1145.0     3286.0   \n",
       "6    63274   SPECIES        ACCEPTED  ...     186.0    1145.0     3290.0   \n",
       "7    54608   SPECIES        ACCEPTED  ...     180.0    1048.0     8305.0   \n",
       "8    54608   SPECIES        ACCEPTED  ...     180.0    1048.0     8305.0   \n",
       "\n",
       "    genusKey  speciesKey              species  \\\n",
       "0  8360956.0   2608086.0       Niebla homalea   \n",
       "5  2519084.0   2548311.0  Trametes versicolor   \n",
       "6  2519220.0   7241318.0     Ganoderma tsugae   \n",
       "7  2605402.0   2605405.0  Letharia columbiana   \n",
       "8  2605402.0   2605405.0  Letharia columbiana   \n",
       "\n",
       "                    acceptedScientificName  verbatimScientificName  \\\n",
       "0    Niebla homalea (Ach.) Rundel & Bowler          Niebla homalea   \n",
       "5           Trametes versicolor (L.) Lloyd     Trametes versicolor   \n",
       "6                 Ganoderma tsugae Murrill        Ganoderma tsugae   \n",
       "7  Letharia columbiana (Nutt.) J.W.Thomson     Letharia columbiana   \n",
       "8  Letharia columbiana (Nutt.) J.W.Thomson     Letharia columbiana   \n",
       "\n",
       "  media_count_per_taxonID extension  \n",
       "0                     865      .jpg  \n",
       "5                   43873      .jpg  \n",
       "6                    6970      .jpg  \n",
       "7                    2011      .jpg  \n",
       "8                    2011      .jpg  \n",
       "\n",
       "[5 rows x 23 columns]"
      ]
     },
     "execution_count": 11,
     "metadata": {},
     "output_type": "execute_result"
    }
   ],
   "source": [
    "media.head()"
   ]
  },
  {
   "cell_type": "code",
   "execution_count": 12,
   "id": "87258378",
   "metadata": {},
   "outputs": [],
   "source": [
    "errors_df = media[media.index.isin(errors_df['index'])]"
   ]
  },
  {
   "cell_type": "code",
   "execution_count": 13,
   "id": "4b7aded7",
   "metadata": {},
   "outputs": [
    {
     "data": {
      "text/html": [
       "<div>\n",
       "<style scoped>\n",
       "    .dataframe tbody tr th:only-of-type {\n",
       "        vertical-align: middle;\n",
       "    }\n",
       "\n",
       "    .dataframe tbody tr th {\n",
       "        vertical-align: top;\n",
       "    }\n",
       "\n",
       "    .dataframe thead th {\n",
       "        text-align: right;\n",
       "    }\n",
       "</style>\n",
       "<table border=\"1\" class=\"dataframe\">\n",
       "  <thead>\n",
       "    <tr style=\"text-align: right;\">\n",
       "      <th></th>\n",
       "      <th>gbifID</th>\n",
       "      <th>format</th>\n",
       "      <th>identifier_media</th>\n",
       "      <th>identifier_obs</th>\n",
       "      <th>eventDate</th>\n",
       "      <th>decimalLatitude</th>\n",
       "      <th>decimalLongitude</th>\n",
       "      <th>taxonID</th>\n",
       "      <th>taxonRank</th>\n",
       "      <th>taxonomicStatus</th>\n",
       "      <th>...</th>\n",
       "      <th>classKey</th>\n",
       "      <th>orderKey</th>\n",
       "      <th>familyKey</th>\n",
       "      <th>genusKey</th>\n",
       "      <th>speciesKey</th>\n",
       "      <th>species</th>\n",
       "      <th>acceptedScientificName</th>\n",
       "      <th>verbatimScientificName</th>\n",
       "      <th>media_count_per_taxonID</th>\n",
       "      <th>extension</th>\n",
       "    </tr>\n",
       "  </thead>\n",
       "  <tbody>\n",
       "    <tr>\n",
       "      <th>309250</th>\n",
       "      <td>3337850793</td>\n",
       "      <td>image/jpeg</td>\n",
       "      <td>https://inaturalist-open-data.s3.amazonaws.com...</td>\n",
       "      <td>91109248</td>\n",
       "      <td>2021-08-14 15:58:26</td>\n",
       "      <td>60.208622</td>\n",
       "      <td>24.995964</td>\n",
       "      <td>153445</td>\n",
       "      <td>SPECIES</td>\n",
       "      <td>ACCEPTED</td>\n",
       "      <td>...</td>\n",
       "      <td>186.0</td>\n",
       "      <td>1499.0</td>\n",
       "      <td>4186.0</td>\n",
       "      <td>2528397.0</td>\n",
       "      <td>2534205.0</td>\n",
       "      <td>Pholiota squarrosa</td>\n",
       "      <td>Pholiota squarrosa (Vahl) P.Kumm.</td>\n",
       "      <td>Pholiota squarrosa</td>\n",
       "      <td>2287</td>\n",
       "      <td>.jpg</td>\n",
       "    </tr>\n",
       "  </tbody>\n",
       "</table>\n",
       "<p>1 rows × 23 columns</p>\n",
       "</div>"
      ],
      "text/plain": [
       "            gbifID      format  \\\n",
       "309250  3337850793  image/jpeg   \n",
       "\n",
       "                                         identifier_media  identifier_obs  \\\n",
       "309250  https://inaturalist-open-data.s3.amazonaws.com...        91109248   \n",
       "\n",
       "                 eventDate  decimalLatitude  decimalLongitude  taxonID  \\\n",
       "309250 2021-08-14 15:58:26        60.208622         24.995964   153445   \n",
       "\n",
       "       taxonRank taxonomicStatus  ...  classKey  orderKey  familyKey  \\\n",
       "309250   SPECIES        ACCEPTED  ...     186.0    1499.0     4186.0   \n",
       "\n",
       "         genusKey  speciesKey             species  \\\n",
       "309250  2528397.0   2534205.0  Pholiota squarrosa   \n",
       "\n",
       "                   acceptedScientificName  verbatimScientificName  \\\n",
       "309250  Pholiota squarrosa (Vahl) P.Kumm.      Pholiota squarrosa   \n",
       "\n",
       "       media_count_per_taxonID extension  \n",
       "309250                    2287      .jpg  \n",
       "\n",
       "[1 rows x 23 columns]"
      ]
     },
     "execution_count": 13,
     "metadata": {},
     "output_type": "execute_result"
    }
   ],
   "source": [
    "errors_df"
   ]
  },
  {
   "cell_type": "code",
   "execution_count": null,
   "id": "286c299f",
   "metadata": {},
   "outputs": [],
   "source": []
  },
  {
   "cell_type": "code",
   "execution_count": null,
   "id": "93395ace",
   "metadata": {},
   "outputs": [],
   "source": []
  },
  {
   "cell_type": "code",
   "execution_count": null,
   "id": "003178d0",
   "metadata": {},
   "outputs": [],
   "source": []
  },
  {
   "cell_type": "code",
   "execution_count": 14,
   "id": "898ea376",
   "metadata": {},
   "outputs": [],
   "source": [
    "# download_sequential( zip ( media['identifier_media'].to_numpy(), media.index.to_numpy() ) )\n",
    "download( zip (\n",
    "    errors_df['identifier_media'].to_numpy(),\n",
    "    errors_df.index.to_numpy(),\n",
    "    errors_df['extension'],\n",
    "), parallel=True )"
   ]
  },
  {
   "cell_type": "code",
   "execution_count": 15,
   "id": "6906b5ce",
   "metadata": {},
   "outputs": [
    {
     "name": "stdout",
     "output_type": "stream",
     "text": [
      "done\n"
     ]
    }
   ],
   "source": [
    "print('done')"
   ]
  },
  {
   "cell_type": "code",
   "execution_count": null,
   "id": "5fd78a1a",
   "metadata": {},
   "outputs": [],
   "source": []
  }
 ],
 "metadata": {
  "kernelspec": {
   "display_name": "Python [conda env:.conda-fungi] *",
   "language": "python",
   "name": "conda-env-.conda-fungi-py"
  },
  "language_info": {
   "codemirror_mode": {
    "name": "ipython",
    "version": 3
   },
   "file_extension": ".py",
   "mimetype": "text/x-python",
   "name": "python",
   "nbconvert_exporter": "python",
   "pygments_lexer": "ipython3",
   "version": "3.10.9"
  }
 },
 "nbformat": 4,
 "nbformat_minor": 5
}
